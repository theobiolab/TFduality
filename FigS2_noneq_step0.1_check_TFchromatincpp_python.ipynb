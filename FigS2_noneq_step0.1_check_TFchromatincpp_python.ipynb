{
 "cells": [
  {
   "cell_type": "markdown",
   "metadata": {},
   "source": [
    "Doublecheck that the steady states obtained using the MTT are equivalent to those obtained from the eigenvalues of the laplacian:"
   ]
  },
  {
   "cell_type": "code",
   "execution_count": 1,
   "metadata": {},
   "outputs": [],
   "source": [
    "import sys\n",
    "import numpy as np\n",
    "sys.path.append(\"./bin\")\n",
    "import matplotlib.pyplot as plt\n",
    "from scipy.linalg import null_space\n",
    "from matplotlib import colors\n",
    "import twoconf_x_P_higherac_3 #_2 recompiled in other mac"
   ]
  },
  {
   "cell_type": "code",
   "execution_count": 2,
   "metadata": {},
   "outputs": [],
   "source": [
    "instance=twoconf_x_P_higherac_3.GRFCalculations_100_100_15() #the accuracy chosen here doesn't really matter if we just want to calculate the steady state, but if we wanted to use the function to check for monotonicity, then it would"
   ]
  },
  {
   "cell_type": "code",
   "execution_count": 3,
   "metadata": {},
   "outputs": [],
   "source": [
    "def LGP(pars,x,P=1): #laplacian matrix, we always use P=1\n",
    "    ax_0_0,ax_0_1,bx_x_0,bx_x_1,aP_0_0,aP_0_1,bP_P_0,bP_P_1,aP_x_0,aP_x_1,bP_xP_0,bP_xP_1,ax_P_0,ax_P_1,bx_xP_0,bx_xP_1,kopen0,kclose0,kopenx,kclosex,kopenP,kcloseP,kopenxP,kclosexP=pars\n",
    "    L=np.array([\n",
    "    [0,ax_0_0*x,aP_0_0*P,0,kopen0,0,0,0], #(i,j): transition from i to j\n",
    "    [bx_x_0,0,0,aP_x_0*P,0,kopenx,0,0],\n",
    "    [bP_P_0,0,0,ax_P_0*x,0,0,kopenP,0],\n",
    "    [0,bP_xP_0,bx_xP_0,0,0,0,0,kopenxP],\n",
    "    [kclose0,0,0,0,0,ax_0_1*x,aP_0_1*P,0],\n",
    "    [0,kclosex,0,0,bx_x_1,0,0,aP_x_1*P],\n",
    "    [0,0,kcloseP,0,bP_P_1,0,0,ax_P_1*x],\n",
    "    [0,0,0,kclosexP,0,bP_xP_1,bx_xP_1,0]\n",
    "    ])\n",
    "    return L.transpose() #because it should be that (i,j) is transition from j to i"
   ]
  },
  {
   "cell_type": "code",
   "execution_count": 4,
   "metadata": {},
   "outputs": [],
   "source": [
    "def getparset(pars):\n",
    "    ax_0_0,bx_x_0,aP_0_0,bP_P_0,kopen0,kclose0,alpha,beta,gamma,w,kbx=pars\n",
    "    \n",
    "    ax_P_0=ax_0_0\n",
    "    bx_xP_0=bx_x_0/w\n",
    "    \n",
    "    aP_x_0=aP_0_0\n",
    "    bP_xP_0=bP_P_0/w\n",
    "    \n",
    "    \n",
    "    ax_0_1=ax_0_0 #G on rate is the same in both conformations\n",
    "    bx_x_1=bx_x_0*kbx\n",
    "    aP_0_1=aP_0_0 #P on rate is the same\n",
    "    bP_P_1=bP_P_0*beta #<1 #off-rate changes\n",
    "    \n",
    "    \n",
    "    aP_x_1=aP_0_1\n",
    "    bP_xP_1=bP_P_1/(w*gamma)\n",
    "    \n",
    "    ax_P_1=ax_0_1\n",
    "    bx_xP_1=bx_x_1/(w*gamma)\n",
    "\n",
    "\n",
    "    kopenx=alpha*kopen0 #>1\n",
    "    kclosex=kclose0\n",
    "    kopenP=kopen0\n",
    "    kcloseP=kclose0*beta #<1\n",
    "    kopenxP=kopenx\n",
    "    #deltaG=kcloseG-kclose0\n",
    "    #deltaP=kcloseP-kclose0\n",
    "    kclosexP=kclose0*beta*gamma\n",
    "\n",
    "\n",
    "    parset=[ax_0_0,ax_0_1,bx_x_0,bx_x_1,aP_0_0,aP_0_1,bP_P_0,bP_P_1,aP_x_0,aP_x_1,bP_xP_0,bP_xP_1,ax_P_0,ax_P_1,bx_xP_0,bx_xP_1,kopen0,kclose0,kopenx,kclosex,kopenP,kcloseP,kopenxP,kclosexP]\n",
    "    return parset\n",
    "\n",
    "\n",
    "def compute_ss_fromL(L):\n",
    "    L_d=np.diag(np.sum(L,axis=0))\n",
    "    L=L-L_d\n",
    "    rhos=null_space(L) #column vector\n",
    "    rhos=np.transpose(rhos)[0] #1 row\n",
    "    ss=np.abs(rhos)/np.sum(np.abs(rhos)) #can be - when very close to 0\n",
    "    return ss\n",
    "\n",
    "\n",
    "def check_and_plot_parset(pars,qs,title=None,widerange=False,color=\"k\",text=None,figname=None,P=1):\n",
    "    if not widerange:\n",
    "        xvals=np.logspace(-1.,1.,200)\n",
    "    else:\n",
    "        xvals=np.logspace(-3,3,1000)\n",
    "    values=np.zeros(len(xvals))\n",
    "    #accessibilities=np.zeros(len(xvals))\n",
    "    xval=0\n",
    "    parset=getparset(pars)\n",
    "    \n",
    "    L=LGP(parset,xval,P)\n",
    "    Ps=compute_ss_fromL(L)\n",
    "    expr0=qs[0]*Ps[2]+qs[1]*Ps[3]+qs[2]*Ps[6]+qs[3]*Ps[7]\n",
    "    #acc0=np.sum(Ps[4:])\n",
    "    print(expr0)\n",
    "    \n",
    "    ss_c=[]\n",
    "    ss_p=[]\n",
    "    instance.fill_num_den(np.concatenate((parset,qs)), np.array([0]))\n",
    "    for x_,xval in enumerate(xvals):\n",
    "        #parset=getparset(pars)\n",
    "        L=LGP(parset,xval,P)\n",
    "        Ps=compute_ss_fromL(L)\n",
    "        #acc=np.sum(Ps[4:])\n",
    "        expr=qs[0]*Ps[2]+qs[1]*Ps[3]+qs[2]*Ps[6]+qs[3]*Ps[7]\n",
    "        values[x_]=expr/expr0\n",
    "        #accessibilities[x_]=acc/acc0\n",
    "        \n",
    "        ss_c.append(instance.interfaceGRF(xval))\n",
    "        ss_p.append(expr)\n",
    "    ss_c=np.array(ss_c)\n",
    "    ss_p=np.array(ss_p)\n",
    "    print(\"the max difference between c code and python code is\")\n",
    "    print(np.max(np.abs(ss_c-ss_p)))\n",
    "    ss_c=ss_c/expr0\n",
    "\n",
    "    fig,ax=plt.subplots(1,1,figsize=(3,2.5))\n",
    "    ax.plot(xvals,values,color=color)\n",
    "    ax2=ax.twinx()\n",
    "    ax2.plot(xvals,ss_c,linestyle=\":\",color=\"cyan\")\n",
    "    ax.set_xscale('log')\n",
    "    ax.set_xlabel(r\"log$_{10}$([$x$])\",size=14)\n",
    "    ax.set_ylabel('fold change',size=14)\n",
    "    ax.axhline(y=1,linestyle=\"--\",color=\"gray\")\n",
    "    ax2.axhline(y=1,linestyle=\"--\",color=\"gray\")\n",
    "    if title is not None:\n",
    "        ax.set_title(title)\n",
    "    if text is not None:\n",
    "        ax.text(0.8,0.8,text,transform=ax.transAxes)\n",
    "    plt.tight_layout()\n",
    "    plt.show()"
   ]
  },
  {
   "cell_type": "code",
   "execution_count": 5,
   "metadata": {},
   "outputs": [],
   "source": [
    "kbx=1 #we consider x doesn't change binding in closed/open\n",
    "ax=1\n",
    "bx=1\n",
    "aP_0_0=0.1\n",
    "bP_P_0=100\n",
    "kopen0=0.01\n",
    "kclose0=0.5\n",
    "beta=0.02\n",
    "gamma=1"
   ]
  },
  {
   "cell_type": "code",
   "execution_count": 6,
   "metadata": {},
   "outputs": [
    {
     "name": "stdout",
     "output_type": "stream",
     "text": [
      "0.0019569471624266174\n",
      "the max difference between c code and python code is\n",
      "1.7069679003611782e-14\n"
     ]
    },
    {
     "data": {
      "image/png": "[encoded data removed]",
      "text/plain": [
       "<Figure size 300x250 with 2 Axes>"
      ]
     },
     "metadata": {},
     "output_type": "display_data"
    }
   ],
   "source": [
    "alpha=10\n",
    "w=5\n",
    "pars=np.array([ax,bx,aP_0_0,bP_P_0,kopen0,kclose0,alpha,beta,gamma,w,kbx])\n",
    "qs=[1,1,1,1]\n",
    "title=r\"$\\alpha=%2.2f,\\omega=%2.2f$\"%(alpha,w)\n",
    "check_and_plot_parset(pars,qs,title=title,figname=None)"
   ]
  },
  {
   "cell_type": "code",
   "execution_count": 7,
   "metadata": {},
   "outputs": [
    {
     "name": "stdout",
     "output_type": "stream",
     "text": [
      "0.09882583170254403\n",
      "the max difference between c code and python code is\n",
      "2.3064883336587627e-14\n"
     ]
    },
    {
     "data": {
      "image/png": "[encoded data removed]",
      "text/plain": [
       "<Figure size 300x250 with 2 Axes>"
      ]
     },
     "metadata": {},
     "output_type": "display_data"
    }
   ],
   "source": [
    "#notice that if expression from state 3 is much larger than from 4,7,8,then decreasing function.\n",
    "alpha=10\n",
    "w=5\n",
    "pars=np.array([ax,bx,aP_0_0,bP_P_0,kopen0,kclose0,alpha,beta,gamma,w,kbx])\n",
    "qs=[100,1,1,1]\n",
    "title=r\"$\\alpha=%2.2f,\\omega=%2.2f$\"%(alpha,w)\n",
    "check_and_plot_parset(pars,qs,title=title,figname=None)"
   ]
  },
  {
   "cell_type": "code",
   "execution_count": 8,
   "metadata": {},
   "outputs": [
    {
     "name": "stdout",
     "output_type": "stream",
     "text": [
      "0.09882583170254433\n",
      "the max difference between c code and python code is\n",
      "1.5690226895515025e-13\n"
     ]
    },
    {
     "data": {
      "image/png": "[encoded data removed]",
      "text/plain": [
       "<Figure size 216x180 with 2 Axes>"
      ]
     },
     "metadata": {
      "needs_background": "light"
     },
     "output_type": "display_data"
    }
   ],
   "source": [
    "#and we can get nonmonotonicity if expression is very large from q7\n",
    "alpha=10\n",
    "w=5\n",
    "pars=np.array([ax,bx,aP_0_0,bP_P_0,kopen0,kclose0,alpha,beta,gamma,w,kbx])\n",
    "qs=[1,1,100,1]\n",
    "title=r\"$\\alpha=%2.2f,\\omega=%2.2f$\"%(alpha,w)\n",
    "check_and_plot_parset(pars,qs,title=title,figname=None)"
   ]
  },
  {
   "cell_type": "code",
   "execution_count": 9,
   "metadata": {},
   "outputs": [
    {
     "name": "stdout",
     "output_type": "stream",
     "text": [
      "0.19667318982387536\n",
      "the max difference between c code and python code is\n",
      "3.1386004906153175e-13\n"
     ]
    },
    {
     "data": {
      "image/png": "[encoded data removed]",
      "text/plain": [
       "<Figure size 216x180 with 2 Axes>"
      ]
     },
     "metadata": {
      "needs_background": "light"
     },
     "output_type": "display_data"
    }
   ],
   "source": [
    "#and we can get nonmonotonicity if expression is very large from q7\n",
    "alpha=10\n",
    "w=5\n",
    "pars=np.array([ax,bx,aP_0_0,bP_P_0,kopen0,kclose0,alpha,beta,gamma,w,kbx])\n",
    "qs=[1,1,200,2]\n",
    "title=r\"$\\alpha=%2.2f,\\omega=%2.2f$\"%(alpha,w)\n",
    "check_and_plot_parset(pars,qs,title=title,figname=None)"
   ]
  },
  {
   "cell_type": "markdown",
   "metadata": {},
   "source": [
    "Notice how the cyan and black lines overlap so the two codes give the same result."
   ]
  },
  {
   "cell_type": "code",
   "execution_count": null,
   "metadata": {},
   "outputs": [],
   "source": []
  }
 ],
 "metadata": {
  "kernelspec": {
   "display_name": "Python 3 (ipykernel)",
   "language": "python",
   "name": "python3"
  },
  "language_info": {
   "codemirror_mode": {
    "name": "ipython",
    "version": 3
   },
   "file_extension": ".py",
   "mimetype": "text/x-python",
   "name": "python",
   "nbconvert_exporter": "python",
   "pygments_lexer": "ipython3",
   "version": "3.10.8"
  },
  "nbTranslate": {
   "displayLangs": [
    "*"
   ],
   "hotkey": "alt-t",
   "langInMainMenu": true,
   "sourceLang": "en",
   "targetLang": "fr",
   "useGoogleTranslate": true
  },
  "toc": {
   "base_numbering": 1,
   "nav_menu": {},
   "number_sections": true,
   "sideBar": true,
   "skip_h1_title": false,
   "title_cell": "Table of Contents",
   "title_sidebar": "Contents",
   "toc_cell": false,
   "toc_position": {},
   "toc_section_display": true,
   "toc_window_display": false
  }
 },
 "nbformat": 4,
 "nbformat_minor": 4
}
