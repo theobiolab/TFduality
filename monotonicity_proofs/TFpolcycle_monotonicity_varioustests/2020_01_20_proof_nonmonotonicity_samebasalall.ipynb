{
 "cells": [
  {
   "cell_type": "code",
   "execution_count": 1,
   "metadata": {},
   "outputs": [],
   "source": [
    "import numpy as np\n",
    "import sys, os\n",
    "sys.path.append('../shared/utilsGRF/')\n",
    "from IPython.display import display\n",
    "import writescripts "
   ]
  },
  {
   "cell_type": "code",
   "execution_count": 2,
   "metadata": {},
   "outputs": [
    {
     "name": "stdout",
     "output_type": "stream",
     "text": [
      "['a3', 'a1', 'ku1', 'epsilon2', 'a2', 'ku2', 'epsilon3', 'kb1', 'kb2', 'epsilon1', 'ku3', 'kb3']\n",
      "removing  ../shared/utilsGRF/graph-3.txt\n",
      "removing  ../shared/utilsGRF/graph-5.txt\n",
      "removing  ../shared/utilsGRF/graph-6.txt\n",
      "removing  ../shared/utilsGRF/graph-1.txt\n",
      "removing  ../shared/utilsGRF/graph-4.txt\n",
      "removing  ../shared/utilsGRF/graph.txt\n",
      "removing  ../shared/utilsGRF/graph-parsed.txt\n",
      "removing  ../shared/utilsGRF/graph-2.txt\n",
      "executing MTT\n",
      "0\n"
     ]
    }
   ],
   "source": [
    "edges=[(1,'a1',2),(2,'a2',3),(3,'a3',1),\n",
    "       (4,'epsilon1',5),(5,'epsilon2',6),(6,'epsilon3',4),\n",
    "      (1,'kb1-x',4),(4,'ku1',1),(2,'kb2-x',5),(5,'ku2',2),(3,'kb3-x',6),(6,'ku3',3)]\n",
    "\n",
    "MTTfolder='../shared/utilsGRF' #folder with MTT.py \n",
    "basename='graph'\n",
    "\n",
    "parlist=[x[1] for x in edges]\n",
    "parlist=list(set(parlist))\n",
    "\n",
    "\n",
    "list(set(parlist))\n",
    "\n",
    "for pnum,par in enumerate(parlist):\n",
    "    if '-x' in par:\n",
    "        parlist[pnum]=parlist[pnum].replace('-x','')\n",
    "print(parlist)\n",
    "\n",
    "obj=writescripts.PrepareFilesNoneq(edgelist=edges,varGRF='x',concvars=['x'],parlist=parlist,MTTfolder=MTTfolder,graphbasename=basename)\n",
    "obj.write_execute_parse()\n",
    "\n",
    "obj.simpify_rhos()"
   ]
  },
  {
   "cell_type": "code",
   "execution_count": 3,
   "metadata": {},
   "outputs": [],
   "source": [
    "import sympy\n",
    "from sympy.parsing.sympy_parser import parse_expr"
   ]
  },
  {
   "cell_type": "code",
   "execution_count": 4,
   "metadata": {},
   "outputs": [],
   "source": [
    "sympy.init_printing()"
   ]
  },
  {
   "cell_type": "code",
   "execution_count": 5,
   "metadata": {},
   "outputs": [],
   "source": [
    "for label in parlist:\n",
    "    #print(label)\n",
    "    exec(\"%s=sympy.symbols('%s')\"%(label,label))\n",
    "for var in ['x']:\n",
    "    exec(\"%s=sympy.symbols('%s')\"%(var,var))\n",
    "a,alpha1,alpha2,alpha3,kb,ku=sympy.symbols('a,alpha_1,alpha_2,alpha_3,k_b,k_u')\n",
    "all_rhos_sympy=[]\n",
    "for rho in obj.all_rhos:\n",
    "    expr=parse_expr(rho.split(\"=\")[1])\n",
    "    expr_simple=expr.subs({a1:a,a2:a,a3:a,epsilon1:alpha1*a,epsilon2:alpha2*a,epsilon3:alpha3*a,kb1:kb,kb2:kb,kb3:kb,ku1:ku,ku2:ku,ku3:ku})\n",
    "    all_rhos_sympy.append(expr_simple)"
   ]
  },
  {
   "cell_type": "code",
   "execution_count": 6,
   "metadata": {},
   "outputs": [
    {
     "name": "stdout",
     "output_type": "stream",
     "text": [
      "Trees for node  1\n",
      "a**2*k_u**3\n",
      "a**3*alpha_1*k_u**2\n",
      "a**3*alpha_2*k_u**2\n",
      "a**3*alpha_3*k_u**2\n",
      "a**4*alpha_1*alpha_2*k_u\n",
      "a**4*alpha_1*alpha_3*k_u\n",
      "a**4*alpha_2*alpha_3*k_u\n",
      "a**2*alpha_2*k_b*k_u**2*x\n",
      "a**2*alpha_3*k_b*k_u**2*x\n",
      "a**3*alpha_1*alpha_2*k_b*k_u*x\n",
      "a**2*alpha_2*alpha_3*k_b**2*k_u*x**2\n",
      "2*a**3*alpha_2*alpha_3*k_b*k_u*x\n",
      "\n",
      "Trees for node  2\n",
      "a**2*k_u**3\n",
      "a**3*alpha_1*k_u**2\n",
      "a**3*alpha_2*k_u**2\n",
      "a**3*alpha_3*k_u**2\n",
      "a**4*alpha_1*alpha_2*k_u\n",
      "a**4*alpha_1*alpha_3*k_u\n",
      "a**4*alpha_2*alpha_3*k_u\n",
      "a**2*alpha_1*k_b*k_u**2*x\n",
      "a**2*alpha_3*k_b*k_u**2*x\n",
      "a**2*alpha_1*alpha_3*k_b**2*k_u*x**2\n",
      "a**3*alpha_2*alpha_3*k_b*k_u*x\n",
      "2*a**3*alpha_1*alpha_3*k_b*k_u*x\n",
      "\n",
      "Trees for node  3\n",
      "a**2*k_u**3\n",
      "a**3*alpha_1*k_u**2\n",
      "a**3*alpha_2*k_u**2\n",
      "a**3*alpha_3*k_u**2\n",
      "a**4*alpha_1*alpha_2*k_u\n",
      "a**4*alpha_1*alpha_3*k_u\n",
      "a**4*alpha_2*alpha_3*k_u\n",
      "a**2*alpha_1*k_b*k_u**2*x\n",
      "a**2*alpha_2*k_b*k_u**2*x\n",
      "a**2*alpha_1*alpha_2*k_b**2*k_u*x**2\n",
      "a**3*alpha_1*alpha_3*k_b*k_u*x\n",
      "2*a**3*alpha_1*alpha_2*k_b*k_u*x\n",
      "\n",
      "Trees for node  4\n",
      "a**2*k_b*k_u**2*x\n",
      "a**2*alpha_2*alpha_3*k_b**3*x**3\n",
      "a**3*alpha_2*k_b*k_u*x\n",
      "a**2*alpha_2*k_b**2*k_u*x**2\n",
      "a**2*alpha_3*k_b**2*k_u*x**2\n",
      "2*a**3*alpha_3*k_b*k_u*x\n",
      "3*a**4*alpha_2*alpha_3*k_b*x\n",
      "3*a**3*alpha_2*alpha_3*k_b**2*x**2\n",
      "\n",
      "Trees for node  5\n",
      "a**2*k_b*k_u**2*x\n",
      "a**2*alpha_1*alpha_3*k_b**3*x**3\n",
      "a**2*alpha_1*k_b**2*k_u*x**2\n",
      "a**3*alpha_3*k_b*k_u*x\n",
      "a**2*alpha_3*k_b**2*k_u*x**2\n",
      "2*a**3*alpha_1*k_b*k_u*x\n",
      "3*a**4*alpha_1*alpha_3*k_b*x\n",
      "3*a**3*alpha_1*alpha_3*k_b**2*x**2\n",
      "\n",
      "Trees for node  6\n",
      "a**2*k_b*k_u**2*x\n",
      "a**2*alpha_1*alpha_2*k_b**3*x**3\n",
      "a**3*alpha_1*k_b*k_u*x\n",
      "a**2*alpha_1*k_b**2*k_u*x**2\n",
      "a**2*alpha_2*k_b**2*k_u*x**2\n",
      "2*a**3*alpha_2*k_b*k_u*x\n",
      "3*a**4*alpha_1*alpha_2*k_b*x\n",
      "3*a**3*alpha_1*alpha_2*k_b**2*x**2\n",
      "\n"
     ]
    }
   ],
   "source": [
    "for i in range(6):\n",
    "    print(\"Trees for node \",i+1)\n",
    "    for tree in sympy.Add.make_args(all_rhos_sympy[i]):\n",
    "        print(tree)\n",
    "    print()"
   ]
  },
  {
   "cell_type": "code",
   "execution_count": 7,
   "metadata": {},
   "outputs": [],
   "source": [
    "phi1=all_rhos_sympy[0]\n",
    "phi2=all_rhos_sympy[1]\n",
    "phi3=all_rhos_sympy[2]\n",
    "phi4=all_rhos_sympy[3]\n",
    "phi5=all_rhos_sympy[4]\n",
    "phi6=all_rhos_sympy[5]"
   ]
  },
  {
   "cell_type": "code",
   "execution_count": 8,
   "metadata": {},
   "outputs": [
    {
     "data": {
      "image/png": "[encoded data removed]",
      "text/latex": [
       "$$3 a^{4} \\alpha_{1} \\alpha_{2} k_{u} + 3 a^{4} \\alpha_{1} \\alpha_{3} k_{u} + 3 a^{4} \\alpha_{2} \\alpha_{3} k_{u} + 3 a^{3} \\alpha_{1} \\alpha_{2} k_{b} k_{u} x + 3 a^{3} \\alpha_{1} \\alpha_{3} k_{b} k_{u} x + 3 a^{3} \\alpha_{1} k_{u}^{2} + 3 a^{3} \\alpha_{2} \\alpha_{3} k_{b} k_{u} x + 3 a^{3} \\alpha_{2} k_{u}^{2} + 3 a^{3} \\alpha_{3} k_{u}^{2} + a^{2} \\alpha_{1} \\alpha_{2} k_{b}^{2} k_{u} x^{2} + a^{2} \\alpha_{1} \\alpha_{3} k_{b}^{2} k_{u} x^{2} + 2 a^{2} \\alpha_{1} k_{b} k_{u}^{2} x + a^{2} \\alpha_{2} \\alpha_{3} k_{b}^{2} k_{u} x^{2} + 2 a^{2} \\alpha_{2} k_{b} k_{u}^{2} x + 2 a^{2} \\alpha_{3} k_{b} k_{u}^{2} x + 3 a^{2} k_{u}^{3}$$"
      ],
      "text/plain": [
       "   4               4               4               3                     3    \n",
       "3⋅a ⋅α₁⋅α₂⋅kᵤ + 3⋅a ⋅α₁⋅α₃⋅kᵤ + 3⋅a ⋅α₂⋅α₃⋅kᵤ + 3⋅a ⋅α₁⋅α₂⋅k_b⋅kᵤ⋅x + 3⋅a ⋅α₁⋅\n",
       "\n",
       "                 3      2      3                     3      2      3      2   \n",
       "α₃⋅k_b⋅kᵤ⋅x + 3⋅a ⋅α₁⋅kᵤ  + 3⋅a ⋅α₂⋅α₃⋅k_b⋅kᵤ⋅x + 3⋅a ⋅α₂⋅kᵤ  + 3⋅a ⋅α₃⋅kᵤ  + \n",
       "\n",
       " 2          2     2    2          2     2      2          2      2          2 \n",
       "a ⋅α₁⋅α₂⋅k_b ⋅kᵤ⋅x  + a ⋅α₁⋅α₃⋅k_b ⋅kᵤ⋅x  + 2⋅a ⋅α₁⋅k_b⋅kᵤ ⋅x + a ⋅α₂⋅α₃⋅k_b ⋅\n",
       "\n",
       "    2      2          2        2          2        2   3\n",
       "kᵤ⋅x  + 2⋅a ⋅α₂⋅k_b⋅kᵤ ⋅x + 2⋅a ⋅α₃⋅k_b⋅kᵤ ⋅x + 3⋅a ⋅kᵤ "
      ]
     },
     "execution_count": 8,
     "metadata": {},
     "output_type": "execute_result"
    }
   ],
   "source": [
    "phi1+phi2+phi3"
   ]
  },
  {
   "cell_type": "code",
   "execution_count": 9,
   "metadata": {},
   "outputs": [
    {
     "data": {
      "image/png": "[encoded data removed]",
      "text/latex": [
       "$$3 a^{4} \\alpha_{1} \\alpha_{2} k_{b} x + 3 a^{4} \\alpha_{1} \\alpha_{3} k_{b} x + 3 a^{4} \\alpha_{2} \\alpha_{3} k_{b} x + 3 a^{3} \\alpha_{1} \\alpha_{2} k_{b}^{2} x^{2} + 3 a^{3} \\alpha_{1} \\alpha_{3} k_{b}^{2} x^{2} + 3 a^{3} \\alpha_{1} k_{b} k_{u} x + 3 a^{3} \\alpha_{2} \\alpha_{3} k_{b}^{2} x^{2} + 3 a^{3} \\alpha_{2} k_{b} k_{u} x + 3 a^{3} \\alpha_{3} k_{b} k_{u} x + a^{2} \\alpha_{1} \\alpha_{2} k_{b}^{3} x^{3} + a^{2} \\alpha_{1} \\alpha_{3} k_{b}^{3} x^{3} + 2 a^{2} \\alpha_{1} k_{b}^{2} k_{u} x^{2} + a^{2} \\alpha_{2} \\alpha_{3} k_{b}^{3} x^{3} + 2 a^{2} \\alpha_{2} k_{b}^{2} k_{u} x^{2} + 2 a^{2} \\alpha_{3} k_{b}^{2} k_{u} x^{2} + 3 a^{2} k_{b} k_{u}^{2} x$$"
      ],
      "text/plain": [
       "   4                  4                  4                  3          2  2   \n",
       "3⋅a ⋅α₁⋅α₂⋅k_b⋅x + 3⋅a ⋅α₁⋅α₃⋅k_b⋅x + 3⋅a ⋅α₂⋅α₃⋅k_b⋅x + 3⋅a ⋅α₁⋅α₂⋅k_b ⋅x  + \n",
       "\n",
       "   3          2  2      3                  3          2  2      3             \n",
       "3⋅a ⋅α₁⋅α₃⋅k_b ⋅x  + 3⋅a ⋅α₁⋅k_b⋅kᵤ⋅x + 3⋅a ⋅α₂⋅α₃⋅k_b ⋅x  + 3⋅a ⋅α₂⋅k_b⋅kᵤ⋅x \n",
       "\n",
       "     3                2          3  3    2          3  3      2       2     2 \n",
       "+ 3⋅a ⋅α₃⋅k_b⋅kᵤ⋅x + a ⋅α₁⋅α₂⋅k_b ⋅x  + a ⋅α₁⋅α₃⋅k_b ⋅x  + 2⋅a ⋅α₁⋅k_b ⋅kᵤ⋅x  \n",
       "\n",
       "   2          3  3      2       2     2      2       2     2      2       2  \n",
       "+ a ⋅α₂⋅α₃⋅k_b ⋅x  + 2⋅a ⋅α₂⋅k_b ⋅kᵤ⋅x  + 2⋅a ⋅α₃⋅k_b ⋅kᵤ⋅x  + 3⋅a ⋅k_b⋅kᵤ ⋅x"
      ]
     },
     "execution_count": 9,
     "metadata": {},
     "output_type": "execute_result"
    }
   ],
   "source": [
    "phi4+phi5+phi6"
   ]
  },
  {
   "cell_type": "code",
   "execution_count": 10,
   "metadata": {},
   "outputs": [],
   "source": [
    "num=a*phi3+a*alpha3*phi6\n",
    "den=phi1+phi2+phi3+phi4+phi5+phi6"
   ]
  },
  {
   "cell_type": "code",
   "execution_count": 11,
   "metadata": {},
   "outputs": [],
   "source": [
    "dnum=sympy.diff(num,ku)\n",
    "dden=sympy.diff(den,ku)"
   ]
  },
  {
   "cell_type": "code",
   "execution_count": 12,
   "metadata": {},
   "outputs": [],
   "source": [
    "left=(sympy.diff(phi3,ku)+alpha3*sympy.diff(phi6,ku))*den\n",
    "right=(phi3+alpha3*phi6)*dden"
   ]
  },
  {
   "cell_type": "code",
   "execution_count": 13,
   "metadata": {},
   "outputs": [],
   "source": [
    "B=sympy.symbols('B')"
   ]
  },
  {
   "cell_type": "code",
   "execution_count": 14,
   "metadata": {},
   "outputs": [],
   "source": [
    "l_r=sympy.expand(left-right)\n",
    "l_rB=l_r.subs(kb*x,B)\n",
    "poly_zero=sympy.Poly(l_rB,ku)\n"
   ]
  },
  {
   "cell_type": "code",
   "execution_count": 15,
   "metadata": {},
   "outputs": [
    {
     "data": {
      "image/png": "[encoded data removed]",
      "text/latex": [
       "$$\\operatorname{Poly}{\\left( \\left(- B a^{4} \\alpha_{1} - B a^{4} \\alpha_{2} - B a^{4} \\alpha_{3} + 3 B a^{4}\\right) k_{u}^{4} + \\left(- 4 B^{2} a^{4} \\alpha_{1} \\alpha_{2} - 4 B^{2} a^{4} \\alpha_{1} \\alpha_{3} + 4 B^{2} a^{4} \\alpha_{1} - 4 B^{2} a^{4} \\alpha_{2} \\alpha_{3} + 4 B^{2} a^{4} \\alpha_{2} + 4 B^{2} a^{4} \\alpha_{3} - 6 B a^{5} \\alpha_{1} \\alpha_{2} - 6 B a^{5} \\alpha_{1} \\alpha_{3} + 6 B a^{5} \\alpha_{1} - 6 B a^{5} \\alpha_{2} \\alpha_{3} + 6 B a^{5} \\alpha_{2} + 6 B a^{5} \\alpha_{3}\\right) k_{u}^{3} + \\left(- B^{3} a^{4} \\alpha_{1}^{2} \\alpha_{2} - B^{3} a^{4} \\alpha_{1}^{2} \\alpha_{3} + 2 B^{3} a^{4} \\alpha_{1}^{2} - B^{3} a^{4} \\alpha_{1} \\alpha_{2}^{2} - 12 B^{3} a^{4} \\alpha_{1} \\alpha_{2} \\alpha_{3} + 4 B^{3} a^{4} \\alpha_{1} \\alpha_{2} - B^{3} a^{4} \\alpha_{1} \\alpha_{3}^{2} + 4 B^{3} a^{4} \\alpha_{1} \\alpha_{3} - B^{3} a^{4} \\alpha_{2}^{2} \\alpha_{3} + 2 B^{3} a^{4} \\alpha_{2}^{2} - B^{3} a^{4} \\alpha_{2} \\alpha_{3}^{2} + 4 B^{3} a^{4} \\alpha_{2} \\alpha_{3} + 2 B^{3} a^{4} \\alpha_{3}^{2} - 3 B^{2} a^{5} \\alpha_{1}^{2} \\alpha_{2} - 3 B^{2} a^{5} \\alpha_{1}^{2} \\alpha_{3} + 5 B^{2} a^{5} \\alpha_{1}^{2} - 3 B^{2} a^{5} \\alpha_{1} \\alpha_{2}^{2} - 36 B^{2} a^{5} \\alpha_{1} \\alpha_{2} \\alpha_{3} + 13 B^{2} a^{5} \\alpha_{1} \\alpha_{2} - 3 B^{2} a^{5} \\alpha_{1} \\alpha_{3}^{2} + 13 B^{2} a^{5} \\alpha_{1} \\alpha_{3} - 3 B^{2} a^{5} \\alpha_{2}^{2} \\alpha_{3} + 5 B^{2} a^{5} \\alpha_{2}^{2} - 3 B^{2} a^{5} \\alpha_{2} \\alpha_{3}^{2} + 13 B^{2} a^{5} \\alpha_{2} \\alpha_{3} + 5 B^{2} a^{5} \\alpha_{3}^{2} - 2 B a^{6} \\alpha_{1}^{2} \\alpha_{2} - 2 B a^{6} \\alpha_{1}^{2} \\alpha_{3} + 3 B a^{6} \\alpha_{1}^{2} - 2 B a^{6} \\alpha_{1} \\alpha_{2}^{2} - 33 B a^{6} \\alpha_{1} \\alpha_{2} \\alpha_{3} + 12 B a^{6} \\alpha_{1} \\alpha_{2} - 2 B a^{6} \\alpha_{1} \\alpha_{3}^{2} + 12 B a^{6} \\alpha_{1} \\alpha_{3} - 2 B a^{6} \\alpha_{2}^{2} \\alpha_{3} + 3 B a^{6} \\alpha_{2}^{2} - 2 B a^{6} \\alpha_{2} \\alpha_{3}^{2} + 12 B a^{6} \\alpha_{2} \\alpha_{3} + 3 B a^{6} \\alpha_{3}^{2}\\right) k_{u}^{2} + \\left(- 4 B^{4} a^{4} \\alpha_{1}^{2} \\alpha_{2} \\alpha_{3} + 2 B^{4} a^{4} \\alpha_{1}^{2} \\alpha_{2} + 2 B^{4} a^{4} \\alpha_{1}^{2} \\alpha_{3} - 4 B^{4} a^{4} \\alpha_{1} \\alpha_{2}^{2} \\alpha_{3} + 2 B^{4} a^{4} \\alpha_{1} \\alpha_{2}^{2} - 4 B^{4} a^{4} \\alpha_{1} \\alpha_{2} \\alpha_{3}^{2} + 2 B^{4} a^{4} \\alpha_{1} \\alpha_{3}^{2} + 2 B^{4} a^{4} \\alpha_{2}^{2} \\alpha_{3} + 2 B^{4} a^{4} \\alpha_{2} \\alpha_{3}^{2} - 18 B^{3} a^{5} \\alpha_{1}^{2} \\alpha_{2} \\alpha_{3} + 8 B^{3} a^{5} \\alpha_{1}^{2} \\alpha_{2} + 8 B^{3} a^{5} \\alpha_{1}^{2} \\alpha_{3} - 18 B^{3} a^{5} \\alpha_{1} \\alpha_{2}^{2} \\alpha_{3} + 8 B^{3} a^{5} \\alpha_{1} \\alpha_{2}^{2} - 18 B^{3} a^{5} \\alpha_{1} \\alpha_{2} \\alpha_{3}^{2} + 6 B^{3} a^{5} \\alpha_{1} \\alpha_{2} \\alpha_{3} + 8 B^{3} a^{5} \\alpha_{1} \\alpha_{3}^{2} + 8 B^{3} a^{5} \\alpha_{2}^{2} \\alpha_{3} + 8 B^{3} a^{5} \\alpha_{2} \\alpha_{3}^{2} - 30 B^{2} a^{6} \\alpha_{1}^{2} \\alpha_{2} \\alpha_{3} + 12 B^{2} a^{6} \\alpha_{1}^{2} \\alpha_{2} + 12 B^{2} a^{6} \\alpha_{1}^{2} \\alpha_{3} - 30 B^{2} a^{6} \\alpha_{1} \\alpha_{2}^{2} \\alpha_{3} + 12 B^{2} a^{6} \\alpha_{1} \\alpha_{2}^{2} - 30 B^{2} a^{6} \\alpha_{1} \\alpha_{2} \\alpha_{3}^{2} + 18 B^{2} a^{6} \\alpha_{1} \\alpha_{2} \\alpha_{3} + 12 B^{2} a^{6} \\alpha_{1} \\alpha_{3}^{2} + 12 B^{2} a^{6} \\alpha_{2}^{2} \\alpha_{3} + 12 B^{2} a^{6} \\alpha_{2} \\alpha_{3}^{2} - 18 B a^{7} \\alpha_{1}^{2} \\alpha_{2} \\alpha_{3} + 6 B a^{7} \\alpha_{1}^{2} \\alpha_{2} + 6 B a^{7} \\alpha_{1}^{2} \\alpha_{3} - 18 B a^{7} \\alpha_{1} \\alpha_{2}^{2} \\alpha_{3} + 6 B a^{7} \\alpha_{1} \\alpha_{2}^{2} - 18 B a^{7} \\alpha_{1} \\alpha_{2} \\alpha_{3}^{2} + 18 B a^{7} \\alpha_{1} \\alpha_{2} \\alpha_{3} + 6 B a^{7} \\alpha_{1} \\alpha_{3}^{2} + 6 B a^{7} \\alpha_{2}^{2} \\alpha_{3} + 6 B a^{7} \\alpha_{2} \\alpha_{3}^{2}\\right) k_{u} -  B^{5} a^{4} \\alpha_{1}^{2} \\alpha_{2}^{2} \\alpha_{3} + B^{5} a^{4} \\alpha_{1}^{2} \\alpha_{2}^{2} - B^{5} a^{4} \\alpha_{1}^{2} \\alpha_{2} \\alpha_{3}^{2} + B^{5} a^{4} \\alpha_{1}^{2} \\alpha_{3}^{2} - B^{5} a^{4} \\alpha_{1} \\alpha_{2}^{2} \\alpha_{3}^{2} + B^{5} a^{4} \\alpha_{2}^{2} \\alpha_{3}^{2} - 6 B^{4} a^{5} \\alpha_{1}^{2} \\alpha_{2}^{2} \\alpha_{3} + 5 B^{4} a^{5} \\alpha_{1}^{2} \\alpha_{2}^{2} - 6 B^{4} a^{5} \\alpha_{1}^{2} \\alpha_{2} \\alpha_{3}^{2} + B^{4} a^{5} \\alpha_{1}^{2} \\alpha_{2} \\alpha_{3} + 5 B^{4} a^{5} \\alpha_{1}^{2} \\alpha_{3}^{2} - 6 B^{4} a^{5} \\alpha_{1} \\alpha_{2}^{2} \\alpha_{3}^{2} + B^{4} a^{5} \\alpha_{1} \\alpha_{2}^{2} \\alpha_{3} + B^{4} a^{5} \\alpha_{1} \\alpha_{2} \\alpha_{3}^{2} + 5 B^{4} a^{5} \\alpha_{2}^{2} \\alpha_{3}^{2} - 15 B^{3} a^{6} \\alpha_{1}^{2} \\alpha_{2}^{2} \\alpha_{3} + 10 B^{3} a^{6} \\alpha_{1}^{2} \\alpha_{2}^{2} - 15 B^{3} a^{6} \\alpha_{1}^{2} \\alpha_{2} \\alpha_{3}^{2} + 5 B^{3} a^{6} \\alpha_{1}^{2} \\alpha_{2} \\alpha_{3} + 10 B^{3} a^{6} \\alpha_{1}^{2} \\alpha_{3}^{2} - 15 B^{3} a^{6} \\alpha_{1} \\alpha_{2}^{2} \\alpha_{3}^{2} + 5 B^{3} a^{6} \\alpha_{1} \\alpha_{2}^{2} \\alpha_{3} + 5 B^{3} a^{6} \\alpha_{1} \\alpha_{2} \\alpha_{3}^{2} + 10 B^{3} a^{6} \\alpha_{2}^{2} \\alpha_{3}^{2} - 18 B^{2} a^{7} \\alpha_{1}^{2} \\alpha_{2}^{2} \\alpha_{3} + 9 B^{2} a^{7} \\alpha_{1}^{2} \\alpha_{2}^{2} - 18 B^{2} a^{7} \\alpha_{1}^{2} \\alpha_{2} \\alpha_{3}^{2} + 9 B^{2} a^{7} \\alpha_{1}^{2} \\alpha_{2} \\alpha_{3} + 9 B^{2} a^{7} \\alpha_{1}^{2} \\alpha_{3}^{2} - 18 B^{2} a^{7} \\alpha_{1} \\alpha_{2}^{2} \\alpha_{3}^{2} + 9 B^{2} a^{7} \\alpha_{1} \\alpha_{2}^{2} \\alpha_{3} + 9 B^{2} a^{7} \\alpha_{1} \\alpha_{2} \\alpha_{3}^{2} + 9 B^{2} a^{7} \\alpha_{2}^{2} \\alpha_{3}^{2} - 9 B a^{8} \\alpha_{1}^{2} \\alpha_{2}^{2} \\alpha_{3} + 3 B a^{8} \\alpha_{1}^{2} \\alpha_{2}^{2} - 9 B a^{8} \\alpha_{1}^{2} \\alpha_{2} \\alpha_{3}^{2} + 6 B a^{8} \\alpha_{1}^{2} \\alpha_{2} \\alpha_{3} + 3 B a^{8} \\alpha_{1}^{2} \\alpha_{3}^{2} - 9 B a^{8} \\alpha_{1} \\alpha_{2}^{2} \\alpha_{3}^{2} + 6 B a^{8} \\alpha_{1} \\alpha_{2}^{2} \\alpha_{3} + 6 B a^{8} \\alpha_{1} \\alpha_{2} \\alpha_{3}^{2} + 3 B a^{8} \\alpha_{2}^{2} \\alpha_{3}^{2}, k_{u}, domain=\\mathbb{Z}\\left[a, B, \\alpha_{1}, \\alpha_{2}, \\alpha_{3}\\right] \\right)}$$"
      ],
      "text/plain": [
       "Poly((-B*a**4*alpha_1 - B*a**4*alpha_2 - B*a**4*alpha_3 + 3*B*a**4)*k_u**4 + (\n",
       "-4*B**2*a**4*alpha_1*alpha_2 - 4*B**2*a**4*alpha_1*alpha_3 + 4*B**2*a**4*alpha\n",
       "_1 - 4*B**2*a**4*alpha_2*alpha_3 + 4*B**2*a**4*alpha_2 + 4*B**2*a**4*alpha_3 -\n",
       " 6*B*a**5*alpha_1*alpha_2 - 6*B*a**5*alpha_1*alpha_3 + 6*B*a**5*alpha_1 - 6*B*\n",
       "a**5*alpha_2*alpha_3 + 6*B*a**5*alpha_2 + 6*B*a**5*alpha_3)*k_u**3 + (-B**3*a*\n",
       "*4*alpha_1**2*alpha_2 - B**3*a**4*alpha_1**2*alpha_3 + 2*B**3*a**4*alpha_1**2 \n",
       "- B**3*a**4*alpha_1*alpha_2**2 - 12*B**3*a**4*alpha_1*alpha_2*alpha_3 + 4*B**3\n",
       "*a**4*alpha_1*alpha_2 - B**3*a**4*alpha_1*alpha_3**2 + 4*B**3*a**4*alpha_1*alp\n",
       "ha_3 - B**3*a**4*alpha_2**2*alpha_3 + 2*B**3*a**4*alpha_2**2 - B**3*a**4*alpha\n",
       "_2*alpha_3**2 + 4*B**3*a**4*alpha_2*alpha_3 + 2*B**3*a**4*alpha_3**2 - 3*B**2*\n",
       "a**5*alpha_1**2*alpha_2 - 3*B**2*a**5*alpha_1**2*alpha_3 + 5*B**2*a**5*alpha_1\n",
       "**2 - 3*B**2*a**5*alpha_1*alpha_2**2 - 36*B**2*a**5*alpha_1*alpha_2*alpha_3 + \n",
       "13*B**2*a**5*alpha_1*alpha_2 - 3*B**2*a**5*alpha_1*alpha_3**2 + 13*B**2*a**5*a\n",
       "lpha_1*alpha_3 - 3*B**2*a**5*alpha_2**2*alpha_3 + 5*B**2*a**5*alpha_2**2 - 3*B\n",
       "**2*a**5*alpha_2*alpha_3**2 + 13*B**2*a**5*alpha_2*alpha_3 + 5*B**2*a**5*alpha\n",
       "_3**2 - 2*B*a**6*alpha_1**2*alpha_2 - 2*B*a**6*alpha_1**2*alpha_3 + 3*B*a**6*a\n",
       "lpha_1**2 - 2*B*a**6*alpha_1*alpha_2**2 - 33*B*a**6*alpha_1*alpha_2*alpha_3 + \n",
       "12*B*a**6*alpha_1*alpha_2 - 2*B*a**6*alpha_1*alpha_3**2 + 12*B*a**6*alpha_1*al\n",
       "pha_3 - 2*B*a**6*alpha_2**2*alpha_3 + 3*B*a**6*alpha_2**2 - 2*B*a**6*alpha_2*a\n",
       "lpha_3**2 + 12*B*a**6*alpha_2*alpha_3 + 3*B*a**6*alpha_3**2)*k_u**2 + (-4*B**4\n",
       "*a**4*alpha_1**2*alpha_2*alpha_3 + 2*B**4*a**4*alpha_1**2*alpha_2 + 2*B**4*a**\n",
       "4*alpha_1**2*alpha_3 - 4*B**4*a**4*alpha_1*alpha_2**2*alpha_3 + 2*B**4*a**4*al\n",
       "pha_1*alpha_2**2 - 4*B**4*a**4*alpha_1*alpha_2*alpha_3**2 + 2*B**4*a**4*alpha_\n",
       "1*alpha_3**2 + 2*B**4*a**4*alpha_2**2*alpha_3 + 2*B**4*a**4*alpha_2*alpha_3**2\n",
       " - 18*B**3*a**5*alpha_1**2*alpha_2*alpha_3 + 8*B**3*a**5*alpha_1**2*alpha_2 + \n",
       "8*B**3*a**5*alpha_1**2*alpha_3 - 18*B**3*a**5*alpha_1*alpha_2**2*alpha_3 + 8*B\n",
       "**3*a**5*alpha_1*alpha_2**2 - 18*B**3*a**5*alpha_1*alpha_2*alpha_3**2 + 6*B**3\n",
       "*a**5*alpha_1*alpha_2*alpha_3 + 8*B**3*a**5*alpha_1*alpha_3**2 + 8*B**3*a**5*a\n",
       "lpha_2**2*alpha_3 + 8*B**3*a**5*alpha_2*alpha_3**2 - 30*B**2*a**6*alpha_1**2*a\n",
       "lpha_2*alpha_3 + 12*B**2*a**6*alpha_1**2*alpha_2 + 12*B**2*a**6*alpha_1**2*alp\n",
       "ha_3 - 30*B**2*a**6*alpha_1*alpha_2**2*alpha_3 + 12*B**2*a**6*alpha_1*alpha_2*\n",
       "*2 - 30*B**2*a**6*alpha_1*alpha_2*alpha_3**2 + 18*B**2*a**6*alpha_1*alpha_2*al\n",
       "pha_3 + 12*B**2*a**6*alpha_1*alpha_3**2 + 12*B**2*a**6*alpha_2**2*alpha_3 + 12\n",
       "*B**2*a**6*alpha_2*alpha_3**2 - 18*B*a**7*alpha_1**2*alpha_2*alpha_3 + 6*B*a**\n",
       "7*alpha_1**2*alpha_2 + 6*B*a**7*alpha_1**2*alpha_3 - 18*B*a**7*alpha_1*alpha_2\n",
       "**2*alpha_3 + 6*B*a**7*alpha_1*alpha_2**2 - 18*B*a**7*alpha_1*alpha_2*alpha_3*\n",
       "*2 + 18*B*a**7*alpha_1*alpha_2*alpha_3 + 6*B*a**7*alpha_1*alpha_3**2 + 6*B*a**\n",
       "7*alpha_2**2*alpha_3 + 6*B*a**7*alpha_2*alpha_3**2)*k_u - B**5*a**4*alpha_1**2\n",
       "*alpha_2**2*alpha_3 + B**5*a**4*alpha_1**2*alpha_2**2 - B**5*a**4*alpha_1**2*a\n",
       "lpha_2*alpha_3**2 + B**5*a**4*alpha_1**2*alpha_3**2 - B**5*a**4*alpha_1*alpha_\n",
       "2**2*alpha_3**2 + B**5*a**4*alpha_2**2*alpha_3**2 - 6*B**4*a**5*alpha_1**2*alp\n",
       "ha_2**2*alpha_3 + 5*B**4*a**5*alpha_1**2*alpha_2**2 - 6*B**4*a**5*alpha_1**2*a\n",
       "lpha_2*alpha_3**2 + B**4*a**5*alpha_1**2*alpha_2*alpha_3 + 5*B**4*a**5*alpha_1\n",
       "**2*alpha_3**2 - 6*B**4*a**5*alpha_1*alpha_2**2*alpha_3**2 + B**4*a**5*alpha_1\n",
       "*alpha_2**2*alpha_3 + B**4*a**5*alpha_1*alpha_2*alpha_3**2 + 5*B**4*a**5*alpha\n",
       "_2**2*alpha_3**2 - 15*B**3*a**6*alpha_1**2*alpha_2**2*alpha_3 + 10*B**3*a**6*a\n",
       "lpha_1**2*alpha_2**2 - 15*B**3*a**6*alpha_1**2*alpha_2*alpha_3**2 + 5*B**3*a**\n",
       "6*alpha_1**2*alpha_2*alpha_3 + 10*B**3*a**6*alpha_1**2*alpha_3**2 - 15*B**3*a*\n",
       "*6*alpha_1*alpha_2**2*alpha_3**2 + 5*B**3*a**6*alpha_1*alpha_2**2*alpha_3 + 5*\n",
       "B**3*a**6*alpha_1*alpha_2*alpha_3**2 + 10*B**3*a**6*alpha_2**2*alpha_3**2 - 18\n",
       "*B**2*a**7*alpha_1**2*alpha_2**2*alpha_3 + 9*B**2*a**7*alpha_1**2*alpha_2**2 -\n",
       " 18*B**2*a**7*alpha_1**2*alpha_2*alpha_3**2 + 9*B**2*a**7*alpha_1**2*alpha_2*a\n",
       "lpha_3 + 9*B**2*a**7*alpha_1**2*alpha_3**2 - 18*B**2*a**7*alpha_1*alpha_2**2*a\n",
       "lpha_3**2 + 9*B**2*a**7*alpha_1*alpha_2**2*alpha_3 + 9*B**2*a**7*alpha_1*alpha\n",
       "_2*alpha_3**2 + 9*B**2*a**7*alpha_2**2*alpha_3**2 - 9*B*a**8*alpha_1**2*alpha_\n",
       "2**2*alpha_3 + 3*B*a**8*alpha_1**2*alpha_2**2 - 9*B*a**8*alpha_1**2*alpha_2*al\n",
       "pha_3**2 + 6*B*a**8*alpha_1**2*alpha_2*alpha_3 + 3*B*a**8*alpha_1**2*alpha_3**\n",
       "2 - 9*B*a**8*alpha_1*alpha_2**2*alpha_3**2 + 6*B*a**8*alpha_1*alpha_2**2*alpha\n",
       "_3 + 6*B*a**8*alpha_1*alpha_2*alpha_3**2 + 3*B*a**8*alpha_2**2*alpha_3**2, k_u\n",
       ", domain='ZZ[a,B,alpha_1,alpha_2,alpha_3]')"
      ]
     },
     "execution_count": 15,
     "metadata": {},
     "output_type": "execute_result"
    }
   ],
   "source": [
    "poly_zero"
   ]
  },
  {
   "cell_type": "code",
   "execution_count": 16,
   "metadata": {},
   "outputs": [
    {
     "name": "stdout",
     "output_type": "stream",
     "text": [
      "0\n"
     ]
    },
    {
     "data": {
      "image/png": "[encoded data removed]",
      "text/latex": [
       "$$- B^{5} a^{4} \\alpha_{1}^{2} \\alpha_{2}^{2} \\alpha_{3} + B^{5} a^{4} \\alpha_{1}^{2} \\alpha_{2}^{2} - B^{5} a^{4} \\alpha_{1}^{2} \\alpha_{2} \\alpha_{3}^{2} + B^{5} a^{4} \\alpha_{1}^{2} \\alpha_{3}^{2} - B^{5} a^{4} \\alpha_{1} \\alpha_{2}^{2} \\alpha_{3}^{2} + B^{5} a^{4} \\alpha_{2}^{2} \\alpha_{3}^{2} - 6 B^{4} a^{5} \\alpha_{1}^{2} \\alpha_{2}^{2} \\alpha_{3} + 5 B^{4} a^{5} \\alpha_{1}^{2} \\alpha_{2}^{2} - 6 B^{4} a^{5} \\alpha_{1}^{2} \\alpha_{2} \\alpha_{3}^{2} + B^{4} a^{5} \\alpha_{1}^{2} \\alpha_{2} \\alpha_{3} + 5 B^{4} a^{5} \\alpha_{1}^{2} \\alpha_{3}^{2} - 6 B^{4} a^{5} \\alpha_{1} \\alpha_{2}^{2} \\alpha_{3}^{2} + B^{4} a^{5} \\alpha_{1} \\alpha_{2}^{2} \\alpha_{3} + B^{4} a^{5} \\alpha_{1} \\alpha_{2} \\alpha_{3}^{2} + 5 B^{4} a^{5} \\alpha_{2}^{2} \\alpha_{3}^{2} - 15 B^{3} a^{6} \\alpha_{1}^{2} \\alpha_{2}^{2} \\alpha_{3} + 10 B^{3} a^{6} \\alpha_{1}^{2} \\alpha_{2}^{2} - 15 B^{3} a^{6} \\alpha_{1}^{2} \\alpha_{2} \\alpha_{3}^{2} + 5 B^{3} a^{6} \\alpha_{1}^{2} \\alpha_{2} \\alpha_{3} + 10 B^{3} a^{6} \\alpha_{1}^{2} \\alpha_{3}^{2} - 15 B^{3} a^{6} \\alpha_{1} \\alpha_{2}^{2} \\alpha_{3}^{2} + 5 B^{3} a^{6} \\alpha_{1} \\alpha_{2}^{2} \\alpha_{3} + 5 B^{3} a^{6} \\alpha_{1} \\alpha_{2} \\alpha_{3}^{2} + 10 B^{3} a^{6} \\alpha_{2}^{2} \\alpha_{3}^{2} - 18 B^{2} a^{7} \\alpha_{1}^{2} \\alpha_{2}^{2} \\alpha_{3} + 9 B^{2} a^{7} \\alpha_{1}^{2} \\alpha_{2}^{2} - 18 B^{2} a^{7} \\alpha_{1}^{2} \\alpha_{2} \\alpha_{3}^{2} + 9 B^{2} a^{7} \\alpha_{1}^{2} \\alpha_{2} \\alpha_{3} + 9 B^{2} a^{7} \\alpha_{1}^{2} \\alpha_{3}^{2} - 18 B^{2} a^{7} \\alpha_{1} \\alpha_{2}^{2} \\alpha_{3}^{2} + 9 B^{2} a^{7} \\alpha_{1} \\alpha_{2}^{2} \\alpha_{3} + 9 B^{2} a^{7} \\alpha_{1} \\alpha_{2} \\alpha_{3}^{2} + 9 B^{2} a^{7} \\alpha_{2}^{2} \\alpha_{3}^{2} - 9 B a^{8} \\alpha_{1}^{2} \\alpha_{2}^{2} \\alpha_{3} + 3 B a^{8} \\alpha_{1}^{2} \\alpha_{2}^{2} - 9 B a^{8} \\alpha_{1}^{2} \\alpha_{2} \\alpha_{3}^{2} + 6 B a^{8} \\alpha_{1}^{2} \\alpha_{2} \\alpha_{3} + 3 B a^{8} \\alpha_{1}^{2} \\alpha_{3}^{2} - 9 B a^{8} \\alpha_{1} \\alpha_{2}^{2} \\alpha_{3}^{2} + 6 B a^{8} \\alpha_{1} \\alpha_{2}^{2} \\alpha_{3} + 6 B a^{8} \\alpha_{1} \\alpha_{2} \\alpha_{3}^{2} + 3 B a^{8} \\alpha_{2}^{2} \\alpha_{3}^{2}$$"
      ],
      "text/plain": [
       "   5  4   2   2       5  4   2   2    5  4   2      2    5  4   2   2    5  4 \n",
       "- B ⋅a ⋅α₁ ⋅α₂ ⋅α₃ + B ⋅a ⋅α₁ ⋅α₂  - B ⋅a ⋅α₁ ⋅α₂⋅α₃  + B ⋅a ⋅α₁ ⋅α₃  - B ⋅a ⋅\n",
       "\n",
       "     2   2    5  4   2   2      4  5   2   2         4  5   2   2      4  5   \n",
       "α₁⋅α₂ ⋅α₃  + B ⋅a ⋅α₂ ⋅α₃  - 6⋅B ⋅a ⋅α₁ ⋅α₂ ⋅α₃ + 5⋅B ⋅a ⋅α₁ ⋅α₂  - 6⋅B ⋅a ⋅α₁\n",
       "\n",
       "2      2    4  5   2            4  5   2   2      4  5      2   2    4  5     \n",
       " ⋅α₂⋅α₃  + B ⋅a ⋅α₁ ⋅α₂⋅α₃ + 5⋅B ⋅a ⋅α₁ ⋅α₃  - 6⋅B ⋅a ⋅α₁⋅α₂ ⋅α₃  + B ⋅a ⋅α₁⋅α\n",
       "\n",
       " 2       4  5         2      4  5   2   2       3  6   2   2          3  6   2\n",
       "₂ ⋅α₃ + B ⋅a ⋅α₁⋅α₂⋅α₃  + 5⋅B ⋅a ⋅α₂ ⋅α₃  - 15⋅B ⋅a ⋅α₁ ⋅α₂ ⋅α₃ + 10⋅B ⋅a ⋅α₁ \n",
       "\n",
       "   2       3  6   2      2      3  6   2             3  6   2   2       3  6  \n",
       "⋅α₂  - 15⋅B ⋅a ⋅α₁ ⋅α₂⋅α₃  + 5⋅B ⋅a ⋅α₁ ⋅α₂⋅α₃ + 10⋅B ⋅a ⋅α₁ ⋅α₃  - 15⋅B ⋅a ⋅α\n",
       "\n",
       "    2   2      3  6      2         3  6         2       3  6   2   2       2  \n",
       "₁⋅α₂ ⋅α₃  + 5⋅B ⋅a ⋅α₁⋅α₂ ⋅α₃ + 5⋅B ⋅a ⋅α₁⋅α₂⋅α₃  + 10⋅B ⋅a ⋅α₂ ⋅α₃  - 18⋅B ⋅a\n",
       "\n",
       "7   2   2         2  7   2   2       2  7   2      2      2  7   2            \n",
       " ⋅α₁ ⋅α₂ ⋅α₃ + 9⋅B ⋅a ⋅α₁ ⋅α₂  - 18⋅B ⋅a ⋅α₁ ⋅α₂⋅α₃  + 9⋅B ⋅a ⋅α₁ ⋅α₂⋅α₃ + 9⋅B\n",
       "\n",
       "2  7   2   2       2  7      2   2      2  7      2         2  7         2    \n",
       " ⋅a ⋅α₁ ⋅α₃  - 18⋅B ⋅a ⋅α₁⋅α₂ ⋅α₃  + 9⋅B ⋅a ⋅α₁⋅α₂ ⋅α₃ + 9⋅B ⋅a ⋅α₁⋅α₂⋅α₃  + 9\n",
       "\n",
       "  2  7   2   2        8   2   2           8   2   2        8   2      2       \n",
       "⋅B ⋅a ⋅α₂ ⋅α₃  - 9⋅B⋅a ⋅α₁ ⋅α₂ ⋅α₃ + 3⋅B⋅a ⋅α₁ ⋅α₂  - 9⋅B⋅a ⋅α₁ ⋅α₂⋅α₃  + 6⋅B⋅\n",
       "\n",
       " 8   2              8   2   2        8      2   2        8      2           8 \n",
       "a ⋅α₁ ⋅α₂⋅α₃ + 3⋅B⋅a ⋅α₁ ⋅α₃  - 9⋅B⋅a ⋅α₁⋅α₂ ⋅α₃  + 6⋅B⋅a ⋅α₁⋅α₂ ⋅α₃ + 6⋅B⋅a ⋅\n",
       "\n",
       "        2        8   2   2\n",
       "α₁⋅α₂⋅α₃  + 3⋅B⋅a ⋅α₂ ⋅α₃ "
      ]
     },
     "metadata": {},
     "output_type": "display_data"
    },
    {
     "name": "stdout",
     "output_type": "stream",
     "text": [
      "1\n"
     ]
    },
    {
     "data": {
      "image/png": "[encoded data removed]",
      "text/latex": [
       "$$- 4 B^{4} a^{4} \\alpha_{1}^{2} \\alpha_{2} \\alpha_{3} + 2 B^{4} a^{4} \\alpha_{1}^{2} \\alpha_{2} + 2 B^{4} a^{4} \\alpha_{1}^{2} \\alpha_{3} - 4 B^{4} a^{4} \\alpha_{1} \\alpha_{2}^{2} \\alpha_{3} + 2 B^{4} a^{4} \\alpha_{1} \\alpha_{2}^{2} - 4 B^{4} a^{4} \\alpha_{1} \\alpha_{2} \\alpha_{3}^{2} + 2 B^{4} a^{4} \\alpha_{1} \\alpha_{3}^{2} + 2 B^{4} a^{4} \\alpha_{2}^{2} \\alpha_{3} + 2 B^{4} a^{4} \\alpha_{2} \\alpha_{3}^{2} - 18 B^{3} a^{5} \\alpha_{1}^{2} \\alpha_{2} \\alpha_{3} + 8 B^{3} a^{5} \\alpha_{1}^{2} \\alpha_{2} + 8 B^{3} a^{5} \\alpha_{1}^{2} \\alpha_{3} - 18 B^{3} a^{5} \\alpha_{1} \\alpha_{2}^{2} \\alpha_{3} + 8 B^{3} a^{5} \\alpha_{1} \\alpha_{2}^{2} - 18 B^{3} a^{5} \\alpha_{1} \\alpha_{2} \\alpha_{3}^{2} + 6 B^{3} a^{5} \\alpha_{1} \\alpha_{2} \\alpha_{3} + 8 B^{3} a^{5} \\alpha_{1} \\alpha_{3}^{2} + 8 B^{3} a^{5} \\alpha_{2}^{2} \\alpha_{3} + 8 B^{3} a^{5} \\alpha_{2} \\alpha_{3}^{2} - 30 B^{2} a^{6} \\alpha_{1}^{2} \\alpha_{2} \\alpha_{3} + 12 B^{2} a^{6} \\alpha_{1}^{2} \\alpha_{2} + 12 B^{2} a^{6} \\alpha_{1}^{2} \\alpha_{3} - 30 B^{2} a^{6} \\alpha_{1} \\alpha_{2}^{2} \\alpha_{3} + 12 B^{2} a^{6} \\alpha_{1} \\alpha_{2}^{2} - 30 B^{2} a^{6} \\alpha_{1} \\alpha_{2} \\alpha_{3}^{2} + 18 B^{2} a^{6} \\alpha_{1} \\alpha_{2} \\alpha_{3} + 12 B^{2} a^{6} \\alpha_{1} \\alpha_{3}^{2} + 12 B^{2} a^{6} \\alpha_{2}^{2} \\alpha_{3} + 12 B^{2} a^{6} \\alpha_{2} \\alpha_{3}^{2} - 18 B a^{7} \\alpha_{1}^{2} \\alpha_{2} \\alpha_{3} + 6 B a^{7} \\alpha_{1}^{2} \\alpha_{2} + 6 B a^{7} \\alpha_{1}^{2} \\alpha_{3} - 18 B a^{7} \\alpha_{1} \\alpha_{2}^{2} \\alpha_{3} + 6 B a^{7} \\alpha_{1} \\alpha_{2}^{2} - 18 B a^{7} \\alpha_{1} \\alpha_{2} \\alpha_{3}^{2} + 18 B a^{7} \\alpha_{1} \\alpha_{2} \\alpha_{3} + 6 B a^{7} \\alpha_{1} \\alpha_{3}^{2} + 6 B a^{7} \\alpha_{2}^{2} \\alpha_{3} + 6 B a^{7} \\alpha_{2} \\alpha_{3}^{2}$$"
      ],
      "text/plain": [
       "     4  4   2            4  4   2         4  4   2         4  4      2        \n",
       "- 4⋅B ⋅a ⋅α₁ ⋅α₂⋅α₃ + 2⋅B ⋅a ⋅α₁ ⋅α₂ + 2⋅B ⋅a ⋅α₁ ⋅α₃ - 4⋅B ⋅a ⋅α₁⋅α₂ ⋅α₃ + 2⋅\n",
       "\n",
       " 4  4      2      4  4         2      4  4      2      4  4   2         4  4  \n",
       "B ⋅a ⋅α₁⋅α₂  - 4⋅B ⋅a ⋅α₁⋅α₂⋅α₃  + 2⋅B ⋅a ⋅α₁⋅α₃  + 2⋅B ⋅a ⋅α₂ ⋅α₃ + 2⋅B ⋅a ⋅α\n",
       "\n",
       "    2       3  5   2            3  5   2         3  5   2          3  5      2\n",
       "₂⋅α₃  - 18⋅B ⋅a ⋅α₁ ⋅α₂⋅α₃ + 8⋅B ⋅a ⋅α₁ ⋅α₂ + 8⋅B ⋅a ⋅α₁ ⋅α₃ - 18⋅B ⋅a ⋅α₁⋅α₂ \n",
       "\n",
       "         3  5      2       3  5         2      3  5               3  5      2 \n",
       "⋅α₃ + 8⋅B ⋅a ⋅α₁⋅α₂  - 18⋅B ⋅a ⋅α₁⋅α₂⋅α₃  + 6⋅B ⋅a ⋅α₁⋅α₂⋅α₃ + 8⋅B ⋅a ⋅α₁⋅α₃  \n",
       "\n",
       "     3  5   2         3  5      2       2  6   2             2  6   2         \n",
       "+ 8⋅B ⋅a ⋅α₂ ⋅α₃ + 8⋅B ⋅a ⋅α₂⋅α₃  - 30⋅B ⋅a ⋅α₁ ⋅α₂⋅α₃ + 12⋅B ⋅a ⋅α₁ ⋅α₂ + 12⋅\n",
       "\n",
       " 2  6   2          2  6      2          2  6      2       2  6         2      \n",
       "B ⋅a ⋅α₁ ⋅α₃ - 30⋅B ⋅a ⋅α₁⋅α₂ ⋅α₃ + 12⋅B ⋅a ⋅α₁⋅α₂  - 30⋅B ⋅a ⋅α₁⋅α₂⋅α₃  + 18⋅\n",
       "\n",
       " 2  6                2  6      2       2  6   2          2  6      2         7\n",
       "B ⋅a ⋅α₁⋅α₂⋅α₃ + 12⋅B ⋅a ⋅α₁⋅α₃  + 12⋅B ⋅a ⋅α₂ ⋅α₃ + 12⋅B ⋅a ⋅α₂⋅α₃  - 18⋅B⋅a \n",
       "\n",
       "   2              7   2           7   2            7      2           7      2\n",
       "⋅α₁ ⋅α₂⋅α₃ + 6⋅B⋅a ⋅α₁ ⋅α₂ + 6⋅B⋅a ⋅α₁ ⋅α₃ - 18⋅B⋅a ⋅α₁⋅α₂ ⋅α₃ + 6⋅B⋅a ⋅α₁⋅α₂ \n",
       "\n",
       "         7         2         7                 7      2        7   2          \n",
       " - 18⋅B⋅a ⋅α₁⋅α₂⋅α₃  + 18⋅B⋅a ⋅α₁⋅α₂⋅α₃ + 6⋅B⋅a ⋅α₁⋅α₃  + 6⋅B⋅a ⋅α₂ ⋅α₃ + 6⋅B⋅\n",
       "\n",
       " 7      2\n",
       "a ⋅α₂⋅α₃ "
      ]
     },
     "metadata": {},
     "output_type": "display_data"
    },
    {
     "name": "stdout",
     "output_type": "stream",
     "text": [
      "2\n"
     ]
    },
    {
     "data": {
      "image/png": "[encoded data removed]",
      "text/latex": [
       "$$- B^{3} a^{4} \\alpha_{1}^{2} \\alpha_{2} - B^{3} a^{4} \\alpha_{1}^{2} \\alpha_{3} + 2 B^{3} a^{4} \\alpha_{1}^{2} - B^{3} a^{4} \\alpha_{1} \\alpha_{2}^{2} - 12 B^{3} a^{4} \\alpha_{1} \\alpha_{2} \\alpha_{3} + 4 B^{3} a^{4} \\alpha_{1} \\alpha_{2} - B^{3} a^{4} \\alpha_{1} \\alpha_{3}^{2} + 4 B^{3} a^{4} \\alpha_{1} \\alpha_{3} - B^{3} a^{4} \\alpha_{2}^{2} \\alpha_{3} + 2 B^{3} a^{4} \\alpha_{2}^{2} - B^{3} a^{4} \\alpha_{2} \\alpha_{3}^{2} + 4 B^{3} a^{4} \\alpha_{2} \\alpha_{3} + 2 B^{3} a^{4} \\alpha_{3}^{2} - 3 B^{2} a^{5} \\alpha_{1}^{2} \\alpha_{2} - 3 B^{2} a^{5} \\alpha_{1}^{2} \\alpha_{3} + 5 B^{2} a^{5} \\alpha_{1}^{2} - 3 B^{2} a^{5} \\alpha_{1} \\alpha_{2}^{2} - 36 B^{2} a^{5} \\alpha_{1} \\alpha_{2} \\alpha_{3} + 13 B^{2} a^{5} \\alpha_{1} \\alpha_{2} - 3 B^{2} a^{5} \\alpha_{1} \\alpha_{3}^{2} + 13 B^{2} a^{5} \\alpha_{1} \\alpha_{3} - 3 B^{2} a^{5} \\alpha_{2}^{2} \\alpha_{3} + 5 B^{2} a^{5} \\alpha_{2}^{2} - 3 B^{2} a^{5} \\alpha_{2} \\alpha_{3}^{2} + 13 B^{2} a^{5} \\alpha_{2} \\alpha_{3} + 5 B^{2} a^{5} \\alpha_{3}^{2} - 2 B a^{6} \\alpha_{1}^{2} \\alpha_{2} - 2 B a^{6} \\alpha_{1}^{2} \\alpha_{3} + 3 B a^{6} \\alpha_{1}^{2} - 2 B a^{6} \\alpha_{1} \\alpha_{2}^{2} - 33 B a^{6} \\alpha_{1} \\alpha_{2} \\alpha_{3} + 12 B a^{6} \\alpha_{1} \\alpha_{2} - 2 B a^{6} \\alpha_{1} \\alpha_{3}^{2} + 12 B a^{6} \\alpha_{1} \\alpha_{3} - 2 B a^{6} \\alpha_{2}^{2} \\alpha_{3} + 3 B a^{6} \\alpha_{2}^{2} - 2 B a^{6} \\alpha_{2} \\alpha_{3}^{2} + 12 B a^{6} \\alpha_{2} \\alpha_{3} + 3 B a^{6} \\alpha_{3}^{2}$$"
      ],
      "text/plain": [
       "   3  4   2       3  4   2         3  4   2    3  4      2       3  4         \n",
       "- B ⋅a ⋅α₁ ⋅α₂ - B ⋅a ⋅α₁ ⋅α₃ + 2⋅B ⋅a ⋅α₁  - B ⋅a ⋅α₁⋅α₂  - 12⋅B ⋅a ⋅α₁⋅α₂⋅α₃\n",
       "\n",
       "      3  4          3  4      2      3  4          3  4   2         3  4   2  \n",
       " + 4⋅B ⋅a ⋅α₁⋅α₂ - B ⋅a ⋅α₁⋅α₃  + 4⋅B ⋅a ⋅α₁⋅α₃ - B ⋅a ⋅α₂ ⋅α₃ + 2⋅B ⋅a ⋅α₂  -\n",
       "\n",
       "  3  4      2      3  4            3  4   2      2  5   2         2  5   2    \n",
       " B ⋅a ⋅α₂⋅α₃  + 4⋅B ⋅a ⋅α₂⋅α₃ + 2⋅B ⋅a ⋅α₃  - 3⋅B ⋅a ⋅α₁ ⋅α₂ - 3⋅B ⋅a ⋅α₁ ⋅α₃ \n",
       "\n",
       "     2  5   2      2  5      2       2  5                2  5            2  5 \n",
       "+ 5⋅B ⋅a ⋅α₁  - 3⋅B ⋅a ⋅α₁⋅α₂  - 36⋅B ⋅a ⋅α₁⋅α₂⋅α₃ + 13⋅B ⋅a ⋅α₁⋅α₂ - 3⋅B ⋅a ⋅\n",
       "\n",
       "     2       2  5            2  5   2         2  5   2      2  5      2       \n",
       "α₁⋅α₃  + 13⋅B ⋅a ⋅α₁⋅α₃ - 3⋅B ⋅a ⋅α₂ ⋅α₃ + 5⋅B ⋅a ⋅α₂  - 3⋅B ⋅a ⋅α₂⋅α₃  + 13⋅B\n",
       "\n",
       "2  5            2  5   2        6   2           6   2           6   2        6\n",
       " ⋅a ⋅α₂⋅α₃ + 5⋅B ⋅a ⋅α₃  - 2⋅B⋅a ⋅α₁ ⋅α₂ - 2⋅B⋅a ⋅α₁ ⋅α₃ + 3⋅B⋅a ⋅α₁  - 2⋅B⋅a \n",
       "\n",
       "      2         6                  6              6      2         6          \n",
       "⋅α₁⋅α₂  - 33⋅B⋅a ⋅α₁⋅α₂⋅α₃ + 12⋅B⋅a ⋅α₁⋅α₂ - 2⋅B⋅a ⋅α₁⋅α₃  + 12⋅B⋅a ⋅α₁⋅α₃ - 2\n",
       "\n",
       "    6   2           6   2        6      2         6              6   2\n",
       "⋅B⋅a ⋅α₂ ⋅α₃ + 3⋅B⋅a ⋅α₂  - 2⋅B⋅a ⋅α₂⋅α₃  + 12⋅B⋅a ⋅α₂⋅α₃ + 3⋅B⋅a ⋅α₃ "
      ]
     },
     "metadata": {},
     "output_type": "display_data"
    },
    {
     "name": "stdout",
     "output_type": "stream",
     "text": [
      "3\n"
     ]
    },
    {
     "data": {
      "image/png": "[encoded data removed]",
      "text/latex": [
       "$$- 4 B^{2} a^{4} \\alpha_{1} \\alpha_{2} - 4 B^{2} a^{4} \\alpha_{1} \\alpha_{3} + 4 B^{2} a^{4} \\alpha_{1} - 4 B^{2} a^{4} \\alpha_{2} \\alpha_{3} + 4 B^{2} a^{4} \\alpha_{2} + 4 B^{2} a^{4} \\alpha_{3} - 6 B a^{5} \\alpha_{1} \\alpha_{2} - 6 B a^{5} \\alpha_{1} \\alpha_{3} + 6 B a^{5} \\alpha_{1} - 6 B a^{5} \\alpha_{2} \\alpha_{3} + 6 B a^{5} \\alpha_{2} + 6 B a^{5} \\alpha_{3}$$"
      ],
      "text/plain": [
       "     2  4            2  4            2  4         2  4            2  4        \n",
       "- 4⋅B ⋅a ⋅α₁⋅α₂ - 4⋅B ⋅a ⋅α₁⋅α₃ + 4⋅B ⋅a ⋅α₁ - 4⋅B ⋅a ⋅α₂⋅α₃ + 4⋅B ⋅a ⋅α₂ + 4⋅\n",
       "\n",
       " 2  4           5              5              5           5              5    \n",
       "B ⋅a ⋅α₃ - 6⋅B⋅a ⋅α₁⋅α₂ - 6⋅B⋅a ⋅α₁⋅α₃ + 6⋅B⋅a ⋅α₁ - 6⋅B⋅a ⋅α₂⋅α₃ + 6⋅B⋅a ⋅α₂ \n",
       "\n",
       "       5   \n",
       "+ 6⋅B⋅a ⋅α₃"
      ]
     },
     "metadata": {},
     "output_type": "display_data"
    },
    {
     "name": "stdout",
     "output_type": "stream",
     "text": [
      "4\n"
     ]
    },
    {
     "data": {
      "image/png": "[encoded data removed]",
      "text/latex": [
       "$$- B a^{4} \\alpha_{1} - B a^{4} \\alpha_{2} - B a^{4} \\alpha_{3} + 3 B a^{4}$$"
      ],
      "text/plain": [
       "     4         4         4           4\n",
       "- B⋅a ⋅α₁ - B⋅a ⋅α₂ - B⋅a ⋅α₃ + 3⋅B⋅a "
      ]
     },
     "metadata": {},
     "output_type": "display_data"
    }
   ],
   "source": [
    "for cn,coeff in enumerate(poly_zero.coeffs()[::-1]):\n",
    "    print(cn)\n",
    "    display(coeff)"
   ]
  },
  {
   "cell_type": "markdown",
   "metadata": {},
   "source": [
    "And it is then easy to proof that if alpha1,alpha2,alpha3>1, each of these coefficients is negative and therefore the derivative is always negative. Meaning an increase in unbinding rate leads to less expression. "
   ]
  },
  {
   "cell_type": "code",
   "execution_count": 48,
   "metadata": {},
   "outputs": [
    {
     "name": "stdout",
     "output_type": "stream",
     "text": [
      "5.80698924000057\n",
      "1.37099209057427e-8\n",
      "-1.41587230636045\n",
      "192483732.747763\n",
      "6.60357117491259e+20\n",
      "5776641.22696706\n",
      "-5.93650368039794e+17\n",
      "-54.8476648266322\n",
      "1.07062857176161e-12\n",
      "1208944.40632542\n"
     ]
    }
   ],
   "source": [
    "np.random.seed(1)\n",
    "for i in range(10):\n",
    "    parset=10**np.random.uniform(-3,3,size=6)\n",
    "    aval,kuval,kbval,alpha1val,alpha2val,alpha3val=parset\n",
    "    expr=l_rB.subs({a:aval,B:kbval,ku:kuval,alpha1:alpha1val,alpha2:alpha2val,alpha3:alpha3val})\n",
    "    print(expr)"
   ]
  },
  {
   "cell_type": "code",
   "execution_count": 51,
   "metadata": {},
   "outputs": [
    {
     "name": "stdout",
     "output_type": "stream",
     "text": [
      "pos 0 neg 10000\n"
     ]
    }
   ],
   "source": [
    "np.random.seed(2)\n",
    "pos=0\n",
    "neg=0\n",
    "for i in range(10000):\n",
    "    parset=10**np.random.uniform(-3,3,size=3)\n",
    "    aval,kuval,kbval=parset\n",
    "    alpha1val,alpha2val,alpha3val=10**np.random.uniform(0,3,size=3)\n",
    "    expr=l_rB.subs({a:aval,B:kbval,ku:kuval,alpha1:alpha1val,alpha2:alpha2val,alpha3:alpha3val})\n",
    "    if expr>0:\n",
    "        pos+=1\n",
    "    else:\n",
    "        neg+=1\n",
    "print(\"pos\",pos,\"neg\",neg)"
   ]
  },
  {
   "cell_type": "code",
   "execution_count": null,
   "metadata": {},
   "outputs": [],
   "source": []
  }
 ],
 "metadata": {
  "kernelspec": {
   "display_name": "Python 3",
   "language": "python",
   "name": "python3"
  },
  "language_info": {
   "codemirror_mode": {
    "name": "ipython",
    "version": 3
   },
   "file_extension": ".py",
   "mimetype": "text/x-python",
   "name": "python",
   "nbconvert_exporter": "python",
   "pygments_lexer": "ipython3",
   "version": "3.8.8"
  },
  "nbTranslate": {
   "displayLangs": [
    "*"
   ],
   "hotkey": "alt-t",
   "langInMainMenu": true,
   "sourceLang": "en",
   "targetLang": "fr",
   "useGoogleTranslate": true
  },
  "toc": {
   "base_numbering": 1,
   "nav_menu": {},
   "number_sections": true,
   "sideBar": true,
   "skip_h1_title": false,
   "title_cell": "Table of Contents",
   "title_sidebar": "Contents",
   "toc_cell": false,
   "toc_position": {},
   "toc_section_display": true,
   "toc_window_display": false
  }
 },
 "nbformat": 4,
 "nbformat_minor": 2
}
