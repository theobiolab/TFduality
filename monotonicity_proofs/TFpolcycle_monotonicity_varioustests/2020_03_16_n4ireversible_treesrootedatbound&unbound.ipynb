{
 "cells": [
  {
   "cell_type": "code",
   "execution_count": 1,
   "metadata": {},
   "outputs": [],
   "source": [
    "import numpy as np\n",
    "import sys, os\n",
    "sys.path.append('../../shared/utilsGRF/')\n",
    "from IPython.display import display\n",
    "import networkx as nx\n",
    "import subprocess, glob, re\n",
    "import matplotlib.pyplot as plt"
   ]
  },
  {
   "cell_type": "code",
   "execution_count": 2,
   "metadata": {},
   "outputs": [
    {
     "name": "stdout",
     "output_type": "stream",
     "text": [
      "['a4', 'a1', 'alpha2', 'ku2', 'kb3', 'a2', 'kb4', 'alpha1', 'alpha3', 'alpha4', 'kb2', 'a3', 'kb1', 'ku4', 'ku3', 'ku1']\n",
      "executing MTT\n",
      "0\n"
     ]
    }
   ],
   "source": [
    "edges=[(1,'a1',2),(2,'a2',3),(3,'a3',4),(4,'a4',1),\n",
    "       (5,'alpha1',6),(6,'alpha2',7),(7,'alpha3',8),(8,'alpha4',5),\n",
    "      (1,'kb1-x',5),(5,'ku1',1),(2,'kb2-x',6),(6,'ku2',2),(3,'kb3-x',7),(7,'ku3',3),(4,'kb4-x',8),(8,'ku4',4)]\n",
    "\n",
    "nnodes=8\n",
    "MTTfolder='../../shared/utilsGRF' #folder with MTT.py \n",
    "basename='graph'\n",
    "\n",
    "parlist=[x[1] for x in edges]\n",
    "parlist=list(set(parlist))\n",
    "\n",
    "\n",
    "for pnum,par in enumerate(parlist):\n",
    "    if '-x' in par:\n",
    "        parlist[pnum]=parlist[pnum].replace('-x','')\n",
    "print(parlist)\n",
    "\n",
    "graphname=os.path.join(MTTfolder,basename+'.txt')\n",
    "outf=open(graphname,'w')\n",
    "for x in edges:\n",
    "    x_str=list(map(str,x))\n",
    "    outf.write('('+','.join(x_str)+') ')\n",
    "outf.close()\n",
    "\n",
    "#execute_MTT(self):\n",
    "\n",
    "args=[\"python\",os.path.join(MTTfolder,'MTT.py'),graphname]\n",
    "print(\"executing MTT\")\n",
    "print(subprocess.check_call(args))\n",
    "\n",
    "\n",
    "#parse_rhos_from_graphfiles(self):\n",
    "#this was previously called rhos_from_edges\n",
    "edges=np.array(edges)\n",
    "#find files that correspond to the spanning trees\n",
    "files=glob.glob(os.path.join(MTTfolder,basename+'*'))\n",
    "pat=re.compile('[0-9]+.txt')\n",
    "n=0\n",
    "for f in files:\n",
    "    if pat.findall(f):\n",
    "        n+=1\n",
    "all_rhos=[] \n",
    "allGraphs=dict()\n",
    "allterms=dict()\n",
    "for i in range(1,n+1):\n",
    "    fname=os.path.join(MTTfolder,basename+'-%d.txt'%i)\n",
    "\n",
    "    fi=open(fname,'r')\n",
    "    rho_expr='rho_%d='%i\n",
    "    allGraphs[i]=[]\n",
    "    allterms[i]=[]\n",
    "    for lnum,l in enumerate(fi.readlines()):\n",
    "        idxs=np.array(list(map(int,l.strip().split())),dtype=bool)\n",
    "        subset=edges[idxs]\n",
    "        expr=[x[1] for x in subset] #labels that multiply together in a term of the rho\n",
    "        term='*'.join(expr)\n",
    "        if lnum<1:\n",
    "            rho_expr=rho_expr+term\n",
    "        else:\n",
    "            rho_expr=rho_expr+'+'+term\n",
    "        allterms[i].append(term)\n",
    "        #now get Graph\n",
    "        G=nx.DiGraph()\n",
    "        for edge in subset:\n",
    "            n0=int(edge[0])\n",
    "            n1=int(edge[2])\n",
    "            par=edge[1]\n",
    "            G.add_edge(n0,n1,name=par)\n",
    "            G.add_edge\n",
    "        allGraphs[i].append(G)\n",
    "        \n",
    "            \n",
    "        \n",
    "\n",
    "    all_rhos.append(rho_expr)"
   ]
  },
  {
   "cell_type": "code",
   "execution_count": 3,
   "metadata": {},
   "outputs": [],
   "source": [
    "import re\n",
    "kbpat=re.compile(\"kb\")\n",
    "alphapat=re.compile(\"alpha[0-9][^r]\")\n",
    "alpharepat=re.compile(\"alpha[0-9]r\")"
   ]
  },
  {
   "cell_type": "markdown",
   "metadata": {},
   "source": [
    "#Get mapping between trees rooted at bound state and trees rooted at unbound state:\n",
    "- if there is a binding edge to the root: change for the unbinding edge and that's it\n",
    "- if there is not a binding edge to the root: reverse minimal path. This should result in less alphas in the tree rooted at the unbound\n"
   ]
  },
  {
   "cell_type": "code",
   "execution_count": 4,
   "metadata": {},
   "outputs": [],
   "source": [
    "#the root+term number is an id for the trees"
   ]
  },
  {
   "cell_type": "code",
   "execution_count": 5,
   "metadata": {},
   "outputs": [],
   "source": [
    "\n",
    "nnodes=4\n",
    "correspondance=[]\n",
    "for node in range(nnodes+1,nnodes+1+nnodes):\n",
    "    \n",
    "    for n in range(1,nnodes+1): #for trees with n kb edges\n",
    "        \n",
    "        #Gs_b_kb=[] #trees with kb directly to root node\n",
    "        #Gs_b_nokb=[] #trees with no kb directly to root node\n",
    "        Gs_b=[]\n",
    "        IDs=[]\n",
    "        termsb=[]\n",
    "        for t,term in enumerate(allterms[node]):\n",
    "            kbs=kbpat.findall(term)\n",
    "            if len(kbs)==n:\n",
    "                G=allGraphs[node][t]\n",
    "                Gs_b.append(G)\n",
    "                IDs.append(t)\n",
    "                termsb.append(term)\n",
    "                #if \"kb%d-x\"%node in term:\n",
    "                #    Gs_b_kb.append(G)\n",
    "                #else:\n",
    "                #    Gs_b_nokb.append(G)\n",
    "        \n",
    "        #now check that for each of those trees there is a corresponding tree rooted at an unbound node\n",
    "        \n",
    "        \n",
    "        for g,G in enumerate(Gs_b):\n",
    "            \n",
    "            \n",
    "            #node_u=node-nnodes\n",
    "            #if True:\n",
    "            for node_u in range(1,nnodes+1):\n",
    "                #look if I have a tree rooted at the unbound that correspond to this graph reversing the minimal path.\n",
    "                #reversing one binding edge only\n",
    "                for t,term in enumerate(allterms[node_u]): \n",
    "                    kbs=kbpat.findall(term)\n",
    "                    if len(kbs)==(n-1): #\n",
    "                    #if True:\n",
    "                        Gu=allGraphs[node_u][t]\n",
    "                        mp=nx.shortest_path(Gu,source=node,target=node_u) #since the tree GU is spanning rooted at node_u, for sure there is a path\n",
    "                        edges_mp=[[mp[i],mp[i+1]] for i in range(len(mp)-1)]\n",
    "\n",
    "                        #get presumably corresponding tree rooted at unbound from the tree rooted at bound\n",
    "                        edgesu=[]\n",
    "                        for edge in G.edges():\n",
    "                            edge_r=[edge[1],edge[0]]\n",
    "                            if not edge_r in edges_mp:\n",
    "                                edgesu.append(\",\".join(map(str,edge)))\n",
    "                            else:\n",
    "                                edgesu.append(\",\".join(map(str,edge_r)))\n",
    "                        edgesu=set(edgesu)\n",
    "                        newedgesu=[\",\".join(map(str,x)) for x in Gu.edges()]\n",
    "\n",
    "                        newedgesu=set(newedgesu)\n",
    "                        if len(edgesu.symmetric_difference(newedgesu))==0:\n",
    "                            nalphasb=len(alphapat.findall(termsb[g]))\n",
    "                            nalphasu=len(alphapat.findall(term))\n",
    "                            if True:\n",
    "                            #if nalphasb-nalphasu>=0:\n",
    "                                correspondance.append([node,n,IDs[g],node_u,t,nalphasb-nalphasu])\n",
    "                            #print(\"Ge\",G.edges())\n",
    "                            #print(\"Gue\",Gu.edges())\n",
    "                        \n",
    "                    \n",
    "                    \n",
    "            \n",
    "                \n",
    "                        "
   ]
  },
  {
   "cell_type": "code",
   "execution_count": 6,
   "metadata": {},
   "outputs": [],
   "source": [
    "import pandas as pd"
   ]
  },
  {
   "cell_type": "code",
   "execution_count": 7,
   "metadata": {},
   "outputs": [],
   "source": [
    "df=pd.DataFrame(np.vstack(correspondance),columns=[\"node\",\"nkb\",\"IDb\",\"node_u\",\"IDu\",\"alphadif\"])\n",
    "df[\"unique_u\"]=[x[0]+\"-\"+x[1] for x in list(zip(df[\"node_u\"].astype(str),df[\"IDu\"].astype(str)))]"
   ]
  },
  {
   "cell_type": "code",
   "execution_count": 8,
   "metadata": {},
   "outputs": [
    {
     "data": {
      "text/plain": [
       "[40, 40, 40, 40, 40, 40, 40, 40]"
      ]
     },
     "execution_count": 8,
     "metadata": {},
     "output_type": "execute_result"
    }
   ],
   "source": [
    "[len(allterms[x]) for x in allterms]"
   ]
  },
  {
   "cell_type": "code",
   "execution_count": 9,
   "metadata": {},
   "outputs": [
    {
     "name": "stdout",
     "output_type": "stream",
     "text": [
      "nodeb\n",
      "not  4\n",
      "not  6\n",
      "not  10\n",
      "not  12\n",
      "not  16\n",
      "not  18\n",
      "not  20\n",
      "not  22\n",
      "not  25\n",
      "not  28\n",
      "not  35\n",
      "not  37\n",
      "not  39\n",
      "nodeb\n",
      "not  3\n",
      "not  6\n",
      "not  9\n",
      "not  12\n",
      "not  13\n",
      "not  16\n",
      "not  17\n",
      "not  20\n",
      "not  21\n",
      "not  24\n",
      "not  27\n",
      "not  30\n",
      "not  31\n",
      "nodeb\n",
      "not  5\n",
      "not  6\n",
      "not  11\n",
      "not  12\n",
      "not  15\n",
      "not  19\n",
      "not  20\n",
      "not  22\n",
      "not  23\n",
      "not  28\n",
      "not  33\n",
      "not  36\n",
      "not  39\n",
      "nodeb\n",
      "not  7\n",
      "not  8\n",
      "not  11\n",
      "not  12\n",
      "not  17\n",
      "not  18\n",
      "not  21\n",
      "not  26\n",
      "not  27\n",
      "not  30\n",
      "not  34\n",
      "not  37\n",
      "not  39\n"
     ]
    }
   ],
   "source": [
    "ntree=40\n",
    "for nodeb in range(5,5+nnodes):\n",
    "    print(\"nodeb\")\n",
    "    subdf=df[df[\"node\"]==nodeb]\n",
    "    ar=subdf[\"IDb\"].values\n",
    "    for i in range(ntree):\n",
    "        if not i in ar:\n",
    "            print(\"not \",i)"
   ]
  },
  {
   "cell_type": "code",
   "execution_count": 10,
   "metadata": {},
   "outputs": [
    {
     "name": "stdout",
     "output_type": "stream",
     "text": [
      "not  0\n",
      "not  1\n",
      "not  2\n",
      "not  3\n",
      "not  4\n",
      "not  5\n",
      "not  6\n",
      "not  13\n",
      "not  14\n",
      "not  15\n",
      "not  16\n",
      "not  17\n",
      "not  18\n",
      "not  0\n",
      "not  1\n",
      "not  2\n",
      "not  3\n",
      "not  4\n",
      "not  5\n",
      "not  6\n",
      "not  13\n",
      "not  14\n",
      "not  15\n",
      "not  16\n",
      "not  17\n",
      "not  18\n",
      "not  0\n",
      "not  1\n",
      "not  2\n",
      "not  3\n",
      "not  4\n",
      "not  5\n",
      "not  6\n",
      "not  13\n",
      "not  14\n",
      "not  15\n",
      "not  16\n",
      "not  17\n",
      "not  18\n",
      "not  0\n",
      "not  1\n",
      "not  2\n",
      "not  3\n",
      "not  4\n",
      "not  5\n",
      "not  6\n",
      "not  13\n",
      "not  14\n",
      "not  15\n",
      "not  16\n",
      "not  17\n",
      "not  18\n"
     ]
    }
   ],
   "source": [
    "\n",
    "for nodeu in range(1,1+nnodes):\n",
    "    subdf=df[df[\"node_u\"]==node_u]\n",
    "    ar=subdf[\"IDu\"].values\n",
    "    for i in range(ntree):\n",
    "        if not i in ar:\n",
    "            print(\"not \",i)"
   ]
  },
  {
   "cell_type": "code",
   "execution_count": null,
   "metadata": {},
   "outputs": [],
   "source": [
    "#Now compare trees rooted at bound with n kbs and compare to those with n-1 kbs.\n",
    "#count the alphas in one and the other\n"
   ]
  },
  {
   "cell_type": "code",
   "execution_count": 15,
   "metadata": {},
   "outputs": [
    {
     "name": "stdout",
     "output_type": "stream",
     "text": [
      "5 1 0\n",
      "5 2 0\n",
      "5 3 0\n",
      "5 4 0\n",
      "6 1 0\n",
      "6 2 0\n",
      "6 3 0\n",
      "6 4 0\n",
      "7 1 0\n",
      "7 2 0\n",
      "7 3 0\n",
      "7 4 0\n",
      "8 1 0\n",
      "8 2 0\n",
      "8 3 0\n",
      "8 4 0\n"
     ]
    }
   ],
   "source": [
    "\n",
    "nnodes=4\n",
    "correspondance=[]\n",
    "for node in range(nnodes+1,nnodes+1+nnodes):\n",
    "    \n",
    "    for n in range(1,nnodes+1): #for trees with n kb edges\n",
    "        \n",
    "        #Gs_b_kb=[] #trees with kb directly to root node\n",
    "        #Gs_b_nokb=[] #trees with no kb directly to root node\n",
    "        Gs_b=[]\n",
    "        IDs=[]\n",
    "        termsb=[]\n",
    "        nalphas=[]\n",
    "        for t,term in enumerate(allterms[node]):\n",
    "            kbs=kbpat.findall(term)\n",
    "            if len(kbs)==n:\n",
    "                G=allGraphs[node][t]\n",
    "                Gs_b.append(G)\n",
    "                IDs.append(t)\n",
    "                termsb.append(term)\n",
    "                nalpha=len(alphapat.findall(term))\n",
    "                nalphas.append(nalpha)\n",
    "                \n",
    "                #if \"kb%d-x\"%node in term:\n",
    "                #    Gs_b_kb.append(G)\n",
    "                #else:\n",
    "                #    Gs_b_nokb.append(G)\n",
    "        \n",
    "        nalphasu=[]\n",
    "        for node_u in range(1,nnodes+1):\n",
    "                \n",
    "            for t,term in enumerate(allterms[node_u]): \n",
    "                kbs=kbpat.findall(term)\n",
    "                if len(kbs)==(n-1): #\n",
    "                    nalpha=len(alphapat.findall(term))\n",
    "                    nalphasu.append(nalpha)\n",
    "                    \n",
    "        print(node,n,max(nalphasu)-max(nalphas))\n",
    "                        \n",
    "                    \n",
    "                    \n",
    "            \n",
    "                \n",
    "                        "
   ]
  },
  {
   "cell_type": "markdown",
   "metadata": {},
   "source": [
    "#Try to see if I can recover all trees rooted at the unbound nodes doing the following:\n",
    "1) Trees with an unbinding edge at the root of the unbound cycle:\n",
    "For each tree rooted at bound: pick a binding edge and reverse it\n",
    "if this was the root, the bound cycle is ok.\n",
    "If not, then need to remove the outgoing edge. If this means a subgraph remains disconnected, then add edges to connect it (this means adding alphas).\n",
    "Regarding the unbound cycle: the new edge becomes root. \n",
    "2) Trees with not unbinding edge at the root of the unbound cycle:\n"
   ]
  },
  {
   "cell_type": "code",
   "execution_count": 13,
   "metadata": {},
   "outputs": [
    {
     "data": {
      "text/plain": [
       "OutEdgeView([(2, 3), (3, 4), (4, 1), (5, 6), (6, 2), (7, 8), (8, 5)])"
      ]
     },
     "execution_count": 13,
     "metadata": {},
     "output_type": "execute_result"
    }
   ],
   "source": []
  },
  {
   "cell_type": "code",
   "execution_count": null,
   "metadata": {},
   "outputs": [],
   "source": []
  }
 ],
 "metadata": {
  "kernelspec": {
   "display_name": "Python 3",
   "language": "python",
   "name": "python3"
  },
  "language_info": {
   "codemirror_mode": {
    "name": "ipython",
    "version": 3
   },
   "file_extension": ".py",
   "mimetype": "text/x-python",
   "name": "python",
   "nbconvert_exporter": "python",
   "pygments_lexer": "ipython3",
   "version": "3.7.3"
  }
 },
 "nbformat": 4,
 "nbformat_minor": 2
}
