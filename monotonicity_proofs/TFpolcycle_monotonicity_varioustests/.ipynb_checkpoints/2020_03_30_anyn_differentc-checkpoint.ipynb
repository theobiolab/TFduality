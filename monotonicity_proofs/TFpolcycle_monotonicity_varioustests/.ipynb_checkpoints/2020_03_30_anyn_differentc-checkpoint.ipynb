{
 "cells": [
  {
   "cell_type": "code",
   "execution_count": 1,
   "metadata": {},
   "outputs": [],
   "source": [
    "import numpy as np\n",
    "import sys, os\n",
    "sys.path.append('../../shared/utilsGRF/')\n",
    "from IPython.display import display\n",
    "import networkx as nx\n",
    "import subprocess, glob, re\n",
    "import matplotlib.pyplot as plt\n",
    "import sympy\n",
    "from sympy.parsing.sympy_parser import parse_expr"
   ]
  },
  {
   "cell_type": "code",
   "execution_count": 4,
   "metadata": {},
   "outputs": [
    {
     "name": "stdout",
     "output_type": "stream",
     "text": [
      "[[1, 'a1', 2], [4, 'alpha1', 5], [1, 'kb1-x', 4], [4, 'ku1', 1], [2, 'a2', 3], [5, 'alpha2', 6], [2, 'kb2-x', 5], [5, 'ku2', 2], [3, 'a3', 1], [6, 'alpha3', 4], [3, 'kb3-x', 6], [6, 'ku3', 3]]\n"
     ]
    }
   ],
   "source": [
    "edges=[]\n",
    "nnodes_cycle=3\n",
    "replace_dict=dict()\n",
    "replace_dict_equal=dict()\n",
    "c,epsilon,kb,ku=sympy.symbols(\"c,epsilon,kb,ku\")\n",
    "for i in range(1,nnodes_cycle+1):\n",
    "    if i%nnodes_cycle!=0:\n",
    "        i2=i+1\n",
    "        #print(i)\n",
    "    else:\n",
    "        i2=i-nnodes_cycle+1\n",
    "    edges.append([i,\"a%d\"%i,i2])\n",
    "    i_=i+nnodes_cycle\n",
    "    i2_=i2+nnodes_cycle\n",
    "    edges.append([i_,\"alpha%d\"%i,i2_])\n",
    "    edges.append([i,\"kb%d-x\"%i,i_])\n",
    "    edges.append([i_,\"ku%d\"%i,i])\n",
    "    exec(\"epsilon%d=sympy.symbols(\\\"epsilon%d\\\")\"%(i,i))\n",
    "    exec(\"c%d=sympy.symbols(\\\"c%d\\\")\"%(i,i))\n",
    "    exec(\"kb%d=sympy.symbols(\\\"kb%d\\\")\"%(i,i))\n",
    "    exec(\"ku%d=sympy.symbols(\\\"ku%d\\\")\"%(i,i))\n",
    "    exec(\"a%d=sympy.symbols(\\\"a%d\\\")\"%(i,i))\n",
    "    exec(\"alpha%d=sympy.symbols(\\\"alpha%d\\\")\"%(i,i))\n",
    "    exec(\"replace_dict[a%d]=c%d\"%(i,i))\n",
    "    exec(\"replace_dict[alpha%d]=epsilon%d*c%d\"%(i,i,i))\n",
    "    exec(\"replace_dict[kb%d]=kb\"%(i))\n",
    "    exec(\"replace_dict[ku%d]=ku\"%(i))\n",
    "    exec(\"replace_dict_equal[epsilon%d]=epsilon\"%(i))\n",
    "    #exec(\"replace_dict_equal[kb%d]=kb\"%(i))\n",
    "    #exec(\"replace_dict_equal[ku%d]=ku\"%(i))\n",
    "    exec(\"replace_dict_equal[c%d]=c\"%(i))\n",
    "    exec(\"replace_dict_equal[kb%d]=kb\"%(i))\n",
    "    exec(\"replace_dict_equal[ku%d]=ku\"%(i))\n",
    "print(edges)"
   ]
  },
  {
   "cell_type": "code",
   "execution_count": 5,
   "metadata": {},
   "outputs": [
    {
     "data": {
      "text/plain": [
       "{a1: c1,\n",
       " alpha1: c1*epsilon1,\n",
       " kb1: kb,\n",
       " ku1: ku,\n",
       " a2: c2,\n",
       " alpha2: c2*epsilon2,\n",
       " kb2: kb,\n",
       " ku2: ku,\n",
       " a3: c3,\n",
       " alpha3: c3*epsilon3,\n",
       " kb3: kb,\n",
       " ku3: ku}"
      ]
     },
     "execution_count": 5,
     "metadata": {},
     "output_type": "execute_result"
    }
   ],
   "source": [
    "replace_dict"
   ]
  },
  {
   "cell_type": "code",
   "execution_count": 6,
   "metadata": {},
   "outputs": [
    {
     "name": "stdout",
     "output_type": "stream",
     "text": [
      "['a3', 'alpha3', 'ku1', 'ku2', 'a2', 'ku3', 'alpha2', 'kb3', 'alpha1', 'a1', 'kb1', 'kb2']\n",
      "executing MTT\n",
      "0\n"
     ]
    }
   ],
   "source": [
    "\n",
    "MTTfolder='../../shared/utilsGRF' #folder with MTT.py \n",
    "basename='graph'\n",
    "\n",
    "parlist=[x[1] for x in edges]\n",
    "parlist=list(set(parlist))\n",
    "\n",
    "\n",
    "for pnum,par in enumerate(parlist):\n",
    "    if '-x' in par:\n",
    "        parlist[pnum]=parlist[pnum].replace('-x','')\n",
    "print(parlist)\n",
    "\n",
    "graphname=os.path.join(MTTfolder,basename+'.txt')\n",
    "outf=open(graphname,'w')\n",
    "for x in edges:\n",
    "    x_str=list(map(str,x))\n",
    "    outf.write('('+','.join(x_str)+') ')\n",
    "outf.close()\n",
    "\n",
    "#execute_MTT(self):\n",
    "\n",
    "args=[\"python\",os.path.join(MTTfolder,'MTT.py'),graphname]\n",
    "print(\"executing MTT\")\n",
    "print(subprocess.check_call(args))\n",
    "\n",
    "\n",
    "#parse_rhos_from_graphfiles(self):\n",
    "#this was previously called rhos_from_edges\n",
    "edges=np.array(edges)\n",
    "#find files that correspond to the spanning trees\n",
    "files=glob.glob(os.path.join(MTTfolder,basename+'*'))\n",
    "pat=re.compile('[0-9]+.txt')\n",
    "n=0\n",
    "for f in files:\n",
    "    if pat.findall(f):\n",
    "        n+=1\n",
    "all_rhos=[] \n",
    "allGraphs=dict()\n",
    "allterms=dict()\n",
    "for i in range(1,n+1):\n",
    "    fname=os.path.join(MTTfolder,basename+'-%d.txt'%i)\n",
    "\n",
    "    fi=open(fname,'r')\n",
    "    rho_expr='rho_%d='%i\n",
    "    allGraphs[i]=[]\n",
    "    allterms[i]=[]\n",
    "    for lnum,l in enumerate(fi.readlines()):\n",
    "        idxs=np.array(list(map(int,l.strip().split())),dtype=bool)\n",
    "        subset=edges[idxs]\n",
    "        expr=[x[1] for x in subset] #labels that multiply together in a term of the rho\n",
    "        term='*'.join(expr)\n",
    "        if lnum<1:\n",
    "            rho_expr=rho_expr+term\n",
    "        else:\n",
    "            rho_expr=rho_expr+'+'+term\n",
    "        allterms[i].append(term)\n",
    "        #now get Graph\n",
    "        G=nx.DiGraph()\n",
    "        for edge in subset:\n",
    "            n0=int(edge[0])\n",
    "            n1=int(edge[2])\n",
    "            par=edge[1]\n",
    "            G.add_edge(n0,n1,name=par)\n",
    "            G.add_edge\n",
    "        allGraphs[i].append(G)\n",
    "        \n",
    "            \n",
    "        \n",
    "\n",
    "    all_rhos.append(rho_expr)"
   ]
  },
  {
   "cell_type": "code",
   "execution_count": 7,
   "metadata": {},
   "outputs": [],
   "source": [
    "import re\n",
    "kbpat=re.compile(\"kb\")\n",
    "alphapat=re.compile(\"alpha[0-9]\")\n",
    "#alpharepat=re.compile(\"alpha[0-9]r\")\n",
    "apat=re.compile(\"^a[0-9]|\\*a[0-9]\")\n",
    "kupat=re.compile(\"ku[0-9]\")"
   ]
  },
  {
   "cell_type": "markdown",
   "metadata": {},
   "source": [
    "#Get mapping between trees rooted at bound state and trees rooted at unbound state:\n",
    "- if there is a binding edge to the root: change for the unbinding edge and that's it\n",
    "- if there is not a binding edge to the root: same number of alphas and as but at different places?\n"
   ]
  },
  {
   "cell_type": "code",
   "execution_count": 8,
   "metadata": {},
   "outputs": [],
   "source": [
    "#the root+term number is an id for the trees"
   ]
  },
  {
   "cell_type": "code",
   "execution_count": 9,
   "metadata": {},
   "outputs": [],
   "source": [
    "nnodes=nnodes_cycle\n",
    "trees_nb=allterms[2*nnodes]\n",
    "Gs_nb=allGraphs[2*nnodes]\n",
    "trees_nu=allterms[nnodes]\n",
    "Gs_nu=allGraphs[nnodes]\n",
    "dx=5\n",
    "dy=0.2\n",
    "#coords={1:(2,0.8),2:(3,0.6),3:(4,0.4),4:(3,0.2),5:(2,0.2),6:(1,0.4),7:(0,0.6),8:(1,0.8),\n",
    "#        9:(2+dx,0.8+dy),10:(3+dx,0.6+dy),11:(4+dx,0.4+dy),12:(3+dx,0.2+dy),13:(2+dx,0.2+dy),14:(1+dx,0.4+dy),\n",
    "#        15:(0+dx,0.6+dy),16:(1+dx,0.8+dy)}\n",
    "coords={1:(2,0.8),2:(3,0.6),3:(4,0.4),4:(2.5,0.2),5:(1.5,0.2),6:(0.5,0.4),7:(1,0.6),8:(1.5,0.7)}\n",
    "coords2=coords.copy()\n",
    "for key in coords.keys():\n",
    "    k0,k1=coords[key]\n",
    "    coords2[key+nnodes]=(k0+dx,k1+dy)"
   ]
  },
  {
   "cell_type": "code",
   "execution_count": 10,
   "metadata": {},
   "outputs": [],
   "source": [
    "trees_classified=dict()\n",
    "for n in range(1,nnodes+1):\n",
    "    trees_classified[\"%du\"%n]=dict()\n",
    "    trees_classified[\"%db\"%n]=dict()\n",
    "    terms_b=allterms[nnodes+n]\n",
    "    terms_u=allterms[n]\n",
    "    for k in range(0,nnodes+1):\n",
    "        trees_classified[\"%db\"%n][k]=dict()\n",
    "        dict_=trees_classified[\"%db\"%n][k]\n",
    "        for term in terms_b:\n",
    "            kbs=kbpat.findall(term)\n",
    "            if len(kbs)==k:\n",
    "                na=len(apat.findall(term))\n",
    "                nalpha=len(alphapat.findall(term))\n",
    "                nku=len(kupat.findall(term))\n",
    "                m=nnodes-k\n",
    "                r=nku\n",
    "                D=m-r\n",
    "                key=\"D%dr%d\"%(D,r)\n",
    "                if not key in dict_.keys():\n",
    "                    dict_[key]=[]\n",
    "                term_s=parse_expr(term.replace(\"-x\",\"\"))\n",
    "                term_s=term_s.subs(replace_dict)\n",
    "                dict_[key].append(term_s)\n",
    "        trees_classified[\"%du\"%n][k]=dict()\n",
    "        dict_=trees_classified[\"%du\"%n][k]\n",
    "        for term in terms_u:\n",
    "            kbs=kbpat.findall(term)\n",
    "            if len(kbs)==k:\n",
    "                na=len(apat.findall(term))\n",
    "                nalpha=len(alphapat.findall(term))\n",
    "                nku=len(kupat.findall(term))\n",
    "                m=nnodes-k-1\n",
    "                r=nku-1\n",
    "                D=m-r\n",
    "                key=\"D%dr%dF\"%(D,r)\n",
    "                if not key in dict_.keys():\n",
    "                    dict_[key]=[]\n",
    "                term_s=parse_expr(term.replace(\"-x\",\"\"))\n",
    "                term_s=term_s.subs(replace_dict)\n",
    "                dict_[key].append(term_s)\n",
    "        \n",
    "                    \n",
    "                \n",
    "       "
   ]
  },
  {
   "cell_type": "code",
   "execution_count": 26,
   "metadata": {},
   "outputs": [],
   "source": [
    "i=1\n",
    "j=3"
   ]
  },
  {
   "cell_type": "code",
   "execution_count": 16,
   "metadata": {},
   "outputs": [
    {
     "ename": "KeyError",
     "evalue": "'D2r0'",
     "output_type": "error",
     "traceback": [
      "\u001b[0;31m---------------------------------------------------------------------------\u001b[0m",
      "\u001b[0;31mKeyError\u001b[0m                                  Traceback (most recent call last)",
      "\u001b[0;32m<ipython-input-16-0dffcbc0fcea>\u001b[0m in \u001b[0;36m<module>\u001b[0;34m\u001b[0m\n\u001b[1;32m      1\u001b[0m \u001b[0msum_d2\u001b[0m\u001b[0;34m=\u001b[0m\u001b[0;34m[\u001b[0m\u001b[0;34m]\u001b[0m\u001b[0;34m\u001b[0m\u001b[0;34m\u001b[0m\u001b[0m\n\u001b[1;32m      2\u001b[0m \u001b[0;32mfor\u001b[0m \u001b[0mnode\u001b[0m \u001b[0;32min\u001b[0m \u001b[0mrange\u001b[0m\u001b[0;34m(\u001b[0m\u001b[0;36m1\u001b[0m\u001b[0;34m,\u001b[0m\u001b[0mnnodes\u001b[0m\u001b[0;34m+\u001b[0m\u001b[0;36m1\u001b[0m\u001b[0;34m)\u001b[0m\u001b[0;34m:\u001b[0m\u001b[0;34m\u001b[0m\u001b[0;34m\u001b[0m\u001b[0m\n\u001b[0;32m----> 3\u001b[0;31m     \u001b[0mtrees\u001b[0m\u001b[0;34m=\u001b[0m\u001b[0mtrees_classified\u001b[0m\u001b[0;34m[\u001b[0m\u001b[0;34m\"%db\"\u001b[0m\u001b[0;34m%\u001b[0m\u001b[0mnode\u001b[0m\u001b[0;34m]\u001b[0m\u001b[0;34m[\u001b[0m\u001b[0mi\u001b[0m\u001b[0;34m]\u001b[0m\u001b[0;34m[\u001b[0m\u001b[0;34m\"D2r0\"\u001b[0m\u001b[0;34m]\u001b[0m\u001b[0;34m\u001b[0m\u001b[0;34m\u001b[0m\u001b[0m\n\u001b[0m\u001b[1;32m      4\u001b[0m     \u001b[0msum_d2\u001b[0m\u001b[0;34m.\u001b[0m\u001b[0mextend\u001b[0m\u001b[0;34m(\u001b[0m\u001b[0mtrees\u001b[0m\u001b[0;34m)\u001b[0m\u001b[0;34m\u001b[0m\u001b[0;34m\u001b[0m\u001b[0m\n\u001b[1;32m      5\u001b[0m \u001b[0msum_d2\u001b[0m\u001b[0;34m=\u001b[0m\u001b[0msympy\u001b[0m\u001b[0;34m.\u001b[0m\u001b[0mAdd\u001b[0m\u001b[0;34m(\u001b[0m\u001b[0;34m*\u001b[0m\u001b[0msum_d2\u001b[0m\u001b[0;34m)\u001b[0m\u001b[0;34m\u001b[0m\u001b[0;34m\u001b[0m\u001b[0m\n",
      "\u001b[0;31mKeyError\u001b[0m: 'D2r0'"
     ]
    }
   ],
   "source": [
    "sum_d2=[]\n",
    "for node in range(1,nnodes+1):\n",
    "    trees=trees_classified[\"%db\"%node][i][\"D2r0\"]\n",
    "    sum_d2.extend(trees)\n",
    "sum_d2=sympy.Add(*sum_d2)\n",
    "\n",
    "sum_d1=[]\n",
    "for node in range(1,nnodes+1):\n",
    "    trees=trees_classified[\"%db\"%node][j][\"D1r0\"]\n",
    "    sum_d1.extend(trees)\n",
    "sum_d1=sympy.Add(*sum_d1)\n",
    "\n",
    "D_n=trees_classified[\"%db\"%nnodes][j][\"D1r0\"]\n",
    "D_n=sympy.Add(*D_n)\n",
    "\n",
    "D_n2=trees_classified[\"%db\"%nnodes][i][\"D2r0\"]\n",
    "D_n2=sympy.Add(*D_n2)\n",
    "\n",
    "sum_d=[]\n",
    "sympy.expand(sum_d2*D_n*epsilon3)-sympy.expand(sum_d1*epsilon3*D_n2)"
   ]
  },
  {
   "cell_type": "code",
   "execution_count": 13,
   "metadata": {},
   "outputs": [],
   "source": [
    "#change in notation. instead of i, use l\n",
    "\n",
    "j=2\n",
    "l=1\n",
    "\n",
    "node=nnodes_cycle\n",
    "alltrees=[]\n",
    "d_=trees_classified[\"%db\"%node][j]\n",
    "for key in d_.keys():\n",
    "    alltrees.extend(d_[key])\n",
    "Phi_bj=sympy.Add(*alltrees)\n",
    "                        \n",
    "alltrees=[]\n",
    "for node in range(1,nnodes):\n",
    "    d_=trees_classified[\"%db\"%node][j]\n",
    "    for key in d_.keys():\n",
    "        alltrees.extend(d_[key])\n",
    "sum_bj=sympy.Add(*alltrees)\n",
    "\n",
    "node=nnodes_cycle\n",
    "alltrees=[]\n",
    "d_=trees_classified[\"%db\"%node][l]\n",
    "for key in d_.keys():\n",
    "    alltrees.extend(d_[key])\n",
    "Phi_bl=sympy.Add(*alltrees)\n",
    "                        \n",
    "alltrees=[]\n",
    "for node in range(1,nnodes):\n",
    "    d_=trees_classified[\"%db\"%node][l]\n",
    "    for key in d_.keys():\n",
    "        alltrees.extend(d_[key])\n",
    "sum_bl=sympy.Add(*alltrees)\n",
    "\n",
    "node=nnodes_cycle\n",
    "alltrees=[]\n",
    "d_=trees_classified[\"%du\"%node][j]\n",
    "for key in d_.keys():\n",
    "    alltrees.extend(d_[key])\n",
    "Phi_uj=sympy.Add(*alltrees)\n",
    "                        \n",
    "alltrees=[]\n",
    "for node in range(1,nnodes):\n",
    "    d_=trees_classified[\"%du\"%node][j]\n",
    "    for key in d_.keys():\n",
    "        alltrees.extend(d_[key])\n",
    "sum_uj=sympy.Add(*alltrees)\n",
    "\n",
    "node=nnodes_cycle\n",
    "alltrees=[]\n",
    "d_=trees_classified[\"%du\"%node][l]\n",
    "for key in d_.keys():\n",
    "    alltrees.extend(d_[key])\n",
    "Phi_ul=sympy.Add(*alltrees)\n",
    "                        \n",
    "alltrees=[]\n",
    "for node in range(1,nnodes):\n",
    "    d_=trees_classified[\"%du\"%node][l]\n",
    "    for key in d_.keys():\n",
    "        alltrees.extend(d_[key])\n",
    "sum_ul=sympy.Add(*alltrees)\n",
    "\n"
   ]
  },
  {
   "cell_type": "code",
   "execution_count": 14,
   "metadata": {},
   "outputs": [],
   "source": [
    "epsilon_=epsilon3\n",
    "p11=epsilon_*Phi_bj*sum_bl\n",
    "p12_1=Phi_bl*Phi_uj\n",
    "p12_2=Phi_uj*sum_bl\n",
    "p21=epsilon_*Phi_bj*sum_ul\n",
    "p_22=Phi_uj*sum_ul\n",
    "\n",
    "q11=epsilon_*Phi_bl*sum_bj\n",
    "q12_1=epsilon_*Phi_bl*Phi_uj\n",
    "q12_2=epsilon_*sum_uj*Phi_bl\n",
    "q21=sum_bj*Phi_ul\n",
    "q_22=Phi_ul*sum_uj\n"
   ]
  },
  {
   "cell_type": "code",
   "execution_count": 16,
   "metadata": {},
   "outputs": [
    {
     "data": {
      "text/latex": [
       "$\\displaystyle \\left(c_{1}^{2} c_{2} \\epsilon_{1} \\epsilon_{2} kb ku + c_{1} c_{2}^{2} \\epsilon_{1} \\epsilon_{2} kb ku + c_{1} c_{2} c_{3} \\epsilon_{1} \\epsilon_{3} kb ku + c_{1} c_{2} \\epsilon_{1} kb ku^{2} + c_{1} c_{2} \\epsilon_{2} kb ku^{2}\\right) \\left(c_{1}^{2} c_{3} \\epsilon_{1} \\epsilon_{3} kb^{2} + c_{1} c_{2} c_{3} \\epsilon_{1} \\epsilon_{3} kb^{2} + c_{1} c_{2} c_{3} \\epsilon_{2} \\epsilon_{3} kb^{2} + c_{1} c_{3}^{2} \\epsilon_{1} \\epsilon_{3} kb^{2} + c_{1} c_{3} \\epsilon_{1} kb^{2} ku + c_{1} c_{3} \\epsilon_{3} kb^{2} ku + c_{2}^{2} c_{3} \\epsilon_{2} \\epsilon_{3} kb^{2} + c_{2} c_{3}^{2} \\epsilon_{2} \\epsilon_{3} kb^{2} + c_{2} c_{3} \\epsilon_{2} kb^{2} ku + c_{2} c_{3} \\epsilon_{3} kb^{2} ku\\right)$"
      ],
      "text/plain": [
       "(c1**2*c2*epsilon1*epsilon2*kb*ku + c1*c2**2*epsilon1*epsilon2*kb*ku + c1*c2*c3*epsilon1*epsilon3*kb*ku + c1*c2*epsilon1*kb*ku**2 + c1*c2*epsilon2*kb*ku**2)*(c1**2*c3*epsilon1*epsilon3*kb**2 + c1*c2*c3*epsilon1*epsilon3*kb**2 + c1*c2*c3*epsilon2*epsilon3*kb**2 + c1*c3**2*epsilon1*epsilon3*kb**2 + c1*c3*epsilon1*kb**2*ku + c1*c3*epsilon3*kb**2*ku + c2**2*c3*epsilon2*epsilon3*kb**2 + c2*c3**2*epsilon2*epsilon3*kb**2 + c2*c3*epsilon2*kb**2*ku + c2*c3*epsilon3*kb**2*ku)"
      ]
     },
     "execution_count": 16,
     "metadata": {},
     "output_type": "execute_result"
    }
   ],
   "source": [
    "q21"
   ]
  },
  {
   "cell_type": "code",
   "execution_count": 17,
   "metadata": {},
   "outputs": [
    {
     "data": {
      "text/latex": [
       "$\\displaystyle \\epsilon_{3} \\left(c_{1}^{2} c_{2} \\epsilon_{1} \\epsilon_{2} kb^{2} + c_{1} c_{2}^{2} \\epsilon_{1} \\epsilon_{2} kb^{2} + c_{1} c_{2} c_{3} \\epsilon_{1} \\epsilon_{2} kb^{2} + c_{1} c_{2} \\epsilon_{1} kb^{2} ku + c_{1} c_{2} \\epsilon_{2} kb^{2} ku\\right) \\left(c_{1}^{2} c_{3} \\epsilon_{1} \\epsilon_{3} kb ku + c_{1} c_{2} c_{3} \\epsilon_{1} \\epsilon_{2} kb ku + c_{1} c_{2} c_{3} \\epsilon_{2} \\epsilon_{3} kb ku + c_{1} c_{3}^{2} \\epsilon_{1} \\epsilon_{3} kb ku + c_{1} c_{3} \\epsilon_{1} kb ku^{2} + c_{1} c_{3} \\epsilon_{3} kb ku^{2} + c_{2}^{2} c_{3} \\epsilon_{2} \\epsilon_{3} kb ku + c_{2} c_{3}^{2} \\epsilon_{2} \\epsilon_{3} kb ku + c_{2} c_{3} \\epsilon_{2} kb ku^{2} + c_{2} c_{3} \\epsilon_{3} kb ku^{2}\\right)$"
      ],
      "text/plain": [
       "epsilon3*(c1**2*c2*epsilon1*epsilon2*kb**2 + c1*c2**2*epsilon1*epsilon2*kb**2 + c1*c2*c3*epsilon1*epsilon2*kb**2 + c1*c2*epsilon1*kb**2*ku + c1*c2*epsilon2*kb**2*ku)*(c1**2*c3*epsilon1*epsilon3*kb*ku + c1*c2*c3*epsilon1*epsilon2*kb*ku + c1*c2*c3*epsilon2*epsilon3*kb*ku + c1*c3**2*epsilon1*epsilon3*kb*ku + c1*c3*epsilon1*kb*ku**2 + c1*c3*epsilon3*kb*ku**2 + c2**2*c3*epsilon2*epsilon3*kb*ku + c2*c3**2*epsilon2*epsilon3*kb*ku + c2*c3*epsilon2*kb*ku**2 + c2*c3*epsilon3*kb*ku**2)"
      ]
     },
     "execution_count": 17,
     "metadata": {},
     "output_type": "execute_result"
    }
   ],
   "source": [
    "p21"
   ]
  },
  {
   "cell_type": "code",
   "execution_count": 19,
   "metadata": {},
   "outputs": [
    {
     "data": {
      "text/latex": [
       "$\\displaystyle - c_{1}^{4} c_{2}^{2} c_{3} \\epsilon_{1}^{2} \\epsilon_{2} \\epsilon_{3}^{2} kb^{3} - c_{1}^{4} c_{2} c_{3}^{2} \\epsilon_{1}^{2} \\epsilon_{2} \\epsilon_{3}^{2} kb^{3} + c_{1}^{4} c_{2} c_{3} ku \\left(\\epsilon_{1}^{2} \\epsilon_{2} \\epsilon_{3}^{2} kb^{3} - \\epsilon_{1}^{2} \\epsilon_{3}^{2} kb^{3}\\right) - c_{1}^{3} c_{2}^{3} c_{3} \\epsilon_{1}^{2} \\epsilon_{2} \\epsilon_{3}^{2} kb^{3} - c_{1}^{3} c_{2}^{3} c_{3} \\epsilon_{1} \\epsilon_{2}^{2} \\epsilon_{3}^{2} kb^{3} - 3 c_{1}^{3} c_{2}^{2} c_{3}^{2} \\epsilon_{1}^{2} \\epsilon_{2} \\epsilon_{3}^{2} kb^{3} - c_{1}^{3} c_{2}^{2} c_{3}^{2} \\epsilon_{1} \\epsilon_{2}^{2} \\epsilon_{3}^{2} kb^{3} + c_{1}^{3} c_{2}^{2} c_{3} ku \\left(\\epsilon_{1}^{2} \\epsilon_{2}^{2} \\epsilon_{3} kb^{3} + \\epsilon_{1}^{2} \\epsilon_{2} \\epsilon_{3}^{2} kb^{3} - \\epsilon_{1}^{2} \\epsilon_{2} \\epsilon_{3} kb^{3} - \\epsilon_{1}^{2} \\epsilon_{3}^{2} kb^{3} + \\epsilon_{1} \\epsilon_{2}^{2} \\epsilon_{3}^{2} kb^{3} - 3 \\epsilon_{1} \\epsilon_{2} \\epsilon_{3}^{2} kb^{3}\\right) - c_{1}^{3} c_{2} c_{3}^{3} \\epsilon_{1}^{2} \\epsilon_{2} \\epsilon_{3}^{2} kb^{3} + c_{1}^{3} c_{2} c_{3}^{2} ku \\left(2 \\epsilon_{1}^{2} \\epsilon_{2} \\epsilon_{3}^{2} kb^{3} - \\epsilon_{1}^{2} \\epsilon_{2} \\epsilon_{3} kb^{3} - \\epsilon_{1}^{2} \\epsilon_{3}^{2} kb^{3} - 2 \\epsilon_{1} \\epsilon_{2} \\epsilon_{3}^{2} kb^{3}\\right) + c_{1}^{3} c_{2} c_{3} ku^{2} \\left(\\epsilon_{1}^{2} \\epsilon_{2} \\epsilon_{3} kb^{3} + \\epsilon_{1}^{2} \\epsilon_{3}^{2} kb^{3} - \\epsilon_{1}^{2} \\epsilon_{3} kb^{3} + 2 \\epsilon_{1} \\epsilon_{2} \\epsilon_{3}^{2} kb^{3} - 2 \\epsilon_{1} \\epsilon_{3}^{2} kb^{3}\\right) - c_{1}^{2} c_{2}^{4} c_{3} \\epsilon_{1} \\epsilon_{2}^{2} \\epsilon_{3}^{2} kb^{3} - c_{1}^{2} c_{2}^{3} c_{3}^{2} \\epsilon_{1}^{2} \\epsilon_{2} \\epsilon_{3}^{2} kb^{3} - 3 c_{1}^{2} c_{2}^{3} c_{3}^{2} \\epsilon_{1} \\epsilon_{2}^{2} \\epsilon_{3}^{2} kb^{3} + c_{1}^{2} c_{2}^{3} c_{3} ku \\left(\\epsilon_{1}^{2} \\epsilon_{2}^{2} \\epsilon_{3} kb^{3} + 2 \\epsilon_{1} \\epsilon_{2}^{2} \\epsilon_{3}^{2} kb^{3} - \\epsilon_{1} \\epsilon_{2}^{2} \\epsilon_{3} kb^{3} - 3 \\epsilon_{1} \\epsilon_{2} \\epsilon_{3}^{2} kb^{3} - \\epsilon_{2}^{2} \\epsilon_{3}^{2} kb^{3}\\right) - c_{1}^{2} c_{2}^{2} c_{3}^{3} \\epsilon_{1}^{2} \\epsilon_{2} \\epsilon_{3}^{2} kb^{3} - c_{1}^{2} c_{2}^{2} c_{3}^{3} \\epsilon_{1} \\epsilon_{2}^{2} \\epsilon_{3}^{2} kb^{3} + c_{1}^{2} c_{2}^{2} c_{3}^{2} ku \\left(\\epsilon_{1}^{2} \\epsilon_{2}^{2} \\epsilon_{3} kb^{3} + \\epsilon_{1}^{2} \\epsilon_{2} \\epsilon_{3}^{2} kb^{3} - \\epsilon_{1}^{2} \\epsilon_{2} \\epsilon_{3} kb^{3} + 2 \\epsilon_{1} \\epsilon_{2}^{2} \\epsilon_{3}^{2} kb^{3} - \\epsilon_{1} \\epsilon_{2}^{2} \\epsilon_{3} kb^{3} - 5 \\epsilon_{1} \\epsilon_{2} \\epsilon_{3}^{2} kb^{3} - \\epsilon_{2}^{2} \\epsilon_{3}^{2} kb^{3}\\right) + c_{1}^{2} c_{2}^{2} c_{3} ku^{2} \\left(2 \\epsilon_{1}^{2} \\epsilon_{2} \\epsilon_{3} kb^{3} + 2 \\epsilon_{1} \\epsilon_{2}^{2} \\epsilon_{3} kb^{3} + 3 \\epsilon_{1} \\epsilon_{2} \\epsilon_{3}^{2} kb^{3} - 2 \\epsilon_{1} \\epsilon_{2} \\epsilon_{3} kb^{3} - 2 \\epsilon_{1} \\epsilon_{3}^{2} kb^{3} + \\epsilon_{2}^{2} \\epsilon_{3}^{2} kb^{3} - 2 \\epsilon_{2} \\epsilon_{3}^{2} kb^{3}\\right) + c_{1}^{2} c_{2} c_{3}^{3} ku \\left(\\epsilon_{1}^{2} \\epsilon_{2} \\epsilon_{3}^{2} kb^{3} - \\epsilon_{1} \\epsilon_{2} \\epsilon_{3}^{2} kb^{3}\\right) + c_{1}^{2} c_{2} c_{3}^{2} ku^{2} \\left(\\epsilon_{1}^{2} \\epsilon_{2} \\epsilon_{3} kb^{3} + \\epsilon_{1}^{2} \\epsilon_{3}^{2} kb^{3} + 2 \\epsilon_{1} \\epsilon_{2} \\epsilon_{3}^{2} kb^{3} - \\epsilon_{1} \\epsilon_{2} \\epsilon_{3} kb^{3} - \\epsilon_{1} \\epsilon_{3}^{2} kb^{3} - \\epsilon_{2} \\epsilon_{3}^{2} kb^{3}\\right) + c_{1}^{2} c_{2} c_{3} ku^{3} \\left(\\epsilon_{1}^{2} \\epsilon_{3} kb^{3} + \\epsilon_{1} \\epsilon_{2} \\epsilon_{3} kb^{3} + \\epsilon_{1} \\epsilon_{3}^{2} kb^{3} - \\epsilon_{1} \\epsilon_{3} kb^{3} + \\epsilon_{2} \\epsilon_{3}^{2} kb^{3} - \\epsilon_{3}^{2} kb^{3}\\right) - c_{1} c_{2}^{4} c_{3}^{2} \\epsilon_{1} \\epsilon_{2}^{2} \\epsilon_{3}^{2} kb^{3} + c_{1} c_{2}^{4} c_{3} ku \\left(\\epsilon_{1} \\epsilon_{2}^{2} \\epsilon_{3}^{2} kb^{3} - \\epsilon_{2}^{2} \\epsilon_{3}^{2} kb^{3}\\right) - c_{1} c_{2}^{3} c_{3}^{3} \\epsilon_{1} \\epsilon_{2}^{2} \\epsilon_{3}^{2} kb^{3} + c_{1} c_{2}^{3} c_{3}^{2} ku \\left(2 \\epsilon_{1} \\epsilon_{2}^{2} \\epsilon_{3}^{2} kb^{3} - \\epsilon_{1} \\epsilon_{2}^{2} \\epsilon_{3} kb^{3} - \\epsilon_{1} \\epsilon_{2} \\epsilon_{3}^{2} kb^{3} - 2 \\epsilon_{2}^{2} \\epsilon_{3}^{2} kb^{3}\\right) + c_{1} c_{2}^{3} c_{3} ku^{2} \\left(\\epsilon_{1} \\epsilon_{2}^{2} \\epsilon_{3} kb^{3} + 2 \\epsilon_{1} \\epsilon_{2} \\epsilon_{3}^{2} kb^{3} + \\epsilon_{2}^{2} \\epsilon_{3}^{2} kb^{3} - \\epsilon_{2}^{2} \\epsilon_{3} kb^{3} - 2 \\epsilon_{2} \\epsilon_{3}^{2} kb^{3}\\right) + c_{1} c_{2}^{2} c_{3}^{3} ku \\left(\\epsilon_{1} \\epsilon_{2}^{2} \\epsilon_{3}^{2} kb^{3} - \\epsilon_{2}^{2} \\epsilon_{3}^{2} kb^{3}\\right) + c_{1} c_{2}^{2} c_{3}^{2} ku^{2} \\left(\\epsilon_{1} \\epsilon_{2}^{2} \\epsilon_{3} kb^{3} + 2 \\epsilon_{1} \\epsilon_{2} \\epsilon_{3}^{2} kb^{3} + \\epsilon_{2}^{2} \\epsilon_{3}^{2} kb^{3} - \\epsilon_{2}^{2} \\epsilon_{3} kb^{3} - 2 \\epsilon_{2} \\epsilon_{3}^{2} kb^{3}\\right) + c_{1} c_{2}^{2} c_{3} ku^{3} \\left(\\epsilon_{1} \\epsilon_{2} \\epsilon_{3} kb^{3} + \\epsilon_{1} \\epsilon_{3}^{2} kb^{3} + \\epsilon_{2}^{2} \\epsilon_{3} kb^{3} + \\epsilon_{2} \\epsilon_{3}^{2} kb^{3} - \\epsilon_{2} \\epsilon_{3} kb^{3} - \\epsilon_{3}^{2} kb^{3}\\right)$"
      ],
      "text/plain": [
       "-c1**4*c2**2*c3*epsilon1**2*epsilon2*epsilon3**2*kb**3 - c1**4*c2*c3**2*epsilon1**2*epsilon2*epsilon3**2*kb**3 + c1**4*c2*c3*ku*(epsilon1**2*epsilon2*epsilon3**2*kb**3 - epsilon1**2*epsilon3**2*kb**3) - c1**3*c2**3*c3*epsilon1**2*epsilon2*epsilon3**2*kb**3 - c1**3*c2**3*c3*epsilon1*epsilon2**2*epsilon3**2*kb**3 - 3*c1**3*c2**2*c3**2*epsilon1**2*epsilon2*epsilon3**2*kb**3 - c1**3*c2**2*c3**2*epsilon1*epsilon2**2*epsilon3**2*kb**3 + c1**3*c2**2*c3*ku*(epsilon1**2*epsilon2**2*epsilon3*kb**3 + epsilon1**2*epsilon2*epsilon3**2*kb**3 - epsilon1**2*epsilon2*epsilon3*kb**3 - epsilon1**2*epsilon3**2*kb**3 + epsilon1*epsilon2**2*epsilon3**2*kb**3 - 3*epsilon1*epsilon2*epsilon3**2*kb**3) - c1**3*c2*c3**3*epsilon1**2*epsilon2*epsilon3**2*kb**3 + c1**3*c2*c3**2*ku*(2*epsilon1**2*epsilon2*epsilon3**2*kb**3 - epsilon1**2*epsilon2*epsilon3*kb**3 - epsilon1**2*epsilon3**2*kb**3 - 2*epsilon1*epsilon2*epsilon3**2*kb**3) + c1**3*c2*c3*ku**2*(epsilon1**2*epsilon2*epsilon3*kb**3 + epsilon1**2*epsilon3**2*kb**3 - epsilon1**2*epsilon3*kb**3 + 2*epsilon1*epsilon2*epsilon3**2*kb**3 - 2*epsilon1*epsilon3**2*kb**3) - c1**2*c2**4*c3*epsilon1*epsilon2**2*epsilon3**2*kb**3 - c1**2*c2**3*c3**2*epsilon1**2*epsilon2*epsilon3**2*kb**3 - 3*c1**2*c2**3*c3**2*epsilon1*epsilon2**2*epsilon3**2*kb**3 + c1**2*c2**3*c3*ku*(epsilon1**2*epsilon2**2*epsilon3*kb**3 + 2*epsilon1*epsilon2**2*epsilon3**2*kb**3 - epsilon1*epsilon2**2*epsilon3*kb**3 - 3*epsilon1*epsilon2*epsilon3**2*kb**3 - epsilon2**2*epsilon3**2*kb**3) - c1**2*c2**2*c3**3*epsilon1**2*epsilon2*epsilon3**2*kb**3 - c1**2*c2**2*c3**3*epsilon1*epsilon2**2*epsilon3**2*kb**3 + c1**2*c2**2*c3**2*ku*(epsilon1**2*epsilon2**2*epsilon3*kb**3 + epsilon1**2*epsilon2*epsilon3**2*kb**3 - epsilon1**2*epsilon2*epsilon3*kb**3 + 2*epsilon1*epsilon2**2*epsilon3**2*kb**3 - epsilon1*epsilon2**2*epsilon3*kb**3 - 5*epsilon1*epsilon2*epsilon3**2*kb**3 - epsilon2**2*epsilon3**2*kb**3) + c1**2*c2**2*c3*ku**2*(2*epsilon1**2*epsilon2*epsilon3*kb**3 + 2*epsilon1*epsilon2**2*epsilon3*kb**3 + 3*epsilon1*epsilon2*epsilon3**2*kb**3 - 2*epsilon1*epsilon2*epsilon3*kb**3 - 2*epsilon1*epsilon3**2*kb**3 + epsilon2**2*epsilon3**2*kb**3 - 2*epsilon2*epsilon3**2*kb**3) + c1**2*c2*c3**3*ku*(epsilon1**2*epsilon2*epsilon3**2*kb**3 - epsilon1*epsilon2*epsilon3**2*kb**3) + c1**2*c2*c3**2*ku**2*(epsilon1**2*epsilon2*epsilon3*kb**3 + epsilon1**2*epsilon3**2*kb**3 + 2*epsilon1*epsilon2*epsilon3**2*kb**3 - epsilon1*epsilon2*epsilon3*kb**3 - epsilon1*epsilon3**2*kb**3 - epsilon2*epsilon3**2*kb**3) + c1**2*c2*c3*ku**3*(epsilon1**2*epsilon3*kb**3 + epsilon1*epsilon2*epsilon3*kb**3 + epsilon1*epsilon3**2*kb**3 - epsilon1*epsilon3*kb**3 + epsilon2*epsilon3**2*kb**3 - epsilon3**2*kb**3) - c1*c2**4*c3**2*epsilon1*epsilon2**2*epsilon3**2*kb**3 + c1*c2**4*c3*ku*(epsilon1*epsilon2**2*epsilon3**2*kb**3 - epsilon2**2*epsilon3**2*kb**3) - c1*c2**3*c3**3*epsilon1*epsilon2**2*epsilon3**2*kb**3 + c1*c2**3*c3**2*ku*(2*epsilon1*epsilon2**2*epsilon3**2*kb**3 - epsilon1*epsilon2**2*epsilon3*kb**3 - epsilon1*epsilon2*epsilon3**2*kb**3 - 2*epsilon2**2*epsilon3**2*kb**3) + c1*c2**3*c3*ku**2*(epsilon1*epsilon2**2*epsilon3*kb**3 + 2*epsilon1*epsilon2*epsilon3**2*kb**3 + epsilon2**2*epsilon3**2*kb**3 - epsilon2**2*epsilon3*kb**3 - 2*epsilon2*epsilon3**2*kb**3) + c1*c2**2*c3**3*ku*(epsilon1*epsilon2**2*epsilon3**2*kb**3 - epsilon2**2*epsilon3**2*kb**3) + c1*c2**2*c3**2*ku**2*(epsilon1*epsilon2**2*epsilon3*kb**3 + 2*epsilon1*epsilon2*epsilon3**2*kb**3 + epsilon2**2*epsilon3**2*kb**3 - epsilon2**2*epsilon3*kb**3 - 2*epsilon2*epsilon3**2*kb**3) + c1*c2**2*c3*ku**3*(epsilon1*epsilon2*epsilon3*kb**3 + epsilon1*epsilon3**2*kb**3 + epsilon2**2*epsilon3*kb**3 + epsilon2*epsilon3**2*kb**3 - epsilon2*epsilon3*kb**3 - epsilon3**2*kb**3)"
      ]
     },
     "execution_count": 19,
     "metadata": {},
     "output_type": "execute_result"
    }
   ],
   "source": [
    "sympy.collect(sympy.expand(p21)-sympy.expand(q11),ku*c1*c2*c3)"
   ]
  },
  {
   "cell_type": "code",
   "execution_count": 35,
   "metadata": {
    "scrolled": false
   },
   "outputs": [
    {
     "name": "stdout",
     "output_type": "stream",
     "text": [
      ".\n"
     ]
    },
    {
     "data": {
      "text/latex": [
       "$\\displaystyle c_{1} c_{2}^{3} c_{3}^{4} c_{4} \\epsilon_{2}^{2} \\epsilon_{3}^{2} \\epsilon_{4}^{2} kb^{4} ku \\left(\\epsilon_{1} - 1\\right)$"
      ],
      "text/plain": [
       "c1*c2**3*c3**4*c4*epsilon2**2*epsilon3**2*epsilon4**2*kb**4*ku*(epsilon1 - 1)"
      ]
     },
     "metadata": {},
     "output_type": "display_data"
    },
    {
     "name": "stdout",
     "output_type": "stream",
     "text": [
      ".\n"
     ]
    },
    {
     "data": {
      "text/latex": [
       "$\\displaystyle c_{1} c_{2}^{4} c_{3}^{3} c_{4} \\epsilon_{2}^{2} \\epsilon_{3}^{2} \\epsilon_{4}^{2} kb^{4} ku \\left(\\epsilon_{1} - 1\\right)$"
      ],
      "text/plain": [
       "c1*c2**4*c3**3*c4*epsilon2**2*epsilon3**2*epsilon4**2*kb**4*ku*(epsilon1 - 1)"
      ]
     },
     "metadata": {},
     "output_type": "display_data"
    },
    {
     "name": "stdout",
     "output_type": "stream",
     "text": [
      ".\n"
     ]
    },
    {
     "data": {
      "text/latex": [
       "$\\displaystyle c_{1} c_{2}^{2} c_{3}^{2} c_{4} kb^{4} ku^{4} \\left(\\epsilon_{1} \\epsilon_{2}^{2} \\epsilon_{4} + 2 \\epsilon_{1} \\epsilon_{2} \\epsilon_{3} \\epsilon_{4} - \\epsilon_{1} \\epsilon_{2} \\epsilon_{3} + \\epsilon_{1} \\epsilon_{2} \\epsilon_{4}^{2} + \\epsilon_{1} \\epsilon_{3}^{2} \\epsilon_{4} + \\epsilon_{1} \\epsilon_{3} \\epsilon_{4}^{2} + \\epsilon_{2}^{2} \\epsilon_{3} \\epsilon_{4} - \\epsilon_{2}^{2} \\epsilon_{3} - \\epsilon_{2}^{2} \\epsilon_{4} + \\epsilon_{2} \\epsilon_{3}^{2} \\epsilon_{4} - \\epsilon_{2} \\epsilon_{3}^{2} + \\epsilon_{2} \\epsilon_{3} \\epsilon_{4}^{2} - 2 \\epsilon_{2} \\epsilon_{3} \\epsilon_{4} - \\epsilon_{2} \\epsilon_{4}^{2} - \\epsilon_{3}^{2} \\epsilon_{4} - \\epsilon_{3} \\epsilon_{4}^{2}\\right)$"
      ],
      "text/plain": [
       "c1*c2**2*c3**2*c4*kb**4*ku**4*(epsilon1*epsilon2**2*epsilon4 + 2*epsilon1*epsilon2*epsilon3*epsilon4 - epsilon1*epsilon2*epsilon3 + epsilon1*epsilon2*epsilon4**2 + epsilon1*epsilon3**2*epsilon4 + epsilon1*epsilon3*epsilon4**2 + epsilon2**2*epsilon3*epsilon4 - epsilon2**2*epsilon3 - epsilon2**2*epsilon4 + epsilon2*epsilon3**2*epsilon4 - epsilon2*epsilon3**2 + epsilon2*epsilon3*epsilon4**2 - 2*epsilon2*epsilon3*epsilon4 - epsilon2*epsilon4**2 - epsilon3**2*epsilon4 - epsilon3*epsilon4**2)"
      ]
     },
     "metadata": {},
     "output_type": "display_data"
    },
    {
     "name": "stdout",
     "output_type": "stream",
     "text": [
      ".\n"
     ]
    },
    {
     "data": {
      "text/latex": [
       "$\\displaystyle c_{1} c_{2}^{2} c_{3}^{3} c_{4} \\epsilon_{3} kb^{4} ku^{3} \\left(2 \\epsilon_{1} \\epsilon_{2}^{2} \\epsilon_{4} + 2 \\epsilon_{1} \\epsilon_{2} \\epsilon_{3} \\epsilon_{4} - \\epsilon_{1} \\epsilon_{2} \\epsilon_{3} + 2 \\epsilon_{1} \\epsilon_{2} \\epsilon_{4}^{2} + \\epsilon_{1} \\epsilon_{3} \\epsilon_{4}^{2} + \\epsilon_{2}^{2} \\epsilon_{3} \\epsilon_{4} - \\epsilon_{2}^{2} \\epsilon_{3} - 2 \\epsilon_{2}^{2} \\epsilon_{4} + \\epsilon_{2} \\epsilon_{3} \\epsilon_{4}^{2} - 2 \\epsilon_{2} \\epsilon_{3} \\epsilon_{4} - 2 \\epsilon_{2} \\epsilon_{4}^{2} - \\epsilon_{3} \\epsilon_{4}^{2}\\right)$"
      ],
      "text/plain": [
       "c1*c2**2*c3**3*c4*epsilon3*kb**4*ku**3*(2*epsilon1*epsilon2**2*epsilon4 + 2*epsilon1*epsilon2*epsilon3*epsilon4 - epsilon1*epsilon2*epsilon3 + 2*epsilon1*epsilon2*epsilon4**2 + epsilon1*epsilon3*epsilon4**2 + epsilon2**2*epsilon3*epsilon4 - epsilon2**2*epsilon3 - 2*epsilon2**2*epsilon4 + epsilon2*epsilon3*epsilon4**2 - 2*epsilon2*epsilon3*epsilon4 - 2*epsilon2*epsilon4**2 - epsilon3*epsilon4**2)"
      ]
     },
     "metadata": {},
     "output_type": "display_data"
    },
    {
     "name": "stdout",
     "output_type": "stream",
     "text": [
      ".\n"
     ]
    },
    {
     "data": {
      "text/latex": [
       "$\\displaystyle c_{1} c_{2}^{2} c_{3}^{4} c_{4} \\epsilon_{2} \\epsilon_{3}^{2} \\epsilon_{4} kb^{4} ku^{2} \\left(\\epsilon_{1} - 1\\right) \\left(\\epsilon_{2} + \\epsilon_{4}\\right)$"
      ],
      "text/plain": [
       "c1*c2**2*c3**4*c4*epsilon2*epsilon3**2*epsilon4*kb**4*ku**2*(epsilon1 - 1)*(epsilon2 + epsilon4)"
      ]
     },
     "metadata": {},
     "output_type": "display_data"
    },
    {
     "name": "stdout",
     "output_type": "stream",
     "text": [
      ".\n"
     ]
    },
    {
     "data": {
      "text/latex": [
       "$\\displaystyle c_{1} c_{2}^{3} c_{3}^{2} c_{4} \\epsilon_{2} kb^{4} ku^{3} \\left(2 \\epsilon_{1} \\epsilon_{2} \\epsilon_{3} \\epsilon_{4} - \\epsilon_{1} \\epsilon_{2} \\epsilon_{3} + \\epsilon_{1} \\epsilon_{2} \\epsilon_{4}^{2} + 2 \\epsilon_{1} \\epsilon_{3}^{2} \\epsilon_{4} + 2 \\epsilon_{1} \\epsilon_{3} \\epsilon_{4}^{2} + \\epsilon_{2} \\epsilon_{3}^{2} \\epsilon_{4} - \\epsilon_{2} \\epsilon_{3}^{2} + \\epsilon_{2} \\epsilon_{3} \\epsilon_{4}^{2} - 2 \\epsilon_{2} \\epsilon_{3} \\epsilon_{4} - \\epsilon_{2} \\epsilon_{4}^{2} - 2 \\epsilon_{3}^{2} \\epsilon_{4} - 2 \\epsilon_{3} \\epsilon_{4}^{2}\\right)$"
      ],
      "text/plain": [
       "c1*c2**3*c3**2*c4*epsilon2*kb**4*ku**3*(2*epsilon1*epsilon2*epsilon3*epsilon4 - epsilon1*epsilon2*epsilon3 + epsilon1*epsilon2*epsilon4**2 + 2*epsilon1*epsilon3**2*epsilon4 + 2*epsilon1*epsilon3*epsilon4**2 + epsilon2*epsilon3**2*epsilon4 - epsilon2*epsilon3**2 + epsilon2*epsilon3*epsilon4**2 - 2*epsilon2*epsilon3*epsilon4 - epsilon2*epsilon4**2 - 2*epsilon3**2*epsilon4 - 2*epsilon3*epsilon4**2)"
      ]
     },
     "metadata": {},
     "output_type": "display_data"
    },
    {
     "name": "stdout",
     "output_type": "stream",
     "text": [
      ".\n"
     ]
    },
    {
     "data": {
      "text/latex": [
       "$\\displaystyle c_{1} c_{2}^{3} c_{3}^{3} c_{4} \\epsilon_{2} \\epsilon_{3} kb^{4} ku^{2} \\left(2 \\epsilon_{1} \\epsilon_{2} \\epsilon_{3} \\epsilon_{4} - \\epsilon_{1} \\epsilon_{2} \\epsilon_{3} + 2 \\epsilon_{1} \\epsilon_{2} \\epsilon_{4}^{2} + 2 \\epsilon_{1} \\epsilon_{3} \\epsilon_{4}^{2} + \\epsilon_{2} \\epsilon_{3} \\epsilon_{4}^{2} - 2 \\epsilon_{2} \\epsilon_{3} \\epsilon_{4} - 2 \\epsilon_{2} \\epsilon_{4}^{2} - 2 \\epsilon_{3} \\epsilon_{4}^{2}\\right)$"
      ],
      "text/plain": [
       "c1*c2**3*c3**3*c4*epsilon2*epsilon3*kb**4*ku**2*(2*epsilon1*epsilon2*epsilon3*epsilon4 - epsilon1*epsilon2*epsilon3 + 2*epsilon1*epsilon2*epsilon4**2 + 2*epsilon1*epsilon3*epsilon4**2 + epsilon2*epsilon3*epsilon4**2 - 2*epsilon2*epsilon3*epsilon4 - 2*epsilon2*epsilon4**2 - 2*epsilon3*epsilon4**2)"
      ]
     },
     "metadata": {},
     "output_type": "display_data"
    },
    {
     "name": "stdout",
     "output_type": "stream",
     "text": [
      ".\n"
     ]
    },
    {
     "data": {
      "text/latex": [
       "$\\displaystyle c_{1} c_{2}^{4} c_{3}^{2} c_{4} \\epsilon_{2}^{2} \\epsilon_{3} \\epsilon_{4} kb^{4} ku^{2} \\left(\\epsilon_{1} - 1\\right) \\left(\\epsilon_{3} + \\epsilon_{4}\\right)$"
      ],
      "text/plain": [
       "c1*c2**4*c3**2*c4*epsilon2**2*epsilon3*epsilon4*kb**4*ku**2*(epsilon1 - 1)*(epsilon3 + epsilon4)"
      ]
     },
     "metadata": {},
     "output_type": "display_data"
    },
    {
     "name": "stdout",
     "output_type": "stream",
     "text": [
      ".\n"
     ]
    },
    {
     "data": {
      "text/latex": [
       "$\\displaystyle c_{1} c_{2}^{2} c_{3}^{3} c_{4}^{3} \\epsilon_{2}^{2} \\epsilon_{3}^{2} \\epsilon_{4}^{2} kb^{4} ku \\left(\\epsilon_{1} - 1\\right)$"
      ],
      "text/plain": [
       "c1*c2**2*c3**3*c4**3*epsilon2**2*epsilon3**2*epsilon4**2*kb**4*ku*(epsilon1 - 1)"
      ]
     },
     "metadata": {},
     "output_type": "display_data"
    },
    {
     "name": "stdout",
     "output_type": "stream",
     "text": [
      ".\n"
     ]
    },
    {
     "data": {
      "text/latex": [
       "$\\displaystyle c_{1} c_{2}^{2} c_{3}^{4} c_{4}^{2} \\epsilon_{2}^{2} \\epsilon_{3}^{2} \\epsilon_{4}^{2} kb^{4} ku \\left(\\epsilon_{1} - 1\\right)$"
      ],
      "text/plain": [
       "c1*c2**2*c3**4*c4**2*epsilon2**2*epsilon3**2*epsilon4**2*kb**4*ku*(epsilon1 - 1)"
      ]
     },
     "metadata": {},
     "output_type": "display_data"
    },
    {
     "name": "stdout",
     "output_type": "stream",
     "text": [
      ".\n"
     ]
    },
    {
     "data": {
      "text/latex": [
       "$\\displaystyle c_{1} c_{2}^{3} c_{3}^{2} c_{4}^{3} \\epsilon_{2}^{2} \\epsilon_{3}^{2} \\epsilon_{4}^{2} kb^{4} ku \\left(\\epsilon_{1} - 1\\right)$"
      ],
      "text/plain": [
       "c1*c2**3*c3**2*c4**3*epsilon2**2*epsilon3**2*epsilon4**2*kb**4*ku*(epsilon1 - 1)"
      ]
     },
     "metadata": {},
     "output_type": "display_data"
    },
    {
     "name": "stdout",
     "output_type": "stream",
     "text": [
      ".\n"
     ]
    },
    {
     "data": {
      "text/latex": [
       "$\\displaystyle c_{1} c_{2}^{3} c_{3}^{3} c_{4}^{2} \\epsilon_{2}^{2} \\epsilon_{3}^{2} \\epsilon_{4} kb^{4} ku \\left(3 \\epsilon_{1} \\epsilon_{4} - \\epsilon_{1} - 2 \\epsilon_{4}\\right)$"
      ],
      "text/plain": [
       "c1*c2**3*c3**3*c4**2*epsilon2**2*epsilon3**2*epsilon4*kb**4*ku*(3*epsilon1*epsilon4 - epsilon1 - 2*epsilon4)"
      ]
     },
     "metadata": {},
     "output_type": "display_data"
    },
    {
     "name": "stdout",
     "output_type": "stream",
     "text": [
      ".\n"
     ]
    },
    {
     "data": {
      "text/latex": [
       "$\\displaystyle c_{1} c_{2}^{4} c_{3}^{2} c_{4}^{2} \\epsilon_{2}^{2} \\epsilon_{3}^{2} \\epsilon_{4}^{2} kb^{4} ku \\left(\\epsilon_{1} - 1\\right)$"
      ],
      "text/plain": [
       "c1*c2**4*c3**2*c4**2*epsilon2**2*epsilon3**2*epsilon4**2*kb**4*ku*(epsilon1 - 1)"
      ]
     },
     "metadata": {},
     "output_type": "display_data"
    },
    {
     "name": "stdout",
     "output_type": "stream",
     "text": [
      ".\n"
     ]
    },
    {
     "data": {
      "text/latex": [
       "$\\displaystyle c_{1} c_{2}^{2} c_{3}^{2} c_{4}^{2} \\epsilon_{4} kb^{4} ku^{3} \\left(\\epsilon_{1} \\epsilon_{2}^{2} \\epsilon_{3} + \\epsilon_{1} \\epsilon_{2}^{2} \\epsilon_{4} + \\epsilon_{1} \\epsilon_{2} \\epsilon_{3}^{2} + 3 \\epsilon_{1} \\epsilon_{2} \\epsilon_{3} \\epsilon_{4} - \\epsilon_{1} \\epsilon_{2} \\epsilon_{3} + \\epsilon_{1} \\epsilon_{3}^{2} \\epsilon_{4} + \\epsilon_{2}^{2} \\epsilon_{3} \\epsilon_{4} - 2 \\epsilon_{2}^{2} \\epsilon_{3} - \\epsilon_{2}^{2} \\epsilon_{4} + \\epsilon_{2} \\epsilon_{3}^{2} \\epsilon_{4} - 2 \\epsilon_{2} \\epsilon_{3}^{2} - 2 \\epsilon_{2} \\epsilon_{3} \\epsilon_{4} - \\epsilon_{3}^{2} \\epsilon_{4}\\right)$"
      ],
      "text/plain": [
       "c1*c2**2*c3**2*c4**2*epsilon4*kb**4*ku**3*(epsilon1*epsilon2**2*epsilon3 + epsilon1*epsilon2**2*epsilon4 + epsilon1*epsilon2*epsilon3**2 + 3*epsilon1*epsilon2*epsilon3*epsilon4 - epsilon1*epsilon2*epsilon3 + epsilon1*epsilon3**2*epsilon4 + epsilon2**2*epsilon3*epsilon4 - 2*epsilon2**2*epsilon3 - epsilon2**2*epsilon4 + epsilon2*epsilon3**2*epsilon4 - 2*epsilon2*epsilon3**2 - 2*epsilon2*epsilon3*epsilon4 - epsilon3**2*epsilon4)"
      ]
     },
     "metadata": {},
     "output_type": "display_data"
    },
    {
     "name": "stdout",
     "output_type": "stream",
     "text": [
      ".\n"
     ]
    },
    {
     "data": {
      "text/latex": [
       "$\\displaystyle c_{1} c_{2}^{2} c_{3}^{2} c_{4}^{3} \\epsilon_{2} \\epsilon_{3} \\epsilon_{4}^{2} kb^{4} ku^{2} \\left(\\epsilon_{1} - 1\\right) \\left(\\epsilon_{2} + \\epsilon_{3}\\right)$"
      ],
      "text/plain": [
       "c1*c2**2*c3**2*c4**3*epsilon2*epsilon3*epsilon4**2*kb**4*ku**2*(epsilon1 - 1)*(epsilon2 + epsilon3)"
      ]
     },
     "metadata": {},
     "output_type": "display_data"
    },
    {
     "name": "stdout",
     "output_type": "stream",
     "text": [
      ".\n"
     ]
    },
    {
     "data": {
      "text/latex": [
       "$\\displaystyle c_{1} c_{2}^{2} c_{3}^{3} c_{4}^{2} \\epsilon_{2} \\epsilon_{3} \\epsilon_{4} kb^{4} ku^{2} \\left(\\epsilon_{1} \\epsilon_{2} \\epsilon_{3} + 2 \\epsilon_{1} \\epsilon_{2} \\epsilon_{4} + 3 \\epsilon_{1} \\epsilon_{3} \\epsilon_{4} - \\epsilon_{1} \\epsilon_{3} + \\epsilon_{2} \\epsilon_{3} \\epsilon_{4} - 2 \\epsilon_{2} \\epsilon_{3} - 2 \\epsilon_{2} \\epsilon_{4} - 2 \\epsilon_{3} \\epsilon_{4}\\right)$"
      ],
      "text/plain": [
       "c1*c2**2*c3**3*c4**2*epsilon2*epsilon3*epsilon4*kb**4*ku**2*(epsilon1*epsilon2*epsilon3 + 2*epsilon1*epsilon2*epsilon4 + 3*epsilon1*epsilon3*epsilon4 - epsilon1*epsilon3 + epsilon2*epsilon3*epsilon4 - 2*epsilon2*epsilon3 - 2*epsilon2*epsilon4 - 2*epsilon3*epsilon4)"
      ]
     },
     "metadata": {},
     "output_type": "display_data"
    },
    {
     "name": "stdout",
     "output_type": "stream",
     "text": [
      ".\n"
     ]
    },
    {
     "data": {
      "text/latex": [
       "$\\displaystyle c_{1} c_{2}^{3} c_{3}^{2} c_{4}^{2} \\epsilon_{2} \\epsilon_{3} \\epsilon_{4} kb^{4} ku^{2} \\left(\\epsilon_{1} \\epsilon_{2} \\epsilon_{3} + 3 \\epsilon_{1} \\epsilon_{2} \\epsilon_{4} - \\epsilon_{1} \\epsilon_{2} + 2 \\epsilon_{1} \\epsilon_{3} \\epsilon_{4} + \\epsilon_{2} \\epsilon_{3} \\epsilon_{4} - 2 \\epsilon_{2} \\epsilon_{3} - 2 \\epsilon_{2} \\epsilon_{4} - 2 \\epsilon_{3} \\epsilon_{4}\\right)$"
      ],
      "text/plain": [
       "c1*c2**3*c3**2*c4**2*epsilon2*epsilon3*epsilon4*kb**4*ku**2*(epsilon1*epsilon2*epsilon3 + 3*epsilon1*epsilon2*epsilon4 - epsilon1*epsilon2 + 2*epsilon1*epsilon3*epsilon4 + epsilon2*epsilon3*epsilon4 - 2*epsilon2*epsilon3 - 2*epsilon2*epsilon4 - 2*epsilon3*epsilon4)"
      ]
     },
     "metadata": {},
     "output_type": "display_data"
    },
    {
     "name": "stdout",
     "output_type": "stream",
     "text": [
      ".\n"
     ]
    },
    {
     "data": {
      "text/latex": [
       "$\\displaystyle c_{1}^{3} c_{2} c_{3}^{4} c_{4} \\epsilon_{1}^{2} \\epsilon_{3}^{2} \\epsilon_{4}^{2} kb^{4} ku \\left(\\epsilon_{2} - 1\\right)$"
      ],
      "text/plain": [
       "c1**3*c2*c3**4*c4*epsilon1**2*epsilon3**2*epsilon4**2*kb**4*ku*(epsilon2 - 1)"
      ]
     },
     "metadata": {},
     "output_type": "display_data"
    },
    {
     "name": "stdout",
     "output_type": "stream",
     "text": [
      ".\n"
     ]
    },
    {
     "data": {
      "text/latex": [
       "$\\displaystyle c_{1}^{4} c_{2} c_{3}^{3} c_{4} \\epsilon_{1}^{2} \\epsilon_{3}^{2} \\epsilon_{4}^{2} kb^{4} ku \\left(\\epsilon_{2} - 1\\right)$"
      ],
      "text/plain": [
       "c1**4*c2*c3**3*c4*epsilon1**2*epsilon3**2*epsilon4**2*kb**4*ku*(epsilon2 - 1)"
      ]
     },
     "metadata": {},
     "output_type": "display_data"
    },
    {
     "name": "stdout",
     "output_type": "stream",
     "text": [
      ".\n"
     ]
    },
    {
     "data": {
      "text/latex": [
       "$\\displaystyle c_{1}^{2} c_{2} c_{3}^{2} c_{4} kb^{4} ku^{4} \\left(\\epsilon_{1}^{2} \\epsilon_{2} \\epsilon_{4} + \\epsilon_{1}^{2} \\epsilon_{3} \\epsilon_{4} - \\epsilon_{1}^{2} \\epsilon_{3} - \\epsilon_{1}^{2} \\epsilon_{4} + 2 \\epsilon_{1} \\epsilon_{2} \\epsilon_{3} \\epsilon_{4} - \\epsilon_{1} \\epsilon_{2} \\epsilon_{3} + \\epsilon_{1} \\epsilon_{2} \\epsilon_{4}^{2} + \\epsilon_{1} \\epsilon_{3}^{2} \\epsilon_{4} - \\epsilon_{1} \\epsilon_{3}^{2} + \\epsilon_{1} \\epsilon_{3} \\epsilon_{4}^{2} - 2 \\epsilon_{1} \\epsilon_{3} \\epsilon_{4} - \\epsilon_{1} \\epsilon_{4}^{2} + \\epsilon_{2} \\epsilon_{3}^{2} \\epsilon_{4} + \\epsilon_{2} \\epsilon_{3} \\epsilon_{4}^{2} - \\epsilon_{3}^{2} \\epsilon_{4} - \\epsilon_{3} \\epsilon_{4}^{2}\\right)$"
      ],
      "text/plain": [
       "c1**2*c2*c3**2*c4*kb**4*ku**4*(epsilon1**2*epsilon2*epsilon4 + epsilon1**2*epsilon3*epsilon4 - epsilon1**2*epsilon3 - epsilon1**2*epsilon4 + 2*epsilon1*epsilon2*epsilon3*epsilon4 - epsilon1*epsilon2*epsilon3 + epsilon1*epsilon2*epsilon4**2 + epsilon1*epsilon3**2*epsilon4 - epsilon1*epsilon3**2 + epsilon1*epsilon3*epsilon4**2 - 2*epsilon1*epsilon3*epsilon4 - epsilon1*epsilon4**2 + epsilon2*epsilon3**2*epsilon4 + epsilon2*epsilon3*epsilon4**2 - epsilon3**2*epsilon4 - epsilon3*epsilon4**2)"
      ]
     },
     "metadata": {},
     "output_type": "display_data"
    },
    {
     "name": "stdout",
     "output_type": "stream",
     "text": [
      ".\n"
     ]
    },
    {
     "data": {
      "text/latex": [
       "$\\displaystyle c_{1}^{2} c_{2} c_{3}^{3} c_{4} \\epsilon_{3} kb^{4} ku^{3} \\left(2 \\epsilon_{1}^{2} \\epsilon_{2} \\epsilon_{4} + \\epsilon_{1}^{2} \\epsilon_{3} \\epsilon_{4} - \\epsilon_{1}^{2} \\epsilon_{3} - 2 \\epsilon_{1}^{2} \\epsilon_{4} + 2 \\epsilon_{1} \\epsilon_{2} \\epsilon_{3} \\epsilon_{4} - \\epsilon_{1} \\epsilon_{2} \\epsilon_{3} + 2 \\epsilon_{1} \\epsilon_{2} \\epsilon_{4}^{2} + \\epsilon_{1} \\epsilon_{3} \\epsilon_{4}^{2} - 2 \\epsilon_{1} \\epsilon_{3} \\epsilon_{4} - 2 \\epsilon_{1} \\epsilon_{4}^{2} + \\epsilon_{2} \\epsilon_{3} \\epsilon_{4}^{2} - \\epsilon_{3} \\epsilon_{4}^{2}\\right)$"
      ],
      "text/plain": [
       "c1**2*c2*c3**3*c4*epsilon3*kb**4*ku**3*(2*epsilon1**2*epsilon2*epsilon4 + epsilon1**2*epsilon3*epsilon4 - epsilon1**2*epsilon3 - 2*epsilon1**2*epsilon4 + 2*epsilon1*epsilon2*epsilon3*epsilon4 - epsilon1*epsilon2*epsilon3 + 2*epsilon1*epsilon2*epsilon4**2 + epsilon1*epsilon3*epsilon4**2 - 2*epsilon1*epsilon3*epsilon4 - 2*epsilon1*epsilon4**2 + epsilon2*epsilon3*epsilon4**2 - epsilon3*epsilon4**2)"
      ]
     },
     "metadata": {},
     "output_type": "display_data"
    },
    {
     "name": "stdout",
     "output_type": "stream",
     "text": [
      ".\n"
     ]
    },
    {
     "data": {
      "text/latex": [
       "$\\displaystyle c_{1}^{2} c_{2} c_{3}^{4} c_{4} \\epsilon_{1} \\epsilon_{3}^{2} \\epsilon_{4} kb^{4} ku^{2} \\left(\\epsilon_{1} + \\epsilon_{4}\\right) \\left(\\epsilon_{2} - 1\\right)$"
      ],
      "text/plain": [
       "c1**2*c2*c3**4*c4*epsilon1*epsilon3**2*epsilon4*kb**4*ku**2*(epsilon1 + epsilon4)*(epsilon2 - 1)"
      ]
     },
     "metadata": {},
     "output_type": "display_data"
    },
    {
     "name": "stdout",
     "output_type": "stream",
     "text": [
      ".\n"
     ]
    },
    {
     "data": {
      "text/latex": [
       "$\\displaystyle c_{1}^{3} c_{2} c_{3}^{2} c_{4} \\epsilon_{1} kb^{4} ku^{3} \\left(2 \\epsilon_{1} \\epsilon_{2} \\epsilon_{3} \\epsilon_{4} - \\epsilon_{1} \\epsilon_{2} \\epsilon_{3} + \\epsilon_{1} \\epsilon_{2} \\epsilon_{4}^{2} + \\epsilon_{1} \\epsilon_{3}^{2} \\epsilon_{4} - \\epsilon_{1} \\epsilon_{3}^{2} + \\epsilon_{1} \\epsilon_{3} \\epsilon_{4}^{2} - 2 \\epsilon_{1} \\epsilon_{3} \\epsilon_{4} - \\epsilon_{1} \\epsilon_{4}^{2} + 2 \\epsilon_{2} \\epsilon_{3}^{2} \\epsilon_{4} + 2 \\epsilon_{2} \\epsilon_{3} \\epsilon_{4}^{2} - 2 \\epsilon_{3}^{2} \\epsilon_{4} - 2 \\epsilon_{3} \\epsilon_{4}^{2}\\right)$"
      ],
      "text/plain": [
       "c1**3*c2*c3**2*c4*epsilon1*kb**4*ku**3*(2*epsilon1*epsilon2*epsilon3*epsilon4 - epsilon1*epsilon2*epsilon3 + epsilon1*epsilon2*epsilon4**2 + epsilon1*epsilon3**2*epsilon4 - epsilon1*epsilon3**2 + epsilon1*epsilon3*epsilon4**2 - 2*epsilon1*epsilon3*epsilon4 - epsilon1*epsilon4**2 + 2*epsilon2*epsilon3**2*epsilon4 + 2*epsilon2*epsilon3*epsilon4**2 - 2*epsilon3**2*epsilon4 - 2*epsilon3*epsilon4**2)"
      ]
     },
     "metadata": {},
     "output_type": "display_data"
    },
    {
     "name": "stdout",
     "output_type": "stream",
     "text": [
      ".\n"
     ]
    },
    {
     "data": {
      "text/latex": [
       "$\\displaystyle c_{1}^{3} c_{2} c_{3}^{3} c_{4} \\epsilon_{1} \\epsilon_{3} kb^{4} ku^{2} \\left(2 \\epsilon_{1} \\epsilon_{2} \\epsilon_{3} \\epsilon_{4} - \\epsilon_{1} \\epsilon_{2} \\epsilon_{3} + 2 \\epsilon_{1} \\epsilon_{2} \\epsilon_{4}^{2} + \\epsilon_{1} \\epsilon_{3} \\epsilon_{4}^{2} - 2 \\epsilon_{1} \\epsilon_{3} \\epsilon_{4} - 2 \\epsilon_{1} \\epsilon_{4}^{2} + 2 \\epsilon_{2} \\epsilon_{3} \\epsilon_{4}^{2} - 2 \\epsilon_{3} \\epsilon_{4}^{2}\\right)$"
      ],
      "text/plain": [
       "c1**3*c2*c3**3*c4*epsilon1*epsilon3*kb**4*ku**2*(2*epsilon1*epsilon2*epsilon3*epsilon4 - epsilon1*epsilon2*epsilon3 + 2*epsilon1*epsilon2*epsilon4**2 + epsilon1*epsilon3*epsilon4**2 - 2*epsilon1*epsilon3*epsilon4 - 2*epsilon1*epsilon4**2 + 2*epsilon2*epsilon3*epsilon4**2 - 2*epsilon3*epsilon4**2)"
      ]
     },
     "metadata": {},
     "output_type": "display_data"
    },
    {
     "name": "stdout",
     "output_type": "stream",
     "text": [
      ".\n"
     ]
    },
    {
     "data": {
      "text/latex": [
       "$\\displaystyle c_{1}^{4} c_{2} c_{3}^{2} c_{4} \\epsilon_{1}^{2} \\epsilon_{3} \\epsilon_{4} kb^{4} ku^{2} \\left(\\epsilon_{2} - 1\\right) \\left(\\epsilon_{3} + \\epsilon_{4}\\right)$"
      ],
      "text/plain": [
       "c1**4*c2*c3**2*c4*epsilon1**2*epsilon3*epsilon4*kb**4*ku**2*(epsilon2 - 1)*(epsilon3 + epsilon4)"
      ]
     },
     "metadata": {},
     "output_type": "display_data"
    },
    {
     "name": "stdout",
     "output_type": "stream",
     "text": [
      ".\n"
     ]
    },
    {
     "data": {
      "text/latex": [
       "$\\displaystyle c_{1}^{2} c_{2} c_{3}^{3} c_{4}^{3} \\epsilon_{1}^{2} \\epsilon_{3}^{2} \\epsilon_{4}^{2} kb^{4} ku \\left(\\epsilon_{2} - 1\\right)$"
      ],
      "text/plain": [
       "c1**2*c2*c3**3*c4**3*epsilon1**2*epsilon3**2*epsilon4**2*kb**4*ku*(epsilon2 - 1)"
      ]
     },
     "metadata": {},
     "output_type": "display_data"
    },
    {
     "name": "stdout",
     "output_type": "stream",
     "text": [
      ".\n"
     ]
    },
    {
     "data": {
      "text/latex": [
       "$\\displaystyle c_{1}^{2} c_{2} c_{3}^{4} c_{4}^{2} \\epsilon_{1}^{2} \\epsilon_{3}^{2} \\epsilon_{4}^{2} kb^{4} ku \\left(\\epsilon_{2} - 1\\right)$"
      ],
      "text/plain": [
       "c1**2*c2*c3**4*c4**2*epsilon1**2*epsilon3**2*epsilon4**2*kb**4*ku*(epsilon2 - 1)"
      ]
     },
     "metadata": {},
     "output_type": "display_data"
    },
    {
     "name": "stdout",
     "output_type": "stream",
     "text": [
      ".\n"
     ]
    },
    {
     "data": {
      "text/latex": [
       "$\\displaystyle c_{1}^{3} c_{2} c_{3}^{2} c_{4}^{3} \\epsilon_{1}^{2} \\epsilon_{3}^{2} \\epsilon_{4}^{2} kb^{4} ku \\left(\\epsilon_{2} - 1\\right)$"
      ],
      "text/plain": [
       "c1**3*c2*c3**2*c4**3*epsilon1**2*epsilon3**2*epsilon4**2*kb**4*ku*(epsilon2 - 1)"
      ]
     },
     "metadata": {},
     "output_type": "display_data"
    },
    {
     "name": "stdout",
     "output_type": "stream",
     "text": [
      ".\n"
     ]
    },
    {
     "data": {
      "text/latex": [
       "$\\displaystyle c_{1}^{3} c_{2} c_{3}^{3} c_{4}^{2} \\epsilon_{1}^{2} \\epsilon_{3}^{2} \\epsilon_{4} kb^{4} ku \\left(3 \\epsilon_{2} \\epsilon_{4} - \\epsilon_{2} - 2 \\epsilon_{4}\\right)$"
      ],
      "text/plain": [
       "c1**3*c2*c3**3*c4**2*epsilon1**2*epsilon3**2*epsilon4*kb**4*ku*(3*epsilon2*epsilon4 - epsilon2 - 2*epsilon4)"
      ]
     },
     "metadata": {},
     "output_type": "display_data"
    },
    {
     "name": "stdout",
     "output_type": "stream",
     "text": [
      ".\n"
     ]
    },
    {
     "data": {
      "text/latex": [
       "$\\displaystyle c_{1}^{4} c_{2} c_{3}^{2} c_{4}^{2} \\epsilon_{1}^{2} \\epsilon_{3}^{2} \\epsilon_{4}^{2} kb^{4} ku \\left(\\epsilon_{2} - 1\\right)$"
      ],
      "text/plain": [
       "c1**4*c2*c3**2*c4**2*epsilon1**2*epsilon3**2*epsilon4**2*kb**4*ku*(epsilon2 - 1)"
      ]
     },
     "metadata": {},
     "output_type": "display_data"
    },
    {
     "name": "stdout",
     "output_type": "stream",
     "text": [
      ".\n"
     ]
    },
    {
     "data": {
      "text/latex": [
       "$\\displaystyle c_{1}^{2} c_{2} c_{3}^{2} c_{4}^{2} \\epsilon_{4} kb^{4} ku^{3} \\left(\\epsilon_{1}^{2} \\epsilon_{2} \\epsilon_{3} + \\epsilon_{1}^{2} \\epsilon_{2} \\epsilon_{4} + \\epsilon_{1}^{2} \\epsilon_{3} \\epsilon_{4} - 2 \\epsilon_{1}^{2} \\epsilon_{3} - \\epsilon_{1}^{2} \\epsilon_{4} + \\epsilon_{1} \\epsilon_{2} \\epsilon_{3}^{2} + 3 \\epsilon_{1} \\epsilon_{2} \\epsilon_{3} \\epsilon_{4} - \\epsilon_{1} \\epsilon_{2} \\epsilon_{3} + \\epsilon_{1} \\epsilon_{3}^{2} \\epsilon_{4} - 2 \\epsilon_{1} \\epsilon_{3}^{2} - 2 \\epsilon_{1} \\epsilon_{3} \\epsilon_{4} + \\epsilon_{2} \\epsilon_{3}^{2} \\epsilon_{4} - \\epsilon_{3}^{2} \\epsilon_{4}\\right)$"
      ],
      "text/plain": [
       "c1**2*c2*c3**2*c4**2*epsilon4*kb**4*ku**3*(epsilon1**2*epsilon2*epsilon3 + epsilon1**2*epsilon2*epsilon4 + epsilon1**2*epsilon3*epsilon4 - 2*epsilon1**2*epsilon3 - epsilon1**2*epsilon4 + epsilon1*epsilon2*epsilon3**2 + 3*epsilon1*epsilon2*epsilon3*epsilon4 - epsilon1*epsilon2*epsilon3 + epsilon1*epsilon3**2*epsilon4 - 2*epsilon1*epsilon3**2 - 2*epsilon1*epsilon3*epsilon4 + epsilon2*epsilon3**2*epsilon4 - epsilon3**2*epsilon4)"
      ]
     },
     "metadata": {},
     "output_type": "display_data"
    },
    {
     "name": "stdout",
     "output_type": "stream",
     "text": [
      ".\n"
     ]
    },
    {
     "data": {
      "text/latex": [
       "$\\displaystyle c_{1}^{2} c_{2} c_{3}^{2} c_{4}^{3} \\epsilon_{1} \\epsilon_{3} \\epsilon_{4}^{2} kb^{4} ku^{2} \\left(\\epsilon_{1} + \\epsilon_{3}\\right) \\left(\\epsilon_{2} - 1\\right)$"
      ],
      "text/plain": [
       "c1**2*c2*c3**2*c4**3*epsilon1*epsilon3*epsilon4**2*kb**4*ku**2*(epsilon1 + epsilon3)*(epsilon2 - 1)"
      ]
     },
     "metadata": {},
     "output_type": "display_data"
    },
    {
     "name": "stdout",
     "output_type": "stream",
     "text": [
      ".\n"
     ]
    },
    {
     "data": {
      "text/latex": [
       "$\\displaystyle c_{1}^{2} c_{2} c_{3}^{3} c_{4}^{2} \\epsilon_{1} \\epsilon_{3} \\epsilon_{4} kb^{4} ku^{2} \\left(\\epsilon_{1} \\epsilon_{2} \\epsilon_{3} + 2 \\epsilon_{1} \\epsilon_{2} \\epsilon_{4} + \\epsilon_{1} \\epsilon_{3} \\epsilon_{4} - 2 \\epsilon_{1} \\epsilon_{3} - 2 \\epsilon_{1} \\epsilon_{4} + 3 \\epsilon_{2} \\epsilon_{3} \\epsilon_{4} - \\epsilon_{2} \\epsilon_{3} - 2 \\epsilon_{3} \\epsilon_{4}\\right)$"
      ],
      "text/plain": [
       "c1**2*c2*c3**3*c4**2*epsilon1*epsilon3*epsilon4*kb**4*ku**2*(epsilon1*epsilon2*epsilon3 + 2*epsilon1*epsilon2*epsilon4 + epsilon1*epsilon3*epsilon4 - 2*epsilon1*epsilon3 - 2*epsilon1*epsilon4 + 3*epsilon2*epsilon3*epsilon4 - epsilon2*epsilon3 - 2*epsilon3*epsilon4)"
      ]
     },
     "metadata": {},
     "output_type": "display_data"
    },
    {
     "name": "stdout",
     "output_type": "stream",
     "text": [
      ".\n"
     ]
    },
    {
     "data": {
      "text/latex": [
       "$\\displaystyle c_{1}^{3} c_{2} c_{3}^{2} c_{4}^{2} \\epsilon_{1} \\epsilon_{3} \\epsilon_{4} kb^{4} ku^{2} \\left(\\epsilon_{1} \\epsilon_{2} \\epsilon_{3} + 3 \\epsilon_{1} \\epsilon_{2} \\epsilon_{4} - \\epsilon_{1} \\epsilon_{2} + \\epsilon_{1} \\epsilon_{3} \\epsilon_{4} - 2 \\epsilon_{1} \\epsilon_{3} - 2 \\epsilon_{1} \\epsilon_{4} + 2 \\epsilon_{2} \\epsilon_{3} \\epsilon_{4} - 2 \\epsilon_{3} \\epsilon_{4}\\right)$"
      ],
      "text/plain": [
       "c1**3*c2*c3**2*c4**2*epsilon1*epsilon3*epsilon4*kb**4*ku**2*(epsilon1*epsilon2*epsilon3 + 3*epsilon1*epsilon2*epsilon4 - epsilon1*epsilon2 + epsilon1*epsilon3*epsilon4 - 2*epsilon1*epsilon3 - 2*epsilon1*epsilon4 + 2*epsilon2*epsilon3*epsilon4 - 2*epsilon3*epsilon4)"
      ]
     },
     "metadata": {},
     "output_type": "display_data"
    },
    {
     "name": "stdout",
     "output_type": "stream",
     "text": [
      ".\n"
     ]
    },
    {
     "data": {
      "text/latex": [
       "$\\displaystyle c_{1}^{3} c_{2}^{4} c_{3} c_{4} \\epsilon_{1}^{2} \\epsilon_{2}^{2} \\epsilon_{4}^{2} kb^{4} ku \\left(\\epsilon_{3} - 1\\right)$"
      ],
      "text/plain": [
       "c1**3*c2**4*c3*c4*epsilon1**2*epsilon2**2*epsilon4**2*kb**4*ku*(epsilon3 - 1)"
      ]
     },
     "metadata": {},
     "output_type": "display_data"
    },
    {
     "name": "stdout",
     "output_type": "stream",
     "text": [
      ".\n"
     ]
    },
    {
     "data": {
      "text/latex": [
       "$\\displaystyle c_{1}^{4} c_{2}^{3} c_{3} c_{4} \\epsilon_{1}^{2} \\epsilon_{2}^{2} \\epsilon_{4}^{2} kb^{4} ku \\left(\\epsilon_{3} - 1\\right)$"
      ],
      "text/plain": [
       "c1**4*c2**3*c3*c4*epsilon1**2*epsilon2**2*epsilon4**2*kb**4*ku*(epsilon3 - 1)"
      ]
     },
     "metadata": {},
     "output_type": "display_data"
    },
    {
     "name": "stdout",
     "output_type": "stream",
     "text": [
      ".\n"
     ]
    },
    {
     "data": {
      "text/latex": [
       "$\\displaystyle c_{1}^{2} c_{2}^{2} c_{3} c_{4} kb^{4} ku^{4} \\left(\\epsilon_{1}^{2} \\epsilon_{2} \\epsilon_{4} - \\epsilon_{1}^{2} \\epsilon_{2} + \\epsilon_{1}^{2} \\epsilon_{3} \\epsilon_{4} - \\epsilon_{1}^{2} \\epsilon_{4} + \\epsilon_{1} \\epsilon_{2}^{2} \\epsilon_{4} - \\epsilon_{1} \\epsilon_{2}^{2} + 2 \\epsilon_{1} \\epsilon_{2} \\epsilon_{3} \\epsilon_{4} - \\epsilon_{1} \\epsilon_{2} \\epsilon_{3} + \\epsilon_{1} \\epsilon_{2} \\epsilon_{4}^{2} - 2 \\epsilon_{1} \\epsilon_{2} \\epsilon_{4} + \\epsilon_{1} \\epsilon_{3} \\epsilon_{4}^{2} - \\epsilon_{1} \\epsilon_{4}^{2} + \\epsilon_{2}^{2} \\epsilon_{3} \\epsilon_{4} - \\epsilon_{2}^{2} \\epsilon_{4} + \\epsilon_{2} \\epsilon_{3} \\epsilon_{4}^{2} - \\epsilon_{2} \\epsilon_{4}^{2}\\right)$"
      ],
      "text/plain": [
       "c1**2*c2**2*c3*c4*kb**4*ku**4*(epsilon1**2*epsilon2*epsilon4 - epsilon1**2*epsilon2 + epsilon1**2*epsilon3*epsilon4 - epsilon1**2*epsilon4 + epsilon1*epsilon2**2*epsilon4 - epsilon1*epsilon2**2 + 2*epsilon1*epsilon2*epsilon3*epsilon4 - epsilon1*epsilon2*epsilon3 + epsilon1*epsilon2*epsilon4**2 - 2*epsilon1*epsilon2*epsilon4 + epsilon1*epsilon3*epsilon4**2 - epsilon1*epsilon4**2 + epsilon2**2*epsilon3*epsilon4 - epsilon2**2*epsilon4 + epsilon2*epsilon3*epsilon4**2 - epsilon2*epsilon4**2)"
      ]
     },
     "metadata": {},
     "output_type": "display_data"
    },
    {
     "name": "stdout",
     "output_type": "stream",
     "text": [
      ".\n"
     ]
    },
    {
     "data": {
      "text/latex": [
       "$\\displaystyle c_{1}^{2} c_{2}^{3} c_{3} c_{4} \\epsilon_{2} kb^{4} ku^{3} \\left(\\epsilon_{1}^{2} \\epsilon_{2} \\epsilon_{4} - \\epsilon_{1}^{2} \\epsilon_{2} + 2 \\epsilon_{1}^{2} \\epsilon_{3} \\epsilon_{4} - 2 \\epsilon_{1}^{2} \\epsilon_{4} + 2 \\epsilon_{1} \\epsilon_{2} \\epsilon_{3} \\epsilon_{4} - \\epsilon_{1} \\epsilon_{2} \\epsilon_{3} + \\epsilon_{1} \\epsilon_{2} \\epsilon_{4}^{2} - 2 \\epsilon_{1} \\epsilon_{2} \\epsilon_{4} + 2 \\epsilon_{1} \\epsilon_{3} \\epsilon_{4}^{2} - 2 \\epsilon_{1} \\epsilon_{4}^{2} + \\epsilon_{2} \\epsilon_{3} \\epsilon_{4}^{2} - \\epsilon_{2} \\epsilon_{4}^{2}\\right)$"
      ],
      "text/plain": [
       "c1**2*c2**3*c3*c4*epsilon2*kb**4*ku**3*(epsilon1**2*epsilon2*epsilon4 - epsilon1**2*epsilon2 + 2*epsilon1**2*epsilon3*epsilon4 - 2*epsilon1**2*epsilon4 + 2*epsilon1*epsilon2*epsilon3*epsilon4 - epsilon1*epsilon2*epsilon3 + epsilon1*epsilon2*epsilon4**2 - 2*epsilon1*epsilon2*epsilon4 + 2*epsilon1*epsilon3*epsilon4**2 - 2*epsilon1*epsilon4**2 + epsilon2*epsilon3*epsilon4**2 - epsilon2*epsilon4**2)"
      ]
     },
     "metadata": {},
     "output_type": "display_data"
    },
    {
     "name": "stdout",
     "output_type": "stream",
     "text": [
      ".\n"
     ]
    },
    {
     "data": {
      "text/latex": [
       "$\\displaystyle c_{1}^{2} c_{2}^{4} c_{3} c_{4} \\epsilon_{1} \\epsilon_{2}^{2} \\epsilon_{4} kb^{4} ku^{2} \\left(\\epsilon_{1} + \\epsilon_{4}\\right) \\left(\\epsilon_{3} - 1\\right)$"
      ],
      "text/plain": [
       "c1**2*c2**4*c3*c4*epsilon1*epsilon2**2*epsilon4*kb**4*ku**2*(epsilon1 + epsilon4)*(epsilon3 - 1)"
      ]
     },
     "metadata": {},
     "output_type": "display_data"
    },
    {
     "name": "stdout",
     "output_type": "stream",
     "text": [
      ".\n"
     ]
    },
    {
     "data": {
      "text/latex": [
       "$\\displaystyle c_{1}^{3} c_{2}^{2} c_{3} c_{4} \\epsilon_{1} kb^{4} ku^{3} \\left(\\epsilon_{1} \\epsilon_{2}^{2} \\epsilon_{4} - \\epsilon_{1} \\epsilon_{2}^{2} + 2 \\epsilon_{1} \\epsilon_{2} \\epsilon_{3} \\epsilon_{4} - \\epsilon_{1} \\epsilon_{2} \\epsilon_{3} + \\epsilon_{1} \\epsilon_{2} \\epsilon_{4}^{2} - 2 \\epsilon_{1} \\epsilon_{2} \\epsilon_{4} + \\epsilon_{1} \\epsilon_{3} \\epsilon_{4}^{2} - \\epsilon_{1} \\epsilon_{4}^{2} + 2 \\epsilon_{2}^{2} \\epsilon_{3} \\epsilon_{4} - 2 \\epsilon_{2}^{2} \\epsilon_{4} + 2 \\epsilon_{2} \\epsilon_{3} \\epsilon_{4}^{2} - 2 \\epsilon_{2} \\epsilon_{4}^{2}\\right)$"
      ],
      "text/plain": [
       "c1**3*c2**2*c3*c4*epsilon1*kb**4*ku**3*(epsilon1*epsilon2**2*epsilon4 - epsilon1*epsilon2**2 + 2*epsilon1*epsilon2*epsilon3*epsilon4 - epsilon1*epsilon2*epsilon3 + epsilon1*epsilon2*epsilon4**2 - 2*epsilon1*epsilon2*epsilon4 + epsilon1*epsilon3*epsilon4**2 - epsilon1*epsilon4**2 + 2*epsilon2**2*epsilon3*epsilon4 - 2*epsilon2**2*epsilon4 + 2*epsilon2*epsilon3*epsilon4**2 - 2*epsilon2*epsilon4**2)"
      ]
     },
     "metadata": {},
     "output_type": "display_data"
    },
    {
     "name": "stdout",
     "output_type": "stream",
     "text": [
      ".\n"
     ]
    },
    {
     "data": {
      "text/latex": [
       "$\\displaystyle c_{1}^{3} c_{2}^{3} c_{3} c_{4} \\epsilon_{1} \\epsilon_{2} kb^{4} ku^{2} \\left(2 \\epsilon_{1} \\epsilon_{2} \\epsilon_{3} \\epsilon_{4} - \\epsilon_{1} \\epsilon_{2} \\epsilon_{3} + \\epsilon_{1} \\epsilon_{2} \\epsilon_{4}^{2} - 2 \\epsilon_{1} \\epsilon_{2} \\epsilon_{4} + 2 \\epsilon_{1} \\epsilon_{3} \\epsilon_{4}^{2} - 2 \\epsilon_{1} \\epsilon_{4}^{2} + 2 \\epsilon_{2} \\epsilon_{3} \\epsilon_{4}^{2} - 2 \\epsilon_{2} \\epsilon_{4}^{2}\\right)$"
      ],
      "text/plain": [
       "c1**3*c2**3*c3*c4*epsilon1*epsilon2*kb**4*ku**2*(2*epsilon1*epsilon2*epsilon3*epsilon4 - epsilon1*epsilon2*epsilon3 + epsilon1*epsilon2*epsilon4**2 - 2*epsilon1*epsilon2*epsilon4 + 2*epsilon1*epsilon3*epsilon4**2 - 2*epsilon1*epsilon4**2 + 2*epsilon2*epsilon3*epsilon4**2 - 2*epsilon2*epsilon4**2)"
      ]
     },
     "metadata": {},
     "output_type": "display_data"
    },
    {
     "name": "stdout",
     "output_type": "stream",
     "text": [
      ".\n"
     ]
    },
    {
     "data": {
      "text/latex": [
       "$\\displaystyle c_{1}^{4} c_{2}^{2} c_{3} c_{4} \\epsilon_{1}^{2} \\epsilon_{2} \\epsilon_{4} kb^{4} ku^{2} \\left(\\epsilon_{2} + \\epsilon_{4}\\right) \\left(\\epsilon_{3} - 1\\right)$"
      ],
      "text/plain": [
       "c1**4*c2**2*c3*c4*epsilon1**2*epsilon2*epsilon4*kb**4*ku**2*(epsilon2 + epsilon4)*(epsilon3 - 1)"
      ]
     },
     "metadata": {},
     "output_type": "display_data"
    },
    {
     "name": "stdout",
     "output_type": "stream",
     "text": [
      ".\n"
     ]
    },
    {
     "data": {
      "text/latex": [
       "$\\displaystyle c_{1}^{2} c_{2}^{3} c_{3} c_{4}^{3} \\epsilon_{1}^{2} \\epsilon_{2}^{2} \\epsilon_{4}^{2} kb^{4} ku \\left(\\epsilon_{3} - 1\\right)$"
      ],
      "text/plain": [
       "c1**2*c2**3*c3*c4**3*epsilon1**2*epsilon2**2*epsilon4**2*kb**4*ku*(epsilon3 - 1)"
      ]
     },
     "metadata": {},
     "output_type": "display_data"
    },
    {
     "name": "stdout",
     "output_type": "stream",
     "text": [
      ".\n"
     ]
    },
    {
     "data": {
      "text/latex": [
       "$\\displaystyle c_{1}^{2} c_{2}^{4} c_{3} c_{4}^{2} \\epsilon_{1}^{2} \\epsilon_{2}^{2} \\epsilon_{4}^{2} kb^{4} ku \\left(\\epsilon_{3} - 1\\right)$"
      ],
      "text/plain": [
       "c1**2*c2**4*c3*c4**2*epsilon1**2*epsilon2**2*epsilon4**2*kb**4*ku*(epsilon3 - 1)"
      ]
     },
     "metadata": {},
     "output_type": "display_data"
    },
    {
     "name": "stdout",
     "output_type": "stream",
     "text": [
      ".\n"
     ]
    },
    {
     "data": {
      "text/latex": [
       "$\\displaystyle c_{1}^{3} c_{2}^{2} c_{3} c_{4}^{3} \\epsilon_{1}^{2} \\epsilon_{2}^{2} \\epsilon_{4}^{2} kb^{4} ku \\left(\\epsilon_{3} - 1\\right)$"
      ],
      "text/plain": [
       "c1**3*c2**2*c3*c4**3*epsilon1**2*epsilon2**2*epsilon4**2*kb**4*ku*(epsilon3 - 1)"
      ]
     },
     "metadata": {},
     "output_type": "display_data"
    },
    {
     "name": "stdout",
     "output_type": "stream",
     "text": [
      ".\n"
     ]
    },
    {
     "data": {
      "text/latex": [
       "$\\displaystyle c_{1}^{3} c_{2}^{3} c_{3} c_{4}^{2} \\epsilon_{1}^{2} \\epsilon_{2}^{2} \\epsilon_{4} kb^{4} ku \\left(3 \\epsilon_{3} \\epsilon_{4} - \\epsilon_{3} - 2 \\epsilon_{4}\\right)$"
      ],
      "text/plain": [
       "c1**3*c2**3*c3*c4**2*epsilon1**2*epsilon2**2*epsilon4*kb**4*ku*(3*epsilon3*epsilon4 - epsilon3 - 2*epsilon4)"
      ]
     },
     "metadata": {},
     "output_type": "display_data"
    },
    {
     "name": "stdout",
     "output_type": "stream",
     "text": [
      ".\n"
     ]
    },
    {
     "data": {
      "text/latex": [
       "$\\displaystyle c_{1}^{4} c_{2}^{2} c_{3} c_{4}^{2} \\epsilon_{1}^{2} \\epsilon_{2}^{2} \\epsilon_{4}^{2} kb^{4} ku \\left(\\epsilon_{3} - 1\\right)$"
      ],
      "text/plain": [
       "c1**4*c2**2*c3*c4**2*epsilon1**2*epsilon2**2*epsilon4**2*kb**4*ku*(epsilon3 - 1)"
      ]
     },
     "metadata": {},
     "output_type": "display_data"
    },
    {
     "name": "stdout",
     "output_type": "stream",
     "text": [
      ".\n"
     ]
    },
    {
     "data": {
      "text/latex": [
       "$\\displaystyle c_{1}^{2} c_{2}^{2} c_{3} c_{4}^{2} \\epsilon_{4} kb^{4} ku^{3} \\left(\\epsilon_{1}^{2} \\epsilon_{2} \\epsilon_{3} + \\epsilon_{1}^{2} \\epsilon_{2} \\epsilon_{4} - 2 \\epsilon_{1}^{2} \\epsilon_{2} + \\epsilon_{1}^{2} \\epsilon_{3} \\epsilon_{4} - \\epsilon_{1}^{2} \\epsilon_{4} + \\epsilon_{1} \\epsilon_{2}^{2} \\epsilon_{3} + \\epsilon_{1} \\epsilon_{2}^{2} \\epsilon_{4} - 2 \\epsilon_{1} \\epsilon_{2}^{2} + 3 \\epsilon_{1} \\epsilon_{2} \\epsilon_{3} \\epsilon_{4} - \\epsilon_{1} \\epsilon_{2} \\epsilon_{3} - 2 \\epsilon_{1} \\epsilon_{2} \\epsilon_{4} + \\epsilon_{2}^{2} \\epsilon_{3} \\epsilon_{4} - \\epsilon_{2}^{2} \\epsilon_{4}\\right)$"
      ],
      "text/plain": [
       "c1**2*c2**2*c3*c4**2*epsilon4*kb**4*ku**3*(epsilon1**2*epsilon2*epsilon3 + epsilon1**2*epsilon2*epsilon4 - 2*epsilon1**2*epsilon2 + epsilon1**2*epsilon3*epsilon4 - epsilon1**2*epsilon4 + epsilon1*epsilon2**2*epsilon3 + epsilon1*epsilon2**2*epsilon4 - 2*epsilon1*epsilon2**2 + 3*epsilon1*epsilon2*epsilon3*epsilon4 - epsilon1*epsilon2*epsilon3 - 2*epsilon1*epsilon2*epsilon4 + epsilon2**2*epsilon3*epsilon4 - epsilon2**2*epsilon4)"
      ]
     },
     "metadata": {},
     "output_type": "display_data"
    },
    {
     "name": "stdout",
     "output_type": "stream",
     "text": [
      ".\n"
     ]
    },
    {
     "data": {
      "text/latex": [
       "$\\displaystyle c_{1}^{2} c_{2}^{2} c_{3} c_{4}^{3} \\epsilon_{1} \\epsilon_{2} \\epsilon_{4}^{2} kb^{4} ku^{2} \\left(\\epsilon_{1} + \\epsilon_{2}\\right) \\left(\\epsilon_{3} - 1\\right)$"
      ],
      "text/plain": [
       "c1**2*c2**2*c3*c4**3*epsilon1*epsilon2*epsilon4**2*kb**4*ku**2*(epsilon1 + epsilon2)*(epsilon3 - 1)"
      ]
     },
     "metadata": {},
     "output_type": "display_data"
    },
    {
     "name": "stdout",
     "output_type": "stream",
     "text": [
      ".\n"
     ]
    },
    {
     "data": {
      "text/latex": [
       "$\\displaystyle c_{1}^{2} c_{2}^{3} c_{3} c_{4}^{2} \\epsilon_{1} \\epsilon_{2} \\epsilon_{4} kb^{4} ku^{2} \\left(\\epsilon_{1} \\epsilon_{2} \\epsilon_{3} + \\epsilon_{1} \\epsilon_{2} \\epsilon_{4} - 2 \\epsilon_{1} \\epsilon_{2} + 2 \\epsilon_{1} \\epsilon_{3} \\epsilon_{4} - 2 \\epsilon_{1} \\epsilon_{4} + 3 \\epsilon_{2} \\epsilon_{3} \\epsilon_{4} - \\epsilon_{2} \\epsilon_{3} - 2 \\epsilon_{2} \\epsilon_{4}\\right)$"
      ],
      "text/plain": [
       "c1**2*c2**3*c3*c4**2*epsilon1*epsilon2*epsilon4*kb**4*ku**2*(epsilon1*epsilon2*epsilon3 + epsilon1*epsilon2*epsilon4 - 2*epsilon1*epsilon2 + 2*epsilon1*epsilon3*epsilon4 - 2*epsilon1*epsilon4 + 3*epsilon2*epsilon3*epsilon4 - epsilon2*epsilon3 - 2*epsilon2*epsilon4)"
      ]
     },
     "metadata": {},
     "output_type": "display_data"
    },
    {
     "name": "stdout",
     "output_type": "stream",
     "text": [
      ".\n"
     ]
    },
    {
     "data": {
      "text/latex": [
       "$\\displaystyle c_{1}^{3} c_{2}^{2} c_{3} c_{4}^{2} \\epsilon_{1} \\epsilon_{2} \\epsilon_{4} kb^{4} ku^{2} \\left(\\epsilon_{1} \\epsilon_{2} \\epsilon_{3} + \\epsilon_{1} \\epsilon_{2} \\epsilon_{4} - 2 \\epsilon_{1} \\epsilon_{2} + 3 \\epsilon_{1} \\epsilon_{3} \\epsilon_{4} - \\epsilon_{1} \\epsilon_{3} - 2 \\epsilon_{1} \\epsilon_{4} + 2 \\epsilon_{2} \\epsilon_{3} \\epsilon_{4} - 2 \\epsilon_{2} \\epsilon_{4}\\right)$"
      ],
      "text/plain": [
       "c1**3*c2**2*c3*c4**2*epsilon1*epsilon2*epsilon4*kb**4*ku**2*(epsilon1*epsilon2*epsilon3 + epsilon1*epsilon2*epsilon4 - 2*epsilon1*epsilon2 + 3*epsilon1*epsilon3*epsilon4 - epsilon1*epsilon3 - 2*epsilon1*epsilon4 + 2*epsilon2*epsilon3*epsilon4 - 2*epsilon2*epsilon4)"
      ]
     },
     "metadata": {},
     "output_type": "display_data"
    },
    {
     "name": "stdout",
     "output_type": "stream",
     "text": [
      ".\n"
     ]
    },
    {
     "data": {
      "text/latex": [
       "$\\displaystyle c_{1}^{2} c_{2}^{2} c_{3}^{4} c_{4} \\epsilon_{1} \\epsilon_{2} \\epsilon_{3}^{2} \\epsilon_{4} kb^{4} ku \\left(\\epsilon_{1} \\epsilon_{2} + \\epsilon_{2} \\epsilon_{4} - \\epsilon_{2} - \\epsilon_{4}\\right)$"
      ],
      "text/plain": [
       "c1**2*c2**2*c3**4*c4*epsilon1*epsilon2*epsilon3**2*epsilon4*kb**4*ku*(epsilon1*epsilon2 + epsilon2*epsilon4 - epsilon2 - epsilon4)"
      ]
     },
     "metadata": {},
     "output_type": "display_data"
    },
    {
     "name": "stdout",
     "output_type": "stream",
     "text": [
      ".\n"
     ]
    },
    {
     "data": {
      "text/latex": [
       "$\\displaystyle c_{1}^{2} c_{2}^{3} c_{3}^{3} c_{4} \\epsilon_{1} \\epsilon_{2} \\epsilon_{3} \\epsilon_{4} kb^{4} ku \\left(2 \\epsilon_{1} \\epsilon_{2} \\epsilon_{3} + 3 \\epsilon_{2} \\epsilon_{3} \\epsilon_{4} - 3 \\epsilon_{2} \\epsilon_{3} - \\epsilon_{2} \\epsilon_{4} - \\epsilon_{3} \\epsilon_{4}\\right)$"
      ],
      "text/plain": [
       "c1**2*c2**3*c3**3*c4*epsilon1*epsilon2*epsilon3*epsilon4*kb**4*ku*(2*epsilon1*epsilon2*epsilon3 + 3*epsilon2*epsilon3*epsilon4 - 3*epsilon2*epsilon3 - epsilon2*epsilon4 - epsilon3*epsilon4)"
      ]
     },
     "metadata": {},
     "output_type": "display_data"
    },
    {
     "name": "stdout",
     "output_type": "stream",
     "text": [
      ".\n"
     ]
    },
    {
     "data": {
      "text/latex": [
       "$\\displaystyle c_{1}^{2} c_{2}^{4} c_{3}^{2} c_{4} \\epsilon_{1} \\epsilon_{2}^{2} \\epsilon_{3} \\epsilon_{4} kb^{4} ku \\left(\\epsilon_{1} \\epsilon_{3} + \\epsilon_{3} \\epsilon_{4} - \\epsilon_{3} - \\epsilon_{4}\\right)$"
      ],
      "text/plain": [
       "c1**2*c2**4*c3**2*c4*epsilon1*epsilon2**2*epsilon3*epsilon4*kb**4*ku*(epsilon1*epsilon3 + epsilon3*epsilon4 - epsilon3 - epsilon4)"
      ]
     },
     "metadata": {},
     "output_type": "display_data"
    },
    {
     "name": "stdout",
     "output_type": "stream",
     "text": [
      ".\n"
     ]
    },
    {
     "data": {
      "text/latex": [
       "$\\displaystyle c_{1}^{3} c_{2}^{2} c_{3}^{3} c_{4} \\epsilon_{1} \\epsilon_{2} \\epsilon_{3} \\epsilon_{4} kb^{4} ku \\left(2 \\epsilon_{1} \\epsilon_{2} \\epsilon_{3} + 2 \\epsilon_{1} \\epsilon_{3} \\epsilon_{4} - 2 \\epsilon_{1} \\epsilon_{3} - \\epsilon_{1} \\epsilon_{4} + \\epsilon_{2} \\epsilon_{3} \\epsilon_{4} - \\epsilon_{2} \\epsilon_{3} - \\epsilon_{3} \\epsilon_{4}\\right)$"
      ],
      "text/plain": [
       "c1**3*c2**2*c3**3*c4*epsilon1*epsilon2*epsilon3*epsilon4*kb**4*ku*(2*epsilon1*epsilon2*epsilon3 + 2*epsilon1*epsilon3*epsilon4 - 2*epsilon1*epsilon3 - epsilon1*epsilon4 + epsilon2*epsilon3*epsilon4 - epsilon2*epsilon3 - epsilon3*epsilon4)"
      ]
     },
     "metadata": {},
     "output_type": "display_data"
    },
    {
     "name": "stdout",
     "output_type": "stream",
     "text": [
      ".\n"
     ]
    },
    {
     "data": {
      "text/latex": [
       "$\\displaystyle c_{1}^{3} c_{2}^{3} c_{3}^{2} c_{4} \\epsilon_{1} \\epsilon_{2} \\epsilon_{3} \\epsilon_{4} kb^{4} ku \\left(2 \\epsilon_{1} \\epsilon_{2} \\epsilon_{3} + \\epsilon_{1} \\epsilon_{2} \\epsilon_{4} - \\epsilon_{1} \\epsilon_{2} + \\epsilon_{1} \\epsilon_{3} \\epsilon_{4} - \\epsilon_{1} \\epsilon_{3} - \\epsilon_{1} \\epsilon_{4} + \\epsilon_{2} \\epsilon_{3} \\epsilon_{4} - \\epsilon_{2} \\epsilon_{3} - \\epsilon_{2} \\epsilon_{4}\\right)$"
      ],
      "text/plain": [
       "c1**3*c2**3*c3**2*c4*epsilon1*epsilon2*epsilon3*epsilon4*kb**4*ku*(2*epsilon1*epsilon2*epsilon3 + epsilon1*epsilon2*epsilon4 - epsilon1*epsilon2 + epsilon1*epsilon3*epsilon4 - epsilon1*epsilon3 - epsilon1*epsilon4 + epsilon2*epsilon3*epsilon4 - epsilon2*epsilon3 - epsilon2*epsilon4)"
      ]
     },
     "metadata": {},
     "output_type": "display_data"
    },
    {
     "name": "stdout",
     "output_type": "stream",
     "text": [
      ".\n"
     ]
    },
    {
     "data": {
      "text/latex": [
       "$\\displaystyle c_{1}^{4} c_{2}^{2} c_{3}^{2} c_{4} \\epsilon_{1}^{2} \\epsilon_{2} \\epsilon_{3} \\epsilon_{4} kb^{4} ku \\left(\\epsilon_{2} \\epsilon_{3} + \\epsilon_{3} \\epsilon_{4} - \\epsilon_{3} - \\epsilon_{4}\\right)$"
      ],
      "text/plain": [
       "c1**4*c2**2*c3**2*c4*epsilon1**2*epsilon2*epsilon3*epsilon4*kb**4*ku*(epsilon2*epsilon3 + epsilon3*epsilon4 - epsilon3 - epsilon4)"
      ]
     },
     "metadata": {},
     "output_type": "display_data"
    },
    {
     "name": "stdout",
     "output_type": "stream",
     "text": [
      ".\n"
     ]
    },
    {
     "data": {
      "text/latex": [
       "$\\displaystyle c_{1}^{2} c_{2}^{2} c_{3}^{2} c_{4} kb^{4} ku^{3} \\left(\\epsilon_{1}^{2} \\epsilon_{2}^{2} \\epsilon_{4} + 5 \\epsilon_{1}^{2} \\epsilon_{2} \\epsilon_{3} \\epsilon_{4} - 2 \\epsilon_{1}^{2} \\epsilon_{2} \\epsilon_{3} - \\epsilon_{1}^{2} \\epsilon_{2} \\epsilon_{4} + 2 \\epsilon_{1}^{2} \\epsilon_{3}^{2} \\epsilon_{4} - \\epsilon_{1}^{2} \\epsilon_{3} \\epsilon_{4} + 4 \\epsilon_{1} \\epsilon_{2}^{2} \\epsilon_{3} \\epsilon_{4} - 2 \\epsilon_{1} \\epsilon_{2}^{2} \\epsilon_{3} + \\epsilon_{1} \\epsilon_{2}^{2} \\epsilon_{4}^{2} - \\epsilon_{1} \\epsilon_{2}^{2} \\epsilon_{4} + 5 \\epsilon_{1} \\epsilon_{2} \\epsilon_{3}^{2} \\epsilon_{4} - 2 \\epsilon_{1} \\epsilon_{2} \\epsilon_{3}^{2} + 5 \\epsilon_{1} \\epsilon_{2} \\epsilon_{3} \\epsilon_{4}^{2} - 7 \\epsilon_{1} \\epsilon_{2} \\epsilon_{3} \\epsilon_{4} - 2 \\epsilon_{1} \\epsilon_{2} \\epsilon_{4}^{2} + \\epsilon_{1} \\epsilon_{3}^{2} \\epsilon_{4}^{2} - 2 \\epsilon_{1} \\epsilon_{3}^{2} \\epsilon_{4} - 2 \\epsilon_{1} \\epsilon_{3} \\epsilon_{4}^{2} + \\epsilon_{2}^{2} \\epsilon_{3}^{2} \\epsilon_{4} + \\epsilon_{2}^{2} \\epsilon_{3} \\epsilon_{4}^{2} - \\epsilon_{2}^{2} \\epsilon_{3} \\epsilon_{4} + \\epsilon_{2} \\epsilon_{3}^{2} \\epsilon_{4}^{2} - 2 \\epsilon_{2} \\epsilon_{3}^{2} \\epsilon_{4} - 2 \\epsilon_{2} \\epsilon_{3} \\epsilon_{4}^{2}\\right)$"
      ],
      "text/plain": [
       "c1**2*c2**2*c3**2*c4*kb**4*ku**3*(epsilon1**2*epsilon2**2*epsilon4 + 5*epsilon1**2*epsilon2*epsilon3*epsilon4 - 2*epsilon1**2*epsilon2*epsilon3 - epsilon1**2*epsilon2*epsilon4 + 2*epsilon1**2*epsilon3**2*epsilon4 - epsilon1**2*epsilon3*epsilon4 + 4*epsilon1*epsilon2**2*epsilon3*epsilon4 - 2*epsilon1*epsilon2**2*epsilon3 + epsilon1*epsilon2**2*epsilon4**2 - epsilon1*epsilon2**2*epsilon4 + 5*epsilon1*epsilon2*epsilon3**2*epsilon4 - 2*epsilon1*epsilon2*epsilon3**2 + 5*epsilon1*epsilon2*epsilon3*epsilon4**2 - 7*epsilon1*epsilon2*epsilon3*epsilon4 - 2*epsilon1*epsilon2*epsilon4**2 + epsilon1*epsilon3**2*epsilon4**2 - 2*epsilon1*epsilon3**2*epsilon4 - 2*epsilon1*epsilon3*epsilon4**2 + epsilon2**2*epsilon3**2*epsilon4 + epsilon2**2*epsilon3*epsilon4**2 - epsilon2**2*epsilon3*epsilon4 + epsilon2*epsilon3**2*epsilon4**2 - 2*epsilon2*epsilon3**2*epsilon4 - 2*epsilon2*epsilon3*epsilon4**2)"
      ]
     },
     "metadata": {},
     "output_type": "display_data"
    },
    {
     "name": "stdout",
     "output_type": "stream",
     "text": [
      ".\n"
     ]
    },
    {
     "data": {
      "text/latex": [
       "$\\displaystyle c_{1}^{2} c_{2}^{2} c_{3}^{3} c_{4} \\epsilon_{3} kb^{4} ku^{2} \\left(2 \\epsilon_{1}^{2} \\epsilon_{2}^{2} \\epsilon_{4} + 4 \\epsilon_{1}^{2} \\epsilon_{2} \\epsilon_{3} \\epsilon_{4} - \\epsilon_{1}^{2} \\epsilon_{2} \\epsilon_{3} - \\epsilon_{1}^{2} \\epsilon_{2} \\epsilon_{4} + 3 \\epsilon_{1} \\epsilon_{2}^{2} \\epsilon_{3} \\epsilon_{4} - \\epsilon_{1} \\epsilon_{2}^{2} \\epsilon_{3} + 2 \\epsilon_{1} \\epsilon_{2}^{2} \\epsilon_{4}^{2} - 2 \\epsilon_{1} \\epsilon_{2}^{2} \\epsilon_{4} + 4 \\epsilon_{1} \\epsilon_{2} \\epsilon_{3} \\epsilon_{4}^{2} - 5 \\epsilon_{1} \\epsilon_{2} \\epsilon_{3} \\epsilon_{4} - 3 \\epsilon_{1} \\epsilon_{2} \\epsilon_{4}^{2} - \\epsilon_{1} \\epsilon_{3} \\epsilon_{4}^{2} + \\epsilon_{2}^{2} \\epsilon_{3} \\epsilon_{4}^{2} - \\epsilon_{2}^{2} \\epsilon_{3} \\epsilon_{4} - \\epsilon_{2} \\epsilon_{3} \\epsilon_{4}^{2}\\right)$"
      ],
      "text/plain": [
       "c1**2*c2**2*c3**3*c4*epsilon3*kb**4*ku**2*(2*epsilon1**2*epsilon2**2*epsilon4 + 4*epsilon1**2*epsilon2*epsilon3*epsilon4 - epsilon1**2*epsilon2*epsilon3 - epsilon1**2*epsilon2*epsilon4 + 3*epsilon1*epsilon2**2*epsilon3*epsilon4 - epsilon1*epsilon2**2*epsilon3 + 2*epsilon1*epsilon2**2*epsilon4**2 - 2*epsilon1*epsilon2**2*epsilon4 + 4*epsilon1*epsilon2*epsilon3*epsilon4**2 - 5*epsilon1*epsilon2*epsilon3*epsilon4 - 3*epsilon1*epsilon2*epsilon4**2 - epsilon1*epsilon3*epsilon4**2 + epsilon2**2*epsilon3*epsilon4**2 - epsilon2**2*epsilon3*epsilon4 - epsilon2*epsilon3*epsilon4**2)"
      ]
     },
     "metadata": {},
     "output_type": "display_data"
    },
    {
     "name": "stdout",
     "output_type": "stream",
     "text": [
      ".\n"
     ]
    },
    {
     "data": {
      "text/latex": [
       "$\\displaystyle c_{1}^{2} c_{2}^{3} c_{3}^{2} c_{4} \\epsilon_{2} kb^{4} ku^{2} \\left(3 \\epsilon_{1}^{2} \\epsilon_{2} \\epsilon_{3} \\epsilon_{4} - \\epsilon_{1}^{2} \\epsilon_{2} \\epsilon_{3} + 3 \\epsilon_{1}^{2} \\epsilon_{3}^{2} \\epsilon_{4} - \\epsilon_{1}^{2} \\epsilon_{3} \\epsilon_{4} + 3 \\epsilon_{1} \\epsilon_{2} \\epsilon_{3}^{2} \\epsilon_{4} - \\epsilon_{1} \\epsilon_{2} \\epsilon_{3}^{2} + 4 \\epsilon_{1} \\epsilon_{2} \\epsilon_{3} \\epsilon_{4}^{2} - 4 \\epsilon_{1} \\epsilon_{2} \\epsilon_{3} \\epsilon_{4} - \\epsilon_{1} \\epsilon_{2} \\epsilon_{4}^{2} + 2 \\epsilon_{1} \\epsilon_{3}^{2} \\epsilon_{4}^{2} - 3 \\epsilon_{1} \\epsilon_{3}^{2} \\epsilon_{4} - 3 \\epsilon_{1} \\epsilon_{3} \\epsilon_{4}^{2} + \\epsilon_{2} \\epsilon_{3}^{2} \\epsilon_{4}^{2} - \\epsilon_{2} \\epsilon_{3}^{2} \\epsilon_{4} - \\epsilon_{2} \\epsilon_{3} \\epsilon_{4}^{2}\\right)$"
      ],
      "text/plain": [
       "c1**2*c2**3*c3**2*c4*epsilon2*kb**4*ku**2*(3*epsilon1**2*epsilon2*epsilon3*epsilon4 - epsilon1**2*epsilon2*epsilon3 + 3*epsilon1**2*epsilon3**2*epsilon4 - epsilon1**2*epsilon3*epsilon4 + 3*epsilon1*epsilon2*epsilon3**2*epsilon4 - epsilon1*epsilon2*epsilon3**2 + 4*epsilon1*epsilon2*epsilon3*epsilon4**2 - 4*epsilon1*epsilon2*epsilon3*epsilon4 - epsilon1*epsilon2*epsilon4**2 + 2*epsilon1*epsilon3**2*epsilon4**2 - 3*epsilon1*epsilon3**2*epsilon4 - 3*epsilon1*epsilon3*epsilon4**2 + epsilon2*epsilon3**2*epsilon4**2 - epsilon2*epsilon3**2*epsilon4 - epsilon2*epsilon3*epsilon4**2)"
      ]
     },
     "metadata": {},
     "output_type": "display_data"
    },
    {
     "name": "stdout",
     "output_type": "stream",
     "text": [
      ".\n"
     ]
    },
    {
     "data": {
      "text/latex": [
       "$\\displaystyle c_{1}^{3} c_{2}^{2} c_{3}^{2} c_{4} \\epsilon_{1} kb^{4} ku^{2} \\left(3 \\epsilon_{1} \\epsilon_{2}^{2} \\epsilon_{3} \\epsilon_{4} - \\epsilon_{1} \\epsilon_{2}^{2} \\epsilon_{3} + 4 \\epsilon_{1} \\epsilon_{2} \\epsilon_{3}^{2} \\epsilon_{4} - \\epsilon_{1} \\epsilon_{2} \\epsilon_{3}^{2} + 3 \\epsilon_{1} \\epsilon_{2} \\epsilon_{3} \\epsilon_{4}^{2} - 4 \\epsilon_{1} \\epsilon_{2} \\epsilon_{3} \\epsilon_{4} - \\epsilon_{1} \\epsilon_{2} \\epsilon_{4}^{2} + \\epsilon_{1} \\epsilon_{3}^{2} \\epsilon_{4}^{2} - \\epsilon_{1} \\epsilon_{3}^{2} \\epsilon_{4} - \\epsilon_{1} \\epsilon_{3} \\epsilon_{4}^{2} + 2 \\epsilon_{2}^{2} \\epsilon_{3}^{2} \\epsilon_{4} + \\epsilon_{2}^{2} \\epsilon_{3} \\epsilon_{4}^{2} - \\epsilon_{2}^{2} \\epsilon_{3} \\epsilon_{4} + 2 \\epsilon_{2} \\epsilon_{3}^{2} \\epsilon_{4}^{2} - 3 \\epsilon_{2} \\epsilon_{3}^{2} \\epsilon_{4} - 3 \\epsilon_{2} \\epsilon_{3} \\epsilon_{4}^{2}\\right)$"
      ],
      "text/plain": [
       "c1**3*c2**2*c3**2*c4*epsilon1*kb**4*ku**2*(3*epsilon1*epsilon2**2*epsilon3*epsilon4 - epsilon1*epsilon2**2*epsilon3 + 4*epsilon1*epsilon2*epsilon3**2*epsilon4 - epsilon1*epsilon2*epsilon3**2 + 3*epsilon1*epsilon2*epsilon3*epsilon4**2 - 4*epsilon1*epsilon2*epsilon3*epsilon4 - epsilon1*epsilon2*epsilon4**2 + epsilon1*epsilon3**2*epsilon4**2 - epsilon1*epsilon3**2*epsilon4 - epsilon1*epsilon3*epsilon4**2 + 2*epsilon2**2*epsilon3**2*epsilon4 + epsilon2**2*epsilon3*epsilon4**2 - epsilon2**2*epsilon3*epsilon4 + 2*epsilon2*epsilon3**2*epsilon4**2 - 3*epsilon2*epsilon3**2*epsilon4 - 3*epsilon2*epsilon3*epsilon4**2)"
      ]
     },
     "metadata": {},
     "output_type": "display_data"
    },
    {
     "name": "stdout",
     "output_type": "stream",
     "text": [
      ".\n"
     ]
    },
    {
     "data": {
      "text/latex": [
       "$\\displaystyle c_{1}^{2} c_{2}^{2} c_{3}^{2} c_{4}^{3} \\epsilon_{1} \\epsilon_{2} \\epsilon_{3} \\epsilon_{4}^{2} kb^{4} ku \\left(\\epsilon_{1} \\epsilon_{2} + \\epsilon_{1} \\epsilon_{3} - \\epsilon_{1} + \\epsilon_{2} \\epsilon_{3} - \\epsilon_{2} - \\epsilon_{3}\\right)$"
      ],
      "text/plain": [
       "c1**2*c2**2*c3**2*c4**3*epsilon1*epsilon2*epsilon3*epsilon4**2*kb**4*ku*(epsilon1*epsilon2 + epsilon1*epsilon3 - epsilon1 + epsilon2*epsilon3 - epsilon2 - epsilon3)"
      ]
     },
     "metadata": {},
     "output_type": "display_data"
    },
    {
     "name": "stdout",
     "output_type": "stream",
     "text": [
      ".\n"
     ]
    },
    {
     "data": {
      "text/latex": [
       "$\\displaystyle c_{1}^{2} c_{2}^{2} c_{3}^{3} c_{4}^{2} \\epsilon_{1} \\epsilon_{2} \\epsilon_{3} \\epsilon_{4} kb^{4} ku \\left(\\epsilon_{1} \\epsilon_{2} \\epsilon_{3} + \\epsilon_{1} \\epsilon_{2} \\epsilon_{4} + 2 \\epsilon_{1} \\epsilon_{3} \\epsilon_{4} - \\epsilon_{1} \\epsilon_{3} - \\epsilon_{1} \\epsilon_{4} + 3 \\epsilon_{2} \\epsilon_{3} \\epsilon_{4} - 2 \\epsilon_{2} \\epsilon_{3} - \\epsilon_{2} \\epsilon_{4} - 2 \\epsilon_{3} \\epsilon_{4}\\right)$"
      ],
      "text/plain": [
       "c1**2*c2**2*c3**3*c4**2*epsilon1*epsilon2*epsilon3*epsilon4*kb**4*ku*(epsilon1*epsilon2*epsilon3 + epsilon1*epsilon2*epsilon4 + 2*epsilon1*epsilon3*epsilon4 - epsilon1*epsilon3 - epsilon1*epsilon4 + 3*epsilon2*epsilon3*epsilon4 - 2*epsilon2*epsilon3 - epsilon2*epsilon4 - 2*epsilon3*epsilon4)"
      ]
     },
     "metadata": {},
     "output_type": "display_data"
    },
    {
     "name": "stdout",
     "output_type": "stream",
     "text": [
      ".\n"
     ]
    },
    {
     "data": {
      "text/latex": [
       "$\\displaystyle c_{1}^{2} c_{2}^{3} c_{3}^{2} c_{4}^{2} \\epsilon_{1} \\epsilon_{2} \\epsilon_{3} \\epsilon_{4} kb^{4} ku \\left(\\epsilon_{1} \\epsilon_{2} \\epsilon_{3} + 2 \\epsilon_{1} \\epsilon_{2} \\epsilon_{4} - \\epsilon_{1} \\epsilon_{2} + \\epsilon_{1} \\epsilon_{3} \\epsilon_{4} - \\epsilon_{1} \\epsilon_{4} + 3 \\epsilon_{2} \\epsilon_{3} \\epsilon_{4} - 2 \\epsilon_{2} \\epsilon_{3} - 2 \\epsilon_{2} \\epsilon_{4} - \\epsilon_{3} \\epsilon_{4}\\right)$"
      ],
      "text/plain": [
       "c1**2*c2**3*c3**2*c4**2*epsilon1*epsilon2*epsilon3*epsilon4*kb**4*ku*(epsilon1*epsilon2*epsilon3 + 2*epsilon1*epsilon2*epsilon4 - epsilon1*epsilon2 + epsilon1*epsilon3*epsilon4 - epsilon1*epsilon4 + 3*epsilon2*epsilon3*epsilon4 - 2*epsilon2*epsilon3 - 2*epsilon2*epsilon4 - epsilon3*epsilon4)"
      ]
     },
     "metadata": {},
     "output_type": "display_data"
    },
    {
     "name": "stdout",
     "output_type": "stream",
     "text": [
      ".\n"
     ]
    },
    {
     "data": {
      "text/latex": [
       "$\\displaystyle c_{1}^{3} c_{2}^{2} c_{3}^{2} c_{4}^{2} \\epsilon_{1} \\epsilon_{2} \\epsilon_{3} \\epsilon_{4} kb^{4} ku \\left(\\epsilon_{1} \\epsilon_{2} \\epsilon_{3} + 2 \\epsilon_{1} \\epsilon_{2} \\epsilon_{4} - \\epsilon_{1} \\epsilon_{2} + 3 \\epsilon_{1} \\epsilon_{3} \\epsilon_{4} - 2 \\epsilon_{1} \\epsilon_{3} - 2 \\epsilon_{1} \\epsilon_{4} + \\epsilon_{2} \\epsilon_{3} \\epsilon_{4} - \\epsilon_{2} \\epsilon_{4} - \\epsilon_{3} \\epsilon_{4}\\right)$"
      ],
      "text/plain": [
       "c1**3*c2**2*c3**2*c4**2*epsilon1*epsilon2*epsilon3*epsilon4*kb**4*ku*(epsilon1*epsilon2*epsilon3 + 2*epsilon1*epsilon2*epsilon4 - epsilon1*epsilon2 + 3*epsilon1*epsilon3*epsilon4 - 2*epsilon1*epsilon3 - 2*epsilon1*epsilon4 + epsilon2*epsilon3*epsilon4 - epsilon2*epsilon4 - epsilon3*epsilon4)"
      ]
     },
     "metadata": {},
     "output_type": "display_data"
    },
    {
     "name": "stdout",
     "output_type": "stream",
     "text": [
      ".\n"
     ]
    },
    {
     "data": {
      "text/latex": [
       "$\\displaystyle c_{1}^{2} c_{2}^{2} c_{3}^{2} c_{4}^{2} \\epsilon_{4} kb^{4} ku^{2} \\left(\\epsilon_{1}^{2} \\epsilon_{2}^{2} \\epsilon_{3} + \\epsilon_{1}^{2} \\epsilon_{2}^{2} \\epsilon_{4} + 2 \\epsilon_{1}^{2} \\epsilon_{2} \\epsilon_{3}^{2} + 4 \\epsilon_{1}^{2} \\epsilon_{2} \\epsilon_{3} \\epsilon_{4} - 3 \\epsilon_{1}^{2} \\epsilon_{2} \\epsilon_{3} - \\epsilon_{1}^{2} \\epsilon_{2} \\epsilon_{4} + \\epsilon_{1}^{2} \\epsilon_{3}^{2} \\epsilon_{4} - \\epsilon_{1}^{2} \\epsilon_{3} \\epsilon_{4} + \\epsilon_{1} \\epsilon_{2}^{2} \\epsilon_{3}^{2} + 5 \\epsilon_{1} \\epsilon_{2}^{2} \\epsilon_{3} \\epsilon_{4} - 3 \\epsilon_{1} \\epsilon_{2}^{2} \\epsilon_{3} - \\epsilon_{1} \\epsilon_{2}^{2} \\epsilon_{4} + 5 \\epsilon_{1} \\epsilon_{2} \\epsilon_{3}^{2} \\epsilon_{4} - 4 \\epsilon_{1} \\epsilon_{2} \\epsilon_{3}^{2} - 5 \\epsilon_{1} \\epsilon_{2} \\epsilon_{3} \\epsilon_{4} - \\epsilon_{1} \\epsilon_{3}^{2} \\epsilon_{4} + \\epsilon_{2}^{2} \\epsilon_{3}^{2} \\epsilon_{4} - \\epsilon_{2}^{2} \\epsilon_{3} \\epsilon_{4} - \\epsilon_{2} \\epsilon_{3}^{2} \\epsilon_{4}\\right)$"
      ],
      "text/plain": [
       "c1**2*c2**2*c3**2*c4**2*epsilon4*kb**4*ku**2*(epsilon1**2*epsilon2**2*epsilon3 + epsilon1**2*epsilon2**2*epsilon4 + 2*epsilon1**2*epsilon2*epsilon3**2 + 4*epsilon1**2*epsilon2*epsilon3*epsilon4 - 3*epsilon1**2*epsilon2*epsilon3 - epsilon1**2*epsilon2*epsilon4 + epsilon1**2*epsilon3**2*epsilon4 - epsilon1**2*epsilon3*epsilon4 + epsilon1*epsilon2**2*epsilon3**2 + 5*epsilon1*epsilon2**2*epsilon3*epsilon4 - 3*epsilon1*epsilon2**2*epsilon3 - epsilon1*epsilon2**2*epsilon4 + 5*epsilon1*epsilon2*epsilon3**2*epsilon4 - 4*epsilon1*epsilon2*epsilon3**2 - 5*epsilon1*epsilon2*epsilon3*epsilon4 - epsilon1*epsilon3**2*epsilon4 + epsilon2**2*epsilon3**2*epsilon4 - epsilon2**2*epsilon3*epsilon4 - epsilon2*epsilon3**2*epsilon4)"
      ]
     },
     "metadata": {},
     "output_type": "display_data"
    }
   ],
   "source": [
    "for term in sympy.Add.make_args(sympy.collect(sympy.expand(p11+p21-q11-q21),ku*c1*c2*c3*c4)):\n",
    "    print(\".\")\n",
    "    display(sympy.factor(sympy.expand(term)))"
   ]
  },
  {
   "cell_type": "code",
   "execution_count": 42,
   "metadata": {},
   "outputs": [
    {
     "data": {
      "text/latex": [
       "$\\displaystyle ku^{3} \\left(c_{1}^{2} c_{2} c_{3} \\epsilon_{1}^{2} \\epsilon_{2} kb^{3} - c_{1}^{2} c_{2} c_{3} \\epsilon_{1}^{2} \\epsilon_{3} kb^{3} + c_{1} c_{2}^{2} c_{3} \\epsilon_{1} \\epsilon_{2}^{2} kb^{3} - c_{1} c_{2}^{2} c_{3} \\epsilon_{2}^{2} \\epsilon_{3} kb^{3}\\right) + ku^{2} \\left(c_{1}^{2} c_{2}^{2} c_{3} \\epsilon_{1}^{2} \\epsilon_{2}^{2} kb^{3} - c_{1}^{2} c_{2}^{2} c_{3} \\epsilon_{1}^{2} \\epsilon_{2} \\epsilon_{3} kb^{3} + c_{1}^{2} c_{2} c_{3}^{2} \\epsilon_{1}^{2} \\epsilon_{2} \\epsilon_{3} kb^{3} - c_{1}^{2} c_{2} c_{3}^{2} \\epsilon_{1}^{2} \\epsilon_{3}^{2} kb^{3} + c_{1} c_{2}^{2} c_{3}^{2} \\epsilon_{1} \\epsilon_{2}^{2} \\epsilon_{3} kb^{3} - c_{1} c_{2}^{2} c_{3}^{2} \\epsilon_{1} \\epsilon_{2} \\epsilon_{3}^{2} kb^{3}\\right)$"
      ],
      "text/plain": [
       "ku**3*(c1**2*c2*c3*epsilon1**2*epsilon2*kb**3 - c1**2*c2*c3*epsilon1**2*epsilon3*kb**3 + c1*c2**2*c3*epsilon1*epsilon2**2*kb**3 - c1*c2**2*c3*epsilon2**2*epsilon3*kb**3) + ku**2*(c1**2*c2**2*c3*epsilon1**2*epsilon2**2*kb**3 - c1**2*c2**2*c3*epsilon1**2*epsilon2*epsilon3*kb**3 + c1**2*c2*c3**2*epsilon1**2*epsilon2*epsilon3*kb**3 - c1**2*c2*c3**2*epsilon1**2*epsilon3**2*kb**3 + c1*c2**2*c3**2*epsilon1*epsilon2**2*epsilon3*kb**3 - c1*c2**2*c3**2*epsilon1*epsilon2*epsilon3**2*kb**3)"
      ]
     },
     "execution_count": 42,
     "metadata": {},
     "output_type": "execute_result"
    }
   ],
   "source": [
    "sympy.collect(sympy.expand(pp_22-q_22),ku)"
   ]
  },
  {
   "cell_type": "markdown",
   "metadata": {},
   "source": [
    "Some do not have any matching."
   ]
  },
  {
   "cell_type": "code",
   "execution_count": 21,
   "metadata": {},
   "outputs": [
    {
     "data": {
      "text/latex": [
       "$\\displaystyle \\epsilon_{4} \\left(c_{1}^{2} c_{2} \\epsilon_{1} \\epsilon_{2} kb_{2} kb_{3} + c_{1} c_{2}^{2} \\epsilon_{1} \\epsilon_{2} kb_{1} kb_{3} + c_{1} c_{2} c_{3} \\epsilon_{1} \\epsilon_{2} kb_{1} kb_{2} + c_{1} c_{2} \\epsilon_{1} kb_{1} kb_{3} ku_{2} + c_{1} c_{2} \\epsilon_{2} kb_{2} kb_{3} ku_{1}\\right) \\left(c_{1}^{2} c_{2} c_{3} \\epsilon_{1} \\epsilon_{3} kb_{3} + c_{1}^{2} c_{3}^{2} \\epsilon_{1} \\epsilon_{3} kb_{2} + c_{1}^{2} c_{3} \\epsilon_{1} kb_{2} ku_{3} + c_{1} c_{2}^{2} c_{3} \\epsilon_{2} \\epsilon_{3} kb_{3} + c_{1} c_{2} c_{3}^{2} \\epsilon_{1} \\epsilon_{3} kb_{1} + c_{1} c_{2} c_{3}^{2} \\epsilon_{2} \\epsilon_{3} kb_{2} + c_{1} c_{2} c_{3} \\epsilon_{1} kb_{1} ku_{3} + c_{1} c_{2} c_{3} \\epsilon_{3} kb_{3} ku_{2} + c_{1} c_{3}^{2} \\epsilon_{3} kb_{2} ku_{1} + c_{1} c_{3} kb_{2} ku_{1} ku_{3} + c_{2}^{2} c_{3}^{2} \\epsilon_{2} \\epsilon_{3} kb_{1} + c_{2}^{2} c_{3} \\epsilon_{2} kb_{1} ku_{3} + c_{2} c_{3}^{2} \\epsilon_{3} kb_{1} ku_{2} + c_{2} c_{3} kb_{1} ku_{2} ku_{3}\\right)$"
      ],
      "text/plain": [
       "epsilon4*(c1**2*c2*epsilon1*epsilon2*kb2*kb3 + c1*c2**2*epsilon1*epsilon2*kb1*kb3 + c1*c2*c3*epsilon1*epsilon2*kb1*kb2 + c1*c2*epsilon1*kb1*kb3*ku2 + c1*c2*epsilon2*kb2*kb3*ku1)*(c1**2*c2*c3*epsilon1*epsilon3*kb3 + c1**2*c3**2*epsilon1*epsilon3*kb2 + c1**2*c3*epsilon1*kb2*ku3 + c1*c2**2*c3*epsilon2*epsilon3*kb3 + c1*c2*c3**2*epsilon1*epsilon3*kb1 + c1*c2*c3**2*epsilon2*epsilon3*kb2 + c1*c2*c3*epsilon1*kb1*ku3 + c1*c2*c3*epsilon3*kb3*ku2 + c1*c3**2*epsilon3*kb2*ku1 + c1*c3*kb2*ku1*ku3 + c2**2*c3**2*epsilon2*epsilon3*kb1 + c2**2*c3*epsilon2*kb1*ku3 + c2*c3**2*epsilon3*kb1*ku2 + c2*c3*kb1*ku2*ku3)"
      ]
     },
     "execution_count": 21,
     "metadata": {},
     "output_type": "execute_result"
    }
   ],
   "source": [
    "sympy.collect(sympy.expand(p11+p21+p12_1-q11-q21-q),kb1)"
   ]
  },
  {
   "cell_type": "code",
   "execution_count": 19,
   "metadata": {},
   "outputs": [
    {
     "data": {
      "text/latex": [
       "$\\displaystyle c_{1}^{2} c_{2}^{2} c_{3}^{2} c_{4} \\epsilon_{1}^{2} \\epsilon_{2}^{2} \\epsilon_{3}^{2} kb_{1} kb_{2}^{2} kb_{3}^{2} ku_{4}^{2} - c_{1}^{2} c_{2}^{2} c_{3}^{2} c_{4} \\epsilon_{1}^{2} \\epsilon_{2}^{2} \\epsilon_{3} \\epsilon_{4} kb_{1}^{2} kb_{2}^{2} kb_{4} ku_{3} ku_{4} - c_{1}^{2} c_{2}^{2} c_{3}^{2} c_{4} \\epsilon_{1}^{2} \\epsilon_{2} \\epsilon_{3}^{2} \\epsilon_{4} kb_{1}^{2} kb_{3}^{2} kb_{4} ku_{2} ku_{4} + c_{1}^{2} c_{2}^{2} c_{3}^{2} c_{4} \\epsilon_{1} \\epsilon_{2}^{2} \\epsilon_{3}^{2} \\epsilon_{4} kb_{1} kb_{2} kb_{3}^{2} kb_{4} ku_{1} ku_{4} - c_{1}^{2} c_{2}^{2} c_{3}^{2} c_{4} \\epsilon_{1} \\epsilon_{2}^{2} \\epsilon_{3}^{2} \\epsilon_{4} kb_{2}^{2} kb_{3}^{2} kb_{4} ku_{1} ku_{4} + c_{1}^{2} c_{2}^{2} c_{3} c_{4}^{2} \\epsilon_{1}^{2} \\epsilon_{2}^{2} \\epsilon_{3} \\epsilon_{4} kb_{1}^{2} kb_{2}^{2} kb_{3} ku_{3} ku_{4} - c_{1}^{2} c_{2}^{2} c_{3} c_{4}^{2} \\epsilon_{1}^{2} \\epsilon_{2}^{2} \\epsilon_{4}^{2} kb_{1}^{2} kb_{2}^{2} kb_{4} ku_{3}^{2} + c_{1}^{2} c_{2}^{2} c_{3} c_{4} \\epsilon_{1}^{2} \\epsilon_{2}^{2} \\epsilon_{3} kb_{1}^{2} kb_{2}^{2} kb_{3} ku_{3} ku_{4}^{2} - c_{1}^{2} c_{2}^{2} c_{3} c_{4} \\epsilon_{1}^{2} \\epsilon_{2}^{2} \\epsilon_{4} kb_{1}^{2} kb_{2}^{2} kb_{4} ku_{3}^{2} ku_{4} + c_{1}^{2} c_{2} c_{3}^{2} c_{4}^{2} \\epsilon_{1}^{2} \\epsilon_{2} \\epsilon_{3}^{2} \\epsilon_{4} kb_{1}^{2} kb_{2} kb_{3}^{2} ku_{2} ku_{4} + c_{1}^{2} c_{2} c_{3}^{2} c_{4} \\epsilon_{1}^{2} \\epsilon_{2} \\epsilon_{3}^{2} kb_{1}^{2} kb_{2} kb_{3}^{2} ku_{2} ku_{4}^{2} - c_{1}^{2} c_{2} c_{3}^{2} c_{4} \\epsilon_{1}^{2} \\epsilon_{3}^{2} \\epsilon_{4} kb_{1}^{2} kb_{3}^{2} kb_{4} ku_{2}^{2} ku_{4} + c_{1} c_{2}^{2} c_{3}^{2} c_{4}^{2} \\epsilon_{1} \\epsilon_{2}^{2} \\epsilon_{3}^{2} \\epsilon_{4} kb_{1} kb_{2}^{2} kb_{3}^{2} ku_{1} ku_{4} - c_{1} c_{2}^{2} c_{3}^{2} c_{4}^{2} \\epsilon_{1} \\epsilon_{2}^{2} \\epsilon_{3} \\epsilon_{4}^{2} kb_{1} kb_{2}^{2} kb_{3} kb_{4} ku_{1} ku_{3} + c_{1} c_{2}^{2} c_{3}^{2} c_{4} \\epsilon_{1} \\epsilon_{2}^{2} \\epsilon_{3}^{2} kb_{1} kb_{2}^{2} kb_{3}^{2} ku_{1} ku_{4}^{2} - c_{1} c_{2}^{2} c_{3}^{2} c_{4} \\epsilon_{2}^{2} \\epsilon_{3}^{2} \\epsilon_{4} kb_{2}^{2} kb_{3}^{2} kb_{4} ku_{1}^{2} ku_{4} + kb_{1}^{2} kb_{2} kb_{3} kb_{4} \\left(c_{1}^{2} c_{2}^{2} c_{3}^{2} c_{4} \\epsilon_{1}^{2} \\epsilon_{2} \\epsilon_{3}^{2} \\epsilon_{4} ku_{2} ku_{4} - c_{1}^{2} c_{2} c_{3}^{2} c_{4}^{2} \\epsilon_{1}^{2} \\epsilon_{2} \\epsilon_{3} \\epsilon_{4}^{2} ku_{2} ku_{3}\\right)$"
      ],
      "text/plain": [
       "c1**2*c2**2*c3**2*c4*epsilon1**2*epsilon2**2*epsilon3**2*kb1*kb2**2*kb3**2*ku4**2 - c1**2*c2**2*c3**2*c4*epsilon1**2*epsilon2**2*epsilon3*epsilon4*kb1**2*kb2**2*kb4*ku3*ku4 - c1**2*c2**2*c3**2*c4*epsilon1**2*epsilon2*epsilon3**2*epsilon4*kb1**2*kb3**2*kb4*ku2*ku4 + c1**2*c2**2*c3**2*c4*epsilon1*epsilon2**2*epsilon3**2*epsilon4*kb1*kb2*kb3**2*kb4*ku1*ku4 - c1**2*c2**2*c3**2*c4*epsilon1*epsilon2**2*epsilon3**2*epsilon4*kb2**2*kb3**2*kb4*ku1*ku4 + c1**2*c2**2*c3*c4**2*epsilon1**2*epsilon2**2*epsilon3*epsilon4*kb1**2*kb2**2*kb3*ku3*ku4 - c1**2*c2**2*c3*c4**2*epsilon1**2*epsilon2**2*epsilon4**2*kb1**2*kb2**2*kb4*ku3**2 + c1**2*c2**2*c3*c4*epsilon1**2*epsilon2**2*epsilon3*kb1**2*kb2**2*kb3*ku3*ku4**2 - c1**2*c2**2*c3*c4*epsilon1**2*epsilon2**2*epsilon4*kb1**2*kb2**2*kb4*ku3**2*ku4 + c1**2*c2*c3**2*c4**2*epsilon1**2*epsilon2*epsilon3**2*epsilon4*kb1**2*kb2*kb3**2*ku2*ku4 + c1**2*c2*c3**2*c4*epsilon1**2*epsilon2*epsilon3**2*kb1**2*kb2*kb3**2*ku2*ku4**2 - c1**2*c2*c3**2*c4*epsilon1**2*epsilon3**2*epsilon4*kb1**2*kb3**2*kb4*ku2**2*ku4 + c1*c2**2*c3**2*c4**2*epsilon1*epsilon2**2*epsilon3**2*epsilon4*kb1*kb2**2*kb3**2*ku1*ku4 - c1*c2**2*c3**2*c4**2*epsilon1*epsilon2**2*epsilon3*epsilon4**2*kb1*kb2**2*kb3*kb4*ku1*ku3 + c1*c2**2*c3**2*c4*epsilon1*epsilon2**2*epsilon3**2*kb1*kb2**2*kb3**2*ku1*ku4**2 - c1*c2**2*c3**2*c4*epsilon2**2*epsilon3**2*epsilon4*kb2**2*kb3**2*kb4*ku1**2*ku4 + kb1**2*kb2*kb3*kb4*(c1**2*c2**2*c3**2*c4*epsilon1**2*epsilon2*epsilon3**2*epsilon4*ku2*ku4 - c1**2*c2*c3**2*c4**2*epsilon1**2*epsilon2*epsilon3*epsilon4**2*ku2*ku3)"
      ]
     },
     "execution_count": 19,
     "metadata": {},
     "output_type": "execute_result"
    }
   ],
   "source": [
    "sympy.collect(sympy.expand(p_22-q_22),kb1*kb2*kb3*kb4)"
   ]
  },
  {
   "cell_type": "code",
   "execution_count": 18,
   "metadata": {},
   "outputs": [
    {
     "data": {
      "text/latex": [
       "$\\displaystyle - c_{1} c_{2} c_{3} \\epsilon_{1} \\epsilon_{2} \\epsilon_{3} \\epsilon_{4} kb_{1} kb_{2} kb_{3} ku_{4} \\left(c_{1}^{2} c_{2}^{2} c_{3} \\epsilon_{1} \\epsilon_{2} \\epsilon_{3} kb_{3} kb_{4} + c_{1}^{2} c_{2} c_{3}^{2} \\epsilon_{1} \\epsilon_{2} \\epsilon_{3} kb_{2} kb_{4} + c_{1}^{2} c_{2} c_{3} c_{4} \\epsilon_{1} \\epsilon_{2} \\epsilon_{3} kb_{2} kb_{3} + c_{1}^{2} c_{2} c_{3} \\epsilon_{1} \\epsilon_{2} kb_{2} kb_{4} ku_{3} + c_{1}^{2} c_{2} c_{3} \\epsilon_{1} \\epsilon_{3} kb_{3} kb_{4} ku_{2} + c_{1} c_{2}^{2} c_{3}^{2} \\epsilon_{1} \\epsilon_{2} \\epsilon_{3} kb_{1} kb_{4} + c_{1} c_{2}^{2} c_{3} c_{4} \\epsilon_{1} \\epsilon_{2} \\epsilon_{3} kb_{1} kb_{3} + c_{1} c_{2}^{2} c_{3} \\epsilon_{1} \\epsilon_{2} kb_{1} kb_{4} ku_{3} + c_{1} c_{2}^{2} c_{3} \\epsilon_{2} \\epsilon_{3} kb_{3} kb_{4} ku_{1} + c_{1} c_{2} c_{3}^{2} c_{4} \\epsilon_{1} \\epsilon_{2} \\epsilon_{3} kb_{1} kb_{2} + c_{1} c_{2} c_{3}^{2} \\epsilon_{1} \\epsilon_{3} kb_{1} kb_{4} ku_{2} + c_{1} c_{2} c_{3}^{2} \\epsilon_{2} \\epsilon_{3} kb_{2} kb_{4} ku_{1} + c_{1} c_{2} c_{3} c_{4} \\epsilon_{1} \\epsilon_{3} kb_{1} kb_{3} ku_{2} + c_{1} c_{2} c_{3} c_{4} \\epsilon_{2} \\epsilon_{3} kb_{2} kb_{3} ku_{1} + c_{1} c_{2} c_{3} \\epsilon_{1} kb_{1} kb_{4} ku_{2} ku_{3} + c_{1} c_{2} c_{3} \\epsilon_{2} kb_{2} kb_{4} ku_{1} ku_{3} + c_{1} c_{2} c_{3} \\epsilon_{3} kb_{3} kb_{4} ku_{1} ku_{2}\\right) + c_{1} c_{2} c_{3} \\epsilon_{1} \\epsilon_{2} \\epsilon_{3} kb_{1} kb_{2} kb_{3} ku_{4} \\left(c_{1}^{2} c_{2}^{2} c_{3} \\epsilon_{1} \\epsilon_{2} \\epsilon_{3} kb_{3} kb_{4} + c_{1}^{2} c_{2} c_{3}^{2} \\epsilon_{1} \\epsilon_{2} \\epsilon_{3} kb_{2} kb_{4} + c_{1}^{2} c_{2} c_{3} c_{4} \\epsilon_{1} \\epsilon_{2} \\epsilon_{3} kb_{2} kb_{3} + c_{1}^{2} c_{2} c_{3} \\epsilon_{1} \\epsilon_{2} kb_{2} kb_{4} ku_{3} + c_{1}^{2} c_{2} c_{3} \\epsilon_{1} \\epsilon_{3} kb_{3} kb_{4} ku_{2} + c_{1} c_{2}^{2} c_{3}^{2} \\epsilon_{1} \\epsilon_{2} \\epsilon_{3} kb_{1} kb_{4} + c_{1} c_{2}^{2} c_{3} c_{4} \\epsilon_{1} \\epsilon_{2} \\epsilon_{3} kb_{1} kb_{3} + c_{1} c_{2}^{2} c_{3} \\epsilon_{1} \\epsilon_{2} kb_{1} kb_{4} ku_{3} + c_{1} c_{2}^{2} c_{3} \\epsilon_{2} \\epsilon_{3} kb_{3} kb_{4} ku_{1} + c_{1} c_{2} c_{3}^{2} c_{4} \\epsilon_{1} \\epsilon_{2} \\epsilon_{3} kb_{1} kb_{2} + c_{1} c_{2} c_{3}^{2} \\epsilon_{1} \\epsilon_{3} kb_{1} kb_{4} ku_{2} + c_{1} c_{2} c_{3}^{2} \\epsilon_{2} \\epsilon_{3} kb_{2} kb_{4} ku_{1} + c_{1} c_{2} c_{3} c_{4} \\epsilon_{1} \\epsilon_{3} kb_{1} kb_{3} ku_{2} + c_{1} c_{2} c_{3} c_{4} \\epsilon_{2} \\epsilon_{3} kb_{2} kb_{3} ku_{1} + c_{1} c_{2} c_{3} \\epsilon_{1} kb_{1} kb_{4} ku_{2} ku_{3} + c_{1} c_{2} c_{3} \\epsilon_{2} kb_{2} kb_{4} ku_{1} ku_{3} + c_{1} c_{2} c_{3} \\epsilon_{3} kb_{3} kb_{4} ku_{1} ku_{2}\\right) + c_{1} c_{2} c_{3} \\epsilon_{1} \\epsilon_{2} \\epsilon_{3} kb_{1} kb_{2} kb_{3} ku_{4} \\left(c_{1}^{2} c_{2} c_{4} \\epsilon_{1} \\epsilon_{2} \\epsilon_{4} kb_{2} kb_{4} ku_{3} + c_{1}^{2} c_{3} c_{4} \\epsilon_{1} \\epsilon_{3} \\epsilon_{4} kb_{3} kb_{4} ku_{2} + c_{1} c_{2}^{2} c_{4} \\epsilon_{1} \\epsilon_{2} \\epsilon_{4} kb_{1} kb_{4} ku_{3} + c_{1} c_{2} c_{3} c_{4} \\epsilon_{1} \\epsilon_{2} \\epsilon_{3} kb_{2} kb_{3} ku_{4} + c_{1} c_{2} c_{3} c_{4} \\epsilon_{1} \\epsilon_{3} \\epsilon_{4} kb_{1} kb_{4} ku_{2} + c_{1} c_{2} c_{3} c_{4} \\epsilon_{2} \\epsilon_{3} \\epsilon_{4} kb_{3} kb_{4} ku_{1} + c_{1} c_{2} c_{4}^{2} \\epsilon_{1} \\epsilon_{2} \\epsilon_{4} kb_{1} kb_{2} ku_{3} + c_{1} c_{2} c_{4} \\epsilon_{1} \\epsilon_{2} kb_{1} kb_{2} ku_{3} ku_{4} + c_{1} c_{2} c_{4} \\epsilon_{1} \\epsilon_{4} kb_{1} kb_{4} ku_{2} ku_{3} + c_{1} c_{2} c_{4} \\epsilon_{2} \\epsilon_{4} kb_{2} kb_{4} ku_{1} ku_{3} + c_{1} c_{3}^{2} c_{4} \\epsilon_{1} \\epsilon_{3} \\epsilon_{4} kb_{1} kb_{4} ku_{2} + c_{1} c_{3} c_{4}^{2} \\epsilon_{1} \\epsilon_{3} \\epsilon_{4} kb_{1} kb_{3} ku_{2} + c_{1} c_{3} c_{4} \\epsilon_{1} \\epsilon_{3} kb_{1} kb_{3} ku_{2} ku_{4} + c_{1} c_{3} c_{4} \\epsilon_{1} \\epsilon_{4} kb_{1} kb_{4} ku_{2} ku_{3} + c_{1} c_{3} c_{4} \\epsilon_{3} \\epsilon_{4} kb_{3} kb_{4} ku_{1} ku_{2} + c_{2}^{2} c_{3} c_{4} \\epsilon_{2} \\epsilon_{3} \\epsilon_{4} kb_{3} kb_{4} ku_{1} + c_{2} c_{3}^{2} c_{4} \\epsilon_{2} \\epsilon_{3} \\epsilon_{4} kb_{2} kb_{4} ku_{1} + c_{2} c_{3} c_{4}^{2} \\epsilon_{2} \\epsilon_{3} \\epsilon_{4} kb_{2} kb_{3} ku_{1} + c_{2} c_{3} c_{4} \\epsilon_{2} \\epsilon_{3} kb_{2} kb_{3} ku_{1} ku_{4} + c_{2} c_{3} c_{4} \\epsilon_{2} \\epsilon_{4} kb_{2} kb_{4} ku_{1} ku_{3} + c_{2} c_{3} c_{4} \\epsilon_{3} \\epsilon_{4} kb_{3} kb_{4} ku_{1} ku_{2}\\right) + c_{1} c_{2} c_{3} \\epsilon_{1} \\epsilon_{2} \\epsilon_{3} kb_{1} kb_{2} kb_{3} ku_{4} \\left(c_{1}^{2} c_{2}^{2} c_{4} \\epsilon_{1} \\epsilon_{2} \\epsilon_{4} kb_{3} kb_{4} + c_{1}^{2} c_{2} c_{3} c_{4} \\epsilon_{1} \\epsilon_{2} \\epsilon_{4} kb_{2} kb_{4} + c_{1}^{2} c_{2} c_{3} c_{4} \\epsilon_{1} \\epsilon_{3} \\epsilon_{4} kb_{3} kb_{4} + c_{1}^{2} c_{2} c_{4}^{2} \\epsilon_{1} \\epsilon_{2} \\epsilon_{4} kb_{2} kb_{3} + c_{1}^{2} c_{2} c_{4} \\epsilon_{1} \\epsilon_{2} kb_{2} kb_{3} ku_{4} + c_{1}^{2} c_{2} c_{4} \\epsilon_{1} \\epsilon_{4} kb_{3} kb_{4} ku_{2} + c_{1}^{2} c_{3}^{2} c_{4} \\epsilon_{1} \\epsilon_{3} \\epsilon_{4} kb_{2} kb_{4} + c_{1}^{2} c_{3} c_{4}^{2} \\epsilon_{1} \\epsilon_{3} \\epsilon_{4} kb_{2} kb_{3} + c_{1}^{2} c_{3} c_{4} \\epsilon_{1} \\epsilon_{3} kb_{2} kb_{3} ku_{4} + c_{1}^{2} c_{3} c_{4} \\epsilon_{1} \\epsilon_{4} kb_{2} kb_{4} ku_{3} + c_{1} c_{2}^{2} c_{3} c_{4} \\epsilon_{1} \\epsilon_{2} \\epsilon_{4} kb_{1} kb_{4} + c_{1} c_{2}^{2} c_{3} c_{4} \\epsilon_{2} \\epsilon_{3} \\epsilon_{4} kb_{3} kb_{4} + c_{1} c_{2}^{2} c_{4}^{2} \\epsilon_{1} \\epsilon_{2} \\epsilon_{4} kb_{1} kb_{3} + c_{1} c_{2}^{2} c_{4} \\epsilon_{1} \\epsilon_{2} kb_{1} kb_{3} ku_{4} + c_{1} c_{2}^{2} c_{4} \\epsilon_{2} \\epsilon_{4} kb_{3} kb_{4} ku_{1} + c_{1} c_{2} c_{3}^{2} c_{4} \\epsilon_{1} \\epsilon_{3} \\epsilon_{4} kb_{1} kb_{4} + c_{1} c_{2} c_{3}^{2} c_{4} \\epsilon_{2} \\epsilon_{3} \\epsilon_{4} kb_{2} kb_{4} + c_{1} c_{2} c_{3} c_{4}^{2} \\epsilon_{1} \\epsilon_{2} \\epsilon_{4} kb_{1} kb_{2} + c_{1} c_{2} c_{3} c_{4}^{2} \\epsilon_{1} \\epsilon_{3} \\epsilon_{4} kb_{1} kb_{3} + c_{1} c_{2} c_{3} c_{4}^{2} \\epsilon_{2} \\epsilon_{3} \\epsilon_{4} kb_{2} kb_{3} + c_{1} c_{2} c_{3} c_{4} \\epsilon_{1} \\epsilon_{2} kb_{1} kb_{2} ku_{4} + c_{1} c_{2} c_{3} c_{4} \\epsilon_{1} \\epsilon_{3} kb_{1} kb_{3} ku_{4} + c_{1} c_{2} c_{3} c_{4} \\epsilon_{1} \\epsilon_{4} kb_{1} kb_{4} ku_{3} + c_{1} c_{2} c_{3} c_{4} \\epsilon_{2} \\epsilon_{4} kb_{2} kb_{4} ku_{1} + c_{1} c_{2} c_{3} c_{4} \\epsilon_{2} \\epsilon_{4} kb_{2} kb_{4} ku_{3} + c_{1} c_{2} c_{3} c_{4} \\epsilon_{3} \\epsilon_{4} kb_{3} kb_{4} ku_{2} + c_{1} c_{2} c_{4}^{2} \\epsilon_{1} \\epsilon_{4} kb_{1} kb_{3} ku_{2} + c_{1} c_{2} c_{4}^{2} \\epsilon_{2} \\epsilon_{4} kb_{2} kb_{3} ku_{1} + c_{1} c_{2} c_{4} \\epsilon_{1} kb_{1} kb_{3} ku_{2} ku_{4} + c_{1} c_{2} c_{4} \\epsilon_{2} kb_{2} kb_{3} ku_{1} ku_{4} + c_{1} c_{2} c_{4} \\epsilon_{4} kb_{3} kb_{4} ku_{1} ku_{2} + c_{1} c_{3}^{2} c_{4}^{2} \\epsilon_{1} \\epsilon_{3} \\epsilon_{4} kb_{1} kb_{2} + c_{1} c_{3}^{2} c_{4} \\epsilon_{1} \\epsilon_{3} kb_{1} kb_{2} ku_{4} + c_{1} c_{3}^{2} c_{4} \\epsilon_{3} \\epsilon_{4} kb_{2} kb_{4} ku_{1} + c_{1} c_{3} c_{4}^{2} \\epsilon_{1} \\epsilon_{4} kb_{1} kb_{2} ku_{3} + c_{1} c_{3} c_{4}^{2} \\epsilon_{3} \\epsilon_{4} kb_{2} kb_{3} ku_{1} + c_{1} c_{3} c_{4} \\epsilon_{1} kb_{1} kb_{2} ku_{3} ku_{4} + c_{1} c_{3} c_{4} \\epsilon_{3} kb_{2} kb_{3} ku_{1} ku_{4} + c_{1} c_{3} c_{4} \\epsilon_{4} kb_{2} kb_{4} ku_{1} ku_{3} + c_{2}^{2} c_{3}^{2} c_{4} \\epsilon_{2} \\epsilon_{3} \\epsilon_{4} kb_{1} kb_{4} + c_{2}^{2} c_{3} c_{4}^{2} \\epsilon_{2} \\epsilon_{3} \\epsilon_{4} kb_{1} kb_{3} + c_{2}^{2} c_{3} c_{4} \\epsilon_{2} \\epsilon_{3} kb_{1} kb_{3} ku_{4} + c_{2}^{2} c_{3} c_{4} \\epsilon_{2} \\epsilon_{4} kb_{1} kb_{4} ku_{3} + c_{2} c_{3}^{2} c_{4}^{2} \\epsilon_{2} \\epsilon_{3} \\epsilon_{4} kb_{1} kb_{2} + c_{2} c_{3}^{2} c_{4} \\epsilon_{2} \\epsilon_{3} kb_{1} kb_{2} ku_{4} + c_{2} c_{3}^{2} c_{4} \\epsilon_{3} \\epsilon_{4} kb_{1} kb_{4} ku_{2} + c_{2} c_{3} c_{4}^{2} \\epsilon_{2} \\epsilon_{4} kb_{1} kb_{2} ku_{3} + c_{2} c_{3} c_{4}^{2} \\epsilon_{3} \\epsilon_{4} kb_{1} kb_{3} ku_{2} + c_{2} c_{3} c_{4} \\epsilon_{2} kb_{1} kb_{2} ku_{3} ku_{4} + c_{2} c_{3} c_{4} \\epsilon_{3} kb_{1} kb_{3} ku_{2} ku_{4} + c_{2} c_{3} c_{4} \\epsilon_{4} kb_{1} kb_{4} ku_{2} ku_{3}\\right) - \\epsilon_{4} \\left(c_{1} c_{2} c_{4} \\epsilon_{1} \\epsilon_{2} \\epsilon_{4} kb_{1} kb_{2} kb_{4} ku_{3} + c_{1} c_{3} c_{4} \\epsilon_{1} \\epsilon_{3} \\epsilon_{4} kb_{1} kb_{3} kb_{4} ku_{2} + c_{2} c_{3} c_{4} \\epsilon_{2} \\epsilon_{3} \\epsilon_{4} kb_{2} kb_{3} kb_{4} ku_{1}\\right) \\left(c_{1}^{2} c_{2}^{2} c_{3} \\epsilon_{1} \\epsilon_{2} \\epsilon_{3} kb_{3} kb_{4} + c_{1}^{2} c_{2} c_{3}^{2} \\epsilon_{1} \\epsilon_{2} \\epsilon_{3} kb_{2} kb_{4} + c_{1}^{2} c_{2} c_{3} c_{4} \\epsilon_{1} \\epsilon_{2} \\epsilon_{3} kb_{2} kb_{3} + c_{1}^{2} c_{2} c_{3} \\epsilon_{1} \\epsilon_{2} kb_{2} kb_{4} ku_{3} + c_{1}^{2} c_{2} c_{3} \\epsilon_{1} \\epsilon_{3} kb_{3} kb_{4} ku_{2} + c_{1} c_{2}^{2} c_{3}^{2} \\epsilon_{1} \\epsilon_{2} \\epsilon_{3} kb_{1} kb_{4} + c_{1} c_{2}^{2} c_{3} c_{4} \\epsilon_{1} \\epsilon_{2} \\epsilon_{3} kb_{1} kb_{3} + c_{1} c_{2}^{2} c_{3} \\epsilon_{1} \\epsilon_{2} kb_{1} kb_{4} ku_{3} + c_{1} c_{2}^{2} c_{3} \\epsilon_{2} \\epsilon_{3} kb_{3} kb_{4} ku_{1} + c_{1} c_{2} c_{3}^{2} c_{4} \\epsilon_{1} \\epsilon_{2} \\epsilon_{3} kb_{1} kb_{2} + c_{1} c_{2} c_{3}^{2} \\epsilon_{1} \\epsilon_{3} kb_{1} kb_{4} ku_{2} + c_{1} c_{2} c_{3}^{2} \\epsilon_{2} \\epsilon_{3} kb_{2} kb_{4} ku_{1} + c_{1} c_{2} c_{3} c_{4} \\epsilon_{1} \\epsilon_{3} kb_{1} kb_{3} ku_{2} + c_{1} c_{2} c_{3} c_{4} \\epsilon_{2} \\epsilon_{3} kb_{2} kb_{3} ku_{1} + c_{1} c_{2} c_{3} \\epsilon_{1} kb_{1} kb_{4} ku_{2} ku_{3} + c_{1} c_{2} c_{3} \\epsilon_{2} kb_{2} kb_{4} ku_{1} ku_{3} + c_{1} c_{2} c_{3} \\epsilon_{3} kb_{3} kb_{4} ku_{1} ku_{2}\\right) + \\epsilon_{4} \\left(c_{1}^{2} c_{2} c_{3} \\epsilon_{1} \\epsilon_{2} \\epsilon_{3} kb_{2} kb_{3} kb_{4} + c_{1} c_{2}^{2} c_{3} \\epsilon_{1} \\epsilon_{2} \\epsilon_{3} kb_{1} kb_{3} kb_{4} + c_{1} c_{2} c_{3}^{2} \\epsilon_{1} \\epsilon_{2} \\epsilon_{3} kb_{1} kb_{2} kb_{4} + c_{1} c_{2} c_{3} c_{4} \\epsilon_{1} \\epsilon_{2} \\epsilon_{3} kb_{1} kb_{2} kb_{3} + c_{1} c_{2} c_{3} \\epsilon_{1} \\epsilon_{2} kb_{1} kb_{2} kb_{4} ku_{3} + c_{1} c_{2} c_{3} \\epsilon_{1} \\epsilon_{3} kb_{1} kb_{3} kb_{4} ku_{2} + c_{1} c_{2} c_{3} \\epsilon_{2} \\epsilon_{3} kb_{2} kb_{3} kb_{4} ku_{1}\\right) \\left(c_{1}^{2} c_{2} c_{4} \\epsilon_{1} \\epsilon_{2} \\epsilon_{4} kb_{2} kb_{4} ku_{3} + c_{1}^{2} c_{3} c_{4} \\epsilon_{1} \\epsilon_{3} \\epsilon_{4} kb_{3} kb_{4} ku_{2} + c_{1} c_{2}^{2} c_{4} \\epsilon_{1} \\epsilon_{2} \\epsilon_{4} kb_{1} kb_{4} ku_{3} + c_{1} c_{2} c_{3} c_{4} \\epsilon_{1} \\epsilon_{2} \\epsilon_{3} kb_{2} kb_{3} ku_{4} + c_{1} c_{2} c_{3} c_{4} \\epsilon_{1} \\epsilon_{3} \\epsilon_{4} kb_{1} kb_{4} ku_{2} + c_{1} c_{2} c_{3} c_{4} \\epsilon_{2} \\epsilon_{3} \\epsilon_{4} kb_{3} kb_{4} ku_{1} + c_{1} c_{2} c_{4}^{2} \\epsilon_{1} \\epsilon_{2} \\epsilon_{4} kb_{1} kb_{2} ku_{3} + c_{1} c_{2} c_{4} \\epsilon_{1} \\epsilon_{2} kb_{1} kb_{2} ku_{3} ku_{4} + c_{1} c_{2} c_{4} \\epsilon_{1} \\epsilon_{4} kb_{1} kb_{4} ku_{2} ku_{3} + c_{1} c_{2} c_{4} \\epsilon_{2} \\epsilon_{4} kb_{2} kb_{4} ku_{1} ku_{3} + c_{1} c_{3}^{2} c_{4} \\epsilon_{1} \\epsilon_{3} \\epsilon_{4} kb_{1} kb_{4} ku_{2} + c_{1} c_{3} c_{4}^{2} \\epsilon_{1} \\epsilon_{3} \\epsilon_{4} kb_{1} kb_{3} ku_{2} + c_{1} c_{3} c_{4} \\epsilon_{1} \\epsilon_{3} kb_{1} kb_{3} ku_{2} ku_{4} + c_{1} c_{3} c_{4} \\epsilon_{1} \\epsilon_{4} kb_{1} kb_{4} ku_{2} ku_{3} + c_{1} c_{3} c_{4} \\epsilon_{3} \\epsilon_{4} kb_{3} kb_{4} ku_{1} ku_{2} + c_{2}^{2} c_{3} c_{4} \\epsilon_{2} \\epsilon_{3} \\epsilon_{4} kb_{3} kb_{4} ku_{1} + c_{2} c_{3}^{2} c_{4} \\epsilon_{2} \\epsilon_{3} \\epsilon_{4} kb_{2} kb_{4} ku_{1} + c_{2} c_{3} c_{4}^{2} \\epsilon_{2} \\epsilon_{3} \\epsilon_{4} kb_{2} kb_{3} ku_{1} + c_{2} c_{3} c_{4} \\epsilon_{2} \\epsilon_{3} kb_{2} kb_{3} ku_{1} ku_{4} + c_{2} c_{3} c_{4} \\epsilon_{2} \\epsilon_{4} kb_{2} kb_{4} ku_{1} ku_{3} + c_{2} c_{3} c_{4} \\epsilon_{3} \\epsilon_{4} kb_{3} kb_{4} ku_{1} ku_{2}\\right) + \\epsilon_{4} \\left(c_{1}^{2} c_{2} c_{3} \\epsilon_{1} \\epsilon_{2} \\epsilon_{3} kb_{2} kb_{3} kb_{4} + c_{1} c_{2}^{2} c_{3} \\epsilon_{1} \\epsilon_{2} \\epsilon_{3} kb_{1} kb_{3} kb_{4} + c_{1} c_{2} c_{3}^{2} \\epsilon_{1} \\epsilon_{2} \\epsilon_{3} kb_{1} kb_{2} kb_{4} + c_{1} c_{2} c_{3} c_{4} \\epsilon_{1} \\epsilon_{2} \\epsilon_{3} kb_{1} kb_{2} kb_{3} + c_{1} c_{2} c_{3} \\epsilon_{1} \\epsilon_{2} kb_{1} kb_{2} kb_{4} ku_{3} + c_{1} c_{2} c_{3} \\epsilon_{1} \\epsilon_{3} kb_{1} kb_{3} kb_{4} ku_{2} + c_{1} c_{2} c_{3} \\epsilon_{2} \\epsilon_{3} kb_{2} kb_{3} kb_{4} ku_{1}\\right) \\left(c_{1}^{2} c_{2}^{2} c_{4} \\epsilon_{1} \\epsilon_{2} \\epsilon_{4} kb_{3} kb_{4} + c_{1}^{2} c_{2} c_{3} c_{4} \\epsilon_{1} \\epsilon_{2} \\epsilon_{4} kb_{2} kb_{4} + c_{1}^{2} c_{2} c_{3} c_{4} \\epsilon_{1} \\epsilon_{3} \\epsilon_{4} kb_{3} kb_{4} + c_{1}^{2} c_{2} c_{4}^{2} \\epsilon_{1} \\epsilon_{2} \\epsilon_{4} kb_{2} kb_{3} + c_{1}^{2} c_{2} c_{4} \\epsilon_{1} \\epsilon_{2} kb_{2} kb_{3} ku_{4} + c_{1}^{2} c_{2} c_{4} \\epsilon_{1} \\epsilon_{4} kb_{3} kb_{4} ku_{2} + c_{1}^{2} c_{3}^{2} c_{4} \\epsilon_{1} \\epsilon_{3} \\epsilon_{4} kb_{2} kb_{4} + c_{1}^{2} c_{3} c_{4}^{2} \\epsilon_{1} \\epsilon_{3} \\epsilon_{4} kb_{2} kb_{3} + c_{1}^{2} c_{3} c_{4} \\epsilon_{1} \\epsilon_{3} kb_{2} kb_{3} ku_{4} + c_{1}^{2} c_{3} c_{4} \\epsilon_{1} \\epsilon_{4} kb_{2} kb_{4} ku_{3} + c_{1} c_{2}^{2} c_{3} c_{4} \\epsilon_{1} \\epsilon_{2} \\epsilon_{4} kb_{1} kb_{4} + c_{1} c_{2}^{2} c_{3} c_{4} \\epsilon_{2} \\epsilon_{3} \\epsilon_{4} kb_{3} kb_{4} + c_{1} c_{2}^{2} c_{4}^{2} \\epsilon_{1} \\epsilon_{2} \\epsilon_{4} kb_{1} kb_{3} + c_{1} c_{2}^{2} c_{4} \\epsilon_{1} \\epsilon_{2} kb_{1} kb_{3} ku_{4} + c_{1} c_{2}^{2} c_{4} \\epsilon_{2} \\epsilon_{4} kb_{3} kb_{4} ku_{1} + c_{1} c_{2} c_{3}^{2} c_{4} \\epsilon_{1} \\epsilon_{3} \\epsilon_{4} kb_{1} kb_{4} + c_{1} c_{2} c_{3}^{2} c_{4} \\epsilon_{2} \\epsilon_{3} \\epsilon_{4} kb_{2} kb_{4} + c_{1} c_{2} c_{3} c_{4}^{2} \\epsilon_{1} \\epsilon_{2} \\epsilon_{4} kb_{1} kb_{2} + c_{1} c_{2} c_{3} c_{4}^{2} \\epsilon_{1} \\epsilon_{3} \\epsilon_{4} kb_{1} kb_{3} + c_{1} c_{2} c_{3} c_{4}^{2} \\epsilon_{2} \\epsilon_{3} \\epsilon_{4} kb_{2} kb_{3} + c_{1} c_{2} c_{3} c_{4} \\epsilon_{1} \\epsilon_{2} kb_{1} kb_{2} ku_{4} + c_{1} c_{2} c_{3} c_{4} \\epsilon_{1} \\epsilon_{3} kb_{1} kb_{3} ku_{4} + c_{1} c_{2} c_{3} c_{4} \\epsilon_{1} \\epsilon_{4} kb_{1} kb_{4} ku_{3} + c_{1} c_{2} c_{3} c_{4} \\epsilon_{2} \\epsilon_{4} kb_{2} kb_{4} ku_{1} + c_{1} c_{2} c_{3} c_{4} \\epsilon_{2} \\epsilon_{4} kb_{2} kb_{4} ku_{3} + c_{1} c_{2} c_{3} c_{4} \\epsilon_{3} \\epsilon_{4} kb_{3} kb_{4} ku_{2} + c_{1} c_{2} c_{4}^{2} \\epsilon_{1} \\epsilon_{4} kb_{1} kb_{3} ku_{2} + c_{1} c_{2} c_{4}^{2} \\epsilon_{2} \\epsilon_{4} kb_{2} kb_{3} ku_{1} + c_{1} c_{2} c_{4} \\epsilon_{1} kb_{1} kb_{3} ku_{2} ku_{4} + c_{1} c_{2} c_{4} \\epsilon_{2} kb_{2} kb_{3} ku_{1} ku_{4} + c_{1} c_{2} c_{4} \\epsilon_{4} kb_{3} kb_{4} ku_{1} ku_{2} + c_{1} c_{3}^{2} c_{4}^{2} \\epsilon_{1} \\epsilon_{3} \\epsilon_{4} kb_{1} kb_{2} + c_{1} c_{3}^{2} c_{4} \\epsilon_{1} \\epsilon_{3} kb_{1} kb_{2} ku_{4} + c_{1} c_{3}^{2} c_{4} \\epsilon_{3} \\epsilon_{4} kb_{2} kb_{4} ku_{1} + c_{1} c_{3} c_{4}^{2} \\epsilon_{1} \\epsilon_{4} kb_{1} kb_{2} ku_{3} + c_{1} c_{3} c_{4}^{2} \\epsilon_{3} \\epsilon_{4} kb_{2} kb_{3} ku_{1} + c_{1} c_{3} c_{4} \\epsilon_{1} kb_{1} kb_{2} ku_{3} ku_{4} + c_{1} c_{3} c_{4} \\epsilon_{3} kb_{2} kb_{3} ku_{1} ku_{4} + c_{1} c_{3} c_{4} \\epsilon_{4} kb_{2} kb_{4} ku_{1} ku_{3} + c_{2}^{2} c_{3}^{2} c_{4} \\epsilon_{2} \\epsilon_{3} \\epsilon_{4} kb_{1} kb_{4} + c_{2}^{2} c_{3} c_{4}^{2} \\epsilon_{2} \\epsilon_{3} \\epsilon_{4} kb_{1} kb_{3} + c_{2}^{2} c_{3} c_{4} \\epsilon_{2} \\epsilon_{3} kb_{1} kb_{3} ku_{4} + c_{2}^{2} c_{3} c_{4} \\epsilon_{2} \\epsilon_{4} kb_{1} kb_{4} ku_{3} + c_{2} c_{3}^{2} c_{4}^{2} \\epsilon_{2} \\epsilon_{3} \\epsilon_{4} kb_{1} kb_{2} + c_{2} c_{3}^{2} c_{4} \\epsilon_{2} \\epsilon_{3} kb_{1} kb_{2} ku_{4} + c_{2} c_{3}^{2} c_{4} \\epsilon_{3} \\epsilon_{4} kb_{1} kb_{4} ku_{2} + c_{2} c_{3} c_{4}^{2} \\epsilon_{2} \\epsilon_{4} kb_{1} kb_{2} ku_{3} + c_{2} c_{3} c_{4}^{2} \\epsilon_{3} \\epsilon_{4} kb_{1} kb_{3} ku_{2} + c_{2} c_{3} c_{4} \\epsilon_{2} kb_{1} kb_{2} ku_{3} ku_{4} + c_{2} c_{3} c_{4} \\epsilon_{3} kb_{1} kb_{3} ku_{2} ku_{4} + c_{2} c_{3} c_{4} \\epsilon_{4} kb_{1} kb_{4} ku_{2} ku_{3}\\right) - \\epsilon_{4} \\left(c_{1}^{2} c_{2}^{2} c_{3} \\epsilon_{1} \\epsilon_{2} \\epsilon_{3} kb_{3} kb_{4} + c_{1}^{2} c_{2} c_{3}^{2} \\epsilon_{1} \\epsilon_{2} \\epsilon_{3} kb_{2} kb_{4} + c_{1}^{2} c_{2} c_{3} c_{4} \\epsilon_{1} \\epsilon_{2} \\epsilon_{3} kb_{2} kb_{3} + c_{1}^{2} c_{2} c_{3} \\epsilon_{1} \\epsilon_{2} kb_{2} kb_{4} ku_{3} + c_{1}^{2} c_{2} c_{3} \\epsilon_{1} \\epsilon_{3} kb_{3} kb_{4} ku_{2} + c_{1} c_{2}^{2} c_{3}^{2} \\epsilon_{1} \\epsilon_{2} \\epsilon_{3} kb_{1} kb_{4} + c_{1} c_{2}^{2} c_{3} c_{4} \\epsilon_{1} \\epsilon_{2} \\epsilon_{3} kb_{1} kb_{3} + c_{1} c_{2}^{2} c_{3} \\epsilon_{1} \\epsilon_{2} kb_{1} kb_{4} ku_{3} + c_{1} c_{2}^{2} c_{3} \\epsilon_{2} \\epsilon_{3} kb_{3} kb_{4} ku_{1} + c_{1} c_{2} c_{3}^{2} c_{4} \\epsilon_{1} \\epsilon_{2} \\epsilon_{3} kb_{1} kb_{2} + c_{1} c_{2} c_{3}^{2} \\epsilon_{1} \\epsilon_{3} kb_{1} kb_{4} ku_{2} + c_{1} c_{2} c_{3}^{2} \\epsilon_{2} \\epsilon_{3} kb_{2} kb_{4} ku_{1} + c_{1} c_{2} c_{3} c_{4} \\epsilon_{1} \\epsilon_{3} kb_{1} kb_{3} ku_{2} + c_{1} c_{2} c_{3} c_{4} \\epsilon_{2} \\epsilon_{3} kb_{2} kb_{3} ku_{1} + c_{1} c_{2} c_{3} \\epsilon_{1} kb_{1} kb_{4} ku_{2} ku_{3} + c_{1} c_{2} c_{3} \\epsilon_{2} kb_{2} kb_{4} ku_{1} ku_{3} + c_{1} c_{2} c_{3} \\epsilon_{3} kb_{3} kb_{4} ku_{1} ku_{2}\\right) \\left(c_{1}^{2} c_{2} c_{4} \\epsilon_{1} \\epsilon_{2} \\epsilon_{4} kb_{2} kb_{3} kb_{4} + c_{1}^{2} c_{3} c_{4} \\epsilon_{1} \\epsilon_{3} \\epsilon_{4} kb_{2} kb_{3} kb_{4} + c_{1} c_{2}^{2} c_{4} \\epsilon_{1} \\epsilon_{2} \\epsilon_{4} kb_{1} kb_{3} kb_{4} + c_{1} c_{2} c_{3} c_{4} \\epsilon_{1} \\epsilon_{2} \\epsilon_{4} kb_{1} kb_{2} kb_{4} + c_{1} c_{2} c_{3} c_{4} \\epsilon_{1} \\epsilon_{3} \\epsilon_{4} kb_{1} kb_{3} kb_{4} + c_{1} c_{2} c_{3} c_{4} \\epsilon_{2} \\epsilon_{3} \\epsilon_{4} kb_{2} kb_{3} kb_{4} + c_{1} c_{2} c_{4}^{2} \\epsilon_{1} \\epsilon_{2} \\epsilon_{4} kb_{1} kb_{2} kb_{3} + c_{1} c_{2} c_{4} \\epsilon_{1} \\epsilon_{2} kb_{1} kb_{2} kb_{3} ku_{4} + c_{1} c_{2} c_{4} \\epsilon_{1} \\epsilon_{4} kb_{1} kb_{3} kb_{4} ku_{2} + c_{1} c_{2} c_{4} \\epsilon_{2} \\epsilon_{4} kb_{2} kb_{3} kb_{4} ku_{1} + c_{1} c_{3}^{2} c_{4} \\epsilon_{1} \\epsilon_{3} \\epsilon_{4} kb_{1} kb_{2} kb_{4} + c_{1} c_{3} c_{4}^{2} \\epsilon_{1} \\epsilon_{3} \\epsilon_{4} kb_{1} kb_{2} kb_{3} + c_{1} c_{3} c_{4} \\epsilon_{1} \\epsilon_{3} kb_{1} kb_{2} kb_{3} ku_{4} + c_{1} c_{3} c_{4} \\epsilon_{1} \\epsilon_{4} kb_{1} kb_{2} kb_{4} ku_{3} + c_{1} c_{3} c_{4} \\epsilon_{3} \\epsilon_{4} kb_{2} kb_{3} kb_{4} ku_{1} + c_{2}^{2} c_{3} c_{4} \\epsilon_{2} \\epsilon_{3} \\epsilon_{4} kb_{1} kb_{3} kb_{4} + c_{2} c_{3}^{2} c_{4} \\epsilon_{2} \\epsilon_{3} \\epsilon_{4} kb_{1} kb_{2} kb_{4} + c_{2} c_{3} c_{4}^{2} \\epsilon_{2} \\epsilon_{3} \\epsilon_{4} kb_{1} kb_{2} kb_{3} + c_{2} c_{3} c_{4} \\epsilon_{2} \\epsilon_{3} kb_{1} kb_{2} kb_{3} ku_{4} + c_{2} c_{3} c_{4} \\epsilon_{2} \\epsilon_{4} kb_{1} kb_{2} kb_{4} ku_{3} + c_{2} c_{3} c_{4} \\epsilon_{3} \\epsilon_{4} kb_{1} kb_{3} kb_{4} ku_{2}\\right) - \\left(c_{1} c_{2} c_{4} \\epsilon_{1} \\epsilon_{2} \\epsilon_{4} kb_{1} kb_{2} kb_{4} ku_{3} + c_{1} c_{3} c_{4} \\epsilon_{1} \\epsilon_{3} \\epsilon_{4} kb_{1} kb_{3} kb_{4} ku_{2} + c_{2} c_{3} c_{4} \\epsilon_{2} \\epsilon_{3} \\epsilon_{4} kb_{2} kb_{3} kb_{4} ku_{1}\\right) \\left(c_{1}^{2} c_{2} c_{3} \\epsilon_{1} \\epsilon_{2} \\epsilon_{3} kb_{2} kb_{3} ku_{4} + c_{1} c_{2}^{2} c_{3} \\epsilon_{1} \\epsilon_{2} \\epsilon_{3} kb_{1} kb_{3} ku_{4} + c_{1} c_{2} c_{3}^{2} \\epsilon_{1} \\epsilon_{2} \\epsilon_{3} kb_{1} kb_{2} ku_{4} + c_{1} c_{2} c_{3} c_{4} \\epsilon_{1} \\epsilon_{2} \\epsilon_{4} kb_{1} kb_{2} ku_{3} + c_{1} c_{2} c_{3} \\epsilon_{1} \\epsilon_{2} kb_{1} kb_{2} ku_{3} ku_{4} + c_{1} c_{2} c_{3} \\epsilon_{1} \\epsilon_{3} kb_{1} kb_{3} ku_{2} ku_{4} + c_{1} c_{2} c_{3} \\epsilon_{2} \\epsilon_{3} kb_{2} kb_{3} ku_{1} ku_{4}\\right) - \\left(c_{1}^{2} c_{2} c_{3} \\epsilon_{1} \\epsilon_{2} \\epsilon_{3} kb_{2} kb_{3} ku_{4} + c_{1} c_{2}^{2} c_{3} \\epsilon_{1} \\epsilon_{2} \\epsilon_{3} kb_{1} kb_{3} ku_{4} + c_{1} c_{2} c_{3}^{2} \\epsilon_{1} \\epsilon_{2} \\epsilon_{3} kb_{1} kb_{2} ku_{4} + c_{1} c_{2} c_{3} c_{4} \\epsilon_{1} \\epsilon_{2} \\epsilon_{4} kb_{1} kb_{2} ku_{3} + c_{1} c_{2} c_{3} \\epsilon_{1} \\epsilon_{2} kb_{1} kb_{2} ku_{3} ku_{4} + c_{1} c_{2} c_{3} \\epsilon_{1} \\epsilon_{3} kb_{1} kb_{3} ku_{2} ku_{4} + c_{1} c_{2} c_{3} \\epsilon_{2} \\epsilon_{3} kb_{2} kb_{3} ku_{1} ku_{4}\\right) \\left(c_{1}^{2} c_{2} c_{4} \\epsilon_{1} \\epsilon_{2} \\epsilon_{4} kb_{2} kb_{3} kb_{4} + c_{1}^{2} c_{3} c_{4} \\epsilon_{1} \\epsilon_{3} \\epsilon_{4} kb_{2} kb_{3} kb_{4} + c_{1} c_{2}^{2} c_{4} \\epsilon_{1} \\epsilon_{2} \\epsilon_{4} kb_{1} kb_{3} kb_{4} + c_{1} c_{2} c_{3} c_{4} \\epsilon_{1} \\epsilon_{2} \\epsilon_{4} kb_{1} kb_{2} kb_{4} + c_{1} c_{2} c_{3} c_{4} \\epsilon_{1} \\epsilon_{3} \\epsilon_{4} kb_{1} kb_{3} kb_{4} + c_{1} c_{2} c_{3} c_{4} \\epsilon_{2} \\epsilon_{3} \\epsilon_{4} kb_{2} kb_{3} kb_{4} + c_{1} c_{2} c_{4}^{2} \\epsilon_{1} \\epsilon_{2} \\epsilon_{4} kb_{1} kb_{2} kb_{3} + c_{1} c_{2} c_{4} \\epsilon_{1} \\epsilon_{2} kb_{1} kb_{2} kb_{3} ku_{4} + c_{1} c_{2} c_{4} \\epsilon_{1} \\epsilon_{4} kb_{1} kb_{3} kb_{4} ku_{2} + c_{1} c_{2} c_{4} \\epsilon_{2} \\epsilon_{4} kb_{2} kb_{3} kb_{4} ku_{1} + c_{1} c_{3}^{2} c_{4} \\epsilon_{1} \\epsilon_{3} \\epsilon_{4} kb_{1} kb_{2} kb_{4} + c_{1} c_{3} c_{4}^{2} \\epsilon_{1} \\epsilon_{3} \\epsilon_{4} kb_{1} kb_{2} kb_{3} + c_{1} c_{3} c_{4} \\epsilon_{1} \\epsilon_{3} kb_{1} kb_{2} kb_{3} ku_{4} + c_{1} c_{3} c_{4} \\epsilon_{1} \\epsilon_{4} kb_{1} kb_{2} kb_{4} ku_{3} + c_{1} c_{3} c_{4} \\epsilon_{3} \\epsilon_{4} kb_{2} kb_{3} kb_{4} ku_{1} + c_{2}^{2} c_{3} c_{4} \\epsilon_{2} \\epsilon_{3} \\epsilon_{4} kb_{1} kb_{3} kb_{4} + c_{2} c_{3}^{2} c_{4} \\epsilon_{2} \\epsilon_{3} \\epsilon_{4} kb_{1} kb_{2} kb_{4} + c_{2} c_{3} c_{4}^{2} \\epsilon_{2} \\epsilon_{3} \\epsilon_{4} kb_{1} kb_{2} kb_{3} + c_{2} c_{3} c_{4} \\epsilon_{2} \\epsilon_{3} kb_{1} kb_{2} kb_{3} ku_{4} + c_{2} c_{3} c_{4} \\epsilon_{2} \\epsilon_{4} kb_{1} kb_{2} kb_{4} ku_{3} + c_{2} c_{3} c_{4} \\epsilon_{3} \\epsilon_{4} kb_{1} kb_{3} kb_{4} ku_{2}\\right)$"
      ],
      "text/plain": [
       "-c1*c2*c3*epsilon1*epsilon2*epsilon3*epsilon4*kb1*kb2*kb3*ku4*(c1**2*c2**2*c3*epsilon1*epsilon2*epsilon3*kb3*kb4 + c1**2*c2*c3**2*epsilon1*epsilon2*epsilon3*kb2*kb4 + c1**2*c2*c3*c4*epsilon1*epsilon2*epsilon3*kb2*kb3 + c1**2*c2*c3*epsilon1*epsilon2*kb2*kb4*ku3 + c1**2*c2*c3*epsilon1*epsilon3*kb3*kb4*ku2 + c1*c2**2*c3**2*epsilon1*epsilon2*epsilon3*kb1*kb4 + c1*c2**2*c3*c4*epsilon1*epsilon2*epsilon3*kb1*kb3 + c1*c2**2*c3*epsilon1*epsilon2*kb1*kb4*ku3 + c1*c2**2*c3*epsilon2*epsilon3*kb3*kb4*ku1 + c1*c2*c3**2*c4*epsilon1*epsilon2*epsilon3*kb1*kb2 + c1*c2*c3**2*epsilon1*epsilon3*kb1*kb4*ku2 + c1*c2*c3**2*epsilon2*epsilon3*kb2*kb4*ku1 + c1*c2*c3*c4*epsilon1*epsilon3*kb1*kb3*ku2 + c1*c2*c3*c4*epsilon2*epsilon3*kb2*kb3*ku1 + c1*c2*c3*epsilon1*kb1*kb4*ku2*ku3 + c1*c2*c3*epsilon2*kb2*kb4*ku1*ku3 + c1*c2*c3*epsilon3*kb3*kb4*ku1*ku2) + c1*c2*c3*epsilon1*epsilon2*epsilon3*kb1*kb2*kb3*ku4*(c1**2*c2**2*c3*epsilon1*epsilon2*epsilon3*kb3*kb4 + c1**2*c2*c3**2*epsilon1*epsilon2*epsilon3*kb2*kb4 + c1**2*c2*c3*c4*epsilon1*epsilon2*epsilon3*kb2*kb3 + c1**2*c2*c3*epsilon1*epsilon2*kb2*kb4*ku3 + c1**2*c2*c3*epsilon1*epsilon3*kb3*kb4*ku2 + c1*c2**2*c3**2*epsilon1*epsilon2*epsilon3*kb1*kb4 + c1*c2**2*c3*c4*epsilon1*epsilon2*epsilon3*kb1*kb3 + c1*c2**2*c3*epsilon1*epsilon2*kb1*kb4*ku3 + c1*c2**2*c3*epsilon2*epsilon3*kb3*kb4*ku1 + c1*c2*c3**2*c4*epsilon1*epsilon2*epsilon3*kb1*kb2 + c1*c2*c3**2*epsilon1*epsilon3*kb1*kb4*ku2 + c1*c2*c3**2*epsilon2*epsilon3*kb2*kb4*ku1 + c1*c2*c3*c4*epsilon1*epsilon3*kb1*kb3*ku2 + c1*c2*c3*c4*epsilon2*epsilon3*kb2*kb3*ku1 + c1*c2*c3*epsilon1*kb1*kb4*ku2*ku3 + c1*c2*c3*epsilon2*kb2*kb4*ku1*ku3 + c1*c2*c3*epsilon3*kb3*kb4*ku1*ku2) + c1*c2*c3*epsilon1*epsilon2*epsilon3*kb1*kb2*kb3*ku4*(c1**2*c2*c4*epsilon1*epsilon2*epsilon4*kb2*kb4*ku3 + c1**2*c3*c4*epsilon1*epsilon3*epsilon4*kb3*kb4*ku2 + c1*c2**2*c4*epsilon1*epsilon2*epsilon4*kb1*kb4*ku3 + c1*c2*c3*c4*epsilon1*epsilon2*epsilon3*kb2*kb3*ku4 + c1*c2*c3*c4*epsilon1*epsilon3*epsilon4*kb1*kb4*ku2 + c1*c2*c3*c4*epsilon2*epsilon3*epsilon4*kb3*kb4*ku1 + c1*c2*c4**2*epsilon1*epsilon2*epsilon4*kb1*kb2*ku3 + c1*c2*c4*epsilon1*epsilon2*kb1*kb2*ku3*ku4 + c1*c2*c4*epsilon1*epsilon4*kb1*kb4*ku2*ku3 + c1*c2*c4*epsilon2*epsilon4*kb2*kb4*ku1*ku3 + c1*c3**2*c4*epsilon1*epsilon3*epsilon4*kb1*kb4*ku2 + c1*c3*c4**2*epsilon1*epsilon3*epsilon4*kb1*kb3*ku2 + c1*c3*c4*epsilon1*epsilon3*kb1*kb3*ku2*ku4 + c1*c3*c4*epsilon1*epsilon4*kb1*kb4*ku2*ku3 + c1*c3*c4*epsilon3*epsilon4*kb3*kb4*ku1*ku2 + c2**2*c3*c4*epsilon2*epsilon3*epsilon4*kb3*kb4*ku1 + c2*c3**2*c4*epsilon2*epsilon3*epsilon4*kb2*kb4*ku1 + c2*c3*c4**2*epsilon2*epsilon3*epsilon4*kb2*kb3*ku1 + c2*c3*c4*epsilon2*epsilon3*kb2*kb3*ku1*ku4 + c2*c3*c4*epsilon2*epsilon4*kb2*kb4*ku1*ku3 + c2*c3*c4*epsilon3*epsilon4*kb3*kb4*ku1*ku2) + c1*c2*c3*epsilon1*epsilon2*epsilon3*kb1*kb2*kb3*ku4*(c1**2*c2**2*c4*epsilon1*epsilon2*epsilon4*kb3*kb4 + c1**2*c2*c3*c4*epsilon1*epsilon2*epsilon4*kb2*kb4 + c1**2*c2*c3*c4*epsilon1*epsilon3*epsilon4*kb3*kb4 + c1**2*c2*c4**2*epsilon1*epsilon2*epsilon4*kb2*kb3 + c1**2*c2*c4*epsilon1*epsilon2*kb2*kb3*ku4 + c1**2*c2*c4*epsilon1*epsilon4*kb3*kb4*ku2 + c1**2*c3**2*c4*epsilon1*epsilon3*epsilon4*kb2*kb4 + c1**2*c3*c4**2*epsilon1*epsilon3*epsilon4*kb2*kb3 + c1**2*c3*c4*epsilon1*epsilon3*kb2*kb3*ku4 + c1**2*c3*c4*epsilon1*epsilon4*kb2*kb4*ku3 + c1*c2**2*c3*c4*epsilon1*epsilon2*epsilon4*kb1*kb4 + c1*c2**2*c3*c4*epsilon2*epsilon3*epsilon4*kb3*kb4 + c1*c2**2*c4**2*epsilon1*epsilon2*epsilon4*kb1*kb3 + c1*c2**2*c4*epsilon1*epsilon2*kb1*kb3*ku4 + c1*c2**2*c4*epsilon2*epsilon4*kb3*kb4*ku1 + c1*c2*c3**2*c4*epsilon1*epsilon3*epsilon4*kb1*kb4 + c1*c2*c3**2*c4*epsilon2*epsilon3*epsilon4*kb2*kb4 + c1*c2*c3*c4**2*epsilon1*epsilon2*epsilon4*kb1*kb2 + c1*c2*c3*c4**2*epsilon1*epsilon3*epsilon4*kb1*kb3 + c1*c2*c3*c4**2*epsilon2*epsilon3*epsilon4*kb2*kb3 + c1*c2*c3*c4*epsilon1*epsilon2*kb1*kb2*ku4 + c1*c2*c3*c4*epsilon1*epsilon3*kb1*kb3*ku4 + c1*c2*c3*c4*epsilon1*epsilon4*kb1*kb4*ku3 + c1*c2*c3*c4*epsilon2*epsilon4*kb2*kb4*ku1 + c1*c2*c3*c4*epsilon2*epsilon4*kb2*kb4*ku3 + c1*c2*c3*c4*epsilon3*epsilon4*kb3*kb4*ku2 + c1*c2*c4**2*epsilon1*epsilon4*kb1*kb3*ku2 + c1*c2*c4**2*epsilon2*epsilon4*kb2*kb3*ku1 + c1*c2*c4*epsilon1*kb1*kb3*ku2*ku4 + c1*c2*c4*epsilon2*kb2*kb3*ku1*ku4 + c1*c2*c4*epsilon4*kb3*kb4*ku1*ku2 + c1*c3**2*c4**2*epsilon1*epsilon3*epsilon4*kb1*kb2 + c1*c3**2*c4*epsilon1*epsilon3*kb1*kb2*ku4 + c1*c3**2*c4*epsilon3*epsilon4*kb2*kb4*ku1 + c1*c3*c4**2*epsilon1*epsilon4*kb1*kb2*ku3 + c1*c3*c4**2*epsilon3*epsilon4*kb2*kb3*ku1 + c1*c3*c4*epsilon1*kb1*kb2*ku3*ku4 + c1*c3*c4*epsilon3*kb2*kb3*ku1*ku4 + c1*c3*c4*epsilon4*kb2*kb4*ku1*ku3 + c2**2*c3**2*c4*epsilon2*epsilon3*epsilon4*kb1*kb4 + c2**2*c3*c4**2*epsilon2*epsilon3*epsilon4*kb1*kb3 + c2**2*c3*c4*epsilon2*epsilon3*kb1*kb3*ku4 + c2**2*c3*c4*epsilon2*epsilon4*kb1*kb4*ku3 + c2*c3**2*c4**2*epsilon2*epsilon3*epsilon4*kb1*kb2 + c2*c3**2*c4*epsilon2*epsilon3*kb1*kb2*ku4 + c2*c3**2*c4*epsilon3*epsilon4*kb1*kb4*ku2 + c2*c3*c4**2*epsilon2*epsilon4*kb1*kb2*ku3 + c2*c3*c4**2*epsilon3*epsilon4*kb1*kb3*ku2 + c2*c3*c4*epsilon2*kb1*kb2*ku3*ku4 + c2*c3*c4*epsilon3*kb1*kb3*ku2*ku4 + c2*c3*c4*epsilon4*kb1*kb4*ku2*ku3) - epsilon4*(c1*c2*c4*epsilon1*epsilon2*epsilon4*kb1*kb2*kb4*ku3 + c1*c3*c4*epsilon1*epsilon3*epsilon4*kb1*kb3*kb4*ku2 + c2*c3*c4*epsilon2*epsilon3*epsilon4*kb2*kb3*kb4*ku1)*(c1**2*c2**2*c3*epsilon1*epsilon2*epsilon3*kb3*kb4 + c1**2*c2*c3**2*epsilon1*epsilon2*epsilon3*kb2*kb4 + c1**2*c2*c3*c4*epsilon1*epsilon2*epsilon3*kb2*kb3 + c1**2*c2*c3*epsilon1*epsilon2*kb2*kb4*ku3 + c1**2*c2*c3*epsilon1*epsilon3*kb3*kb4*ku2 + c1*c2**2*c3**2*epsilon1*epsilon2*epsilon3*kb1*kb4 + c1*c2**2*c3*c4*epsilon1*epsilon2*epsilon3*kb1*kb3 + c1*c2**2*c3*epsilon1*epsilon2*kb1*kb4*ku3 + c1*c2**2*c3*epsilon2*epsilon3*kb3*kb4*ku1 + c1*c2*c3**2*c4*epsilon1*epsilon2*epsilon3*kb1*kb2 + c1*c2*c3**2*epsilon1*epsilon3*kb1*kb4*ku2 + c1*c2*c3**2*epsilon2*epsilon3*kb2*kb4*ku1 + c1*c2*c3*c4*epsilon1*epsilon3*kb1*kb3*ku2 + c1*c2*c3*c4*epsilon2*epsilon3*kb2*kb3*ku1 + c1*c2*c3*epsilon1*kb1*kb4*ku2*ku3 + c1*c2*c3*epsilon2*kb2*kb4*ku1*ku3 + c1*c2*c3*epsilon3*kb3*kb4*ku1*ku2) + epsilon4*(c1**2*c2*c3*epsilon1*epsilon2*epsilon3*kb2*kb3*kb4 + c1*c2**2*c3*epsilon1*epsilon2*epsilon3*kb1*kb3*kb4 + c1*c2*c3**2*epsilon1*epsilon2*epsilon3*kb1*kb2*kb4 + c1*c2*c3*c4*epsilon1*epsilon2*epsilon3*kb1*kb2*kb3 + c1*c2*c3*epsilon1*epsilon2*kb1*kb2*kb4*ku3 + c1*c2*c3*epsilon1*epsilon3*kb1*kb3*kb4*ku2 + c1*c2*c3*epsilon2*epsilon3*kb2*kb3*kb4*ku1)*(c1**2*c2*c4*epsilon1*epsilon2*epsilon4*kb2*kb4*ku3 + c1**2*c3*c4*epsilon1*epsilon3*epsilon4*kb3*kb4*ku2 + c1*c2**2*c4*epsilon1*epsilon2*epsilon4*kb1*kb4*ku3 + c1*c2*c3*c4*epsilon1*epsilon2*epsilon3*kb2*kb3*ku4 + c1*c2*c3*c4*epsilon1*epsilon3*epsilon4*kb1*kb4*ku2 + c1*c2*c3*c4*epsilon2*epsilon3*epsilon4*kb3*kb4*ku1 + c1*c2*c4**2*epsilon1*epsilon2*epsilon4*kb1*kb2*ku3 + c1*c2*c4*epsilon1*epsilon2*kb1*kb2*ku3*ku4 + c1*c2*c4*epsilon1*epsilon4*kb1*kb4*ku2*ku3 + c1*c2*c4*epsilon2*epsilon4*kb2*kb4*ku1*ku3 + c1*c3**2*c4*epsilon1*epsilon3*epsilon4*kb1*kb4*ku2 + c1*c3*c4**2*epsilon1*epsilon3*epsilon4*kb1*kb3*ku2 + c1*c3*c4*epsilon1*epsilon3*kb1*kb3*ku2*ku4 + c1*c3*c4*epsilon1*epsilon4*kb1*kb4*ku2*ku3 + c1*c3*c4*epsilon3*epsilon4*kb3*kb4*ku1*ku2 + c2**2*c3*c4*epsilon2*epsilon3*epsilon4*kb3*kb4*ku1 + c2*c3**2*c4*epsilon2*epsilon3*epsilon4*kb2*kb4*ku1 + c2*c3*c4**2*epsilon2*epsilon3*epsilon4*kb2*kb3*ku1 + c2*c3*c4*epsilon2*epsilon3*kb2*kb3*ku1*ku4 + c2*c3*c4*epsilon2*epsilon4*kb2*kb4*ku1*ku3 + c2*c3*c4*epsilon3*epsilon4*kb3*kb4*ku1*ku2) + epsilon4*(c1**2*c2*c3*epsilon1*epsilon2*epsilon3*kb2*kb3*kb4 + c1*c2**2*c3*epsilon1*epsilon2*epsilon3*kb1*kb3*kb4 + c1*c2*c3**2*epsilon1*epsilon2*epsilon3*kb1*kb2*kb4 + c1*c2*c3*c4*epsilon1*epsilon2*epsilon3*kb1*kb2*kb3 + c1*c2*c3*epsilon1*epsilon2*kb1*kb2*kb4*ku3 + c1*c2*c3*epsilon1*epsilon3*kb1*kb3*kb4*ku2 + c1*c2*c3*epsilon2*epsilon3*kb2*kb3*kb4*ku1)*(c1**2*c2**2*c4*epsilon1*epsilon2*epsilon4*kb3*kb4 + c1**2*c2*c3*c4*epsilon1*epsilon2*epsilon4*kb2*kb4 + c1**2*c2*c3*c4*epsilon1*epsilon3*epsilon4*kb3*kb4 + c1**2*c2*c4**2*epsilon1*epsilon2*epsilon4*kb2*kb3 + c1**2*c2*c4*epsilon1*epsilon2*kb2*kb3*ku4 + c1**2*c2*c4*epsilon1*epsilon4*kb3*kb4*ku2 + c1**2*c3**2*c4*epsilon1*epsilon3*epsilon4*kb2*kb4 + c1**2*c3*c4**2*epsilon1*epsilon3*epsilon4*kb2*kb3 + c1**2*c3*c4*epsilon1*epsilon3*kb2*kb3*ku4 + c1**2*c3*c4*epsilon1*epsilon4*kb2*kb4*ku3 + c1*c2**2*c3*c4*epsilon1*epsilon2*epsilon4*kb1*kb4 + c1*c2**2*c3*c4*epsilon2*epsilon3*epsilon4*kb3*kb4 + c1*c2**2*c4**2*epsilon1*epsilon2*epsilon4*kb1*kb3 + c1*c2**2*c4*epsilon1*epsilon2*kb1*kb3*ku4 + c1*c2**2*c4*epsilon2*epsilon4*kb3*kb4*ku1 + c1*c2*c3**2*c4*epsilon1*epsilon3*epsilon4*kb1*kb4 + c1*c2*c3**2*c4*epsilon2*epsilon3*epsilon4*kb2*kb4 + c1*c2*c3*c4**2*epsilon1*epsilon2*epsilon4*kb1*kb2 + c1*c2*c3*c4**2*epsilon1*epsilon3*epsilon4*kb1*kb3 + c1*c2*c3*c4**2*epsilon2*epsilon3*epsilon4*kb2*kb3 + c1*c2*c3*c4*epsilon1*epsilon2*kb1*kb2*ku4 + c1*c2*c3*c4*epsilon1*epsilon3*kb1*kb3*ku4 + c1*c2*c3*c4*epsilon1*epsilon4*kb1*kb4*ku3 + c1*c2*c3*c4*epsilon2*epsilon4*kb2*kb4*ku1 + c1*c2*c3*c4*epsilon2*epsilon4*kb2*kb4*ku3 + c1*c2*c3*c4*epsilon3*epsilon4*kb3*kb4*ku2 + c1*c2*c4**2*epsilon1*epsilon4*kb1*kb3*ku2 + c1*c2*c4**2*epsilon2*epsilon4*kb2*kb3*ku1 + c1*c2*c4*epsilon1*kb1*kb3*ku2*ku4 + c1*c2*c4*epsilon2*kb2*kb3*ku1*ku4 + c1*c2*c4*epsilon4*kb3*kb4*ku1*ku2 + c1*c3**2*c4**2*epsilon1*epsilon3*epsilon4*kb1*kb2 + c1*c3**2*c4*epsilon1*epsilon3*kb1*kb2*ku4 + c1*c3**2*c4*epsilon3*epsilon4*kb2*kb4*ku1 + c1*c3*c4**2*epsilon1*epsilon4*kb1*kb2*ku3 + c1*c3*c4**2*epsilon3*epsilon4*kb2*kb3*ku1 + c1*c3*c4*epsilon1*kb1*kb2*ku3*ku4 + c1*c3*c4*epsilon3*kb2*kb3*ku1*ku4 + c1*c3*c4*epsilon4*kb2*kb4*ku1*ku3 + c2**2*c3**2*c4*epsilon2*epsilon3*epsilon4*kb1*kb4 + c2**2*c3*c4**2*epsilon2*epsilon3*epsilon4*kb1*kb3 + c2**2*c3*c4*epsilon2*epsilon3*kb1*kb3*ku4 + c2**2*c3*c4*epsilon2*epsilon4*kb1*kb4*ku3 + c2*c3**2*c4**2*epsilon2*epsilon3*epsilon4*kb1*kb2 + c2*c3**2*c4*epsilon2*epsilon3*kb1*kb2*ku4 + c2*c3**2*c4*epsilon3*epsilon4*kb1*kb4*ku2 + c2*c3*c4**2*epsilon2*epsilon4*kb1*kb2*ku3 + c2*c3*c4**2*epsilon3*epsilon4*kb1*kb3*ku2 + c2*c3*c4*epsilon2*kb1*kb2*ku3*ku4 + c2*c3*c4*epsilon3*kb1*kb3*ku2*ku4 + c2*c3*c4*epsilon4*kb1*kb4*ku2*ku3) - epsilon4*(c1**2*c2**2*c3*epsilon1*epsilon2*epsilon3*kb3*kb4 + c1**2*c2*c3**2*epsilon1*epsilon2*epsilon3*kb2*kb4 + c1**2*c2*c3*c4*epsilon1*epsilon2*epsilon3*kb2*kb3 + c1**2*c2*c3*epsilon1*epsilon2*kb2*kb4*ku3 + c1**2*c2*c3*epsilon1*epsilon3*kb3*kb4*ku2 + c1*c2**2*c3**2*epsilon1*epsilon2*epsilon3*kb1*kb4 + c1*c2**2*c3*c4*epsilon1*epsilon2*epsilon3*kb1*kb3 + c1*c2**2*c3*epsilon1*epsilon2*kb1*kb4*ku3 + c1*c2**2*c3*epsilon2*epsilon3*kb3*kb4*ku1 + c1*c2*c3**2*c4*epsilon1*epsilon2*epsilon3*kb1*kb2 + c1*c2*c3**2*epsilon1*epsilon3*kb1*kb4*ku2 + c1*c2*c3**2*epsilon2*epsilon3*kb2*kb4*ku1 + c1*c2*c3*c4*epsilon1*epsilon3*kb1*kb3*ku2 + c1*c2*c3*c4*epsilon2*epsilon3*kb2*kb3*ku1 + c1*c2*c3*epsilon1*kb1*kb4*ku2*ku3 + c1*c2*c3*epsilon2*kb2*kb4*ku1*ku3 + c1*c2*c3*epsilon3*kb3*kb4*ku1*ku2)*(c1**2*c2*c4*epsilon1*epsilon2*epsilon4*kb2*kb3*kb4 + c1**2*c3*c4*epsilon1*epsilon3*epsilon4*kb2*kb3*kb4 + c1*c2**2*c4*epsilon1*epsilon2*epsilon4*kb1*kb3*kb4 + c1*c2*c3*c4*epsilon1*epsilon2*epsilon4*kb1*kb2*kb4 + c1*c2*c3*c4*epsilon1*epsilon3*epsilon4*kb1*kb3*kb4 + c1*c2*c3*c4*epsilon2*epsilon3*epsilon4*kb2*kb3*kb4 + c1*c2*c4**2*epsilon1*epsilon2*epsilon4*kb1*kb2*kb3 + c1*c2*c4*epsilon1*epsilon2*kb1*kb2*kb3*ku4 + c1*c2*c4*epsilon1*epsilon4*kb1*kb3*kb4*ku2 + c1*c2*c4*epsilon2*epsilon4*kb2*kb3*kb4*ku1 + c1*c3**2*c4*epsilon1*epsilon3*epsilon4*kb1*kb2*kb4 + c1*c3*c4**2*epsilon1*epsilon3*epsilon4*kb1*kb2*kb3 + c1*c3*c4*epsilon1*epsilon3*kb1*kb2*kb3*ku4 + c1*c3*c4*epsilon1*epsilon4*kb1*kb2*kb4*ku3 + c1*c3*c4*epsilon3*epsilon4*kb2*kb3*kb4*ku1 + c2**2*c3*c4*epsilon2*epsilon3*epsilon4*kb1*kb3*kb4 + c2*c3**2*c4*epsilon2*epsilon3*epsilon4*kb1*kb2*kb4 + c2*c3*c4**2*epsilon2*epsilon3*epsilon4*kb1*kb2*kb3 + c2*c3*c4*epsilon2*epsilon3*kb1*kb2*kb3*ku4 + c2*c3*c4*epsilon2*epsilon4*kb1*kb2*kb4*ku3 + c2*c3*c4*epsilon3*epsilon4*kb1*kb3*kb4*ku2) - (c1*c2*c4*epsilon1*epsilon2*epsilon4*kb1*kb2*kb4*ku3 + c1*c3*c4*epsilon1*epsilon3*epsilon4*kb1*kb3*kb4*ku2 + c2*c3*c4*epsilon2*epsilon3*epsilon4*kb2*kb3*kb4*ku1)*(c1**2*c2*c3*epsilon1*epsilon2*epsilon3*kb2*kb3*ku4 + c1*c2**2*c3*epsilon1*epsilon2*epsilon3*kb1*kb3*ku4 + c1*c2*c3**2*epsilon1*epsilon2*epsilon3*kb1*kb2*ku4 + c1*c2*c3*c4*epsilon1*epsilon2*epsilon4*kb1*kb2*ku3 + c1*c2*c3*epsilon1*epsilon2*kb1*kb2*ku3*ku4 + c1*c2*c3*epsilon1*epsilon3*kb1*kb3*ku2*ku4 + c1*c2*c3*epsilon2*epsilon3*kb2*kb3*ku1*ku4) - (c1**2*c2*c3*epsilon1*epsilon2*epsilon3*kb2*kb3*ku4 + c1*c2**2*c3*epsilon1*epsilon2*epsilon3*kb1*kb3*ku4 + c1*c2*c3**2*epsilon1*epsilon2*epsilon3*kb1*kb2*ku4 + c1*c2*c3*c4*epsilon1*epsilon2*epsilon4*kb1*kb2*ku3 + c1*c2*c3*epsilon1*epsilon2*kb1*kb2*ku3*ku4 + c1*c2*c3*epsilon1*epsilon3*kb1*kb3*ku2*ku4 + c1*c2*c3*epsilon2*epsilon3*kb2*kb3*ku1*ku4)*(c1**2*c2*c4*epsilon1*epsilon2*epsilon4*kb2*kb3*kb4 + c1**2*c3*c4*epsilon1*epsilon3*epsilon4*kb2*kb3*kb4 + c1*c2**2*c4*epsilon1*epsilon2*epsilon4*kb1*kb3*kb4 + c1*c2*c3*c4*epsilon1*epsilon2*epsilon4*kb1*kb2*kb4 + c1*c2*c3*c4*epsilon1*epsilon3*epsilon4*kb1*kb3*kb4 + c1*c2*c3*c4*epsilon2*epsilon3*epsilon4*kb2*kb3*kb4 + c1*c2*c4**2*epsilon1*epsilon2*epsilon4*kb1*kb2*kb3 + c1*c2*c4*epsilon1*epsilon2*kb1*kb2*kb3*ku4 + c1*c2*c4*epsilon1*epsilon4*kb1*kb3*kb4*ku2 + c1*c2*c4*epsilon2*epsilon4*kb2*kb3*kb4*ku1 + c1*c3**2*c4*epsilon1*epsilon3*epsilon4*kb1*kb2*kb4 + c1*c3*c4**2*epsilon1*epsilon3*epsilon4*kb1*kb2*kb3 + c1*c3*c4*epsilon1*epsilon3*kb1*kb2*kb3*ku4 + c1*c3*c4*epsilon1*epsilon4*kb1*kb2*kb4*ku3 + c1*c3*c4*epsilon3*epsilon4*kb2*kb3*kb4*ku1 + c2**2*c3*c4*epsilon2*epsilon3*epsilon4*kb1*kb3*kb4 + c2*c3**2*c4*epsilon2*epsilon3*epsilon4*kb1*kb2*kb4 + c2*c3*c4**2*epsilon2*epsilon3*epsilon4*kb1*kb2*kb3 + c2*c3*c4*epsilon2*epsilon3*kb1*kb2*kb3*ku4 + c2*c3*c4*epsilon2*epsilon4*kb1*kb2*kb4*ku3 + c2*c3*c4*epsilon3*epsilon4*kb1*kb3*kb4*ku2)"
      ]
     },
     "execution_count": 18,
     "metadata": {},
     "output_type": "execute_result"
    }
   ],
   "source": [
    "p11+p12_1+p12_2+p21+p_22-(q11+q12_1+q12_2+q21+q_22)"
   ]
  },
  {
   "cell_type": "code",
   "execution_count": null,
   "metadata": {},
   "outputs": [],
   "source": []
  }
 ],
 "metadata": {
  "kernelspec": {
   "display_name": "Python 3",
   "language": "python",
   "name": "python3"
  },
  "language_info": {
   "codemirror_mode": {
    "name": "ipython",
    "version": 3
   },
   "file_extension": ".py",
   "mimetype": "text/x-python",
   "name": "python",
   "nbconvert_exporter": "python",
   "pygments_lexer": "ipython3",
   "version": "3.7.3"
  }
 },
 "nbformat": 4,
 "nbformat_minor": 2
}
