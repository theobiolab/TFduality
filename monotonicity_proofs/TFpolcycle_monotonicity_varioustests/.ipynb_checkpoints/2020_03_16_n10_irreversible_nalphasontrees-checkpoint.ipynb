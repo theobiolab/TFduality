{
 "cells": [
  {
   "cell_type": "code",
   "execution_count": 1,
   "metadata": {},
   "outputs": [],
   "source": [
    "import numpy as np\n",
    "import sys, os\n",
    "sys.path.append('../../shared/utilsGRF/')\n",
    "from IPython.display import display\n",
    "import networkx as nx\n",
    "import subprocess, glob, re\n",
    "import matplotlib.pyplot as plt"
   ]
  },
  {
   "cell_type": "code",
   "execution_count": 2,
   "metadata": {},
   "outputs": [
    {
     "name": "stdout",
     "output_type": "stream",
     "text": [
      "[[1, 'a1', 2], [11, 'alpha1', 12], [1, 'kb1-x', 11], [11, 'ku1', 1], [2, 'a2', 3], [12, 'alpha2', 13], [2, 'kb2-x', 12], [12, 'ku2', 2], [3, 'a3', 4], [13, 'alpha3', 14], [3, 'kb3-x', 13], [13, 'ku3', 3], [4, 'a4', 5], [14, 'alpha4', 15], [4, 'kb4-x', 14], [14, 'ku4', 4], [5, 'a5', 6], [15, 'alpha5', 16], [5, 'kb5-x', 15], [15, 'ku5', 5], [6, 'a6', 7], [16, 'alpha6', 17], [6, 'kb6-x', 16], [16, 'ku6', 6], [7, 'a7', 8], [17, 'alpha7', 18], [7, 'kb7-x', 17], [17, 'ku7', 7], [8, 'a8', 9], [18, 'alpha8', 19], [8, 'kb8-x', 18], [18, 'ku8', 8], [9, 'a9', 10], [19, 'alpha9', 20], [9, 'kb9-x', 19], [19, 'ku9', 9], [10, 'a10', 1], [20, 'alpha10', 11], [10, 'kb10-x', 20], [20, 'ku10', 10]]\n"
     ]
    }
   ],
   "source": [
    "edges=[]\n",
    "nnodes_cycle=10\n",
    "for i in range(1,nnodes_cycle+1):\n",
    "    if i%nnodes_cycle!=0:\n",
    "        i2=i+1\n",
    "        #print(i)\n",
    "    else:\n",
    "        i2=i-nnodes_cycle+1\n",
    "    edges.append([i,\"a%d\"%i,i2])\n",
    "    i_=i+nnodes_cycle\n",
    "    i2_=i2+nnodes_cycle\n",
    "    edges.append([i_,\"alpha%d\"%i,i2_])\n",
    "    edges.append([i,\"kb%d-x\"%i,i_])\n",
    "    edges.append([i_,\"ku%d\"%i,i])\n",
    "print(edges)"
   ]
  },
  {
   "cell_type": "code",
   "execution_count": 3,
   "metadata": {},
   "outputs": [
    {
     "name": "stdout",
     "output_type": "stream",
     "text": [
      "['alpha8', 'a5', 'kb5', 'ku8', 'ku9', 'alpha3', 'a1', 'kb9', 'ku4', 'ku3', 'alpha5', 'kb8', 'kb7', 'alpha4', 'alpha1', 'a3', 'a9', 'alpha2', 'a7', 'alpha6', 'ku2', 'ku7', 'kb6', 'a10', 'ku1', 'a2', 'ku10', 'kb4', 'alpha9', 'kb10', 'a4', 'a6', 'alpha10', 'a8', 'ku5', 'alpha7', 'kb1', 'kb3', 'kb2', 'ku6']\n",
      "executing MTT\n",
      "0\n"
     ]
    }
   ],
   "source": [
    "MTTfolder='../../shared/utilsGRF' #folder with MTT.py \n",
    "basename='graph'\n",
    "\n",
    "parlist=[x[1] for x in edges]\n",
    "parlist=list(set(parlist))\n",
    "\n",
    "\n",
    "for pnum,par in enumerate(parlist):\n",
    "    if '-x' in par:\n",
    "        parlist[pnum]=parlist[pnum].replace('-x','')\n",
    "print(parlist)\n",
    "\n",
    "graphname=os.path.join(MTTfolder,basename+'.txt')\n",
    "outf=open(graphname,'w')\n",
    "for x in edges:\n",
    "    x_str=list(map(str,x))\n",
    "    outf.write('('+','.join(x_str)+') ')\n",
    "outf.close()\n",
    "\n",
    "#execute_MTT(self):\n",
    "\n",
    "args=[\"python\",os.path.join(MTTfolder,'MTT.py'),graphname]\n",
    "print(\"executing MTT\")\n",
    "print(subprocess.check_call(args))\n",
    "\n",
    "\n",
    "#parse_rhos_from_graphfiles(self):\n",
    "#this was previously called rhos_from_edges\n",
    "edges=np.array(edges)\n",
    "#find files that correspond to the spanning trees\n",
    "files=glob.glob(os.path.join(MTTfolder,basename+'*'))\n",
    "pat=re.compile('[0-9]+.txt')\n",
    "n=0\n",
    "for f in files:\n",
    "    if pat.findall(f):\n",
    "        n+=1\n",
    "all_rhos=[] \n",
    "allGraphs=dict()\n",
    "allterms=dict()\n",
    "for i in range(1,n+1):\n",
    "    fname=os.path.join(MTTfolder,basename+'-%d.txt'%i)\n",
    "\n",
    "    fi=open(fname,'r')\n",
    "    rho_expr='rho_%d='%i\n",
    "    allGraphs[i]=[]\n",
    "    allterms[i]=[]\n",
    "    for lnum,l in enumerate(fi.readlines()):\n",
    "        idxs=np.array(list(map(int,l.strip().split())),dtype=bool)\n",
    "        subset=edges[idxs]\n",
    "        expr=[x[1] for x in subset] #labels that multiply together in a term of the rho\n",
    "        term='*'.join(expr)\n",
    "        if lnum<1:\n",
    "            rho_expr=rho_expr+term\n",
    "        else:\n",
    "            rho_expr=rho_expr+'+'+term\n",
    "        allterms[i].append(term)\n",
    "        #now get Graph\n",
    "        G=nx.DiGraph()\n",
    "        for edge in subset:\n",
    "            n0=int(edge[0])\n",
    "            n1=int(edge[2])\n",
    "            par=edge[1]\n",
    "            G.add_edge(n0,n1,name=par)\n",
    "            G.add_edge\n",
    "        allGraphs[i].append(G)\n",
    "        \n",
    "            \n",
    "        \n",
    "\n",
    "    all_rhos.append(rho_expr)"
   ]
  },
  {
   "cell_type": "code",
   "execution_count": 4,
   "metadata": {},
   "outputs": [],
   "source": [
    "import re\n",
    "kbpat=re.compile(\"kb\")\n",
    "alphapat=re.compile(\"alpha[0-9][^r]\")\n",
    "alpharepat=re.compile(\"alpha[0-9]r\")"
   ]
  },
  {
   "cell_type": "markdown",
   "metadata": {},
   "source": [
    "#Get mapping between trees rooted at bound state and trees rooted at unbound state:\n",
    "- if there is a binding edge to the root: change for the unbinding edge and that's it\n",
    "- if there is not a binding edge to the root: reverse minimal path. This should result in less alphas in the tree rooted at the unbound\n"
   ]
  },
  {
   "cell_type": "code",
   "execution_count": 13,
   "metadata": {},
   "outputs": [],
   "source": [
    "#the root+term number is an id for the trees"
   ]
  },
  {
   "cell_type": "code",
   "execution_count": 14,
   "metadata": {},
   "outputs": [],
   "source": [
    "#Now compare trees rooted at bound with n kbs and compare to those with n-1 kbs.\n",
    "#count the alphas in one and the other\n"
   ]
  },
  {
   "cell_type": "code",
   "execution_count": 6,
   "metadata": {},
   "outputs": [
    {
     "name": "stdout",
     "output_type": "stream",
     "text": [
      "1 0\n",
      "2 0\n",
      "3 0\n",
      "4 0\n",
      "5 0\n",
      "6 0\n",
      "7 0\n",
      "8 0\n",
      "9 0\n",
      "10 0\n"
     ]
    }
   ],
   "source": [
    "\n",
    "nnodes=nnodes_cycle\n",
    "    \n",
    "for n in range(1,nnodes+1): #for trees with n kb edges\n",
    "    nalphas=[]\n",
    "    for node in range(nnodes+1,nnodes+1+nnodes):\n",
    "        \n",
    "        for t,term in enumerate(allterms[node]):\n",
    "            kbs=kbpat.findall(term)\n",
    "            if len(kbs)==n:\n",
    "                nalpha=len(alphapat.findall(term))\n",
    "                nalphas.append(nalpha)\n",
    "        \n",
    "    nalphasu=[]\n",
    "    for node_u in range(1,nnodes+1):\n",
    "        for t,term in enumerate(allterms[node_u]): \n",
    "            kbs=kbpat.findall(term)\n",
    "            if len(kbs)==(n-1): #\n",
    "                nalpha=len(alphapat.findall(term))\n",
    "                nalphasu.append(nalpha)\n",
    "                    \n",
    "    print(n,max(nalphasu)-max(nalphas))\n",
    "                        \n",
    "                    \n",
    "                    \n",
    "            \n",
    "                \n",
    "                        "
   ]
  },
  {
   "cell_type": "code",
   "execution_count": null,
   "metadata": {},
   "outputs": [],
   "source": []
  }
 ],
 "metadata": {
  "kernelspec": {
   "display_name": "Python 3",
   "language": "python",
   "name": "python3"
  },
  "language_info": {
   "codemirror_mode": {
    "name": "ipython",
    "version": 3
   },
   "file_extension": ".py",
   "mimetype": "text/x-python",
   "name": "python",
   "nbconvert_exporter": "python",
   "pygments_lexer": "ipython3",
   "version": "3.7.3"
  }
 },
 "nbformat": 4,
 "nbformat_minor": 2
}
