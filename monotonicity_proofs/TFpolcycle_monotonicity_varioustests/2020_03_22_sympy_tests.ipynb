{
 "cells": [
  {
   "cell_type": "code",
   "execution_count": 4,
   "metadata": {},
   "outputs": [],
   "source": [
    "import sympy\n",
    "import matchpy"
   ]
  },
  {
   "cell_type": "code",
   "execution_count": 5,
   "metadata": {},
   "outputs": [],
   "source": [
    "sympy.init_printing()"
   ]
  },
  {
   "cell_type": "code",
   "execution_count": 6,
   "metadata": {},
   "outputs": [],
   "source": [
    "epsilon1,epsilon2,epsilon3,epsilon4,epsilon5,kb,ku,a1=sympy.symbols('epsilon_1,epsilon_2,epsilon_3,epsilon_4,epsilon_5,k_b,k_u,a_1')\n"
   ]
  },
  {
   "cell_type": "code",
   "execution_count": 7,
   "metadata": {},
   "outputs": [],
   "source": [
    "expr1=epsilon1*a1*epsilon3*kb**2*ku+epsilon1*a1*kb**2*ku+epsilon1*a1*kb**2*ku*epsilon2**2*epsilon4\n",
    "expr2=epsilon1*a1*epsilon3*kb**2+epsilon1*a1*kb**2*ku+epsilon1*a1*kb**2*ku*epsilon2**2*epsilon4"
   ]
  },
  {
   "cell_type": "code",
   "execution_count": 8,
   "metadata": {},
   "outputs": [
    {
     "data": {
      "image/png": "[encoded data removed]",
      "text/latex": [
       "$\\displaystyle a_{1} \\epsilon_{1} \\epsilon_{2}^{2} \\epsilon_{4} k_{b}^{2} k_{u} + a_{1} \\epsilon_{1} \\epsilon_{3} k_{b}^{2} k_{u} + a_{1} \\epsilon_{1} k_{b}^{2} k_{u}$"
      ],
      "text/plain": [
       "        2       2                  2               2   \n",
       "a₁⋅ε₁⋅ε₂ ⋅ε₄⋅k_b ⋅kᵤ + a₁⋅ε₁⋅ε₃⋅k_b ⋅kᵤ + a₁⋅ε₁⋅k_b ⋅kᵤ"
      ]
     },
     "execution_count": 8,
     "metadata": {},
     "output_type": "execute_result"
    }
   ],
   "source": [
    "expr1"
   ]
  },
  {
   "cell_type": "code",
   "execution_count": 9,
   "metadata": {},
   "outputs": [
    {
     "data": {
      "image/png": "[encoded data removed]",
      "text/latex": [
       "$\\displaystyle a_{1} \\epsilon_{1} \\epsilon_{2}^{2} \\epsilon_{4} k_{b}^{2} k_{u} + a_{1} \\epsilon_{1} \\epsilon_{3} k_{b}^{2} + a_{1} \\epsilon_{1} k_{b}^{2} k_{u}$"
      ],
      "text/plain": [
       "        2       2                  2            2   \n",
       "a₁⋅ε₁⋅ε₂ ⋅ε₄⋅k_b ⋅kᵤ + a₁⋅ε₁⋅ε₃⋅k_b  + a₁⋅ε₁⋅k_b ⋅kᵤ"
      ]
     },
     "execution_count": 9,
     "metadata": {},
     "output_type": "execute_result"
    }
   ],
   "source": [
    "expr2"
   ]
  },
  {
   "cell_type": "code",
   "execution_count": 10,
   "metadata": {},
   "outputs": [],
   "source": [
    "pata1=sympy.Wild('wa1',exclude=(epsilon1,epsilon2,epsilon3,epsilon4,epsilon5,kb,ku))\n",
    "patkb=sympy.Wild('wkb',exclude=(epsilon1,epsilon2,epsilon3,epsilon4,epsilon5,ku,a1))\n",
    "patku=sympy.Wild('wku',exclude=(epsilon1,epsilon2,epsilon3,epsilon4,epsilon5,kb,a1))"
   ]
  },
  {
   "cell_type": "code",
   "execution_count": null,
   "metadata": {},
   "outputs": [],
   "source": [
    "pattern=matchpy.Pattern()"
   ]
  },
  {
   "cell_type": "code",
   "execution_count": 55,
   "metadata": {},
   "outputs": [
    {
     "data": {
      "image/png": "[encoded data removed]",
      "text/latex": [
       "$\\displaystyle a_{1} k_{b}^{2} k_{u} \\left(\\epsilon_{1} \\epsilon_{2}^{2} \\epsilon_{4} + \\epsilon_{1} \\epsilon_{3} + \\epsilon_{1}\\right)$"
      ],
      "text/plain": [
       "      2    ⎛     2                ⎞\n",
       "a₁⋅k_b ⋅kᵤ⋅⎝ε₁⋅ε₂ ⋅ε₄ + ε₁⋅ε₃ + ε₁⎠"
      ]
     },
     "execution_count": 55,
     "metadata": {},
     "output_type": "execute_result"
    }
   ],
   "source": [
    "sympy.collect(expr1,pata1*patkb*patku*1)"
   ]
  },
  {
   "cell_type": "code",
   "execution_count": 56,
   "metadata": {},
   "outputs": [
    {
     "data": {
      "image/png": "[encoded data removed]",
      "text/latex": [
       "$\\displaystyle a_{1} \\epsilon_{1} \\epsilon_{3} k_{b}^{2} + a_{1} \\epsilon_{1} k_{b}^{2} k_{u} \\left(\\epsilon_{2}^{2} \\epsilon_{4} + 1\\right)$"
      ],
      "text/plain": [
       "            2            2    ⎛  2       ⎞\n",
       "a₁⋅ε₁⋅ε₃⋅k_b  + a₁⋅ε₁⋅k_b ⋅kᵤ⋅⎝ε₂ ⋅ε₄ + 1⎠"
      ]
     },
     "execution_count": 56,
     "metadata": {},
     "output_type": "execute_result"
    }
   ],
   "source": [
    "sympy.collect(expr2,pata1*patkb*patku*1,func=sympy.factor)"
   ]
  },
  {
   "cell_type": "code",
   "execution_count": 14,
   "metadata": {},
   "outputs": [
    {
     "data": {
      "image/png": "[encoded data removed]",
      "text/latex": [
       "$\\displaystyle a_{1} \\epsilon_{1} \\epsilon_{2}^{2} \\epsilon_{4} k_{b}^{2} k_{u} + a_{1} \\epsilon_{1} \\epsilon_{3} k_{b}^{2} + a_{1} \\epsilon_{1} k_{b}^{2} k_{u}$"
      ],
      "text/plain": [
       "        2       2                  2            2   \n",
       "a₁⋅ε₁⋅ε₂ ⋅ε₄⋅k_b ⋅kᵤ + a₁⋅ε₁⋅ε₃⋅k_b  + a₁⋅ε₁⋅k_b ⋅kᵤ"
      ]
     },
     "metadata": {},
     "output_type": "display_data"
    },
    {
     "data": {
      "image/png": "[encoded data removed]",
      "text/latex": [
       "$\\displaystyle a_{1} k_{b}$"
      ],
      "text/plain": [
       "a₁⋅k_b"
      ]
     },
     "metadata": {},
     "output_type": "display_data"
    },
    {
     "data": {
      "image/png": "[encoded data removed]",
      "text/latex": [
       "$\\displaystyle \\epsilon_{1} k_{b} \\left(\\epsilon_{2}^{2} \\epsilon_{4} k_{u} + \\epsilon_{3} + k_{u}\\right)$"
      ],
      "text/plain": [
       "       ⎛  2                ⎞\n",
       "ε₁⋅k_b⋅⎝ε₂ ⋅ε₄⋅kᵤ + ε₃ + kᵤ⎠"
      ]
     },
     "metadata": {},
     "output_type": "display_data"
    }
   ],
   "source": [
    "display(expr2)\n",
    "gcd=sympy.gcd(expr2,a1*kb*ku)\n",
    "display(gcd,sympy.simplify(expr2/gcd))"
   ]
  },
  {
   "cell_type": "code",
   "execution_count": 64,
   "metadata": {},
   "outputs": [],
   "source": [
    "expr=epsilon1*kb+epsilon2*kb*ku"
   ]
  },
  {
   "cell_type": "code",
   "execution_count": 66,
   "metadata": {},
   "outputs": [
    {
     "data": {
      "image/png": "[encoded data removed]",
      "text/latex": [
       "$\\displaystyle \\epsilon_{1} k_{b} + \\epsilon_{2} k_{b} k_{u}$"
      ],
      "text/plain": [
       "ε₁⋅k_b + ε₂⋅k_b⋅kᵤ"
      ]
     },
     "execution_count": 66,
     "metadata": {},
     "output_type": "execute_result"
    }
   ],
   "source": [
    "expr.collect(patkb*patku)"
   ]
  },
  {
   "cell_type": "code",
   "execution_count": null,
   "metadata": {},
   "outputs": [],
   "source": []
  }
 ],
 "metadata": {
  "kernelspec": {
   "display_name": "Python 3",
   "language": "python",
   "name": "python3"
  },
  "language_info": {
   "codemirror_mode": {
    "name": "ipython",
    "version": 3
   },
   "file_extension": ".py",
   "mimetype": "text/x-python",
   "name": "python",
   "nbconvert_exporter": "python",
   "pygments_lexer": "ipython3",
   "version": "3.7.3"
  }
 },
 "nbformat": 4,
 "nbformat_minor": 2
}
