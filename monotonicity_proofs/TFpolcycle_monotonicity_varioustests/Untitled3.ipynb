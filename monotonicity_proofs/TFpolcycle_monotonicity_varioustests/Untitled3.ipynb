{
 "cells": [
  {
   "cell_type": "code",
   "execution_count": 1,
   "metadata": {},
   "outputs": [],
   "source": [
    "import sympy"
   ]
  },
  {
   "cell_type": "code",
   "execution_count": 11,
   "metadata": {},
   "outputs": [],
   "source": [
    "A,B,j,n,g,k,S=sympy.symbols(\"A,B,j,n,g,k,S\",positive=True)"
   ]
  },
  {
   "cell_type": "code",
   "execution_count": 12,
   "metadata": {},
   "outputs": [],
   "source": [
    "expr=sympy.expand(-j*B*B*(A+1)+j*n*B-(B+1)*(g*n*A-g*A*A-j*A*A)-j*n*A)"
   ]
  },
  {
   "cell_type": "code",
   "execution_count": 15,
   "metadata": {},
   "outputs": [],
   "source": [
    "e2=sympy.expand(expr.subs({A:j+k,B:j+g+S-k}))"
   ]
  },
  {
   "cell_type": "code",
   "execution_count": 18,
   "metadata": {},
   "outputs": [
    {
     "data": {
      "text/latex": [
       "$\\displaystyle -40$"
      ],
      "text/plain": [
       "-40"
      ]
     },
     "execution_count": 18,
     "metadata": {},
     "output_type": "execute_result"
    }
   ],
   "source": [
    "e2.subs({j:2,n:5,k:2,S:2,g:2})"
   ]
  },
  {
   "cell_type": "code",
   "execution_count": 19,
   "metadata": {},
   "outputs": [
    {
     "data": {
      "text/latex": [
       "$\\displaystyle - S^{2} j^{2} - S^{2} j k - S^{2} j - S g j^{2} - S g j n - 2 S g j + S g k^{2} - S g k n - S j^{3} + 2 S j^{2} k - 2 S j^{2} + 3 S j k^{2} + 2 S j k + S j n + g^{2} j k - g^{2} j n - g^{2} j + g^{2} k^{2} - g^{2} k n + 3 g j^{2} k - g j^{2} n - g j^{2} + 2 g j k^{2} + 4 g j k - g k^{3} + g k^{2} n + g k^{2} - g k n + 2 j^{3} k + 4 j^{2} k - 2 j k^{3} - 2 j k n$"
      ],
      "text/plain": [
       "-S**2*j**2 - S**2*j*k - S**2*j - S*g*j**2 - S*g*j*n - 2*S*g*j + S*g*k**2 - S*g*k*n - S*j**3 + 2*S*j**2*k - 2*S*j**2 + 3*S*j*k**2 + 2*S*j*k + S*j*n + g**2*j*k - g**2*j*n - g**2*j + g**2*k**2 - g**2*k*n + 3*g*j**2*k - g*j**2*n - g*j**2 + 2*g*j*k**2 + 4*g*j*k - g*k**3 + g*k**2*n + g*k**2 - g*k*n + 2*j**3*k + 4*j**2*k - 2*j*k**3 - 2*j*k*n"
      ]
     },
     "execution_count": 19,
     "metadata": {},
     "output_type": "execute_result"
    }
   ],
   "source": [
    "e2"
   ]
  },
  {
   "cell_type": "code",
   "execution_count": 22,
   "metadata": {},
   "outputs": [
    {
     "data": {
      "text/latex": [
       "$\\displaystyle g n \\left(j + k\\right) - g \\left(j + k\\right)^{2} - j n \\left(j + k\\right) - j \\left(j + k\\right)^{2}$"
      ],
      "text/plain": [
       "g*n*(j + k) - g*(j + k)**2 - j*n*(j + k) - j*(j + k)**2"
      ]
     },
     "execution_count": 22,
     "metadata": {},
     "output_type": "execute_result"
    }
   ],
   "source": [
    "(g*n*A-g*A*A-j*A*A).subs({A:j+k,B:j+g+S-k})-j*n*(j+k)"
   ]
  },
  {
   "cell_type": "code",
   "execution_count": null,
   "metadata": {},
   "outputs": [],
   "source": []
  }
 ],
 "metadata": {
  "kernelspec": {
   "display_name": "Python 3",
   "language": "python",
   "name": "python3"
  },
  "language_info": {
   "codemirror_mode": {
    "name": "ipython",
    "version": 3
   },
   "file_extension": ".py",
   "mimetype": "text/x-python",
   "name": "python",
   "nbconvert_exporter": "python",
   "pygments_lexer": "ipython3",
   "version": "3.7.3"
  }
 },
 "nbformat": 4,
 "nbformat_minor": 2
}
