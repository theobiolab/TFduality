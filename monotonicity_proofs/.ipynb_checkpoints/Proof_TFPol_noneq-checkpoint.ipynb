{
 "cells": [
  {
   "cell_type": "code",
   "execution_count": 1,
   "id": "aa153ffd",
   "metadata": {},
   "outputs": [],
   "source": [
    "import sympy"
   ]
  },
  {
   "cell_type": "code",
   "execution_count": 2,
   "id": "af3b2a8e",
   "metadata": {},
   "outputs": [],
   "source": [
    "a_x, b_x, a_p, b_p, a_p2, b_p2, a_xp, b_xp, q3, q4 = sympy.symbols(\"a_x, b_x, a_p, b_p, a_p2, b_p2, a_xp, b_xp, q3, q4\")\n",
    "epsilon1,epsilon2,epsilon3,x=sympy.symbols(\"epsilon1,epsilon2,epsilon3,x\")"
   ]
  },
  {
   "cell_type": "code",
   "execution_count": 4,
   "id": "570968c1",
   "metadata": {},
   "outputs": [
    {
     "data": {
      "text/latex": [
       "$\\displaystyle \\frac{q_{3} \\left(a_{p} a_{p2} b_{xp} + a_{p} b_{p2} b_{x} + a_{p} b_{x} b_{xp} + a_{p2} a_{x} b_{xp} x\\right)}{a_{p} a_{p2} a_{xp} x + a_{p} a_{p2} b_{xp} + a_{p} a_{xp} b_{p2} x + a_{p} a_{xp} b_{x} x + a_{p} b_{p2} b_{x} + a_{p} b_{x} b_{xp} + a_{p2} a_{x} a_{xp} x^{2} + a_{p2} a_{x} b_{p} x + a_{p2} a_{x} b_{xp} x + a_{p2} b_{p} b_{xp} + a_{x} a_{xp} b_{p2} x^{2} + a_{x} b_{p} b_{p2} x + a_{x} b_{p} b_{xp} x + a_{xp} b_{p2} b_{x} x + b_{p} b_{p2} b_{x} + b_{p} b_{x} b_{xp}} + \\frac{q_{4} \\left(a_{p} a_{p2} a_{xp} x + a_{p} a_{xp} b_{x} x + a_{p2} a_{x} a_{xp} x^{2} + a_{p2} a_{x} b_{p} x\\right)}{a_{p} a_{p2} a_{xp} x + a_{p} a_{p2} b_{xp} + a_{p} a_{xp} b_{p2} x + a_{p} a_{xp} b_{x} x + a_{p} b_{p2} b_{x} + a_{p} b_{x} b_{xp} + a_{p2} a_{x} a_{xp} x^{2} + a_{p2} a_{x} b_{p} x + a_{p2} a_{x} b_{xp} x + a_{p2} b_{p} b_{xp} + a_{x} a_{xp} b_{p2} x^{2} + a_{x} b_{p} b_{p2} x + a_{x} b_{p} b_{xp} x + a_{xp} b_{p2} b_{x} x + b_{p} b_{p2} b_{x} + b_{p} b_{x} b_{xp}}$"
      ],
      "text/plain": [
       "q3*(a_p*a_p2*b_xp + a_p*b_p2*b_x + a_p*b_x*b_xp + a_p2*a_x*b_xp*x)/(a_p*a_p2*a_xp*x + a_p*a_p2*b_xp + a_p*a_xp*b_p2*x + a_p*a_xp*b_x*x + a_p*b_p2*b_x + a_p*b_x*b_xp + a_p2*a_x*a_xp*x**2 + a_p2*a_x*b_p*x + a_p2*a_x*b_xp*x + a_p2*b_p*b_xp + a_x*a_xp*b_p2*x**2 + a_x*b_p*b_p2*x + a_x*b_p*b_xp*x + a_xp*b_p2*b_x*x + b_p*b_p2*b_x + b_p*b_x*b_xp) + q4*(a_p*a_p2*a_xp*x + a_p*a_xp*b_x*x + a_p2*a_x*a_xp*x**2 + a_p2*a_x*b_p*x)/(a_p*a_p2*a_xp*x + a_p*a_p2*b_xp + a_p*a_xp*b_p2*x + a_p*a_xp*b_x*x + a_p*b_p2*b_x + a_p*b_x*b_xp + a_p2*a_x*a_xp*x**2 + a_p2*a_x*b_p*x + a_p2*a_x*b_xp*x + a_p2*b_p*b_xp + a_x*a_xp*b_p2*x**2 + a_x*b_p*b_p2*x + a_x*b_p*b_xp*x + a_xp*b_p2*b_x*x + b_p*b_p2*b_x + b_p*b_x*b_xp)"
      ]
     },
     "metadata": {},
     "output_type": "display_data"
    },
    {
     "data": {
      "text/latex": [
       "$\\displaystyle \\frac{\\epsilon_{3} q_{3} \\left(a_{p}^{2} a_{xp} \\epsilon_{1} x + a_{p} a_{x} a_{xp} \\epsilon_{1} x^{2} + a_{p} a_{x} b_{p} \\epsilon_{1} x + a_{p} a_{xp} b_{x} x\\right)}{a_{p}^{2} a_{xp} \\epsilon_{1} x + a_{p}^{2} b_{xp} \\epsilon_{1} + a_{p} a_{x} a_{xp} \\epsilon_{1} x^{2} + a_{p} a_{x} b_{p} \\epsilon_{1} x + a_{p} a_{x} b_{xp} \\epsilon_{1} x + \\frac{a_{p} a_{xp} b_{p} x}{\\epsilon_{2}} + a_{p} a_{xp} b_{x} x + \\frac{a_{p} b_{p} b_{x}}{\\epsilon_{2}} + a_{p} b_{p} b_{xp} \\epsilon_{1} + a_{p} b_{x} b_{xp} + \\frac{a_{x} a_{xp} b_{p} x^{2}}{\\epsilon_{2}} + \\frac{a_{x} b_{p}^{2} x}{\\epsilon_{2}} + a_{x} b_{p} b_{xp} x + \\frac{a_{xp} b_{p} b_{x} x}{\\epsilon_{2}} + \\frac{b_{p}^{2} b_{x}}{\\epsilon_{2}} + b_{p} b_{x} b_{xp}} + \\frac{q_{3} \\left(a_{p}^{2} b_{xp} \\epsilon_{1} + a_{p} a_{x} b_{xp} \\epsilon_{1} x + \\frac{a_{p} b_{p} b_{x}}{\\epsilon_{2}} + a_{p} b_{x} b_{xp}\\right)}{a_{p}^{2} a_{xp} \\epsilon_{1} x + a_{p}^{2} b_{xp} \\epsilon_{1} + a_{p} a_{x} a_{xp} \\epsilon_{1} x^{2} + a_{p} a_{x} b_{p} \\epsilon_{1} x + a_{p} a_{x} b_{xp} \\epsilon_{1} x + \\frac{a_{p} a_{xp} b_{p} x}{\\epsilon_{2}} + a_{p} a_{xp} b_{x} x + \\frac{a_{p} b_{p} b_{x}}{\\epsilon_{2}} + a_{p} b_{p} b_{xp} \\epsilon_{1} + a_{p} b_{x} b_{xp} + \\frac{a_{x} a_{xp} b_{p} x^{2}}{\\epsilon_{2}} + \\frac{a_{x} b_{p}^{2} x}{\\epsilon_{2}} + a_{x} b_{p} b_{xp} x + \\frac{a_{xp} b_{p} b_{x} x}{\\epsilon_{2}} + \\frac{b_{p}^{2} b_{x}}{\\epsilon_{2}} + b_{p} b_{x} b_{xp}}$"
      ],
      "text/plain": [
       "epsilon3*q3*(a_p**2*a_xp*epsilon1*x + a_p*a_x*a_xp*epsilon1*x**2 + a_p*a_x*b_p*epsilon1*x + a_p*a_xp*b_x*x)/(a_p**2*a_xp*epsilon1*x + a_p**2*b_xp*epsilon1 + a_p*a_x*a_xp*epsilon1*x**2 + a_p*a_x*b_p*epsilon1*x + a_p*a_x*b_xp*epsilon1*x + a_p*a_xp*b_p*x/epsilon2 + a_p*a_xp*b_x*x + a_p*b_p*b_x/epsilon2 + a_p*b_p*b_xp*epsilon1 + a_p*b_x*b_xp + a_x*a_xp*b_p*x**2/epsilon2 + a_x*b_p**2*x/epsilon2 + a_x*b_p*b_xp*x + a_xp*b_p*b_x*x/epsilon2 + b_p**2*b_x/epsilon2 + b_p*b_x*b_xp) + q3*(a_p**2*b_xp*epsilon1 + a_p*a_x*b_xp*epsilon1*x + a_p*b_p*b_x/epsilon2 + a_p*b_x*b_xp)/(a_p**2*a_xp*epsilon1*x + a_p**2*b_xp*epsilon1 + a_p*a_x*a_xp*epsilon1*x**2 + a_p*a_x*b_p*epsilon1*x + a_p*a_x*b_xp*epsilon1*x + a_p*a_xp*b_p*x/epsilon2 + a_p*a_xp*b_x*x + a_p*b_p*b_x/epsilon2 + a_p*b_p*b_xp*epsilon1 + a_p*b_x*b_xp + a_x*a_xp*b_p*x**2/epsilon2 + a_x*b_p**2*x/epsilon2 + a_x*b_p*b_xp*x + a_xp*b_p*b_x*x/epsilon2 + b_p**2*b_x/epsilon2 + b_p*b_x*b_xp)"
      ]
     },
     "metadata": {},
     "output_type": "display_data"
    }
   ],
   "source": [
    "\n",
    "rho1=b_x*b_p2*a_xp*x+b_x*b_p*b_p2+b_x*b_p*b_xp+b_p*a_p2*b_xp\n",
    "rho2=a_x*x*b_p*b_xp+a_x*x*b_p*b_p2+a_x*x*b_p2*a_xp*x+a_p*b_p2*a_xp*x\n",
    "rho3=b_x*a_p*b_p2+b_x*a_p*b_xp+a_p*a_p2*b_xp+a_x*x*a_p2*b_xp\n",
    "rho4=a_x*x*b_p*a_p2+a_x*x*a_p2*a_xp*x+a_p*a_p2*a_xp*x+b_x*a_p*a_xp*x\n",
    "Z=rho1+rho2+rho3+rho4\n",
    "P3=rho3/Z\n",
    "P4=rho4/Z\n",
    "f=q3*P3+q4*P4\n",
    "display(f)\n",
    "f=f.subs({\"q4\":epsilon3*q3,\"a_p2\":a_p*epsilon1,\"b_p2\":b_p*(1/epsilon2)})\n",
    "display(f)"
   ]
  },
  {
   "cell_type": "code",
   "execution_count": 5,
   "id": "18383376",
   "metadata": {},
   "outputs": [
    {
     "data": {
      "text/plain": [
       "'\\\\frac{\\\\epsilon_{3} q_{3} \\\\left(a_{p}^{2} a_{xp} \\\\epsilon_{1} x + a_{p} a_{x} a_{xp} \\\\epsilon_{1} x^{2} + a_{p} a_{x} b_{p} \\\\epsilon_{1} x + a_{p} a_{xp} b_{x} x\\\\right)}{a_{p}^{2} a_{xp} \\\\epsilon_{1} x + a_{p}^{2} b_{xp} \\\\epsilon_{1} + a_{p} a_{x} a_{xp} \\\\epsilon_{1} x^{2} + a_{p} a_{x} b_{p} \\\\epsilon_{1} x + a_{p} a_{x} b_{xp} \\\\epsilon_{1} x + \\\\frac{a_{p} a_{xp} b_{p} x}{\\\\epsilon_{2}} + a_{p} a_{xp} b_{x} x + \\\\frac{a_{p} b_{p} b_{x}}{\\\\epsilon_{2}} + a_{p} b_{p} b_{xp} \\\\epsilon_{1} + a_{p} b_{x} b_{xp} + \\\\frac{a_{x} a_{xp} b_{p} x^{2}}{\\\\epsilon_{2}} + \\\\frac{a_{x} b_{p}^{2} x}{\\\\epsilon_{2}} + a_{x} b_{p} b_{xp} x + \\\\frac{a_{xp} b_{p} b_{x} x}{\\\\epsilon_{2}} + \\\\frac{b_{p}^{2} b_{x}}{\\\\epsilon_{2}} + b_{p} b_{x} b_{xp}} + \\\\frac{q_{3} \\\\left(a_{p}^{2} b_{xp} \\\\epsilon_{1} + a_{p} a_{x} b_{xp} \\\\epsilon_{1} x + \\\\frac{a_{p} b_{p} b_{x}}{\\\\epsilon_{2}} + a_{p} b_{x} b_{xp}\\\\right)}{a_{p}^{2} a_{xp} \\\\epsilon_{1} x + a_{p}^{2} b_{xp} \\\\epsilon_{1} + a_{p} a_{x} a_{xp} \\\\epsilon_{1} x^{2} + a_{p} a_{x} b_{p} \\\\epsilon_{1} x + a_{p} a_{x} b_{xp} \\\\epsilon_{1} x + \\\\frac{a_{p} a_{xp} b_{p} x}{\\\\epsilon_{2}} + a_{p} a_{xp} b_{x} x + \\\\frac{a_{p} b_{p} b_{x}}{\\\\epsilon_{2}} + a_{p} b_{p} b_{xp} \\\\epsilon_{1} + a_{p} b_{x} b_{xp} + \\\\frac{a_{x} a_{xp} b_{p} x^{2}}{\\\\epsilon_{2}} + \\\\frac{a_{x} b_{p}^{2} x}{\\\\epsilon_{2}} + a_{x} b_{p} b_{xp} x + \\\\frac{a_{xp} b_{p} b_{x} x}{\\\\epsilon_{2}} + \\\\frac{b_{p}^{2} b_{x}}{\\\\epsilon_{2}} + b_{p} b_{x} b_{xp}}'"
      ]
     },
     "execution_count": 5,
     "metadata": {},
     "output_type": "execute_result"
    }
   ],
   "source": [
    "sympy.printing.latex(f)"
   ]
  },
  {
   "cell_type": "code",
   "execution_count": 6,
   "id": "3bd5e31f",
   "metadata": {},
   "outputs": [
    {
     "data": {
      "text/latex": [
       "$\\displaystyle a_{p} q_{3} \\left(a_{x} b_{xp} \\epsilon_{1} \\epsilon_{2} \\left(a_{p}^{2} a_{xp} \\epsilon_{1} \\epsilon_{2} x + a_{p}^{2} b_{xp} \\epsilon_{1} \\epsilon_{2} + a_{p} a_{x} a_{xp} \\epsilon_{1} \\epsilon_{2} x^{2} + a_{p} a_{x} b_{p} \\epsilon_{1} \\epsilon_{2} x + a_{p} a_{x} b_{xp} \\epsilon_{1} \\epsilon_{2} x + a_{p} a_{xp} b_{p} x + a_{p} a_{xp} b_{x} \\epsilon_{2} x + a_{p} b_{p} b_{x} + a_{p} b_{p} b_{xp} \\epsilon_{1} \\epsilon_{2} + a_{p} b_{x} b_{xp} \\epsilon_{2} + a_{x} a_{xp} b_{p} x^{2} + a_{x} b_{p}^{2} x + a_{x} b_{p} b_{xp} \\epsilon_{2} x + a_{xp} b_{p} b_{x} x + b_{p}^{2} b_{x} + b_{p} b_{x} b_{xp} \\epsilon_{2}\\right) + \\epsilon_{2} \\epsilon_{3} x \\left(a_{p} a_{xp} \\epsilon_{1} + a_{x} a_{xp} \\epsilon_{1} x + a_{x} b_{p} \\epsilon_{1} + a_{xp} b_{x}\\right) \\left(- a_{p}^{2} a_{xp} \\epsilon_{1} \\epsilon_{2} - 2 a_{p} a_{x} a_{xp} \\epsilon_{1} \\epsilon_{2} x - a_{p} a_{x} b_{p} \\epsilon_{1} \\epsilon_{2} - a_{p} a_{x} b_{xp} \\epsilon_{1} \\epsilon_{2} - a_{p} a_{xp} b_{p} - a_{p} a_{xp} b_{x} \\epsilon_{2} - 2 a_{x} a_{xp} b_{p} x - a_{x} b_{p}^{2} - a_{x} b_{p} b_{xp} \\epsilon_{2} - a_{xp} b_{p} b_{x}\\right) + \\epsilon_{2} \\epsilon_{3} \\left(a_{p} a_{xp} \\epsilon_{1} + 2 a_{x} a_{xp} \\epsilon_{1} x + a_{x} b_{p} \\epsilon_{1} + a_{xp} b_{x}\\right) \\left(a_{p}^{2} a_{xp} \\epsilon_{1} \\epsilon_{2} x + a_{p}^{2} b_{xp} \\epsilon_{1} \\epsilon_{2} + a_{p} a_{x} a_{xp} \\epsilon_{1} \\epsilon_{2} x^{2} + a_{p} a_{x} b_{p} \\epsilon_{1} \\epsilon_{2} x + a_{p} a_{x} b_{xp} \\epsilon_{1} \\epsilon_{2} x + a_{p} a_{xp} b_{p} x + a_{p} a_{xp} b_{x} \\epsilon_{2} x + a_{p} b_{p} b_{x} + a_{p} b_{p} b_{xp} \\epsilon_{1} \\epsilon_{2} + a_{p} b_{x} b_{xp} \\epsilon_{2} + a_{x} a_{xp} b_{p} x^{2} + a_{x} b_{p}^{2} x + a_{x} b_{p} b_{xp} \\epsilon_{2} x + a_{xp} b_{p} b_{x} x + b_{p}^{2} b_{x} + b_{p} b_{x} b_{xp} \\epsilon_{2}\\right) + \\left(a_{p} b_{xp} \\epsilon_{1} \\epsilon_{2} + a_{x} b_{xp} \\epsilon_{1} \\epsilon_{2} x + b_{p} b_{x} + b_{x} b_{xp} \\epsilon_{2}\\right) \\left(- a_{p}^{2} a_{xp} \\epsilon_{1} \\epsilon_{2} - 2 a_{p} a_{x} a_{xp} \\epsilon_{1} \\epsilon_{2} x - a_{p} a_{x} b_{p} \\epsilon_{1} \\epsilon_{2} - a_{p} a_{x} b_{xp} \\epsilon_{1} \\epsilon_{2} - a_{p} a_{xp} b_{p} - a_{p} a_{xp} b_{x} \\epsilon_{2} - 2 a_{x} a_{xp} b_{p} x - a_{x} b_{p}^{2} - a_{x} b_{p} b_{xp} \\epsilon_{2} - a_{xp} b_{p} b_{x}\\right)\\right)$"
      ],
      "text/plain": [
       "a_p*q3*(a_x*b_xp*epsilon1*epsilon2*(a_p**2*a_xp*epsilon1*epsilon2*x + a_p**2*b_xp*epsilon1*epsilon2 + a_p*a_x*a_xp*epsilon1*epsilon2*x**2 + a_p*a_x*b_p*epsilon1*epsilon2*x + a_p*a_x*b_xp*epsilon1*epsilon2*x + a_p*a_xp*b_p*x + a_p*a_xp*b_x*epsilon2*x + a_p*b_p*b_x + a_p*b_p*b_xp*epsilon1*epsilon2 + a_p*b_x*b_xp*epsilon2 + a_x*a_xp*b_p*x**2 + a_x*b_p**2*x + a_x*b_p*b_xp*epsilon2*x + a_xp*b_p*b_x*x + b_p**2*b_x + b_p*b_x*b_xp*epsilon2) + epsilon2*epsilon3*x*(a_p*a_xp*epsilon1 + a_x*a_xp*epsilon1*x + a_x*b_p*epsilon1 + a_xp*b_x)*(-a_p**2*a_xp*epsilon1*epsilon2 - 2*a_p*a_x*a_xp*epsilon1*epsilon2*x - a_p*a_x*b_p*epsilon1*epsilon2 - a_p*a_x*b_xp*epsilon1*epsilon2 - a_p*a_xp*b_p - a_p*a_xp*b_x*epsilon2 - 2*a_x*a_xp*b_p*x - a_x*b_p**2 - a_x*b_p*b_xp*epsilon2 - a_xp*b_p*b_x) + epsilon2*epsilon3*(a_p*a_xp*epsilon1 + 2*a_x*a_xp*epsilon1*x + a_x*b_p*epsilon1 + a_xp*b_x)*(a_p**2*a_xp*epsilon1*epsilon2*x + a_p**2*b_xp*epsilon1*epsilon2 + a_p*a_x*a_xp*epsilon1*epsilon2*x**2 + a_p*a_x*b_p*epsilon1*epsilon2*x + a_p*a_x*b_xp*epsilon1*epsilon2*x + a_p*a_xp*b_p*x + a_p*a_xp*b_x*epsilon2*x + a_p*b_p*b_x + a_p*b_p*b_xp*epsilon1*epsilon2 + a_p*b_x*b_xp*epsilon2 + a_x*a_xp*b_p*x**2 + a_x*b_p**2*x + a_x*b_p*b_xp*epsilon2*x + a_xp*b_p*b_x*x + b_p**2*b_x + b_p*b_x*b_xp*epsilon2) + (a_p*b_xp*epsilon1*epsilon2 + a_x*b_xp*epsilon1*epsilon2*x + b_p*b_x + b_x*b_xp*epsilon2)*(-a_p**2*a_xp*epsilon1*epsilon2 - 2*a_p*a_x*a_xp*epsilon1*epsilon2*x - a_p*a_x*b_p*epsilon1*epsilon2 - a_p*a_x*b_xp*epsilon1*epsilon2 - a_p*a_xp*b_p - a_p*a_xp*b_x*epsilon2 - 2*a_x*a_xp*b_p*x - a_x*b_p**2 - a_x*b_p*b_xp*epsilon2 - a_xp*b_p*b_x))"
      ]
     },
     "execution_count": 6,
     "metadata": {},
     "output_type": "execute_result"
    }
   ],
   "source": [
    "der=sympy.diff(f,x)\n",
    "num,den=sympy.fraction(sympy.together(der))\n",
    "num"
   ]
  },
  {
   "cell_type": "code",
   "execution_count": 7,
   "id": "2445e14a",
   "metadata": {},
   "outputs": [
    {
     "data": {
      "text/latex": [
       "$\\displaystyle \\left(a_{p}^{2} a_{xp} \\epsilon_{1} \\epsilon_{2} x + a_{p}^{2} b_{xp} \\epsilon_{1} \\epsilon_{2} + a_{p} a_{x} a_{xp} \\epsilon_{1} \\epsilon_{2} x^{2} + a_{p} a_{x} b_{p} \\epsilon_{1} \\epsilon_{2} x + a_{p} a_{x} b_{xp} \\epsilon_{1} \\epsilon_{2} x + a_{p} a_{xp} b_{p} x + a_{p} a_{xp} b_{x} \\epsilon_{2} x + a_{p} b_{p} b_{x} + a_{p} b_{p} b_{xp} \\epsilon_{1} \\epsilon_{2} + a_{p} b_{x} b_{xp} \\epsilon_{2} + a_{x} a_{xp} b_{p} x^{2} + a_{x} b_{p}^{2} x + a_{x} b_{p} b_{xp} \\epsilon_{2} x + a_{xp} b_{p} b_{x} x + b_{p}^{2} b_{x} + b_{p} b_{x} b_{xp} \\epsilon_{2}\\right)^{2}$"
      ],
      "text/plain": [
       "(a_p**2*a_xp*epsilon1*epsilon2*x + a_p**2*b_xp*epsilon1*epsilon2 + a_p*a_x*a_xp*epsilon1*epsilon2*x**2 + a_p*a_x*b_p*epsilon1*epsilon2*x + a_p*a_x*b_xp*epsilon1*epsilon2*x + a_p*a_xp*b_p*x + a_p*a_xp*b_x*epsilon2*x + a_p*b_p*b_x + a_p*b_p*b_xp*epsilon1*epsilon2 + a_p*b_x*b_xp*epsilon2 + a_x*a_xp*b_p*x**2 + a_x*b_p**2*x + a_x*b_p*b_xp*epsilon2*x + a_xp*b_p*b_x*x + b_p**2*b_x + b_p*b_x*b_xp*epsilon2)**2"
      ]
     },
     "execution_count": 7,
     "metadata": {},
     "output_type": "execute_result"
    }
   ],
   "source": [
    "den"
   ]
  },
  {
   "cell_type": "code",
   "execution_count": 8,
   "id": "c1ee1a93",
   "metadata": {},
   "outputs": [
    {
     "data": {
      "text/latex": [
       "$\\displaystyle a_{p}^{4} a_{xp} b_{xp} \\epsilon_{1}^{2} \\epsilon_{2}^{2} \\epsilon_{3} q_{3} - a_{p}^{4} a_{xp} b_{xp} \\epsilon_{1}^{2} \\epsilon_{2}^{2} q_{3} + 2 a_{p}^{3} a_{x} a_{xp} b_{xp} \\epsilon_{1}^{2} \\epsilon_{2}^{2} \\epsilon_{3} q_{3} x - 2 a_{p}^{3} a_{x} a_{xp} b_{xp} \\epsilon_{1}^{2} \\epsilon_{2}^{2} q_{3} x + a_{p}^{3} a_{x} b_{p} b_{xp} \\epsilon_{1}^{2} \\epsilon_{2}^{2} \\epsilon_{3} q_{3} - a_{p}^{3} a_{x} b_{p} b_{xp} \\epsilon_{1}^{2} \\epsilon_{2}^{2} q_{3} + a_{p}^{3} a_{xp} b_{p} b_{x} \\epsilon_{1} \\epsilon_{2} \\epsilon_{3} q_{3} - a_{p}^{3} a_{xp} b_{p} b_{x} \\epsilon_{1} \\epsilon_{2} q_{3} + a_{p}^{3} a_{xp} b_{p} b_{xp} \\epsilon_{1}^{2} \\epsilon_{2}^{2} \\epsilon_{3} q_{3} - a_{p}^{3} a_{xp} b_{p} b_{xp} \\epsilon_{1} \\epsilon_{2} q_{3} + 2 a_{p}^{3} a_{xp} b_{x} b_{xp} \\epsilon_{1} \\epsilon_{2}^{2} \\epsilon_{3} q_{3} - 2 a_{p}^{3} a_{xp} b_{x} b_{xp} \\epsilon_{1} \\epsilon_{2}^{2} q_{3} + a_{p}^{2} a_{x}^{2} a_{xp} b_{xp} \\epsilon_{1}^{2} \\epsilon_{2}^{2} \\epsilon_{3} q_{3} x^{2} - a_{p}^{2} a_{x}^{2} a_{xp} b_{xp} \\epsilon_{1}^{2} \\epsilon_{2}^{2} q_{3} x^{2} + 2 a_{p}^{2} a_{x} a_{xp} b_{p} b_{x} \\epsilon_{1} \\epsilon_{2} \\epsilon_{3} q_{3} x - 2 a_{p}^{2} a_{x} a_{xp} b_{p} b_{x} \\epsilon_{1} \\epsilon_{2} q_{3} x + 2 a_{p}^{2} a_{x} a_{xp} b_{p} b_{xp} \\epsilon_{1}^{2} \\epsilon_{2}^{2} \\epsilon_{3} q_{3} x - 2 a_{p}^{2} a_{x} a_{xp} b_{p} b_{xp} \\epsilon_{1} \\epsilon_{2} q_{3} x + 2 a_{p}^{2} a_{x} a_{xp} b_{x} b_{xp} \\epsilon_{1} \\epsilon_{2}^{2} \\epsilon_{3} q_{3} x - 2 a_{p}^{2} a_{x} a_{xp} b_{x} b_{xp} \\epsilon_{1} \\epsilon_{2}^{2} q_{3} x + a_{p}^{2} a_{x} b_{p}^{2} b_{x} \\epsilon_{1} \\epsilon_{2} \\epsilon_{3} q_{3} - a_{p}^{2} a_{x} b_{p}^{2} b_{x} \\epsilon_{1} \\epsilon_{2} q_{3} + a_{p}^{2} a_{x} b_{p}^{2} b_{xp} \\epsilon_{1}^{2} \\epsilon_{2}^{2} \\epsilon_{3} q_{3} - a_{p}^{2} a_{x} b_{p}^{2} b_{xp} \\epsilon_{1} \\epsilon_{2} q_{3} + a_{p}^{2} a_{x} b_{p} b_{x} b_{xp} \\epsilon_{1} \\epsilon_{2}^{2} \\epsilon_{3} q_{3} - a_{p}^{2} a_{x} b_{p} b_{x} b_{xp} \\epsilon_{1} \\epsilon_{2}^{2} q_{3} + a_{p}^{2} a_{x} b_{p} b_{xp}^{2} \\epsilon_{1}^{2} \\epsilon_{2}^{2} q_{3} - a_{p}^{2} a_{x} b_{p} b_{xp}^{2} \\epsilon_{1} \\epsilon_{2}^{2} q_{3} + a_{p}^{2} a_{xp} b_{p}^{2} b_{x} \\epsilon_{1} \\epsilon_{2} \\epsilon_{3} q_{3} - a_{p}^{2} a_{xp} b_{p}^{2} b_{x} q_{3} + a_{p}^{2} a_{xp} b_{p} b_{x}^{2} \\epsilon_{2} \\epsilon_{3} q_{3} - a_{p}^{2} a_{xp} b_{p} b_{x}^{2} \\epsilon_{2} q_{3} + 2 a_{p}^{2} a_{xp} b_{p} b_{x} b_{xp} \\epsilon_{1} \\epsilon_{2}^{2} \\epsilon_{3} q_{3} - a_{p}^{2} a_{xp} b_{p} b_{x} b_{xp} \\epsilon_{1} \\epsilon_{2} q_{3} - a_{p}^{2} a_{xp} b_{p} b_{x} b_{xp} \\epsilon_{2} q_{3} + a_{p}^{2} a_{xp} b_{x}^{2} b_{xp} \\epsilon_{2}^{2} \\epsilon_{3} q_{3} - a_{p}^{2} a_{xp} b_{x}^{2} b_{xp} \\epsilon_{2}^{2} q_{3} + a_{p} a_{x}^{2} a_{xp} b_{p} b_{xp} \\epsilon_{1} \\epsilon_{2}^{2} \\epsilon_{3} q_{3} x^{2} - a_{p} a_{x}^{2} a_{xp} b_{p} b_{xp} \\epsilon_{1} \\epsilon_{2} q_{3} x^{2} + a_{p} a_{x} a_{xp}^{2} b_{p} b_{x} \\epsilon_{1} \\epsilon_{2} \\epsilon_{3} q_{3} x^{2} - a_{p} a_{x} a_{xp}^{2} b_{p} b_{x} \\epsilon_{2} \\epsilon_{3} q_{3} x^{2} + 2 a_{p} a_{x} a_{xp} b_{p}^{2} b_{x} \\epsilon_{1} \\epsilon_{2} \\epsilon_{3} q_{3} x - 2 a_{p} a_{x} a_{xp} b_{p}^{2} b_{x} q_{3} x + 2 a_{p} a_{x} a_{xp} b_{p} b_{x} b_{xp} \\epsilon_{1} \\epsilon_{2}^{2} \\epsilon_{3} q_{3} x - 2 a_{p} a_{x} a_{xp} b_{p} b_{x} b_{xp} \\epsilon_{2} q_{3} x + a_{p} a_{x} b_{p}^{3} b_{x} \\epsilon_{1} \\epsilon_{2} \\epsilon_{3} q_{3} - a_{p} a_{x} b_{p}^{3} b_{x} q_{3} + a_{p} a_{x} b_{p}^{2} b_{x} b_{xp} \\epsilon_{1} \\epsilon_{2}^{2} \\epsilon_{3} q_{3} + a_{p} a_{x} b_{p}^{2} b_{x} b_{xp} \\epsilon_{1} \\epsilon_{2} q_{3} - 2 a_{p} a_{x} b_{p}^{2} b_{x} b_{xp} \\epsilon_{2} q_{3} + a_{p} a_{x} b_{p} b_{x} b_{xp}^{2} \\epsilon_{1} \\epsilon_{2}^{2} q_{3} - a_{p} a_{x} b_{p} b_{x} b_{xp}^{2} \\epsilon_{2}^{2} q_{3} + a_{p} a_{xp} b_{p}^{2} b_{x}^{2} \\epsilon_{2} \\epsilon_{3} q_{3} - a_{p} a_{xp} b_{p}^{2} b_{x}^{2} q_{3} + a_{p} a_{xp} b_{p} b_{x}^{2} b_{xp} \\epsilon_{2}^{2} \\epsilon_{3} q_{3} - a_{p} a_{xp} b_{p} b_{x}^{2} b_{xp} \\epsilon_{2} q_{3}$"
      ],
      "text/plain": [
       "a_p**4*a_xp*b_xp*epsilon1**2*epsilon2**2*epsilon3*q3 - a_p**4*a_xp*b_xp*epsilon1**2*epsilon2**2*q3 + 2*a_p**3*a_x*a_xp*b_xp*epsilon1**2*epsilon2**2*epsilon3*q3*x - 2*a_p**3*a_x*a_xp*b_xp*epsilon1**2*epsilon2**2*q3*x + a_p**3*a_x*b_p*b_xp*epsilon1**2*epsilon2**2*epsilon3*q3 - a_p**3*a_x*b_p*b_xp*epsilon1**2*epsilon2**2*q3 + a_p**3*a_xp*b_p*b_x*epsilon1*epsilon2*epsilon3*q3 - a_p**3*a_xp*b_p*b_x*epsilon1*epsilon2*q3 + a_p**3*a_xp*b_p*b_xp*epsilon1**2*epsilon2**2*epsilon3*q3 - a_p**3*a_xp*b_p*b_xp*epsilon1*epsilon2*q3 + 2*a_p**3*a_xp*b_x*b_xp*epsilon1*epsilon2**2*epsilon3*q3 - 2*a_p**3*a_xp*b_x*b_xp*epsilon1*epsilon2**2*q3 + a_p**2*a_x**2*a_xp*b_xp*epsilon1**2*epsilon2**2*epsilon3*q3*x**2 - a_p**2*a_x**2*a_xp*b_xp*epsilon1**2*epsilon2**2*q3*x**2 + 2*a_p**2*a_x*a_xp*b_p*b_x*epsilon1*epsilon2*epsilon3*q3*x - 2*a_p**2*a_x*a_xp*b_p*b_x*epsilon1*epsilon2*q3*x + 2*a_p**2*a_x*a_xp*b_p*b_xp*epsilon1**2*epsilon2**2*epsilon3*q3*x - 2*a_p**2*a_x*a_xp*b_p*b_xp*epsilon1*epsilon2*q3*x + 2*a_p**2*a_x*a_xp*b_x*b_xp*epsilon1*epsilon2**2*epsilon3*q3*x - 2*a_p**2*a_x*a_xp*b_x*b_xp*epsilon1*epsilon2**2*q3*x + a_p**2*a_x*b_p**2*b_x*epsilon1*epsilon2*epsilon3*q3 - a_p**2*a_x*b_p**2*b_x*epsilon1*epsilon2*q3 + a_p**2*a_x*b_p**2*b_xp*epsilon1**2*epsilon2**2*epsilon3*q3 - a_p**2*a_x*b_p**2*b_xp*epsilon1*epsilon2*q3 + a_p**2*a_x*b_p*b_x*b_xp*epsilon1*epsilon2**2*epsilon3*q3 - a_p**2*a_x*b_p*b_x*b_xp*epsilon1*epsilon2**2*q3 + a_p**2*a_x*b_p*b_xp**2*epsilon1**2*epsilon2**2*q3 - a_p**2*a_x*b_p*b_xp**2*epsilon1*epsilon2**2*q3 + a_p**2*a_xp*b_p**2*b_x*epsilon1*epsilon2*epsilon3*q3 - a_p**2*a_xp*b_p**2*b_x*q3 + a_p**2*a_xp*b_p*b_x**2*epsilon2*epsilon3*q3 - a_p**2*a_xp*b_p*b_x**2*epsilon2*q3 + 2*a_p**2*a_xp*b_p*b_x*b_xp*epsilon1*epsilon2**2*epsilon3*q3 - a_p**2*a_xp*b_p*b_x*b_xp*epsilon1*epsilon2*q3 - a_p**2*a_xp*b_p*b_x*b_xp*epsilon2*q3 + a_p**2*a_xp*b_x**2*b_xp*epsilon2**2*epsilon3*q3 - a_p**2*a_xp*b_x**2*b_xp*epsilon2**2*q3 + a_p*a_x**2*a_xp*b_p*b_xp*epsilon1*epsilon2**2*epsilon3*q3*x**2 - a_p*a_x**2*a_xp*b_p*b_xp*epsilon1*epsilon2*q3*x**2 + a_p*a_x*a_xp**2*b_p*b_x*epsilon1*epsilon2*epsilon3*q3*x**2 - a_p*a_x*a_xp**2*b_p*b_x*epsilon2*epsilon3*q3*x**2 + 2*a_p*a_x*a_xp*b_p**2*b_x*epsilon1*epsilon2*epsilon3*q3*x - 2*a_p*a_x*a_xp*b_p**2*b_x*q3*x + 2*a_p*a_x*a_xp*b_p*b_x*b_xp*epsilon1*epsilon2**2*epsilon3*q3*x - 2*a_p*a_x*a_xp*b_p*b_x*b_xp*epsilon2*q3*x + a_p*a_x*b_p**3*b_x*epsilon1*epsilon2*epsilon3*q3 - a_p*a_x*b_p**3*b_x*q3 + a_p*a_x*b_p**2*b_x*b_xp*epsilon1*epsilon2**2*epsilon3*q3 + a_p*a_x*b_p**2*b_x*b_xp*epsilon1*epsilon2*q3 - 2*a_p*a_x*b_p**2*b_x*b_xp*epsilon2*q3 + a_p*a_x*b_p*b_x*b_xp**2*epsilon1*epsilon2**2*q3 - a_p*a_x*b_p*b_x*b_xp**2*epsilon2**2*q3 + a_p*a_xp*b_p**2*b_x**2*epsilon2*epsilon3*q3 - a_p*a_xp*b_p**2*b_x**2*q3 + a_p*a_xp*b_p*b_x**2*b_xp*epsilon2**2*epsilon3*q3 - a_p*a_xp*b_p*b_x**2*b_xp*epsilon2*q3"
      ]
     },
     "execution_count": 8,
     "metadata": {},
     "output_type": "execute_result"
    }
   ],
   "source": [
    "l_r=sympy.expand(num)\n",
    "l_r"
   ]
  },
  {
   "cell_type": "code",
   "execution_count": 9,
   "id": "9f4819f3",
   "metadata": {},
   "outputs": [],
   "source": [
    "poly_zero=sympy.Poly(l_r,x)"
   ]
  },
  {
   "cell_type": "code",
   "execution_count": 10,
   "id": "23ef658a",
   "metadata": {},
   "outputs": [
    {
     "data": {
      "text/latex": [
       "$\\displaystyle \\operatorname{Poly}{\\left( \\left(a_{p}^{2} a_{x}^{2} a_{xp} b_{xp} \\epsilon_{1}^{2} \\epsilon_{2}^{2} \\epsilon_{3} q_{3} - a_{p}^{2} a_{x}^{2} a_{xp} b_{xp} \\epsilon_{1}^{2} \\epsilon_{2}^{2} q_{3} + a_{p} a_{x}^{2} a_{xp} b_{p} b_{xp} \\epsilon_{1} \\epsilon_{2}^{2} \\epsilon_{3} q_{3} - a_{p} a_{x}^{2} a_{xp} b_{p} b_{xp} \\epsilon_{1} \\epsilon_{2} q_{3} + a_{p} a_{x} a_{xp}^{2} b_{p} b_{x} \\epsilon_{1} \\epsilon_{2} \\epsilon_{3} q_{3} - a_{p} a_{x} a_{xp}^{2} b_{p} b_{x} \\epsilon_{2} \\epsilon_{3} q_{3}\\right) x^{2} + \\left(2 a_{p}^{3} a_{x} a_{xp} b_{xp} \\epsilon_{1}^{2} \\epsilon_{2}^{2} \\epsilon_{3} q_{3} - 2 a_{p}^{3} a_{x} a_{xp} b_{xp} \\epsilon_{1}^{2} \\epsilon_{2}^{2} q_{3} + 2 a_{p}^{2} a_{x} a_{xp} b_{p} b_{x} \\epsilon_{1} \\epsilon_{2} \\epsilon_{3} q_{3} - 2 a_{p}^{2} a_{x} a_{xp} b_{p} b_{x} \\epsilon_{1} \\epsilon_{2} q_{3} + 2 a_{p}^{2} a_{x} a_{xp} b_{p} b_{xp} \\epsilon_{1}^{2} \\epsilon_{2}^{2} \\epsilon_{3} q_{3} - 2 a_{p}^{2} a_{x} a_{xp} b_{p} b_{xp} \\epsilon_{1} \\epsilon_{2} q_{3} + 2 a_{p}^{2} a_{x} a_{xp} b_{x} b_{xp} \\epsilon_{1} \\epsilon_{2}^{2} \\epsilon_{3} q_{3} - 2 a_{p}^{2} a_{x} a_{xp} b_{x} b_{xp} \\epsilon_{1} \\epsilon_{2}^{2} q_{3} + 2 a_{p} a_{x} a_{xp} b_{p}^{2} b_{x} \\epsilon_{1} \\epsilon_{2} \\epsilon_{3} q_{3} - 2 a_{p} a_{x} a_{xp} b_{p}^{2} b_{x} q_{3} + 2 a_{p} a_{x} a_{xp} b_{p} b_{x} b_{xp} \\epsilon_{1} \\epsilon_{2}^{2} \\epsilon_{3} q_{3} - 2 a_{p} a_{x} a_{xp} b_{p} b_{x} b_{xp} \\epsilon_{2} q_{3}\\right) x + a_{p}^{4} a_{xp} b_{xp} \\epsilon_{1}^{2} \\epsilon_{2}^{2} \\epsilon_{3} q_{3} - a_{p}^{4} a_{xp} b_{xp} \\epsilon_{1}^{2} \\epsilon_{2}^{2} q_{3} + a_{p}^{3} a_{x} b_{p} b_{xp} \\epsilon_{1}^{2} \\epsilon_{2}^{2} \\epsilon_{3} q_{3} - a_{p}^{3} a_{x} b_{p} b_{xp} \\epsilon_{1}^{2} \\epsilon_{2}^{2} q_{3} + a_{p}^{3} a_{xp} b_{p} b_{x} \\epsilon_{1} \\epsilon_{2} \\epsilon_{3} q_{3} - a_{p}^{3} a_{xp} b_{p} b_{x} \\epsilon_{1} \\epsilon_{2} q_{3} + a_{p}^{3} a_{xp} b_{p} b_{xp} \\epsilon_{1}^{2} \\epsilon_{2}^{2} \\epsilon_{3} q_{3} - a_{p}^{3} a_{xp} b_{p} b_{xp} \\epsilon_{1} \\epsilon_{2} q_{3} + 2 a_{p}^{3} a_{xp} b_{x} b_{xp} \\epsilon_{1} \\epsilon_{2}^{2} \\epsilon_{3} q_{3} - 2 a_{p}^{3} a_{xp} b_{x} b_{xp} \\epsilon_{1} \\epsilon_{2}^{2} q_{3} + a_{p}^{2} a_{x} b_{p}^{2} b_{x} \\epsilon_{1} \\epsilon_{2} \\epsilon_{3} q_{3} - a_{p}^{2} a_{x} b_{p}^{2} b_{x} \\epsilon_{1} \\epsilon_{2} q_{3} + a_{p}^{2} a_{x} b_{p}^{2} b_{xp} \\epsilon_{1}^{2} \\epsilon_{2}^{2} \\epsilon_{3} q_{3} - a_{p}^{2} a_{x} b_{p}^{2} b_{xp} \\epsilon_{1} \\epsilon_{2} q_{3} + a_{p}^{2} a_{x} b_{p} b_{x} b_{xp} \\epsilon_{1} \\epsilon_{2}^{2} \\epsilon_{3} q_{3} - a_{p}^{2} a_{x} b_{p} b_{x} b_{xp} \\epsilon_{1} \\epsilon_{2}^{2} q_{3} + a_{p}^{2} a_{x} b_{p} b_{xp}^{2} \\epsilon_{1}^{2} \\epsilon_{2}^{2} q_{3} - a_{p}^{2} a_{x} b_{p} b_{xp}^{2} \\epsilon_{1} \\epsilon_{2}^{2} q_{3} + a_{p}^{2} a_{xp} b_{p}^{2} b_{x} \\epsilon_{1} \\epsilon_{2} \\epsilon_{3} q_{3} - a_{p}^{2} a_{xp} b_{p}^{2} b_{x} q_{3} + a_{p}^{2} a_{xp} b_{p} b_{x}^{2} \\epsilon_{2} \\epsilon_{3} q_{3} - a_{p}^{2} a_{xp} b_{p} b_{x}^{2} \\epsilon_{2} q_{3} + 2 a_{p}^{2} a_{xp} b_{p} b_{x} b_{xp} \\epsilon_{1} \\epsilon_{2}^{2} \\epsilon_{3} q_{3} - a_{p}^{2} a_{xp} b_{p} b_{x} b_{xp} \\epsilon_{1} \\epsilon_{2} q_{3} - a_{p}^{2} a_{xp} b_{p} b_{x} b_{xp} \\epsilon_{2} q_{3} + a_{p}^{2} a_{xp} b_{x}^{2} b_{xp} \\epsilon_{2}^{2} \\epsilon_{3} q_{3} - a_{p}^{2} a_{xp} b_{x}^{2} b_{xp} \\epsilon_{2}^{2} q_{3} + a_{p} a_{x} b_{p}^{3} b_{x} \\epsilon_{1} \\epsilon_{2} \\epsilon_{3} q_{3} - a_{p} a_{x} b_{p}^{3} b_{x} q_{3} + a_{p} a_{x} b_{p}^{2} b_{x} b_{xp} \\epsilon_{1} \\epsilon_{2}^{2} \\epsilon_{3} q_{3} + a_{p} a_{x} b_{p}^{2} b_{x} b_{xp} \\epsilon_{1} \\epsilon_{2} q_{3} - 2 a_{p} a_{x} b_{p}^{2} b_{x} b_{xp} \\epsilon_{2} q_{3} + a_{p} a_{x} b_{p} b_{x} b_{xp}^{2} \\epsilon_{1} \\epsilon_{2}^{2} q_{3} - a_{p} a_{x} b_{p} b_{x} b_{xp}^{2} \\epsilon_{2}^{2} q_{3} + a_{p} a_{xp} b_{p}^{2} b_{x}^{2} \\epsilon_{2} \\epsilon_{3} q_{3} - a_{p} a_{xp} b_{p}^{2} b_{x}^{2} q_{3} + a_{p} a_{xp} b_{p} b_{x}^{2} b_{xp} \\epsilon_{2}^{2} \\epsilon_{3} q_{3} - a_{p} a_{xp} b_{p} b_{x}^{2} b_{xp} \\epsilon_{2} q_{3}, x, domain=\\mathbb{Z}\\left[q_{3}, a_{p}, a_{x}, a_{xp}, b_{p}, b_{x}, b_{xp}, \\epsilon_{1}, \\epsilon_{2}, \\epsilon_{3}\\right] \\right)}$"
      ],
      "text/plain": [
       "Poly((a_p**2*a_x**2*a_xp*b_xp*epsilon1**2*epsilon2**2*epsilon3*q3 - a_p**2*a_x**2*a_xp*b_xp*epsilon1**2*epsilon2**2*q3 + a_p*a_x**2*a_xp*b_p*b_xp*epsilon1*epsilon2**2*epsilon3*q3 - a_p*a_x**2*a_xp*b_p*b_xp*epsilon1*epsilon2*q3 + a_p*a_x*a_xp**2*b_p*b_x*epsilon1*epsilon2*epsilon3*q3 - a_p*a_x*a_xp**2*b_p*b_x*epsilon2*epsilon3*q3)*x**2 + (2*a_p**3*a_x*a_xp*b_xp*epsilon1**2*epsilon2**2*epsilon3*q3 - 2*a_p**3*a_x*a_xp*b_xp*epsilon1**2*epsilon2**2*q3 + 2*a_p**2*a_x*a_xp*b_p*b_x*epsilon1*epsilon2*epsilon3*q3 - 2*a_p**2*a_x*a_xp*b_p*b_x*epsilon1*epsilon2*q3 + 2*a_p**2*a_x*a_xp*b_p*b_xp*epsilon1**2*epsilon2**2*epsilon3*q3 - 2*a_p**2*a_x*a_xp*b_p*b_xp*epsilon1*epsilon2*q3 + 2*a_p**2*a_x*a_xp*b_x*b_xp*epsilon1*epsilon2**2*epsilon3*q3 - 2*a_p**2*a_x*a_xp*b_x*b_xp*epsilon1*epsilon2**2*q3 + 2*a_p*a_x*a_xp*b_p**2*b_x*epsilon1*epsilon2*epsilon3*q3 - 2*a_p*a_x*a_xp*b_p**2*b_x*q3 + 2*a_p*a_x*a_xp*b_p*b_x*b_xp*epsilon1*epsilon2**2*epsilon3*q3 - 2*a_p*a_x*a_xp*b_p*b_x*b_xp*epsilon2*q3)*x + a_p**4*a_xp*b_xp*epsilon1**2*epsilon2**2*epsilon3*q3 - a_p**4*a_xp*b_xp*epsilon1**2*epsilon2**2*q3 + a_p**3*a_x*b_p*b_xp*epsilon1**2*epsilon2**2*epsilon3*q3 - a_p**3*a_x*b_p*b_xp*epsilon1**2*epsilon2**2*q3 + a_p**3*a_xp*b_p*b_x*epsilon1*epsilon2*epsilon3*q3 - a_p**3*a_xp*b_p*b_x*epsilon1*epsilon2*q3 + a_p**3*a_xp*b_p*b_xp*epsilon1**2*epsilon2**2*epsilon3*q3 - a_p**3*a_xp*b_p*b_xp*epsilon1*epsilon2*q3 + 2*a_p**3*a_xp*b_x*b_xp*epsilon1*epsilon2**2*epsilon3*q3 - 2*a_p**3*a_xp*b_x*b_xp*epsilon1*epsilon2**2*q3 + a_p**2*a_x*b_p**2*b_x*epsilon1*epsilon2*epsilon3*q3 - a_p**2*a_x*b_p**2*b_x*epsilon1*epsilon2*q3 + a_p**2*a_x*b_p**2*b_xp*epsilon1**2*epsilon2**2*epsilon3*q3 - a_p**2*a_x*b_p**2*b_xp*epsilon1*epsilon2*q3 + a_p**2*a_x*b_p*b_x*b_xp*epsilon1*epsilon2**2*epsilon3*q3 - a_p**2*a_x*b_p*b_x*b_xp*epsilon1*epsilon2**2*q3 + a_p**2*a_x*b_p*b_xp**2*epsilon1**2*epsilon2**2*q3 - a_p**2*a_x*b_p*b_xp**2*epsilon1*epsilon2**2*q3 + a_p**2*a_xp*b_p**2*b_x*epsilon1*epsilon2*epsilon3*q3 - a_p**2*a_xp*b_p**2*b_x*q3 + a_p**2*a_xp*b_p*b_x**2*epsilon2*epsilon3*q3 - a_p**2*a_xp*b_p*b_x**2*epsilon2*q3 + 2*a_p**2*a_xp*b_p*b_x*b_xp*epsilon1*epsilon2**2*epsilon3*q3 - a_p**2*a_xp*b_p*b_x*b_xp*epsilon1*epsilon2*q3 - a_p**2*a_xp*b_p*b_x*b_xp*epsilon2*q3 + a_p**2*a_xp*b_x**2*b_xp*epsilon2**2*epsilon3*q3 - a_p**2*a_xp*b_x**2*b_xp*epsilon2**2*q3 + a_p*a_x*b_p**3*b_x*epsilon1*epsilon2*epsilon3*q3 - a_p*a_x*b_p**3*b_x*q3 + a_p*a_x*b_p**2*b_x*b_xp*epsilon1*epsilon2**2*epsilon3*q3 + a_p*a_x*b_p**2*b_x*b_xp*epsilon1*epsilon2*q3 - 2*a_p*a_x*b_p**2*b_x*b_xp*epsilon2*q3 + a_p*a_x*b_p*b_x*b_xp**2*epsilon1*epsilon2**2*q3 - a_p*a_x*b_p*b_x*b_xp**2*epsilon2**2*q3 + a_p*a_xp*b_p**2*b_x**2*epsilon2*epsilon3*q3 - a_p*a_xp*b_p**2*b_x**2*q3 + a_p*a_xp*b_p*b_x**2*b_xp*epsilon2**2*epsilon3*q3 - a_p*a_xp*b_p*b_x**2*b_xp*epsilon2*q3, x, domain='ZZ[q3,a_p,a_x,a_xp,b_p,b_x,b_xp,epsilon1,epsilon2,epsilon3]')"
      ]
     },
     "execution_count": 10,
     "metadata": {},
     "output_type": "execute_result"
    }
   ],
   "source": [
    "poly_zero"
   ]
  },
  {
   "cell_type": "code",
   "execution_count": 11,
   "id": "b4741d59",
   "metadata": {},
   "outputs": [
    {
     "data": {
      "text/plain": [
       "'\\\\operatorname{Poly}{\\\\left( \\\\left(a_{p}^{2} a_{x}^{2} a_{xp} b_{xp} \\\\epsilon_{1}^{2} \\\\epsilon_{2}^{2} \\\\epsilon_{3} q_{3} - a_{p}^{2} a_{x}^{2} a_{xp} b_{xp} \\\\epsilon_{1}^{2} \\\\epsilon_{2}^{2} q_{3} + a_{p} a_{x}^{2} a_{xp} b_{p} b_{xp} \\\\epsilon_{1} \\\\epsilon_{2}^{2} \\\\epsilon_{3} q_{3} - a_{p} a_{x}^{2} a_{xp} b_{p} b_{xp} \\\\epsilon_{1} \\\\epsilon_{2} q_{3} + a_{p} a_{x} a_{xp}^{2} b_{p} b_{x} \\\\epsilon_{1} \\\\epsilon_{2} \\\\epsilon_{3} q_{3} - a_{p} a_{x} a_{xp}^{2} b_{p} b_{x} \\\\epsilon_{2} \\\\epsilon_{3} q_{3}\\\\right) x^{2} + \\\\left(2 a_{p}^{3} a_{x} a_{xp} b_{xp} \\\\epsilon_{1}^{2} \\\\epsilon_{2}^{2} \\\\epsilon_{3} q_{3} - 2 a_{p}^{3} a_{x} a_{xp} b_{xp} \\\\epsilon_{1}^{2} \\\\epsilon_{2}^{2} q_{3} + 2 a_{p}^{2} a_{x} a_{xp} b_{p} b_{x} \\\\epsilon_{1} \\\\epsilon_{2} \\\\epsilon_{3} q_{3} - 2 a_{p}^{2} a_{x} a_{xp} b_{p} b_{x} \\\\epsilon_{1} \\\\epsilon_{2} q_{3} + 2 a_{p}^{2} a_{x} a_{xp} b_{p} b_{xp} \\\\epsilon_{1}^{2} \\\\epsilon_{2}^{2} \\\\epsilon_{3} q_{3} - 2 a_{p}^{2} a_{x} a_{xp} b_{p} b_{xp} \\\\epsilon_{1} \\\\epsilon_{2} q_{3} + 2 a_{p}^{2} a_{x} a_{xp} b_{x} b_{xp} \\\\epsilon_{1} \\\\epsilon_{2}^{2} \\\\epsilon_{3} q_{3} - 2 a_{p}^{2} a_{x} a_{xp} b_{x} b_{xp} \\\\epsilon_{1} \\\\epsilon_{2}^{2} q_{3} + 2 a_{p} a_{x} a_{xp} b_{p}^{2} b_{x} \\\\epsilon_{1} \\\\epsilon_{2} \\\\epsilon_{3} q_{3} - 2 a_{p} a_{x} a_{xp} b_{p}^{2} b_{x} q_{3} + 2 a_{p} a_{x} a_{xp} b_{p} b_{x} b_{xp} \\\\epsilon_{1} \\\\epsilon_{2}^{2} \\\\epsilon_{3} q_{3} - 2 a_{p} a_{x} a_{xp} b_{p} b_{x} b_{xp} \\\\epsilon_{2} q_{3}\\\\right) x + a_{p}^{4} a_{xp} b_{xp} \\\\epsilon_{1}^{2} \\\\epsilon_{2}^{2} \\\\epsilon_{3} q_{3} - a_{p}^{4} a_{xp} b_{xp} \\\\epsilon_{1}^{2} \\\\epsilon_{2}^{2} q_{3} + a_{p}^{3} a_{x} b_{p} b_{xp} \\\\epsilon_{1}^{2} \\\\epsilon_{2}^{2} \\\\epsilon_{3} q_{3} - a_{p}^{3} a_{x} b_{p} b_{xp} \\\\epsilon_{1}^{2} \\\\epsilon_{2}^{2} q_{3} + a_{p}^{3} a_{xp} b_{p} b_{x} \\\\epsilon_{1} \\\\epsilon_{2} \\\\epsilon_{3} q_{3} - a_{p}^{3} a_{xp} b_{p} b_{x} \\\\epsilon_{1} \\\\epsilon_{2} q_{3} + a_{p}^{3} a_{xp} b_{p} b_{xp} \\\\epsilon_{1}^{2} \\\\epsilon_{2}^{2} \\\\epsilon_{3} q_{3} - a_{p}^{3} a_{xp} b_{p} b_{xp} \\\\epsilon_{1} \\\\epsilon_{2} q_{3} + 2 a_{p}^{3} a_{xp} b_{x} b_{xp} \\\\epsilon_{1} \\\\epsilon_{2}^{2} \\\\epsilon_{3} q_{3} - 2 a_{p}^{3} a_{xp} b_{x} b_{xp} \\\\epsilon_{1} \\\\epsilon_{2}^{2} q_{3} + a_{p}^{2} a_{x} b_{p}^{2} b_{x} \\\\epsilon_{1} \\\\epsilon_{2} \\\\epsilon_{3} q_{3} - a_{p}^{2} a_{x} b_{p}^{2} b_{x} \\\\epsilon_{1} \\\\epsilon_{2} q_{3} + a_{p}^{2} a_{x} b_{p}^{2} b_{xp} \\\\epsilon_{1}^{2} \\\\epsilon_{2}^{2} \\\\epsilon_{3} q_{3} - a_{p}^{2} a_{x} b_{p}^{2} b_{xp} \\\\epsilon_{1} \\\\epsilon_{2} q_{3} + a_{p}^{2} a_{x} b_{p} b_{x} b_{xp} \\\\epsilon_{1} \\\\epsilon_{2}^{2} \\\\epsilon_{3} q_{3} - a_{p}^{2} a_{x} b_{p} b_{x} b_{xp} \\\\epsilon_{1} \\\\epsilon_{2}^{2} q_{3} + a_{p}^{2} a_{x} b_{p} b_{xp}^{2} \\\\epsilon_{1}^{2} \\\\epsilon_{2}^{2} q_{3} - a_{p}^{2} a_{x} b_{p} b_{xp}^{2} \\\\epsilon_{1} \\\\epsilon_{2}^{2} q_{3} + a_{p}^{2} a_{xp} b_{p}^{2} b_{x} \\\\epsilon_{1} \\\\epsilon_{2} \\\\epsilon_{3} q_{3} - a_{p}^{2} a_{xp} b_{p}^{2} b_{x} q_{3} + a_{p}^{2} a_{xp} b_{p} b_{x}^{2} \\\\epsilon_{2} \\\\epsilon_{3} q_{3} - a_{p}^{2} a_{xp} b_{p} b_{x}^{2} \\\\epsilon_{2} q_{3} + 2 a_{p}^{2} a_{xp} b_{p} b_{x} b_{xp} \\\\epsilon_{1} \\\\epsilon_{2}^{2} \\\\epsilon_{3} q_{3} - a_{p}^{2} a_{xp} b_{p} b_{x} b_{xp} \\\\epsilon_{1} \\\\epsilon_{2} q_{3} - a_{p}^{2} a_{xp} b_{p} b_{x} b_{xp} \\\\epsilon_{2} q_{3} + a_{p}^{2} a_{xp} b_{x}^{2} b_{xp} \\\\epsilon_{2}^{2} \\\\epsilon_{3} q_{3} - a_{p}^{2} a_{xp} b_{x}^{2} b_{xp} \\\\epsilon_{2}^{2} q_{3} + a_{p} a_{x} b_{p}^{3} b_{x} \\\\epsilon_{1} \\\\epsilon_{2} \\\\epsilon_{3} q_{3} - a_{p} a_{x} b_{p}^{3} b_{x} q_{3} + a_{p} a_{x} b_{p}^{2} b_{x} b_{xp} \\\\epsilon_{1} \\\\epsilon_{2}^{2} \\\\epsilon_{3} q_{3} + a_{p} a_{x} b_{p}^{2} b_{x} b_{xp} \\\\epsilon_{1} \\\\epsilon_{2} q_{3} - 2 a_{p} a_{x} b_{p}^{2} b_{x} b_{xp} \\\\epsilon_{2} q_{3} + a_{p} a_{x} b_{p} b_{x} b_{xp}^{2} \\\\epsilon_{1} \\\\epsilon_{2}^{2} q_{3} - a_{p} a_{x} b_{p} b_{x} b_{xp}^{2} \\\\epsilon_{2}^{2} q_{3} + a_{p} a_{xp} b_{p}^{2} b_{x}^{2} \\\\epsilon_{2} \\\\epsilon_{3} q_{3} - a_{p} a_{xp} b_{p}^{2} b_{x}^{2} q_{3} + a_{p} a_{xp} b_{p} b_{x}^{2} b_{xp} \\\\epsilon_{2}^{2} \\\\epsilon_{3} q_{3} - a_{p} a_{xp} b_{p} b_{x}^{2} b_{xp} \\\\epsilon_{2} q_{3}, x, domain=\\\\mathbb{Z}\\\\left[q_{3}, a_{p}, a_{x}, a_{xp}, b_{p}, b_{x}, b_{xp}, \\\\epsilon_{1}, \\\\epsilon_{2}, \\\\epsilon_{3}\\\\right] \\\\right)}'"
      ]
     },
     "execution_count": 11,
     "metadata": {},
     "output_type": "execute_result"
    }
   ],
   "source": [
    "sympy.printing.latex(poly_zero)"
   ]
  },
  {
   "cell_type": "code",
   "execution_count": 9,
   "id": "6709b6ac",
   "metadata": {},
   "outputs": [],
   "source": [
    "import numpy as np"
   ]
  },
  {
   "cell_type": "code",
   "execution_count": 12,
   "id": "302b5634",
   "metadata": {
    "scrolled": false
   },
   "outputs": [
    {
     "name": "stdout",
     "output_type": "stream",
     "text": [
      "0\n",
      "monomial\n"
     ]
    },
    {
     "data": {
      "text/latex": [
       "$\\displaystyle - a_{p} a_{x} b_{p}^{3} b_{x} q_{3}$"
      ],
      "text/plain": [
       "-a_p*a_x*b_p**3*b_x*q3"
      ]
     },
     "metadata": {},
     "output_type": "display_data"
    },
    {
     "name": "stdout",
     "output_type": "stream",
     "text": [
      "-1 [a_p a_x b_p**3 b_x q3] []\n",
      "monomial\n"
     ]
    },
    {
     "data": {
      "text/latex": [
       "$\\displaystyle - a_{p} a_{xp} b_{p}^{2} b_{x}^{2} q_{3}$"
      ],
      "text/plain": [
       "-a_p*a_xp*b_p**2*b_x**2*q3"
      ]
     },
     "metadata": {},
     "output_type": "display_data"
    },
    {
     "name": "stdout",
     "output_type": "stream",
     "text": [
      "-1 [a_p a_xp b_p**2 b_x**2 q3] []\n",
      "monomial\n"
     ]
    },
    {
     "data": {
      "text/latex": [
       "$\\displaystyle - a_{p}^{2} a_{xp} b_{p}^{2} b_{x} q_{3}$"
      ],
      "text/plain": [
       "-a_p**2*a_xp*b_p**2*b_x*q3"
      ]
     },
     "metadata": {},
     "output_type": "display_data"
    },
    {
     "name": "stdout",
     "output_type": "stream",
     "text": [
      "-1 [a_p**2 a_xp b_p**2 b_x q3] []\n",
      "monomial\n"
     ]
    },
    {
     "data": {
      "text/latex": [
       "$\\displaystyle - a_{p}^{2} a_{xp} b_{p} b_{x}^{2} \\epsilon_{2} q_{3}$"
      ],
      "text/plain": [
       "-a_p**2*a_xp*b_p*b_x**2*epsilon2*q3"
      ]
     },
     "metadata": {},
     "output_type": "display_data"
    },
    {
     "name": "stdout",
     "output_type": "stream",
     "text": [
      "-1 [a_p**2 a_xp b_p b_x**2 q3] [epsilon2]\n",
      "monomial\n"
     ]
    },
    {
     "data": {
      "text/latex": [
       "$\\displaystyle - a_{p}^{2} a_{xp} b_{x}^{2} b_{xp} \\epsilon_{2}^{2} q_{3}$"
      ],
      "text/plain": [
       "-a_p**2*a_xp*b_x**2*b_xp*epsilon2**2*q3"
      ]
     },
     "metadata": {},
     "output_type": "display_data"
    },
    {
     "name": "stdout",
     "output_type": "stream",
     "text": [
      "-1 [a_p**2 a_xp b_x**2 b_xp q3] [epsilon2**2]\n",
      "monomial\n"
     ]
    },
    {
     "data": {
      "text/latex": [
       "$\\displaystyle - a_{p}^{4} a_{xp} b_{xp} \\epsilon_{1}^{2} \\epsilon_{2}^{2} q_{3}$"
      ],
      "text/plain": [
       "-a_p**4*a_xp*b_xp*epsilon1**2*epsilon2**2*q3"
      ]
     },
     "metadata": {},
     "output_type": "display_data"
    },
    {
     "name": "stdout",
     "output_type": "stream",
     "text": [
      "-1 [a_p**4 a_xp b_xp q3] [epsilon1**2 epsilon2**2]\n",
      "monomial\n"
     ]
    },
    {
     "data": {
      "text/latex": [
       "$\\displaystyle a_{p} a_{xp} b_{p}^{2} b_{x}^{2} \\epsilon_{2} \\epsilon_{3} q_{3}$"
      ],
      "text/plain": [
       "a_p*a_xp*b_p**2*b_x**2*epsilon2*epsilon3*q3"
      ]
     },
     "metadata": {},
     "output_type": "display_data"
    },
    {
     "name": "stdout",
     "output_type": "stream",
     "text": [
      "1 [a_p a_xp b_p**2 b_x**2 q3] [epsilon2 epsilon3]\n",
      "monomial\n"
     ]
    },
    {
     "data": {
      "text/latex": [
       "$\\displaystyle a_{p}^{2} a_{x} b_{p} b_{xp}^{2} \\epsilon_{1}^{2} \\epsilon_{2}^{2} q_{3}$"
      ],
      "text/plain": [
       "a_p**2*a_x*b_p*b_xp**2*epsilon1**2*epsilon2**2*q3"
      ]
     },
     "metadata": {},
     "output_type": "display_data"
    },
    {
     "name": "stdout",
     "output_type": "stream",
     "text": [
      "1 [a_p**2 a_x b_p b_xp**2 q3] [epsilon1**2 epsilon2**2]\n",
      "monomial\n"
     ]
    },
    {
     "data": {
      "text/latex": [
       "$\\displaystyle a_{p}^{2} a_{xp} b_{p} b_{x}^{2} \\epsilon_{2} \\epsilon_{3} q_{3}$"
      ],
      "text/plain": [
       "a_p**2*a_xp*b_p*b_x**2*epsilon2*epsilon3*q3"
      ]
     },
     "metadata": {},
     "output_type": "display_data"
    },
    {
     "name": "stdout",
     "output_type": "stream",
     "text": [
      "1 [a_p**2 a_xp b_p b_x**2 q3] [epsilon2 epsilon3]\n",
      "monomial\n"
     ]
    },
    {
     "data": {
      "text/latex": [
       "$\\displaystyle a_{p}^{2} a_{xp} b_{x}^{2} b_{xp} \\epsilon_{2}^{2} \\epsilon_{3} q_{3}$"
      ],
      "text/plain": [
       "a_p**2*a_xp*b_x**2*b_xp*epsilon2**2*epsilon3*q3"
      ]
     },
     "metadata": {},
     "output_type": "display_data"
    },
    {
     "name": "stdout",
     "output_type": "stream",
     "text": [
      "1 [a_p**2 a_xp b_x**2 b_xp q3] [epsilon2**2 epsilon3]\n",
      "monomial\n"
     ]
    },
    {
     "data": {
      "text/latex": [
       "$\\displaystyle a_{p}^{4} a_{xp} b_{xp} \\epsilon_{1}^{2} \\epsilon_{2}^{2} \\epsilon_{3} q_{3}$"
      ],
      "text/plain": [
       "a_p**4*a_xp*b_xp*epsilon1**2*epsilon2**2*epsilon3*q3"
      ]
     },
     "metadata": {},
     "output_type": "display_data"
    },
    {
     "name": "stdout",
     "output_type": "stream",
     "text": [
      "1 [a_p**4 a_xp b_xp q3] [epsilon1**2 epsilon2**2 epsilon3]\n",
      "monomial\n"
     ]
    },
    {
     "data": {
      "text/latex": [
       "$\\displaystyle - a_{p} a_{x} b_{p} b_{x} b_{xp}^{2} \\epsilon_{2}^{2} q_{3}$"
      ],
      "text/plain": [
       "-a_p*a_x*b_p*b_x*b_xp**2*epsilon2**2*q3"
      ]
     },
     "metadata": {},
     "output_type": "display_data"
    },
    {
     "name": "stdout",
     "output_type": "stream",
     "text": [
      "-1 [a_p a_x b_p b_x b_xp**2 q3] [epsilon2**2]\n",
      "monomial\n"
     ]
    },
    {
     "data": {
      "text/latex": [
       "$\\displaystyle - a_{p} a_{xp} b_{p} b_{x}^{2} b_{xp} \\epsilon_{2} q_{3}$"
      ],
      "text/plain": [
       "-a_p*a_xp*b_p*b_x**2*b_xp*epsilon2*q3"
      ]
     },
     "metadata": {},
     "output_type": "display_data"
    },
    {
     "name": "stdout",
     "output_type": "stream",
     "text": [
      "-1 [a_p a_xp b_p b_x**2 b_xp q3] [epsilon2]\n",
      "monomial\n"
     ]
    },
    {
     "data": {
      "text/latex": [
       "$\\displaystyle - a_{p}^{3} a_{x} b_{p} b_{xp} \\epsilon_{1}^{2} \\epsilon_{2}^{2} q_{3}$"
      ],
      "text/plain": [
       "-a_p**3*a_x*b_p*b_xp*epsilon1**2*epsilon2**2*q3"
      ]
     },
     "metadata": {},
     "output_type": "display_data"
    },
    {
     "name": "stdout",
     "output_type": "stream",
     "text": [
      "-1 [a_p**3 a_x b_p b_xp q3] [epsilon1**2 epsilon2**2]\n",
      "monomial\n"
     ]
    },
    {
     "data": {
      "text/latex": [
       "$\\displaystyle - a_{p}^{2} a_{x} b_{p} b_{xp}^{2} \\epsilon_{1} \\epsilon_{2}^{2} q_{3}$"
      ],
      "text/plain": [
       "-a_p**2*a_x*b_p*b_xp**2*epsilon1*epsilon2**2*q3"
      ]
     },
     "metadata": {},
     "output_type": "display_data"
    },
    {
     "name": "stdout",
     "output_type": "stream",
     "text": [
      "-1 [a_p**2 a_x b_p b_xp**2 q3] [epsilon1 epsilon2**2]\n",
      "monomial\n"
     ]
    },
    {
     "data": {
      "text/latex": [
       "$\\displaystyle - a_{p}^{2} a_{x} b_{p}^{2} b_{x} \\epsilon_{1} \\epsilon_{2} q_{3}$"
      ],
      "text/plain": [
       "-a_p**2*a_x*b_p**2*b_x*epsilon1*epsilon2*q3"
      ]
     },
     "metadata": {},
     "output_type": "display_data"
    },
    {
     "name": "stdout",
     "output_type": "stream",
     "text": [
      "-1 [a_p**2 a_x b_p**2 b_x q3] [epsilon1 epsilon2]\n",
      "monomial\n"
     ]
    },
    {
     "data": {
      "text/latex": [
       "$\\displaystyle - a_{p}^{2} a_{x} b_{p}^{2} b_{xp} \\epsilon_{1} \\epsilon_{2} q_{3}$"
      ],
      "text/plain": [
       "-a_p**2*a_x*b_p**2*b_xp*epsilon1*epsilon2*q3"
      ]
     },
     "metadata": {},
     "output_type": "display_data"
    },
    {
     "name": "stdout",
     "output_type": "stream",
     "text": [
      "-1 [a_p**2 a_x b_p**2 b_xp q3] [epsilon1 epsilon2]\n",
      "monomial\n"
     ]
    },
    {
     "data": {
      "text/latex": [
       "$\\displaystyle - a_{p}^{2} a_{xp} b_{p} b_{x} b_{xp} \\epsilon_{2} q_{3}$"
      ],
      "text/plain": [
       "-a_p**2*a_xp*b_p*b_x*b_xp*epsilon2*q3"
      ]
     },
     "metadata": {},
     "output_type": "display_data"
    },
    {
     "name": "stdout",
     "output_type": "stream",
     "text": [
      "-1 [a_p**2 a_xp b_p b_x b_xp q3] [epsilon2]\n",
      "monomial\n"
     ]
    },
    {
     "data": {
      "text/latex": [
       "$\\displaystyle - a_{p}^{3} a_{xp} b_{p} b_{x} \\epsilon_{1} \\epsilon_{2} q_{3}$"
      ],
      "text/plain": [
       "-a_p**3*a_xp*b_p*b_x*epsilon1*epsilon2*q3"
      ]
     },
     "metadata": {},
     "output_type": "display_data"
    },
    {
     "name": "stdout",
     "output_type": "stream",
     "text": [
      "-1 [a_p**3 a_xp b_p b_x q3] [epsilon1 epsilon2]\n",
      "monomial\n"
     ]
    },
    {
     "data": {
      "text/latex": [
       "$\\displaystyle - a_{p}^{3} a_{xp} b_{p} b_{xp} \\epsilon_{1} \\epsilon_{2} q_{3}$"
      ],
      "text/plain": [
       "-a_p**3*a_xp*b_p*b_xp*epsilon1*epsilon2*q3"
      ]
     },
     "metadata": {},
     "output_type": "display_data"
    },
    {
     "name": "stdout",
     "output_type": "stream",
     "text": [
      "-1 [a_p**3 a_xp b_p b_xp q3] [epsilon1 epsilon2]\n",
      "monomial\n"
     ]
    },
    {
     "data": {
      "text/latex": [
       "$\\displaystyle - 2 a_{p} a_{x} b_{p}^{2} b_{x} b_{xp} \\epsilon_{2} q_{3}$"
      ],
      "text/plain": [
       "-2*a_p*a_x*b_p**2*b_x*b_xp*epsilon2*q3"
      ]
     },
     "metadata": {},
     "output_type": "display_data"
    },
    {
     "name": "stdout",
     "output_type": "stream",
     "text": [
      "-2 [a_p a_x b_p**2 b_x b_xp q3] [epsilon2]\n",
      "monomial\n"
     ]
    },
    {
     "data": {
      "text/latex": [
       "$\\displaystyle - 2 a_{p}^{3} a_{xp} b_{x} b_{xp} \\epsilon_{1} \\epsilon_{2}^{2} q_{3}$"
      ],
      "text/plain": [
       "-2*a_p**3*a_xp*b_x*b_xp*epsilon1*epsilon2**2*q3"
      ]
     },
     "metadata": {},
     "output_type": "display_data"
    },
    {
     "name": "stdout",
     "output_type": "stream",
     "text": [
      "-2 [a_p**3 a_xp b_x b_xp q3] [epsilon1 epsilon2**2]\n",
      "monomial\n"
     ]
    },
    {
     "data": {
      "text/latex": [
       "$\\displaystyle a_{p} a_{x} b_{p} b_{x} b_{xp}^{2} \\epsilon_{1} \\epsilon_{2}^{2} q_{3}$"
      ],
      "text/plain": [
       "a_p*a_x*b_p*b_x*b_xp**2*epsilon1*epsilon2**2*q3"
      ]
     },
     "metadata": {},
     "output_type": "display_data"
    },
    {
     "name": "stdout",
     "output_type": "stream",
     "text": [
      "1 [a_p a_x b_p b_x b_xp**2 q3] [epsilon1 epsilon2**2]\n",
      "monomial\n"
     ]
    },
    {
     "data": {
      "text/latex": [
       "$\\displaystyle a_{p} a_{x} b_{p}^{2} b_{x} b_{xp} \\epsilon_{1} \\epsilon_{2} q_{3}$"
      ],
      "text/plain": [
       "a_p*a_x*b_p**2*b_x*b_xp*epsilon1*epsilon2*q3"
      ]
     },
     "metadata": {},
     "output_type": "display_data"
    },
    {
     "name": "stdout",
     "output_type": "stream",
     "text": [
      "1 [a_p a_x b_p**2 b_x b_xp q3] [epsilon1 epsilon2]\n",
      "monomial\n"
     ]
    },
    {
     "data": {
      "text/latex": [
       "$\\displaystyle a_{p} a_{x} b_{p}^{3} b_{x} \\epsilon_{1} \\epsilon_{2} \\epsilon_{3} q_{3}$"
      ],
      "text/plain": [
       "a_p*a_x*b_p**3*b_x*epsilon1*epsilon2*epsilon3*q3"
      ]
     },
     "metadata": {},
     "output_type": "display_data"
    },
    {
     "name": "stdout",
     "output_type": "stream",
     "text": [
      "1 [a_p a_x b_p**3 b_x q3] [epsilon1 epsilon2 epsilon3]\n",
      "monomial\n"
     ]
    },
    {
     "data": {
      "text/latex": [
       "$\\displaystyle a_{p} a_{xp} b_{p} b_{x}^{2} b_{xp} \\epsilon_{2}^{2} \\epsilon_{3} q_{3}$"
      ],
      "text/plain": [
       "a_p*a_xp*b_p*b_x**2*b_xp*epsilon2**2*epsilon3*q3"
      ]
     },
     "metadata": {},
     "output_type": "display_data"
    },
    {
     "name": "stdout",
     "output_type": "stream",
     "text": [
      "1 [a_p a_xp b_p b_x**2 b_xp q3] [epsilon2**2 epsilon3]\n",
      "monomial\n"
     ]
    },
    {
     "data": {
      "text/latex": [
       "$\\displaystyle a_{p}^{3} a_{x} b_{p} b_{xp} \\epsilon_{1}^{2} \\epsilon_{2}^{2} \\epsilon_{3} q_{3}$"
      ],
      "text/plain": [
       "a_p**3*a_x*b_p*b_xp*epsilon1**2*epsilon2**2*epsilon3*q3"
      ]
     },
     "metadata": {},
     "output_type": "display_data"
    },
    {
     "name": "stdout",
     "output_type": "stream",
     "text": [
      "1 [a_p**3 a_x b_p b_xp q3] [epsilon1**2 epsilon2**2 epsilon3]\n",
      "monomial\n"
     ]
    },
    {
     "data": {
      "text/latex": [
       "$\\displaystyle a_{p}^{2} a_{x} b_{p}^{2} b_{x} \\epsilon_{1} \\epsilon_{2} \\epsilon_{3} q_{3}$"
      ],
      "text/plain": [
       "a_p**2*a_x*b_p**2*b_x*epsilon1*epsilon2*epsilon3*q3"
      ]
     },
     "metadata": {},
     "output_type": "display_data"
    },
    {
     "name": "stdout",
     "output_type": "stream",
     "text": [
      "1 [a_p**2 a_x b_p**2 b_x q3] [epsilon1 epsilon2 epsilon3]\n",
      "monomial\n"
     ]
    },
    {
     "data": {
      "text/latex": [
       "$\\displaystyle a_{p}^{2} a_{x} b_{p}^{2} b_{xp} \\epsilon_{1}^{2} \\epsilon_{2}^{2} \\epsilon_{3} q_{3}$"
      ],
      "text/plain": [
       "a_p**2*a_x*b_p**2*b_xp*epsilon1**2*epsilon2**2*epsilon3*q3"
      ]
     },
     "metadata": {},
     "output_type": "display_data"
    },
    {
     "name": "stdout",
     "output_type": "stream",
     "text": [
      "1 [a_p**2 a_x b_p**2 b_xp q3] [epsilon1**2 epsilon2**2 epsilon3]\n",
      "monomial\n"
     ]
    },
    {
     "data": {
      "text/latex": [
       "$\\displaystyle a_{p}^{3} a_{xp} b_{p} b_{x} \\epsilon_{1} \\epsilon_{2} \\epsilon_{3} q_{3}$"
      ],
      "text/plain": [
       "a_p**3*a_xp*b_p*b_x*epsilon1*epsilon2*epsilon3*q3"
      ]
     },
     "metadata": {},
     "output_type": "display_data"
    },
    {
     "name": "stdout",
     "output_type": "stream",
     "text": [
      "1 [a_p**3 a_xp b_p b_x q3] [epsilon1 epsilon2 epsilon3]\n",
      "monomial\n"
     ]
    },
    {
     "data": {
      "text/latex": [
       "$\\displaystyle a_{p}^{3} a_{xp} b_{p} b_{xp} \\epsilon_{1}^{2} \\epsilon_{2}^{2} \\epsilon_{3} q_{3}$"
      ],
      "text/plain": [
       "a_p**3*a_xp*b_p*b_xp*epsilon1**2*epsilon2**2*epsilon3*q3"
      ]
     },
     "metadata": {},
     "output_type": "display_data"
    },
    {
     "name": "stdout",
     "output_type": "stream",
     "text": [
      "1 [a_p**3 a_xp b_p b_xp q3] [epsilon1**2 epsilon2**2 epsilon3]\n",
      "monomial\n"
     ]
    },
    {
     "data": {
      "text/latex": [
       "$\\displaystyle a_{p}^{2} a_{xp} b_{p}^{2} b_{x} \\epsilon_{1} \\epsilon_{2} \\epsilon_{3} q_{3}$"
      ],
      "text/plain": [
       "a_p**2*a_xp*b_p**2*b_x*epsilon1*epsilon2*epsilon3*q3"
      ]
     },
     "metadata": {},
     "output_type": "display_data"
    },
    {
     "name": "stdout",
     "output_type": "stream",
     "text": [
      "1 [a_p**2 a_xp b_p**2 b_x q3] [epsilon1 epsilon2 epsilon3]\n",
      "monomial\n"
     ]
    },
    {
     "data": {
      "text/latex": [
       "$\\displaystyle - a_{p}^{2} a_{x} b_{p} b_{x} b_{xp} \\epsilon_{1} \\epsilon_{2}^{2} q_{3}$"
      ],
      "text/plain": [
       "-a_p**2*a_x*b_p*b_x*b_xp*epsilon1*epsilon2**2*q3"
      ]
     },
     "metadata": {},
     "output_type": "display_data"
    },
    {
     "name": "stdout",
     "output_type": "stream",
     "text": [
      "-1 [a_p**2 a_x b_p b_x b_xp q3] [epsilon1 epsilon2**2]\n",
      "monomial\n"
     ]
    },
    {
     "data": {
      "text/latex": [
       "$\\displaystyle - a_{p}^{2} a_{xp} b_{p} b_{x} b_{xp} \\epsilon_{1} \\epsilon_{2} q_{3}$"
      ],
      "text/plain": [
       "-a_p**2*a_xp*b_p*b_x*b_xp*epsilon1*epsilon2*q3"
      ]
     },
     "metadata": {},
     "output_type": "display_data"
    },
    {
     "name": "stdout",
     "output_type": "stream",
     "text": [
      "-1 [a_p**2 a_xp b_p b_x b_xp q3] [epsilon1 epsilon2]\n",
      "monomial\n"
     ]
    },
    {
     "data": {
      "text/latex": [
       "$\\displaystyle 2 a_{p}^{3} a_{xp} b_{x} b_{xp} \\epsilon_{1} \\epsilon_{2}^{2} \\epsilon_{3} q_{3}$"
      ],
      "text/plain": [
       "2*a_p**3*a_xp*b_x*b_xp*epsilon1*epsilon2**2*epsilon3*q3"
      ]
     },
     "metadata": {},
     "output_type": "display_data"
    },
    {
     "name": "stdout",
     "output_type": "stream",
     "text": [
      "2 [a_p**3 a_xp b_x b_xp q3] [epsilon1 epsilon2**2 epsilon3]\n",
      "monomial\n"
     ]
    },
    {
     "data": {
      "text/latex": [
       "$\\displaystyle a_{p} a_{x} b_{p}^{2} b_{x} b_{xp} \\epsilon_{1} \\epsilon_{2}^{2} \\epsilon_{3} q_{3}$"
      ],
      "text/plain": [
       "a_p*a_x*b_p**2*b_x*b_xp*epsilon1*epsilon2**2*epsilon3*q3"
      ]
     },
     "metadata": {},
     "output_type": "display_data"
    },
    {
     "name": "stdout",
     "output_type": "stream",
     "text": [
      "1 [a_p a_x b_p**2 b_x b_xp q3] [epsilon1 epsilon2**2 epsilon3]\n",
      "monomial\n"
     ]
    },
    {
     "data": {
      "text/latex": [
       "$\\displaystyle a_{p}^{2} a_{x} b_{p} b_{x} b_{xp} \\epsilon_{1} \\epsilon_{2}^{2} \\epsilon_{3} q_{3}$"
      ],
      "text/plain": [
       "a_p**2*a_x*b_p*b_x*b_xp*epsilon1*epsilon2**2*epsilon3*q3"
      ]
     },
     "metadata": {},
     "output_type": "display_data"
    },
    {
     "name": "stdout",
     "output_type": "stream",
     "text": [
      "1 [a_p**2 a_x b_p b_x b_xp q3] [epsilon1 epsilon2**2 epsilon3]\n",
      "monomial\n"
     ]
    },
    {
     "data": {
      "text/latex": [
       "$\\displaystyle 2 a_{p}^{2} a_{xp} b_{p} b_{x} b_{xp} \\epsilon_{1} \\epsilon_{2}^{2} \\epsilon_{3} q_{3}$"
      ],
      "text/plain": [
       "2*a_p**2*a_xp*b_p*b_x*b_xp*epsilon1*epsilon2**2*epsilon3*q3"
      ]
     },
     "metadata": {},
     "output_type": "display_data"
    },
    {
     "name": "stdout",
     "output_type": "stream",
     "text": [
      "2 [a_p**2 a_xp b_p b_x b_xp q3] [epsilon1 epsilon2**2 epsilon3]\n",
      "1\n",
      "monomial\n"
     ]
    },
    {
     "data": {
      "text/latex": [
       "$\\displaystyle - 2 a_{p} a_{x} a_{xp} b_{p}^{2} b_{x} q_{3}$"
      ],
      "text/plain": [
       "-2*a_p*a_x*a_xp*b_p**2*b_x*q3"
      ]
     },
     "metadata": {},
     "output_type": "display_data"
    },
    {
     "name": "stdout",
     "output_type": "stream",
     "text": [
      "-2 [a_p a_x a_xp b_p**2 b_x q3] []\n",
      "monomial\n"
     ]
    },
    {
     "data": {
      "text/latex": [
       "$\\displaystyle - 2 a_{p}^{3} a_{x} a_{xp} b_{xp} \\epsilon_{1}^{2} \\epsilon_{2}^{2} q_{3}$"
      ],
      "text/plain": [
       "-2*a_p**3*a_x*a_xp*b_xp*epsilon1**2*epsilon2**2*q3"
      ]
     },
     "metadata": {},
     "output_type": "display_data"
    },
    {
     "name": "stdout",
     "output_type": "stream",
     "text": [
      "-2 [a_p**3 a_x a_xp b_xp q3] [epsilon1**2 epsilon2**2]\n",
      "monomial\n"
     ]
    },
    {
     "data": {
      "text/latex": [
       "$\\displaystyle - 2 a_{p} a_{x} a_{xp} b_{p} b_{x} b_{xp} \\epsilon_{2} q_{3}$"
      ],
      "text/plain": [
       "-2*a_p*a_x*a_xp*b_p*b_x*b_xp*epsilon2*q3"
      ]
     },
     "metadata": {},
     "output_type": "display_data"
    },
    {
     "name": "stdout",
     "output_type": "stream",
     "text": [
      "-2 [a_p a_x a_xp b_p b_x b_xp q3] [epsilon2]\n",
      "monomial\n"
     ]
    },
    {
     "data": {
      "text/latex": [
       "$\\displaystyle - 2 a_{p}^{2} a_{x} a_{xp} b_{p} b_{x} \\epsilon_{1} \\epsilon_{2} q_{3}$"
      ],
      "text/plain": [
       "-2*a_p**2*a_x*a_xp*b_p*b_x*epsilon1*epsilon2*q3"
      ]
     },
     "metadata": {},
     "output_type": "display_data"
    },
    {
     "name": "stdout",
     "output_type": "stream",
     "text": [
      "-2 [a_p**2 a_x a_xp b_p b_x q3] [epsilon1 epsilon2]\n",
      "monomial\n"
     ]
    },
    {
     "data": {
      "text/latex": [
       "$\\displaystyle - 2 a_{p}^{2} a_{x} a_{xp} b_{p} b_{xp} \\epsilon_{1} \\epsilon_{2} q_{3}$"
      ],
      "text/plain": [
       "-2*a_p**2*a_x*a_xp*b_p*b_xp*epsilon1*epsilon2*q3"
      ]
     },
     "metadata": {},
     "output_type": "display_data"
    },
    {
     "name": "stdout",
     "output_type": "stream",
     "text": [
      "-2 [a_p**2 a_x a_xp b_p b_xp q3] [epsilon1 epsilon2]\n",
      "monomial\n"
     ]
    },
    {
     "data": {
      "text/latex": [
       "$\\displaystyle - 2 a_{p}^{2} a_{x} a_{xp} b_{x} b_{xp} \\epsilon_{1} \\epsilon_{2}^{2} q_{3}$"
      ],
      "text/plain": [
       "-2*a_p**2*a_x*a_xp*b_x*b_xp*epsilon1*epsilon2**2*q3"
      ]
     },
     "metadata": {},
     "output_type": "display_data"
    },
    {
     "name": "stdout",
     "output_type": "stream",
     "text": [
      "-2 [a_p**2 a_x a_xp b_x b_xp q3] [epsilon1 epsilon2**2]\n",
      "monomial\n"
     ]
    },
    {
     "data": {
      "text/latex": [
       "$\\displaystyle 2 a_{p}^{3} a_{x} a_{xp} b_{xp} \\epsilon_{1}^{2} \\epsilon_{2}^{2} \\epsilon_{3} q_{3}$"
      ],
      "text/plain": [
       "2*a_p**3*a_x*a_xp*b_xp*epsilon1**2*epsilon2**2*epsilon3*q3"
      ]
     },
     "metadata": {},
     "output_type": "display_data"
    },
    {
     "name": "stdout",
     "output_type": "stream",
     "text": [
      "2 [a_p**3 a_x a_xp b_xp q3] [epsilon1**2 epsilon2**2 epsilon3]\n",
      "monomial\n"
     ]
    },
    {
     "data": {
      "text/latex": [
       "$\\displaystyle 2 a_{p} a_{x} a_{xp} b_{p}^{2} b_{x} \\epsilon_{1} \\epsilon_{2} \\epsilon_{3} q_{3}$"
      ],
      "text/plain": [
       "2*a_p*a_x*a_xp*b_p**2*b_x*epsilon1*epsilon2*epsilon3*q3"
      ]
     },
     "metadata": {},
     "output_type": "display_data"
    },
    {
     "name": "stdout",
     "output_type": "stream",
     "text": [
      "2 [a_p a_x a_xp b_p**2 b_x q3] [epsilon1 epsilon2 epsilon3]\n",
      "monomial\n"
     ]
    },
    {
     "data": {
      "text/latex": [
       "$\\displaystyle 2 a_{p}^{2} a_{x} a_{xp} b_{p} b_{x} \\epsilon_{1} \\epsilon_{2} \\epsilon_{3} q_{3}$"
      ],
      "text/plain": [
       "2*a_p**2*a_x*a_xp*b_p*b_x*epsilon1*epsilon2*epsilon3*q3"
      ]
     },
     "metadata": {},
     "output_type": "display_data"
    },
    {
     "name": "stdout",
     "output_type": "stream",
     "text": [
      "2 [a_p**2 a_x a_xp b_p b_x q3] [epsilon1 epsilon2 epsilon3]\n",
      "monomial\n"
     ]
    },
    {
     "data": {
      "text/latex": [
       "$\\displaystyle 2 a_{p}^{2} a_{x} a_{xp} b_{p} b_{xp} \\epsilon_{1}^{2} \\epsilon_{2}^{2} \\epsilon_{3} q_{3}$"
      ],
      "text/plain": [
       "2*a_p**2*a_x*a_xp*b_p*b_xp*epsilon1**2*epsilon2**2*epsilon3*q3"
      ]
     },
     "metadata": {},
     "output_type": "display_data"
    },
    {
     "name": "stdout",
     "output_type": "stream",
     "text": [
      "2 [a_p**2 a_x a_xp b_p b_xp q3] [epsilon1**2 epsilon2**2 epsilon3]\n",
      "monomial\n"
     ]
    },
    {
     "data": {
      "text/latex": [
       "$\\displaystyle 2 a_{p}^{2} a_{x} a_{xp} b_{x} b_{xp} \\epsilon_{1} \\epsilon_{2}^{2} \\epsilon_{3} q_{3}$"
      ],
      "text/plain": [
       "2*a_p**2*a_x*a_xp*b_x*b_xp*epsilon1*epsilon2**2*epsilon3*q3"
      ]
     },
     "metadata": {},
     "output_type": "display_data"
    },
    {
     "name": "stdout",
     "output_type": "stream",
     "text": [
      "2 [a_p**2 a_x a_xp b_x b_xp q3] [epsilon1 epsilon2**2 epsilon3]\n",
      "monomial\n"
     ]
    },
    {
     "data": {
      "text/latex": [
       "$\\displaystyle 2 a_{p} a_{x} a_{xp} b_{p} b_{x} b_{xp} \\epsilon_{1} \\epsilon_{2}^{2} \\epsilon_{3} q_{3}$"
      ],
      "text/plain": [
       "2*a_p*a_x*a_xp*b_p*b_x*b_xp*epsilon1*epsilon2**2*epsilon3*q3"
      ]
     },
     "metadata": {},
     "output_type": "display_data"
    },
    {
     "name": "stdout",
     "output_type": "stream",
     "text": [
      "2 [a_p a_x a_xp b_p b_x b_xp q3] [epsilon1 epsilon2**2 epsilon3]\n",
      "2\n",
      "monomial\n"
     ]
    },
    {
     "data": {
      "text/latex": [
       "$\\displaystyle - a_{p}^{2} a_{x}^{2} a_{xp} b_{xp} \\epsilon_{1}^{2} \\epsilon_{2}^{2} q_{3}$"
      ],
      "text/plain": [
       "-a_p**2*a_x**2*a_xp*b_xp*epsilon1**2*epsilon2**2*q3"
      ]
     },
     "metadata": {},
     "output_type": "display_data"
    },
    {
     "name": "stdout",
     "output_type": "stream",
     "text": [
      "-1 [a_p**2 a_x**2 a_xp b_xp q3] [epsilon1**2 epsilon2**2]\n",
      "monomial\n"
     ]
    },
    {
     "data": {
      "text/latex": [
       "$\\displaystyle a_{p}^{2} a_{x}^{2} a_{xp} b_{xp} \\epsilon_{1}^{2} \\epsilon_{2}^{2} \\epsilon_{3} q_{3}$"
      ],
      "text/plain": [
       "a_p**2*a_x**2*a_xp*b_xp*epsilon1**2*epsilon2**2*epsilon3*q3"
      ]
     },
     "metadata": {},
     "output_type": "display_data"
    },
    {
     "name": "stdout",
     "output_type": "stream",
     "text": [
      "1 [a_p**2 a_x**2 a_xp b_xp q3] [epsilon1**2 epsilon2**2 epsilon3]\n",
      "monomial\n"
     ]
    },
    {
     "data": {
      "text/latex": [
       "$\\displaystyle - a_{p} a_{x} a_{xp}^{2} b_{p} b_{x} \\epsilon_{2} \\epsilon_{3} q_{3}$"
      ],
      "text/plain": [
       "-a_p*a_x*a_xp**2*b_p*b_x*epsilon2*epsilon3*q3"
      ]
     },
     "metadata": {},
     "output_type": "display_data"
    },
    {
     "name": "stdout",
     "output_type": "stream",
     "text": [
      "-1 [a_p a_x a_xp**2 b_p b_x q3] [epsilon2 epsilon3]\n",
      "monomial\n"
     ]
    },
    {
     "data": {
      "text/latex": [
       "$\\displaystyle - a_{p} a_{x}^{2} a_{xp} b_{p} b_{xp} \\epsilon_{1} \\epsilon_{2} q_{3}$"
      ],
      "text/plain": [
       "-a_p*a_x**2*a_xp*b_p*b_xp*epsilon1*epsilon2*q3"
      ]
     },
     "metadata": {},
     "output_type": "display_data"
    },
    {
     "name": "stdout",
     "output_type": "stream",
     "text": [
      "-1 [a_p a_x**2 a_xp b_p b_xp q3] [epsilon1 epsilon2]\n",
      "monomial\n"
     ]
    },
    {
     "data": {
      "text/latex": [
       "$\\displaystyle a_{p} a_{x} a_{xp}^{2} b_{p} b_{x} \\epsilon_{1} \\epsilon_{2} \\epsilon_{3} q_{3}$"
      ],
      "text/plain": [
       "a_p*a_x*a_xp**2*b_p*b_x*epsilon1*epsilon2*epsilon3*q3"
      ]
     },
     "metadata": {},
     "output_type": "display_data"
    },
    {
     "name": "stdout",
     "output_type": "stream",
     "text": [
      "1 [a_p a_x a_xp**2 b_p b_x q3] [epsilon1 epsilon2 epsilon3]\n",
      "monomial\n"
     ]
    },
    {
     "data": {
      "text/latex": [
       "$\\displaystyle a_{p} a_{x}^{2} a_{xp} b_{p} b_{xp} \\epsilon_{1} \\epsilon_{2}^{2} \\epsilon_{3} q_{3}$"
      ],
      "text/plain": [
       "a_p*a_x**2*a_xp*b_p*b_xp*epsilon1*epsilon2**2*epsilon3*q3"
      ]
     },
     "metadata": {},
     "output_type": "display_data"
    },
    {
     "name": "stdout",
     "output_type": "stream",
     "text": [
      "1 [a_p a_x**2 a_xp b_p b_xp q3] [epsilon1 epsilon2**2 epsilon3]\n",
      "degree  0\n",
      "[[-1, array([a_p, a_x, b_p**3, b_x, q3], dtype=object), array([], dtype=float64)], [-1, array([a_p, a_xp, b_p**2, b_x**2, q3], dtype=object), array([], dtype=float64)], [-1, array([a_p**2, a_xp, b_p**2, b_x, q3], dtype=object), array([], dtype=float64)], [-1, array([a_p**2, a_xp, b_p, b_x**2, q3], dtype=object), array([epsilon2], dtype=object)], [-1, array([a_p**2, a_xp, b_x**2, b_xp, q3], dtype=object), array([epsilon2**2], dtype=object)], [-1, array([a_p**4, a_xp, b_xp, q3], dtype=object), array([epsilon1**2, epsilon2**2], dtype=object)], [1, array([a_p, a_xp, b_p**2, b_x**2, q3], dtype=object), array([epsilon2, epsilon3], dtype=object)], [1, array([a_p**2, a_x, b_p, b_xp**2, q3], dtype=object), array([epsilon1**2, epsilon2**2], dtype=object)], [1, array([a_p**2, a_xp, b_p, b_x**2, q3], dtype=object), array([epsilon2, epsilon3], dtype=object)], [1, array([a_p**2, a_xp, b_x**2, b_xp, q3], dtype=object), array([epsilon2**2, epsilon3], dtype=object)], [1, array([a_p**4, a_xp, b_xp, q3], dtype=object), array([epsilon1**2, epsilon2**2, epsilon3], dtype=object)], [-1, array([a_p, a_x, b_p, b_x, b_xp**2, q3], dtype=object), array([epsilon2**2], dtype=object)], [-1, array([a_p, a_xp, b_p, b_x**2, b_xp, q3], dtype=object), array([epsilon2], dtype=object)], [-1, array([a_p**3, a_x, b_p, b_xp, q3], dtype=object), array([epsilon1**2, epsilon2**2], dtype=object)], [-1, array([a_p**2, a_x, b_p, b_xp**2, q3], dtype=object), array([epsilon1, epsilon2**2], dtype=object)], [-1, array([a_p**2, a_x, b_p**2, b_x, q3], dtype=object), array([epsilon1, epsilon2], dtype=object)], [-1, array([a_p**2, a_x, b_p**2, b_xp, q3], dtype=object), array([epsilon1, epsilon2], dtype=object)], [-1, array([a_p**2, a_xp, b_p, b_x, b_xp, q3], dtype=object), array([epsilon2], dtype=object)], [-1, array([a_p**3, a_xp, b_p, b_x, q3], dtype=object), array([epsilon1, epsilon2], dtype=object)], [-1, array([a_p**3, a_xp, b_p, b_xp, q3], dtype=object), array([epsilon1, epsilon2], dtype=object)], [-2, array([a_p, a_x, b_p**2, b_x, b_xp, q3], dtype=object), array([epsilon2], dtype=object)], [-2, array([a_p**3, a_xp, b_x, b_xp, q3], dtype=object), array([epsilon1, epsilon2**2], dtype=object)], [1, array([a_p, a_x, b_p, b_x, b_xp**2, q3], dtype=object), array([epsilon1, epsilon2**2], dtype=object)], [1, array([a_p, a_x, b_p**2, b_x, b_xp, q3], dtype=object), array([epsilon1, epsilon2], dtype=object)], [1, array([a_p, a_x, b_p**3, b_x, q3], dtype=object), array([epsilon1, epsilon2, epsilon3], dtype=object)], [1, array([a_p, a_xp, b_p, b_x**2, b_xp, q3], dtype=object), array([epsilon2**2, epsilon3], dtype=object)], [1, array([a_p**3, a_x, b_p, b_xp, q3], dtype=object), array([epsilon1**2, epsilon2**2, epsilon3], dtype=object)], [1, array([a_p**2, a_x, b_p**2, b_x, q3], dtype=object), array([epsilon1, epsilon2, epsilon3], dtype=object)], [1, array([a_p**2, a_x, b_p**2, b_xp, q3], dtype=object), array([epsilon1**2, epsilon2**2, epsilon3], dtype=object)], [1, array([a_p**3, a_xp, b_p, b_x, q3], dtype=object), array([epsilon1, epsilon2, epsilon3], dtype=object)], [1, array([a_p**3, a_xp, b_p, b_xp, q3], dtype=object), array([epsilon1**2, epsilon2**2, epsilon3], dtype=object)], [1, array([a_p**2, a_xp, b_p**2, b_x, q3], dtype=object), array([epsilon1, epsilon2, epsilon3], dtype=object)], [-1, array([a_p**2, a_x, b_p, b_x, b_xp, q3], dtype=object), array([epsilon1, epsilon2**2], dtype=object)], [-1, array([a_p**2, a_xp, b_p, b_x, b_xp, q3], dtype=object), array([epsilon1, epsilon2], dtype=object)], [2, array([a_p**3, a_xp, b_x, b_xp, q3], dtype=object), array([epsilon1, epsilon2**2, epsilon3], dtype=object)], [1, array([a_p, a_x, b_p**2, b_x, b_xp, q3], dtype=object), array([epsilon1, epsilon2**2, epsilon3], dtype=object)], [1, array([a_p**2, a_x, b_p, b_x, b_xp, q3], dtype=object), array([epsilon1, epsilon2**2, epsilon3], dtype=object)], [2, array([a_p**2, a_xp, b_p, b_x, b_xp, q3], dtype=object), array([epsilon1, epsilon2**2, epsilon3], dtype=object)]]\n",
      "18\n"
     ]
    },
    {
     "name": "stderr",
     "output_type": "stream",
     "text": [
      "/var/folders/6c/k2rrfb9x7nqbhbcjqtwq2gy40000gn/T/ipykernel_86020/929574607.py:51: DeprecationWarning: elementwise comparison failed; this will raise an error in the future.\n",
      "  if np.all(base[k]==b):\n",
      "/var/folders/6c/k2rrfb9x7nqbhbcjqtwq2gy40000gn/T/ipykernel_86020/929574607.py:60: DeprecationWarning: elementwise comparison failed; this will raise an error in the future.\n",
      "  if np.all(base[k]==b):\n"
     ]
    },
    {
     "data": {
      "text/latex": [
       "$\\displaystyle \\epsilon_{1} \\epsilon_{2} \\epsilon_{3} - 1$"
      ],
      "text/plain": [
       "epsilon1*epsilon2*epsilon3 - 1"
      ]
     },
     "metadata": {},
     "output_type": "display_data"
    },
    {
     "data": {
      "text/latex": [
       "$\\displaystyle \\epsilon_{2} \\epsilon_{3} - 1$"
      ],
      "text/plain": [
       "epsilon2*epsilon3 - 1"
      ]
     },
     "metadata": {},
     "output_type": "display_data"
    },
    {
     "data": {
      "text/latex": [
       "$\\displaystyle \\epsilon_{1} \\epsilon_{2} \\epsilon_{3} - 1$"
      ],
      "text/plain": [
       "epsilon1*epsilon2*epsilon3 - 1"
      ]
     },
     "metadata": {},
     "output_type": "display_data"
    },
    {
     "data": {
      "text/latex": [
       "$\\displaystyle \\epsilon_{2} \\epsilon_{3} - \\epsilon_{2}$"
      ],
      "text/plain": [
       "epsilon2*epsilon3 - epsilon2"
      ]
     },
     "metadata": {},
     "output_type": "display_data"
    },
    {
     "data": {
      "text/latex": [
       "$\\displaystyle \\epsilon_{2}^{2} \\epsilon_{3} - \\epsilon_{2}^{2}$"
      ],
      "text/plain": [
       "epsilon2**2*epsilon3 - epsilon2**2"
      ]
     },
     "metadata": {},
     "output_type": "display_data"
    },
    {
     "data": {
      "text/latex": [
       "$\\displaystyle \\epsilon_{1}^{2} \\epsilon_{2}^{2} \\epsilon_{3} - \\epsilon_{1}^{2} \\epsilon_{2}^{2}$"
      ],
      "text/plain": [
       "epsilon1**2*epsilon2**2*epsilon3 - epsilon1**2*epsilon2**2"
      ]
     },
     "metadata": {},
     "output_type": "display_data"
    },
    {
     "data": {
      "text/latex": [
       "$\\displaystyle \\epsilon_{1}^{2} \\epsilon_{2}^{2} - \\epsilon_{1} \\epsilon_{2}^{2}$"
      ],
      "text/plain": [
       "epsilon1**2*epsilon2**2 - epsilon1*epsilon2**2"
      ]
     },
     "metadata": {},
     "output_type": "display_data"
    },
    {
     "data": {
      "text/latex": [
       "$\\displaystyle \\epsilon_{1} \\epsilon_{2}^{2} - \\epsilon_{2}^{2}$"
      ],
      "text/plain": [
       "epsilon1*epsilon2**2 - epsilon2**2"
      ]
     },
     "metadata": {},
     "output_type": "display_data"
    },
    {
     "data": {
      "text/latex": [
       "$\\displaystyle \\epsilon_{2}^{2} \\epsilon_{3} - \\epsilon_{2}$"
      ],
      "text/plain": [
       "epsilon2**2*epsilon3 - epsilon2"
      ]
     },
     "metadata": {},
     "output_type": "display_data"
    },
    {
     "data": {
      "text/latex": [
       "$\\displaystyle \\epsilon_{1}^{2} \\epsilon_{2}^{2} \\epsilon_{3} - \\epsilon_{1}^{2} \\epsilon_{2}^{2}$"
      ],
      "text/plain": [
       "epsilon1**2*epsilon2**2*epsilon3 - epsilon1**2*epsilon2**2"
      ]
     },
     "metadata": {},
     "output_type": "display_data"
    },
    {
     "data": {
      "text/latex": [
       "$\\displaystyle \\epsilon_{1} \\epsilon_{2} \\epsilon_{3} - \\epsilon_{1} \\epsilon_{2}$"
      ],
      "text/plain": [
       "epsilon1*epsilon2*epsilon3 - epsilon1*epsilon2"
      ]
     },
     "metadata": {},
     "output_type": "display_data"
    },
    {
     "data": {
      "text/latex": [
       "$\\displaystyle \\epsilon_{1}^{2} \\epsilon_{2}^{2} \\epsilon_{3} - \\epsilon_{1} \\epsilon_{2}$"
      ],
      "text/plain": [
       "epsilon1**2*epsilon2**2*epsilon3 - epsilon1*epsilon2"
      ]
     },
     "metadata": {},
     "output_type": "display_data"
    },
    {
     "data": {
      "text/latex": [
       "$\\displaystyle 2 \\epsilon_{1} \\epsilon_{2}^{2} \\epsilon_{3} - \\epsilon_{1} \\epsilon_{2} - \\epsilon_{2}$"
      ],
      "text/plain": [
       "2*epsilon1*epsilon2**2*epsilon3 - epsilon1*epsilon2 - epsilon2"
      ]
     },
     "metadata": {},
     "output_type": "display_data"
    },
    {
     "data": {
      "text/latex": [
       "$\\displaystyle \\epsilon_{1} \\epsilon_{2} \\epsilon_{3} - \\epsilon_{1} \\epsilon_{2}$"
      ],
      "text/plain": [
       "epsilon1*epsilon2*epsilon3 - epsilon1*epsilon2"
      ]
     },
     "metadata": {},
     "output_type": "display_data"
    },
    {
     "data": {
      "text/latex": [
       "$\\displaystyle \\epsilon_{1}^{2} \\epsilon_{2}^{2} \\epsilon_{3} - \\epsilon_{1} \\epsilon_{2}$"
      ],
      "text/plain": [
       "epsilon1**2*epsilon2**2*epsilon3 - epsilon1*epsilon2"
      ]
     },
     "metadata": {},
     "output_type": "display_data"
    },
    {
     "data": {
      "text/latex": [
       "$\\displaystyle \\epsilon_{1} \\epsilon_{2}^{2} \\epsilon_{3} + \\epsilon_{1} \\epsilon_{2} - 2 \\epsilon_{2}$"
      ],
      "text/plain": [
       "epsilon1*epsilon2**2*epsilon3 + epsilon1*epsilon2 - 2*epsilon2"
      ]
     },
     "metadata": {},
     "output_type": "display_data"
    },
    {
     "data": {
      "text/latex": [
       "$\\displaystyle 2 \\epsilon_{1} \\epsilon_{2}^{2} \\epsilon_{3} - 2 \\epsilon_{1} \\epsilon_{2}^{2}$"
      ],
      "text/plain": [
       "2*epsilon1*epsilon2**2*epsilon3 - 2*epsilon1*epsilon2**2"
      ]
     },
     "metadata": {},
     "output_type": "display_data"
    },
    {
     "data": {
      "text/latex": [
       "$\\displaystyle \\epsilon_{1} \\epsilon_{2}^{2} \\epsilon_{3} - \\epsilon_{1} \\epsilon_{2}^{2}$"
      ],
      "text/plain": [
       "epsilon1*epsilon2**2*epsilon3 - epsilon1*epsilon2**2"
      ]
     },
     "metadata": {},
     "output_type": "display_data"
    },
    {
     "name": "stdout",
     "output_type": "stream",
     "text": [
      "degree  1\n",
      "[[-2, array([a_p, a_x, a_xp, b_p**2, b_x, q3], dtype=object), array([], dtype=float64)], [-2, array([a_p**3, a_x, a_xp, b_xp, q3], dtype=object), array([epsilon1**2, epsilon2**2], dtype=object)], [-2, array([a_p, a_x, a_xp, b_p, b_x, b_xp, q3], dtype=object), array([epsilon2], dtype=object)], [-2, array([a_p**2, a_x, a_xp, b_p, b_x, q3], dtype=object), array([epsilon1, epsilon2], dtype=object)], [-2, array([a_p**2, a_x, a_xp, b_p, b_xp, q3], dtype=object), array([epsilon1, epsilon2], dtype=object)], [-2, array([a_p**2, a_x, a_xp, b_x, b_xp, q3], dtype=object), array([epsilon1, epsilon2**2], dtype=object)], [2, array([a_p**3, a_x, a_xp, b_xp, q3], dtype=object), array([epsilon1**2, epsilon2**2, epsilon3], dtype=object)], [2, array([a_p, a_x, a_xp, b_p**2, b_x, q3], dtype=object), array([epsilon1, epsilon2, epsilon3], dtype=object)], [2, array([a_p**2, a_x, a_xp, b_p, b_x, q3], dtype=object), array([epsilon1, epsilon2, epsilon3], dtype=object)], [2, array([a_p**2, a_x, a_xp, b_p, b_xp, q3], dtype=object), array([epsilon1**2, epsilon2**2, epsilon3], dtype=object)], [2, array([a_p**2, a_x, a_xp, b_x, b_xp, q3], dtype=object), array([epsilon1, epsilon2**2, epsilon3], dtype=object)], [2, array([a_p, a_x, a_xp, b_p, b_x, b_xp, q3], dtype=object), array([epsilon1, epsilon2**2, epsilon3], dtype=object)]]\n",
      "6\n"
     ]
    },
    {
     "data": {
      "text/latex": [
       "$\\displaystyle 2 \\epsilon_{1} \\epsilon_{2} \\epsilon_{3} - 2$"
      ],
      "text/plain": [
       "2*epsilon1*epsilon2*epsilon3 - 2"
      ]
     },
     "metadata": {},
     "output_type": "display_data"
    },
    {
     "data": {
      "text/latex": [
       "$\\displaystyle 2 \\epsilon_{1}^{2} \\epsilon_{2}^{2} \\epsilon_{3} - 2 \\epsilon_{1}^{2} \\epsilon_{2}^{2}$"
      ],
      "text/plain": [
       "2*epsilon1**2*epsilon2**2*epsilon3 - 2*epsilon1**2*epsilon2**2"
      ]
     },
     "metadata": {},
     "output_type": "display_data"
    },
    {
     "data": {
      "text/latex": [
       "$\\displaystyle 2 \\epsilon_{1} \\epsilon_{2}^{2} \\epsilon_{3} - 2 \\epsilon_{2}$"
      ],
      "text/plain": [
       "2*epsilon1*epsilon2**2*epsilon3 - 2*epsilon2"
      ]
     },
     "metadata": {},
     "output_type": "display_data"
    },
    {
     "data": {
      "text/latex": [
       "$\\displaystyle 2 \\epsilon_{1} \\epsilon_{2} \\epsilon_{3} - 2 \\epsilon_{1} \\epsilon_{2}$"
      ],
      "text/plain": [
       "2*epsilon1*epsilon2*epsilon3 - 2*epsilon1*epsilon2"
      ]
     },
     "metadata": {},
     "output_type": "display_data"
    },
    {
     "data": {
      "text/latex": [
       "$\\displaystyle 2 \\epsilon_{1}^{2} \\epsilon_{2}^{2} \\epsilon_{3} - 2 \\epsilon_{1} \\epsilon_{2}$"
      ],
      "text/plain": [
       "2*epsilon1**2*epsilon2**2*epsilon3 - 2*epsilon1*epsilon2"
      ]
     },
     "metadata": {},
     "output_type": "display_data"
    },
    {
     "data": {
      "text/latex": [
       "$\\displaystyle 2 \\epsilon_{1} \\epsilon_{2}^{2} \\epsilon_{3} - 2 \\epsilon_{1} \\epsilon_{2}^{2}$"
      ],
      "text/plain": [
       "2*epsilon1*epsilon2**2*epsilon3 - 2*epsilon1*epsilon2**2"
      ]
     },
     "metadata": {},
     "output_type": "display_data"
    },
    {
     "name": "stdout",
     "output_type": "stream",
     "text": [
      "degree  2\n",
      "[[-1, array([a_p**2, a_x**2, a_xp, b_xp, q3], dtype=object), array([epsilon1**2, epsilon2**2], dtype=object)], [1, array([a_p**2, a_x**2, a_xp, b_xp, q3], dtype=object), array([epsilon1**2, epsilon2**2, epsilon3], dtype=object)], [-1, array([a_p, a_x, a_xp**2, b_p, b_x, q3], dtype=object), array([epsilon2, epsilon3], dtype=object)], [-1, array([a_p, a_x**2, a_xp, b_p, b_xp, q3], dtype=object), array([epsilon1, epsilon2], dtype=object)], [1, array([a_p, a_x, a_xp**2, b_p, b_x, q3], dtype=object), array([epsilon1, epsilon2, epsilon3], dtype=object)], [1, array([a_p, a_x**2, a_xp, b_p, b_xp, q3], dtype=object), array([epsilon1, epsilon2**2, epsilon3], dtype=object)]]\n",
      "3\n"
     ]
    },
    {
     "data": {
      "text/latex": [
       "$\\displaystyle \\epsilon_{1}^{2} \\epsilon_{2}^{2} \\epsilon_{3} - \\epsilon_{1}^{2} \\epsilon_{2}^{2}$"
      ],
      "text/plain": [
       "epsilon1**2*epsilon2**2*epsilon3 - epsilon1**2*epsilon2**2"
      ]
     },
     "metadata": {},
     "output_type": "display_data"
    },
    {
     "data": {
      "text/latex": [
       "$\\displaystyle \\epsilon_{1} \\epsilon_{2} \\epsilon_{3} - \\epsilon_{2} \\epsilon_{3}$"
      ],
      "text/plain": [
       "epsilon1*epsilon2*epsilon3 - epsilon2*epsilon3"
      ]
     },
     "metadata": {},
     "output_type": "display_data"
    },
    {
     "data": {
      "text/latex": [
       "$\\displaystyle \\epsilon_{1} \\epsilon_{2}^{2} \\epsilon_{3} - \\epsilon_{1} \\epsilon_{2}$"
      ],
      "text/plain": [
       "epsilon1*epsilon2**2*epsilon3 - epsilon1*epsilon2"
      ]
     },
     "metadata": {},
     "output_type": "display_data"
    }
   ],
   "source": [
    "all_terms=[]\n",
    "for cn,coeff in enumerate(poly_zero.coeffs()[::-1]):\n",
    "    termsc=[]\n",
    "    print(cn)\n",
    "    #display(coeff)\n",
    "    for monomial in sympy.Add.make_args(coeff):\n",
    "        #print(monomial, sympy.Mul.make_args(monomial))\n",
    "        noneps=[]\n",
    "        eps=[]\n",
    "        number=1\n",
    "        eps_base=[] #bases, for ordering by letter\n",
    "        noneps_base=[] #bases, for ordering by letter\n",
    "        args= sympy.Mul.make_args(monomial) #separate each monomial into each variable (a or b,epsilon,number)\n",
    "        print(\"monomial\")\n",
    "        display(monomial)\n",
    "        for arg_ in args:\n",
    "            if type(arg_)==sympy.core.power.Pow:\n",
    "                arg=sympy.core.power.Pow.as_base_exp(arg_)[0] #get the base of the power so that I can check if it is epsilon or not\n",
    "            else:\n",
    "                arg=arg_\n",
    "            if  arg in [epsilon1,epsilon2,epsilon3]:\n",
    "                eps.append(arg_)\n",
    "                eps_base.append(arg.name)\n",
    "            else:\n",
    "\n",
    "                #print(type(arg))\n",
    "                if type(arg)!=sympy.core.numbers.Integer and type(arg)!=sympy.core.numbers.NegativeOne:\n",
    "                    noneps_base.append(arg.name)\n",
    "                    noneps.append(arg_)\n",
    "                else:\n",
    "                    number=arg\n",
    "\n",
    "        #print(monomial)\n",
    "        #print(number)\n",
    "        noneps_o=np.array(noneps)[np.argsort(np.array(noneps_base))]\n",
    "        eps_o=np.array(eps)[np.argsort(np.array(eps_base))]\n",
    "        print(number,noneps_o,eps_o)\n",
    "        termsc.append([number,noneps_o,eps_o])\n",
    "    all_terms.append(termsc)\n",
    "\n",
    "for i in range(len(all_terms)):\n",
    "    print(\"degree \",i)\n",
    "    coeffi=all_terms[i]\n",
    "    print(coeffi)\n",
    "    base=[] #list of common factors that do not contain epsilons\n",
    "    #find the unique common factors without epsilons\n",
    "    for j in range(len(coeffi)):\n",
    "        b=coeffi[j][1]\n",
    "        present=False\n",
    "        for k in range(len(base)):\n",
    "            if np.all(base[k]==b):\n",
    "                present=True\n",
    "        if not present:\n",
    "            base.append(b)\n",
    "    #find which term in the original coefficient expression correspond to each common factor\n",
    "    common_bases_idx=[[] for i in range(len(base))] #which terms have those common factors\n",
    "    for j in range(len(coeffi)):\n",
    "        b=coeffi[j][1]\n",
    "        for k in range(len(base)):\n",
    "            if np.all(base[k]==b):\n",
    "                common_bases_idx[k].append(j)\n",
    "    #now for each base, print the epsilon terms side by side to check which sign wins \n",
    "    print(len(base))\n",
    "    for k in range(len(base)):\n",
    "        #print(base[k])\n",
    "        idxs=common_bases_idx[k]\n",
    "        epsilons_terms=0\n",
    "        for idx in idxs:\n",
    "            terms=coeffi[idx]\n",
    "            #print(terms)\n",
    "            number=terms[0]\n",
    "            epsilons=terms[2]\n",
    "            prod=1\n",
    "            for e in epsilons:\n",
    "                prod*=e\n",
    "\n",
    "            #if np.abs(number)==1:\n",
    "            epsilons_terms+=number*prod\n",
    "            #else:\n",
    "            #    if number<1:\n",
    "            #        sign=-1\n",
    "            #    else:\n",
    "            #        sign=1\n",
    "            #    for k in range(np.abs(number)):\n",
    "            #        epsilons_terms+=sign*prod\n",
    "        display(epsilons_terms)\n",
    "        #display(idx,sympy.factor(epsilons_terms),epsilons_terms)"
   ]
  },
  {
   "cell_type": "code",
   "execution_count": null,
   "id": "91388004",
   "metadata": {},
   "outputs": [],
   "source": [
    "#coherent regulation:\n",
    "#positive: increase Pol binding on-rate (epsilon1>1), decrease off-rate (0<epsilon2<1), increase q3 (epsilon3>1)\n",
    "#negative: decrease Pol binding on-rate (0<epsilon1<1), increase off-rate (epsilon2>1), decrease q3 (epsilon3<1)\n"
   ]
  }
 ],
 "metadata": {
  "kernelspec": {
   "display_name": "Python 3 (ipykernel)",
   "language": "python",
   "name": "python3"
  },
  "language_info": {
   "codemirror_mode": {
    "name": "ipython",
    "version": 3
   },
   "file_extension": ".py",
   "mimetype": "text/x-python",
   "name": "python",
   "nbconvert_exporter": "python",
   "pygments_lexer": "ipython3",
   "version": "3.9.13"
  }
 },
 "nbformat": 4,
 "nbformat_minor": 5
}
