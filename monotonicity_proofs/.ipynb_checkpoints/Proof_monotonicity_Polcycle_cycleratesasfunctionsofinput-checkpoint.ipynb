{
 "cells": [
  {
   "cell_type": "markdown",
   "id": "bfe6b6a8",
   "metadata": {},
   "source": []
  },
  {
   "cell_type": "code",
   "execution_count": 1,
   "id": "b36f258d",
   "metadata": {},
   "outputs": [],
   "source": [
    "import sympy\n",
    "import re"
   ]
  },
  {
   "cell_type": "code",
   "execution_count": 33,
   "id": "01aeeba7",
   "metadata": {},
   "outputs": [],
   "source": [
    "k1,k2,k3,k4,x=sympy.symbols(\"k_1,k_2,k_3,k_4,x\")\n",
    "f1=sympy.Function(\"f1\")\n",
    "f2=sympy.Function(\"f2\")\n",
    "f3=sympy.Function(\"f3\")\n",
    "f4=sympy.Function(\"f4\")\n",
    "k1=f1(x)\n",
    "k2=f2(x)\n",
    "k3=f3(x)\n",
    "#k4=f4(x)\n",
    "N=k3*k1*k2\n",
    "D=k2*k3+k3*k4+k1*k3+k1*k2\n"
   ]
  },
  {
   "cell_type": "code",
   "execution_count": 34,
   "id": "4e6ad3b5",
   "metadata": {},
   "outputs": [
    {
     "data": {
      "text/latex": [
       "$\\displaystyle f_{1}{\\left(x \\right)} f_{2}{\\left(x \\right)} \\frac{d}{d x} f_{3}{\\left(x \\right)} + f_{1}{\\left(x \\right)} f_{3}{\\left(x \\right)} \\frac{d}{d x} f_{2}{\\left(x \\right)} + f_{2}{\\left(x \\right)} f_{3}{\\left(x \\right)} \\frac{d}{d x} f_{1}{\\left(x \\right)}$"
      ],
      "text/plain": [
       "f1(x)*f2(x)*Derivative(f3(x), x) + f1(x)*f3(x)*Derivative(f2(x), x) + f2(x)*f3(x)*Derivative(f1(x), x)"
      ]
     },
     "execution_count": 34,
     "metadata": {},
     "output_type": "execute_result"
    }
   ],
   "source": [
    "sympy.diff(N,x)"
   ]
  },
  {
   "cell_type": "code",
   "execution_count": 35,
   "id": "9475b462",
   "metadata": {},
   "outputs": [
    {
     "data": {
      "text/latex": [
       "$\\displaystyle k_{4} \\frac{d}{d x} f_{3}{\\left(x \\right)} + f_{1}{\\left(x \\right)} \\frac{d}{d x} f_{2}{\\left(x \\right)} + f_{1}{\\left(x \\right)} \\frac{d}{d x} f_{3}{\\left(x \\right)} + f_{2}{\\left(x \\right)} \\frac{d}{d x} f_{1}{\\left(x \\right)} + f_{2}{\\left(x \\right)} \\frac{d}{d x} f_{3}{\\left(x \\right)} + f_{3}{\\left(x \\right)} \\frac{d}{d x} f_{1}{\\left(x \\right)} + f_{3}{\\left(x \\right)} \\frac{d}{d x} f_{2}{\\left(x \\right)}$"
      ],
      "text/plain": [
       "k_4*Derivative(f3(x), x) + f1(x)*Derivative(f2(x), x) + f1(x)*Derivative(f3(x), x) + f2(x)*Derivative(f1(x), x) + f2(x)*Derivative(f3(x), x) + f3(x)*Derivative(f1(x), x) + f3(x)*Derivative(f2(x), x)"
      ]
     },
     "execution_count": 35,
     "metadata": {},
     "output_type": "execute_result"
    }
   ],
   "source": [
    "sympy.diff(D,x)"
   ]
  },
  {
   "cell_type": "code",
   "execution_count": 36,
   "id": "55c25e27",
   "metadata": {},
   "outputs": [
    {
     "data": {
      "text/latex": [
       "$\\displaystyle k_{4} f_{1}{\\left(x \\right)} f_{3}^{2}{\\left(x \\right)} \\frac{d}{d x} f_{2}{\\left(x \\right)} + k_{4} f_{2}{\\left(x \\right)} f_{3}^{2}{\\left(x \\right)} \\frac{d}{d x} f_{1}{\\left(x \\right)} + f_{1}^{2}{\\left(x \\right)} f_{2}^{2}{\\left(x \\right)} \\frac{d}{d x} f_{3}{\\left(x \\right)} + f_{1}^{2}{\\left(x \\right)} f_{3}^{2}{\\left(x \\right)} \\frac{d}{d x} f_{2}{\\left(x \\right)} + f_{2}^{2}{\\left(x \\right)} f_{3}^{2}{\\left(x \\right)} \\frac{d}{d x} f_{1}{\\left(x \\right)}$"
      ],
      "text/plain": [
       "k_4*f1(x)*f3(x)**2*Derivative(f2(x), x) + k_4*f2(x)*f3(x)**2*Derivative(f1(x), x) + f1(x)**2*f2(x)**2*Derivative(f3(x), x) + f1(x)**2*f3(x)**2*Derivative(f2(x), x) + f2(x)**2*f3(x)**2*Derivative(f1(x), x)"
      ]
     },
     "execution_count": 36,
     "metadata": {},
     "output_type": "execute_result"
    }
   ],
   "source": [
    "sympy.expand((sympy.diff(N,x)*D)-(sympy.diff(D,x)*N))"
   ]
  },
  {
   "cell_type": "code",
   "execution_count": 38,
   "id": "27cd1bc8",
   "metadata": {},
   "outputs": [],
   "source": [
    "f1=sympy.Function(\"f1\")\n",
    "f2=sympy.Function(\"f2\")\n",
    "f3=sympy.Function(\"f3\")\n",
    "f4=sympy.Function(\"f4\")\n",
    "k1=f1(x)\n",
    "k2=f2(x)\n",
    "k3=f3(x)\n",
    "k4=f4(x)\n",
    "N=k3*k1*k2\n",
    "D=k2*k3+k3*k4+k1*k3+k1*k2\n",
    "expr=sympy.expand((sympy.diff(N,x)*D)-(sympy.diff(D,x)*N))"
   ]
  },
  {
   "cell_type": "code",
   "execution_count": 39,
   "id": "f90b8385",
   "metadata": {},
   "outputs": [
    {
     "data": {
      "text/latex": [
       "$\\displaystyle f_{1}^{2}{\\left(x \\right)} f_{2}^{2}{\\left(x \\right)} \\frac{d}{d x} f_{3}{\\left(x \\right)} + f_{1}^{2}{\\left(x \\right)} f_{3}^{2}{\\left(x \\right)} \\frac{d}{d x} f_{2}{\\left(x \\right)} - f_{1}{\\left(x \\right)} f_{2}{\\left(x \\right)} f_{3}^{2}{\\left(x \\right)} \\frac{d}{d x} f_{4}{\\left(x \\right)} + f_{1}{\\left(x \\right)} f_{3}^{2}{\\left(x \\right)} f_{4}{\\left(x \\right)} \\frac{d}{d x} f_{2}{\\left(x \\right)} + f_{2}^{2}{\\left(x \\right)} f_{3}^{2}{\\left(x \\right)} \\frac{d}{d x} f_{1}{\\left(x \\right)} + f_{2}{\\left(x \\right)} f_{3}^{2}{\\left(x \\right)} f_{4}{\\left(x \\right)} \\frac{d}{d x} f_{1}{\\left(x \\right)}$"
      ],
      "text/plain": [
       "f1(x)**2*f2(x)**2*Derivative(f3(x), x) + f1(x)**2*f3(x)**2*Derivative(f2(x), x) - f1(x)*f2(x)*f3(x)**2*Derivative(f4(x), x) + f1(x)*f3(x)**2*f4(x)*Derivative(f2(x), x) + f2(x)**2*f3(x)**2*Derivative(f1(x), x) + f2(x)*f3(x)**2*f4(x)*Derivative(f1(x), x)"
      ]
     },
     "execution_count": 39,
     "metadata": {},
     "output_type": "execute_result"
    }
   ],
   "source": [
    "expr"
   ]
  },
  {
   "cell_type": "code",
   "execution_count": 41,
   "id": "5256384c",
   "metadata": {},
   "outputs": [
    {
     "name": "stdout",
     "output_type": "stream",
     "text": [
      "f1(x)**2*f2(x)**2*Derivative(f3(x), x) + f1(x)**2*f3(x)**2*Derivative(f2(x), x) - f1(x)*f2(x)*f3(x)**2*Derivative(f4(x), x) + f1(x)*f3(x)**2*f4(x)*Derivative(f2(x), x) + f2(x)**2*f3(x)**2*Derivative(f1(x), x) + f2(x)*f3(x)**2*f4(x)*Derivative(f1(x), x)\n"
     ]
    }
   ],
   "source": [
    "print(expr)"
   ]
  },
  {
   "cell_type": "code",
   "execution_count": null,
   "id": "8e77c453",
   "metadata": {},
   "outputs": [],
   "source": []
  }
 ],
 "metadata": {
  "kernelspec": {
   "display_name": "Python 3 (ipykernel)",
   "language": "python",
   "name": "python3"
  },
  "language_info": {
   "codemirror_mode": {
    "name": "ipython",
    "version": 3
   },
   "file_extension": ".py",
   "mimetype": "text/x-python",
   "name": "python",
   "nbconvert_exporter": "python",
   "pygments_lexer": "ipython3",
   "version": "3.9.13"
  }
 },
 "nbformat": 4,
 "nbformat_minor": 5
}
