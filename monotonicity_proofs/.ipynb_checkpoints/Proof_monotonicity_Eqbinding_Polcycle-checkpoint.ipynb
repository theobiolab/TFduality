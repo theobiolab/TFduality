{
 "cells": [
  {
   "cell_type": "markdown",
   "id": "bfe6b6a8",
   "metadata": {},
   "source": [
    "Here we show that if rates of the polymerase cycle depend on equilibrium occupancy in a saturatable manner, the response is monotonic if both rates (k1, k2) are increased by the TF or reduced.\n",
    "\n",
    "Note that we express the rate dependency of occupancy in the following way: $k_{i,sat}=f_i*k_{i0}$.\n",
    "Then we can show that if f1<1, f2<1 the derivative is negative, and if both >1 the derivative is positive.         "
   ]
  },
  {
   "cell_type": "code",
   "execution_count": 1,
   "id": "b36f258d",
   "metadata": {},
   "outputs": [],
   "source": [
    "import sympy\n",
    "import re"
   ]
  },
  {
   "cell_type": "code",
   "execution_count": 2,
   "id": "01aeeba7",
   "metadata": {},
   "outputs": [],
   "source": [
    "k10,k20,k3,k4,Kx,s1,f1,s2,f2,x=sympy.symbols(\"k_10,k_20,k_3,k_4,K_x,s_1,f1,s_2,f2,x\")\n",
    "a=Kx*x/(1+Kx*x) #equilibrium occupancy\n",
    "Hill1=a/(s1+a)\n",
    "k1=k10*(1+(f1-1)*Hill1)  #0<f1 \n",
    "Hill2=a/(s2+a)\n",
    "k2=k20*(1+(f2-1)*Hill2) # 0<f2\n",
    "P=(k1*k2)/(k2*k3+k3*k4+k1*k3+k1*k2)\n"
   ]
  },
  {
   "cell_type": "code",
   "execution_count": 3,
   "id": "55c25e27",
   "metadata": {},
   "outputs": [
    {
     "data": {
      "text/latex": [
       "$\\displaystyle \\frac{k_{10} k_{20} \\left(\\frac{K_{x} x \\left(f_{1} - 1\\right)}{\\left(K_{x} x + 1\\right) \\left(\\frac{K_{x} x}{K_{x} x + 1} + s_{1}\\right)} + 1\\right) \\left(\\frac{K_{x} x \\left(f_{2} - 1\\right)}{\\left(K_{x} x + 1\\right) \\left(\\frac{K_{x} x}{K_{x} x + 1} + s_{2}\\right)} + 1\\right)}{k_{10} k_{20} \\left(\\frac{K_{x} x \\left(f_{1} - 1\\right)}{\\left(K_{x} x + 1\\right) \\left(\\frac{K_{x} x}{K_{x} x + 1} + s_{1}\\right)} + 1\\right) \\left(\\frac{K_{x} x \\left(f_{2} - 1\\right)}{\\left(K_{x} x + 1\\right) \\left(\\frac{K_{x} x}{K_{x} x + 1} + s_{2}\\right)} + 1\\right) + k_{10} k_{3} \\left(\\frac{K_{x} x \\left(f_{1} - 1\\right)}{\\left(K_{x} x + 1\\right) \\left(\\frac{K_{x} x}{K_{x} x + 1} + s_{1}\\right)} + 1\\right) + k_{20} k_{3} \\left(\\frac{K_{x} x \\left(f_{2} - 1\\right)}{\\left(K_{x} x + 1\\right) \\left(\\frac{K_{x} x}{K_{x} x + 1} + s_{2}\\right)} + 1\\right) + k_{3} k_{4}}$"
      ],
      "text/plain": [
       "k_10*k_20*(K_x*x*(f1 - 1)/((K_x*x + 1)*(K_x*x/(K_x*x + 1) + s_1)) + 1)*(K_x*x*(f2 - 1)/((K_x*x + 1)*(K_x*x/(K_x*x + 1) + s_2)) + 1)/(k_10*k_20*(K_x*x*(f1 - 1)/((K_x*x + 1)*(K_x*x/(K_x*x + 1) + s_1)) + 1)*(K_x*x*(f2 - 1)/((K_x*x + 1)*(K_x*x/(K_x*x + 1) + s_2)) + 1) + k_10*k_3*(K_x*x*(f1 - 1)/((K_x*x + 1)*(K_x*x/(K_x*x + 1) + s_1)) + 1) + k_20*k_3*(K_x*x*(f2 - 1)/((K_x*x + 1)*(K_x*x/(K_x*x + 1) + s_2)) + 1) + k_3*k_4)"
      ]
     },
     "execution_count": 3,
     "metadata": {},
     "output_type": "execute_result"
    }
   ],
   "source": [
    "P"
   ]
  },
  {
   "cell_type": "code",
   "execution_count": 4,
   "id": "d0ce42b8",
   "metadata": {},
   "outputs": [
    {
     "data": {
      "text/latex": [
       "$\\displaystyle \\frac{k_{10} k_{20} \\left(K_{x} x \\left(f_{1} - 1\\right) + K_{x} x + s_{1} \\left(K_{x} x + 1\\right)\\right) \\left(K_{x} x \\left(f_{2} - 1\\right) + K_{x} x + s_{2} \\left(K_{x} x + 1\\right)\\right)}{k_{10} k_{20} \\left(K_{x} x \\left(f_{1} - 1\\right) + K_{x} x + s_{1} \\left(K_{x} x + 1\\right)\\right) \\left(K_{x} x \\left(f_{2} - 1\\right) + K_{x} x + s_{2} \\left(K_{x} x + 1\\right)\\right) + k_{10} k_{3} \\left(K_{x} x + s_{2} \\left(K_{x} x + 1\\right)\\right) \\left(K_{x} x \\left(f_{1} - 1\\right) + K_{x} x + s_{1} \\left(K_{x} x + 1\\right)\\right) + k_{20} k_{3} \\left(K_{x} x + s_{1} \\left(K_{x} x + 1\\right)\\right) \\left(K_{x} x \\left(f_{2} - 1\\right) + K_{x} x + s_{2} \\left(K_{x} x + 1\\right)\\right) + k_{3} k_{4} \\left(K_{x} x + s_{1} \\left(K_{x} x + 1\\right)\\right) \\left(K_{x} x + s_{2} \\left(K_{x} x + 1\\right)\\right)}$"
      ],
      "text/plain": [
       "k_10*k_20*(K_x*x*(f1 - 1) + K_x*x + s_1*(K_x*x + 1))*(K_x*x*(f2 - 1) + K_x*x + s_2*(K_x*x + 1))/(k_10*k_20*(K_x*x*(f1 - 1) + K_x*x + s_1*(K_x*x + 1))*(K_x*x*(f2 - 1) + K_x*x + s_2*(K_x*x + 1)) + k_10*k_3*(K_x*x + s_2*(K_x*x + 1))*(K_x*x*(f1 - 1) + K_x*x + s_1*(K_x*x + 1)) + k_20*k_3*(K_x*x + s_1*(K_x*x + 1))*(K_x*x*(f2 - 1) + K_x*x + s_2*(K_x*x + 1)) + k_3*k_4*(K_x*x + s_1*(K_x*x + 1))*(K_x*x + s_2*(K_x*x + 1)))"
      ]
     },
     "execution_count": 4,
     "metadata": {},
     "output_type": "execute_result"
    }
   ],
   "source": [
    "sympy.simplify(P)"
   ]
  },
  {
   "cell_type": "code",
   "execution_count": 5,
   "id": "1fad9f4c",
   "metadata": {},
   "outputs": [],
   "source": [
    "num,den=sympy.fraction(sympy.simplify(P))"
   ]
  },
  {
   "cell_type": "code",
   "execution_count": 6,
   "id": "3101a5bc",
   "metadata": {},
   "outputs": [],
   "source": [
    "numpoly=sympy.poly(num,x)\n",
    "denpoly=sympy.poly(den,x)"
   ]
  },
  {
   "cell_type": "code",
   "execution_count": 7,
   "id": "d8e9eb55",
   "metadata": {},
   "outputs": [
    {
     "data": {
      "text/latex": [
       "$\\displaystyle \\operatorname{Poly}{\\left( \\left(K_{x}^{2} f_{1} f_{2} k_{10} k_{20} + K_{x}^{2} f_{1} k_{10} k_{20} s_{2} + K_{x}^{2} f_{1} k_{10} k_{3} s_{2} + K_{x}^{2} f_{1} k_{10} k_{3} + K_{x}^{2} f_{2} k_{10} k_{20} s_{1} + K_{x}^{2} f_{2} k_{20} k_{3} s_{1} + K_{x}^{2} f_{2} k_{20} k_{3} + K_{x}^{2} k_{10} k_{20} s_{1} s_{2} + K_{x}^{2} k_{10} k_{3} s_{1} s_{2} + K_{x}^{2} k_{10} k_{3} s_{1} + K_{x}^{2} k_{20} k_{3} s_{1} s_{2} + K_{x}^{2} k_{20} k_{3} s_{2} + K_{x}^{2} k_{3} k_{4} s_{1} s_{2} + K_{x}^{2} k_{3} k_{4} s_{1} + K_{x}^{2} k_{3} k_{4} s_{2} + K_{x}^{2} k_{3} k_{4}\\right) x^{2} + \\left(K_{x} f_{1} k_{10} k_{20} s_{2} + K_{x} f_{1} k_{10} k_{3} s_{2} + K_{x} f_{2} k_{10} k_{20} s_{1} + K_{x} f_{2} k_{20} k_{3} s_{1} + 2 K_{x} k_{10} k_{20} s_{1} s_{2} + 2 K_{x} k_{10} k_{3} s_{1} s_{2} + K_{x} k_{10} k_{3} s_{1} + 2 K_{x} k_{20} k_{3} s_{1} s_{2} + K_{x} k_{20} k_{3} s_{2} + 2 K_{x} k_{3} k_{4} s_{1} s_{2} + K_{x} k_{3} k_{4} s_{1} + K_{x} k_{3} k_{4} s_{2}\\right) x + k_{10} k_{20} s_{1} s_{2} + k_{10} k_{3} s_{1} s_{2} + k_{20} k_{3} s_{1} s_{2} + k_{3} k_{4} s_{1} s_{2}, x, domain=\\mathbb{Z}\\left[f_{1}, f_{2}, K_{x}, s_{1}, s_{2}, k_{3}, k_{10}, k_{20}, k_{4}\\right] \\right)}$"
      ],
      "text/plain": [
       "Poly((K_x**2*f1*f2*k_10*k_20 + K_x**2*f1*k_10*k_20*s_2 + K_x**2*f1*k_10*k_3*s_2 + K_x**2*f1*k_10*k_3 + K_x**2*f2*k_10*k_20*s_1 + K_x**2*f2*k_20*k_3*s_1 + K_x**2*f2*k_20*k_3 + K_x**2*k_10*k_20*s_1*s_2 + K_x**2*k_10*k_3*s_1*s_2 + K_x**2*k_10*k_3*s_1 + K_x**2*k_20*k_3*s_1*s_2 + K_x**2*k_20*k_3*s_2 + K_x**2*k_3*k_4*s_1*s_2 + K_x**2*k_3*k_4*s_1 + K_x**2*k_3*k_4*s_2 + K_x**2*k_3*k_4)*x**2 + (K_x*f1*k_10*k_20*s_2 + K_x*f1*k_10*k_3*s_2 + K_x*f2*k_10*k_20*s_1 + K_x*f2*k_20*k_3*s_1 + 2*K_x*k_10*k_20*s_1*s_2 + 2*K_x*k_10*k_3*s_1*s_2 + K_x*k_10*k_3*s_1 + 2*K_x*k_20*k_3*s_1*s_2 + K_x*k_20*k_3*s_2 + 2*K_x*k_3*k_4*s_1*s_2 + K_x*k_3*k_4*s_1 + K_x*k_3*k_4*s_2)*x + k_10*k_20*s_1*s_2 + k_10*k_3*s_1*s_2 + k_20*k_3*s_1*s_2 + k_3*k_4*s_1*s_2, x, domain='ZZ[f1,f2,K_x,s_1,s_2,k_3,k_10,k_20,k_4]')"
      ]
     },
     "execution_count": 7,
     "metadata": {},
     "output_type": "execute_result"
    }
   ],
   "source": [
    "denpoly"
   ]
  },
  {
   "cell_type": "code",
   "execution_count": 8,
   "id": "61eec369",
   "metadata": {},
   "outputs": [
    {
     "data": {
      "text/plain": [
       "[K_x**2*f1*f2*k_10*k_20 + K_x**2*f1*k_10*k_20*s_2 + K_x**2*f1*k_10*k_3*s_2 + K_x**2*f1*k_10*k_3 + K_x**2*f2*k_10*k_20*s_1 + K_x**2*f2*k_20*k_3*s_1 + K_x**2*f2*k_20*k_3 + K_x**2*k_10*k_20*s_1*s_2 + K_x**2*k_10*k_3*s_1*s_2 + K_x**2*k_10*k_3*s_1 + K_x**2*k_20*k_3*s_1*s_2 + K_x**2*k_20*k_3*s_2 + K_x**2*k_3*k_4*s_1*s_2 + K_x**2*k_3*k_4*s_1 + K_x**2*k_3*k_4*s_2 + K_x**2*k_3*k_4,\n",
       " K_x*f1*k_10*k_20*s_2 + K_x*f1*k_10*k_3*s_2 + K_x*f2*k_10*k_20*s_1 + K_x*f2*k_20*k_3*s_1 + 2*K_x*k_10*k_20*s_1*s_2 + 2*K_x*k_10*k_3*s_1*s_2 + K_x*k_10*k_3*s_1 + 2*K_x*k_20*k_3*s_1*s_2 + K_x*k_20*k_3*s_2 + 2*K_x*k_3*k_4*s_1*s_2 + K_x*k_3*k_4*s_1 + K_x*k_3*k_4*s_2,\n",
       " k_10*k_20*s_1*s_2 + k_10*k_3*s_1*s_2 + k_20*k_3*s_1*s_2 + k_3*k_4*s_1*s_2]"
      ]
     },
     "execution_count": 8,
     "metadata": {},
     "output_type": "execute_result"
    }
   ],
   "source": [
    "denpoly.coeffs() #degree 2, 1, 0"
   ]
  },
  {
   "cell_type": "markdown",
   "id": "a06f3191",
   "metadata": {},
   "source": [
    "Derivative: (N'D-ND')/(D^2). The sign of the derivative depends on the sign of N'D-ND' (since D^2>0 always).\n",
    "We use the finding that we just need to check the expressions coming out of b_i a_j − a_i b_j: (b_i refers to terms in P denominator with coefficient i, a_i refers to terms in P numerator with coefficient i):\n",
    "\n",
    "So we need to check that the expression $(b_i a_j − a_i b_j) ∀\\{i, j\\}, (i < j)$ is always negative when $f_1<1, f_2<1$ (negative derivative) or positive when $f_1>1, f_2>1$ (positive derivative)."
   ]
  },
  {
   "cell_type": "code",
   "execution_count": 9,
   "id": "3bd2b533",
   "metadata": {},
   "outputs": [],
   "source": [
    "a2,a1,a0=numpoly.coeffs()\n"
   ]
  },
  {
   "cell_type": "code",
   "execution_count": 10,
   "id": "c84b125f",
   "metadata": {},
   "outputs": [],
   "source": [
    "b2,b1,b0=denpoly.coeffs()"
   ]
  },
  {
   "cell_type": "code",
   "execution_count": 16,
   "id": "595fd389",
   "metadata": {},
   "outputs": [],
   "source": [
    "def print_pairs_of_terms(expr):\n",
    "    notincluded=set([k10,k20,k3,k4,Kx,s1,s2])\n",
    "    expr=sympy.expand(expr)\n",
    "    display(expr)\n",
    "    terms=(expr).args\n",
    "    already_paired=[]\n",
    "    paired_expression=0\n",
    "    for i in range(len(terms)-1):\n",
    "        if not i in already_paired:\n",
    "            term=terms[i]\n",
    "            for j in range(i+1,len(terms)):\n",
    "                if not j in already_paired:\n",
    "                    termj=terms[j]\n",
    "                    args1=set(term.args)\n",
    "                    args2=set(termj.args)\n",
    "                    dif=args1.symmetric_difference(args2) #this should be -1, and fs\n",
    "                    simple_variables=[]\n",
    "                    for element in dif:\n",
    "                        if len(element.args)>0:\n",
    "                            simple_variables.append(element.args[0]) #base of potency\n",
    "                        else:\n",
    "                            simple_variables.append(element)\n",
    "\n",
    "                    simple_variables=set(simple_variables)\n",
    "                    if simple_variables.isdisjoint(notincluded):\n",
    "                        display(sympy.simplify(term+termj))\n",
    "                        already_paired.append(i)\n",
    "                        already_paired.append(j)\n",
    "                        paired_expression+=term+termj\n",
    "    print(\"initial terms - final terms (should be 0):\", expr-paired_expression)\n",
    "\n",
    "    print(sorted(already_paired), len(already_paired),len(terms))"
   ]
  },
  {
   "cell_type": "code",
   "execution_count": 17,
   "id": "c91fedb0",
   "metadata": {},
   "outputs": [
    {
     "data": {
      "text/latex": [
       "$\\displaystyle K_{x} f_{1} k_{10} k_{20}^{2} k_{3} s_{1} s_{2}^{2} + K_{x} f_{1} k_{10} k_{20} k_{3} k_{4} s_{1} s_{2}^{2} + K_{x} f_{2} k_{10}^{2} k_{20} k_{3} s_{1}^{2} s_{2} + K_{x} f_{2} k_{10} k_{20} k_{3} k_{4} s_{1}^{2} s_{2} - K_{x} k_{10}^{2} k_{20} k_{3} s_{1}^{2} s_{2} - K_{x} k_{10} k_{20}^{2} k_{3} s_{1} s_{2}^{2} - K_{x} k_{10} k_{20} k_{3} k_{4} s_{1}^{2} s_{2} - K_{x} k_{10} k_{20} k_{3} k_{4} s_{1} s_{2}^{2}$"
      ],
      "text/plain": [
       "K_x*f1*k_10*k_20**2*k_3*s_1*s_2**2 + K_x*f1*k_10*k_20*k_3*k_4*s_1*s_2**2 + K_x*f2*k_10**2*k_20*k_3*s_1**2*s_2 + K_x*f2*k_10*k_20*k_3*k_4*s_1**2*s_2 - K_x*k_10**2*k_20*k_3*s_1**2*s_2 - K_x*k_10*k_20**2*k_3*s_1*s_2**2 - K_x*k_10*k_20*k_3*k_4*s_1**2*s_2 - K_x*k_10*k_20*k_3*k_4*s_1*s_2**2"
      ]
     },
     "execution_count": 17,
     "metadata": {},
     "output_type": "execute_result"
    }
   ],
   "source": [
    "#i=0, j=1\n",
    "sympy.expand(b0*a1-a0*b1)"
   ]
  },
  {
   "cell_type": "markdown",
   "id": "a012abab",
   "metadata": {},
   "source": [
    "Note that for each positive term, there is a negative term differring only by a factor of f1 or f2 in the positive term. So if f1>1, f2>1, the positive term wins and the overall expression is positive, and if f1<1, f2<1, it is negative. This is easy to see but can also be seen programatically:"
   ]
  },
  {
   "cell_type": "code",
   "execution_count": 18,
   "id": "14b8da98",
   "metadata": {},
   "outputs": [
    {
     "data": {
      "text/latex": [
       "$\\displaystyle K_{x} f_{1} k_{10} k_{20}^{2} k_{3} s_{1} s_{2}^{2} + K_{x} f_{1} k_{10} k_{20} k_{3} k_{4} s_{1} s_{2}^{2} + K_{x} f_{2} k_{10}^{2} k_{20} k_{3} s_{1}^{2} s_{2} + K_{x} f_{2} k_{10} k_{20} k_{3} k_{4} s_{1}^{2} s_{2} - K_{x} k_{10}^{2} k_{20} k_{3} s_{1}^{2} s_{2} - K_{x} k_{10} k_{20}^{2} k_{3} s_{1} s_{2}^{2} - K_{x} k_{10} k_{20} k_{3} k_{4} s_{1}^{2} s_{2} - K_{x} k_{10} k_{20} k_{3} k_{4} s_{1} s_{2}^{2}$"
      ],
      "text/plain": [
       "K_x*f1*k_10*k_20**2*k_3*s_1*s_2**2 + K_x*f1*k_10*k_20*k_3*k_4*s_1*s_2**2 + K_x*f2*k_10**2*k_20*k_3*s_1**2*s_2 + K_x*f2*k_10*k_20*k_3*k_4*s_1**2*s_2 - K_x*k_10**2*k_20*k_3*s_1**2*s_2 - K_x*k_10*k_20**2*k_3*s_1*s_2**2 - K_x*k_10*k_20*k_3*k_4*s_1**2*s_2 - K_x*k_10*k_20*k_3*k_4*s_1*s_2**2"
      ]
     },
     "metadata": {},
     "output_type": "display_data"
    },
    {
     "data": {
      "text/latex": [
       "$\\displaystyle K_{x} k_{10} k_{20}^{2} k_{3} s_{1} s_{2}^{2} \\left(f_{1} - 1\\right)$"
      ],
      "text/plain": [
       "K_x*k_10*k_20**2*k_3*s_1*s_2**2*(f1 - 1)"
      ]
     },
     "metadata": {},
     "output_type": "display_data"
    },
    {
     "data": {
      "text/latex": [
       "$\\displaystyle K_{x} k_{10}^{2} k_{20} k_{3} s_{1}^{2} s_{2} \\left(f_{2} - 1\\right)$"
      ],
      "text/plain": [
       "K_x*k_10**2*k_20*k_3*s_1**2*s_2*(f2 - 1)"
      ]
     },
     "metadata": {},
     "output_type": "display_data"
    },
    {
     "data": {
      "text/latex": [
       "$\\displaystyle K_{x} k_{10} k_{20} k_{3} k_{4} s_{1} s_{2}^{2} \\left(f_{1} - 1\\right)$"
      ],
      "text/plain": [
       "K_x*k_10*k_20*k_3*k_4*s_1*s_2**2*(f1 - 1)"
      ]
     },
     "metadata": {},
     "output_type": "display_data"
    },
    {
     "data": {
      "text/latex": [
       "$\\displaystyle K_{x} k_{10} k_{20} k_{3} k_{4} s_{1}^{2} s_{2} \\left(f_{2} - 1\\right)$"
      ],
      "text/plain": [
       "K_x*k_10*k_20*k_3*k_4*s_1**2*s_2*(f2 - 1)"
      ]
     },
     "metadata": {},
     "output_type": "display_data"
    },
    {
     "name": "stdout",
     "output_type": "stream",
     "text": [
      "initial terms - final terms (should be 0): 0\n",
      "[0, 1, 2, 3, 4, 5, 6, 7] 8 8\n"
     ]
    }
   ],
   "source": [
    "expr=b0*a1-a0*b1\n",
    "print_pairs_of_terms(expr)"
   ]
  },
  {
   "cell_type": "code",
   "execution_count": 19,
   "id": "7f800db5",
   "metadata": {},
   "outputs": [
    {
     "data": {
      "text/latex": [
       "$\\displaystyle K_{x}^{2} f_{1} f_{2} k_{10}^{2} k_{20} k_{3} s_{1} s_{2} + K_{x}^{2} f_{1} f_{2} k_{10} k_{20}^{2} k_{3} s_{1} s_{2} + K_{x}^{2} f_{1} f_{2} k_{10} k_{20} k_{3} k_{4} s_{1} s_{2} - K_{x}^{2} f_{1} k_{10}^{2} k_{20} k_{3} s_{1} s_{2} + K_{x}^{2} f_{1} k_{10} k_{20}^{2} k_{3} s_{1} s_{2}^{2} + K_{x}^{2} f_{1} k_{10} k_{20} k_{3} k_{4} s_{1} s_{2}^{2} + K_{x}^{2} f_{2} k_{10}^{2} k_{20} k_{3} s_{1}^{2} s_{2} - K_{x}^{2} f_{2} k_{10} k_{20}^{2} k_{3} s_{1} s_{2} + K_{x}^{2} f_{2} k_{10} k_{20} k_{3} k_{4} s_{1}^{2} s_{2} - K_{x}^{2} k_{10}^{2} k_{20} k_{3} s_{1}^{2} s_{2} - K_{x}^{2} k_{10} k_{20}^{2} k_{3} s_{1} s_{2}^{2} - K_{x}^{2} k_{10} k_{20} k_{3} k_{4} s_{1}^{2} s_{2} - K_{x}^{2} k_{10} k_{20} k_{3} k_{4} s_{1} s_{2}^{2} - K_{x}^{2} k_{10} k_{20} k_{3} k_{4} s_{1} s_{2}$"
      ],
      "text/plain": [
       "K_x**2*f1*f2*k_10**2*k_20*k_3*s_1*s_2 + K_x**2*f1*f2*k_10*k_20**2*k_3*s_1*s_2 + K_x**2*f1*f2*k_10*k_20*k_3*k_4*s_1*s_2 - K_x**2*f1*k_10**2*k_20*k_3*s_1*s_2 + K_x**2*f1*k_10*k_20**2*k_3*s_1*s_2**2 + K_x**2*f1*k_10*k_20*k_3*k_4*s_1*s_2**2 + K_x**2*f2*k_10**2*k_20*k_3*s_1**2*s_2 - K_x**2*f2*k_10*k_20**2*k_3*s_1*s_2 + K_x**2*f2*k_10*k_20*k_3*k_4*s_1**2*s_2 - K_x**2*k_10**2*k_20*k_3*s_1**2*s_2 - K_x**2*k_10*k_20**2*k_3*s_1*s_2**2 - K_x**2*k_10*k_20*k_3*k_4*s_1**2*s_2 - K_x**2*k_10*k_20*k_3*k_4*s_1*s_2**2 - K_x**2*k_10*k_20*k_3*k_4*s_1*s_2"
      ]
     },
     "metadata": {},
     "output_type": "display_data"
    },
    {
     "data": {
      "text/latex": [
       "$\\displaystyle K_{x}^{2} k_{10} k_{20}^{2} k_{3} s_{1} s_{2}^{2} \\left(f_{1} - 1\\right)$"
      ],
      "text/plain": [
       "K_x**2*k_10*k_20**2*k_3*s_1*s_2**2*(f1 - 1)"
      ]
     },
     "metadata": {},
     "output_type": "display_data"
    },
    {
     "data": {
      "text/latex": [
       "$\\displaystyle K_{x}^{2} k_{10}^{2} k_{20} k_{3} s_{1}^{2} s_{2} \\left(f_{2} - 1\\right)$"
      ],
      "text/plain": [
       "K_x**2*k_10**2*k_20*k_3*s_1**2*s_2*(f2 - 1)"
      ]
     },
     "metadata": {},
     "output_type": "display_data"
    },
    {
     "data": {
      "text/latex": [
       "$\\displaystyle K_{x}^{2} f_{1} k_{10}^{2} k_{20} k_{3} s_{1} s_{2} \\left(f_{2} - 1\\right)$"
      ],
      "text/plain": [
       "K_x**2*f1*k_10**2*k_20*k_3*s_1*s_2*(f2 - 1)"
      ]
     },
     "metadata": {},
     "output_type": "display_data"
    },
    {
     "data": {
      "text/latex": [
       "$\\displaystyle K_{x}^{2} f_{2} k_{10} k_{20}^{2} k_{3} s_{1} s_{2} \\left(f_{1} - 1\\right)$"
      ],
      "text/plain": [
       "K_x**2*f2*k_10*k_20**2*k_3*s_1*s_2*(f1 - 1)"
      ]
     },
     "metadata": {},
     "output_type": "display_data"
    },
    {
     "data": {
      "text/latex": [
       "$\\displaystyle K_{x}^{2} k_{10} k_{20} k_{3} k_{4} s_{1} s_{2} \\left(f_{1} f_{2} - 1\\right)$"
      ],
      "text/plain": [
       "K_x**2*k_10*k_20*k_3*k_4*s_1*s_2*(f1*f2 - 1)"
      ]
     },
     "metadata": {},
     "output_type": "display_data"
    },
    {
     "data": {
      "text/latex": [
       "$\\displaystyle K_{x}^{2} k_{10} k_{20} k_{3} k_{4} s_{1} s_{2}^{2} \\left(f_{1} - 1\\right)$"
      ],
      "text/plain": [
       "K_x**2*k_10*k_20*k_3*k_4*s_1*s_2**2*(f1 - 1)"
      ]
     },
     "metadata": {},
     "output_type": "display_data"
    },
    {
     "data": {
      "text/latex": [
       "$\\displaystyle K_{x}^{2} k_{10} k_{20} k_{3} k_{4} s_{1}^{2} s_{2} \\left(f_{2} - 1\\right)$"
      ],
      "text/plain": [
       "K_x**2*k_10*k_20*k_3*k_4*s_1**2*s_2*(f2 - 1)"
      ]
     },
     "metadata": {},
     "output_type": "display_data"
    },
    {
     "name": "stdout",
     "output_type": "stream",
     "text": [
      "initial terms - final terms (should be 0): 0\n",
      "[0, 1, 2, 3, 4, 5, 6, 7, 8, 9, 10, 11, 12, 13] 14 14\n"
     ]
    }
   ],
   "source": [
    "#i=0, j=2\n",
    "expr=(b0*a2-a0*b2)\n",
    "print_pairs_of_terms(expr)"
   ]
  },
  {
   "cell_type": "code",
   "execution_count": 20,
   "id": "cb447cc2",
   "metadata": {},
   "outputs": [
    {
     "data": {
      "text/latex": [
       "$\\displaystyle K_{x}^{3} f_{1}^{2} f_{2} k_{10}^{2} k_{20} k_{3} s_{2} - K_{x}^{3} f_{1}^{2} k_{10}^{2} k_{20} k_{3} s_{2} + K_{x}^{3} f_{1} f_{2}^{2} k_{10} k_{20}^{2} k_{3} s_{1} + 2 K_{x}^{3} f_{1} f_{2} k_{10}^{2} k_{20} k_{3} s_{1} s_{2} + 2 K_{x}^{3} f_{1} f_{2} k_{10} k_{20}^{2} k_{3} s_{1} s_{2} + 2 K_{x}^{3} f_{1} f_{2} k_{10} k_{20} k_{3} k_{4} s_{1} s_{2} + K_{x}^{3} f_{1} f_{2} k_{10} k_{20} k_{3} k_{4} s_{1} + K_{x}^{3} f_{1} f_{2} k_{10} k_{20} k_{3} k_{4} s_{2} - 2 K_{x}^{3} f_{1} k_{10}^{2} k_{20} k_{3} s_{1} s_{2} + K_{x}^{3} f_{1} k_{10} k_{20}^{2} k_{3} s_{1} s_{2}^{2} + K_{x}^{3} f_{1} k_{10} k_{20} k_{3} k_{4} s_{1} s_{2}^{2} - K_{x}^{3} f_{1} k_{10} k_{20} k_{3} k_{4} s_{2} - K_{x}^{3} f_{2}^{2} k_{10} k_{20}^{2} k_{3} s_{1} + K_{x}^{3} f_{2} k_{10}^{2} k_{20} k_{3} s_{1}^{2} s_{2} - 2 K_{x}^{3} f_{2} k_{10} k_{20}^{2} k_{3} s_{1} s_{2} + K_{x}^{3} f_{2} k_{10} k_{20} k_{3} k_{4} s_{1}^{2} s_{2} - K_{x}^{3} f_{2} k_{10} k_{20} k_{3} k_{4} s_{1} - K_{x}^{3} k_{10}^{2} k_{20} k_{3} s_{1}^{2} s_{2} - K_{x}^{3} k_{10} k_{20}^{2} k_{3} s_{1} s_{2}^{2} - K_{x}^{3} k_{10} k_{20} k_{3} k_{4} s_{1}^{2} s_{2} - K_{x}^{3} k_{10} k_{20} k_{3} k_{4} s_{1} s_{2}^{2} - 2 K_{x}^{3} k_{10} k_{20} k_{3} k_{4} s_{1} s_{2}$"
      ],
      "text/plain": [
       "K_x**3*f1**2*f2*k_10**2*k_20*k_3*s_2 - K_x**3*f1**2*k_10**2*k_20*k_3*s_2 + K_x**3*f1*f2**2*k_10*k_20**2*k_3*s_1 + 2*K_x**3*f1*f2*k_10**2*k_20*k_3*s_1*s_2 + 2*K_x**3*f1*f2*k_10*k_20**2*k_3*s_1*s_2 + 2*K_x**3*f1*f2*k_10*k_20*k_3*k_4*s_1*s_2 + K_x**3*f1*f2*k_10*k_20*k_3*k_4*s_1 + K_x**3*f1*f2*k_10*k_20*k_3*k_4*s_2 - 2*K_x**3*f1*k_10**2*k_20*k_3*s_1*s_2 + K_x**3*f1*k_10*k_20**2*k_3*s_1*s_2**2 + K_x**3*f1*k_10*k_20*k_3*k_4*s_1*s_2**2 - K_x**3*f1*k_10*k_20*k_3*k_4*s_2 - K_x**3*f2**2*k_10*k_20**2*k_3*s_1 + K_x**3*f2*k_10**2*k_20*k_3*s_1**2*s_2 - 2*K_x**3*f2*k_10*k_20**2*k_3*s_1*s_2 + K_x**3*f2*k_10*k_20*k_3*k_4*s_1**2*s_2 - K_x**3*f2*k_10*k_20*k_3*k_4*s_1 - K_x**3*k_10**2*k_20*k_3*s_1**2*s_2 - K_x**3*k_10*k_20**2*k_3*s_1*s_2**2 - K_x**3*k_10*k_20*k_3*k_4*s_1**2*s_2 - K_x**3*k_10*k_20*k_3*k_4*s_1*s_2**2 - 2*K_x**3*k_10*k_20*k_3*k_4*s_1*s_2"
      ]
     },
     "metadata": {},
     "output_type": "display_data"
    },
    {
     "data": {
      "text/latex": [
       "$\\displaystyle K_{x}^{3} f_{2}^{2} k_{10} k_{20}^{2} k_{3} s_{1} \\left(f_{1} - 1\\right)$"
      ],
      "text/plain": [
       "K_x**3*f2**2*k_10*k_20**2*k_3*s_1*(f1 - 1)"
      ]
     },
     "metadata": {},
     "output_type": "display_data"
    },
    {
     "data": {
      "text/latex": [
       "$\\displaystyle K_{x}^{3} k_{10} k_{20}^{2} k_{3} s_{1} s_{2}^{2} \\left(f_{1} - 1\\right)$"
      ],
      "text/plain": [
       "K_x**3*k_10*k_20**2*k_3*s_1*s_2**2*(f1 - 1)"
      ]
     },
     "metadata": {},
     "output_type": "display_data"
    },
    {
     "data": {
      "text/latex": [
       "$\\displaystyle K_{x}^{3} f_{1}^{2} k_{10}^{2} k_{20} k_{3} s_{2} \\left(f_{2} - 1\\right)$"
      ],
      "text/plain": [
       "K_x**3*f1**2*k_10**2*k_20*k_3*s_2*(f2 - 1)"
      ]
     },
     "metadata": {},
     "output_type": "display_data"
    },
    {
     "data": {
      "text/latex": [
       "$\\displaystyle K_{x}^{3} k_{10}^{2} k_{20} k_{3} s_{1}^{2} s_{2} \\left(f_{2} - 1\\right)$"
      ],
      "text/plain": [
       "K_x**3*k_10**2*k_20*k_3*s_1**2*s_2*(f2 - 1)"
      ]
     },
     "metadata": {},
     "output_type": "display_data"
    },
    {
     "data": {
      "text/latex": [
       "$\\displaystyle K_{x}^{3} f_{1} k_{10} k_{20} k_{3} k_{4} s_{2} \\left(f_{2} - 1\\right)$"
      ],
      "text/plain": [
       "K_x**3*f1*k_10*k_20*k_3*k_4*s_2*(f2 - 1)"
      ]
     },
     "metadata": {},
     "output_type": "display_data"
    },
    {
     "data": {
      "text/latex": [
       "$\\displaystyle K_{x}^{3} f_{2} k_{10} k_{20} k_{3} k_{4} s_{1} \\left(f_{1} - 1\\right)$"
      ],
      "text/plain": [
       "K_x**3*f2*k_10*k_20*k_3*k_4*s_1*(f1 - 1)"
      ]
     },
     "metadata": {},
     "output_type": "display_data"
    },
    {
     "data": {
      "text/latex": [
       "$\\displaystyle K_{x}^{3} k_{10} k_{20} k_{3} k_{4} s_{1} s_{2}^{2} \\left(f_{1} - 1\\right)$"
      ],
      "text/plain": [
       "K_x**3*k_10*k_20*k_3*k_4*s_1*s_2**2*(f1 - 1)"
      ]
     },
     "metadata": {},
     "output_type": "display_data"
    },
    {
     "data": {
      "text/latex": [
       "$\\displaystyle K_{x}^{3} k_{10} k_{20} k_{3} k_{4} s_{1}^{2} s_{2} \\left(f_{2} - 1\\right)$"
      ],
      "text/plain": [
       "K_x**3*k_10*k_20*k_3*k_4*s_1**2*s_2*(f2 - 1)"
      ]
     },
     "metadata": {},
     "output_type": "display_data"
    },
    {
     "data": {
      "text/latex": [
       "$\\displaystyle 2 K_{x}^{3} f_{1} k_{10}^{2} k_{20} k_{3} s_{1} s_{2} \\left(f_{2} - 1\\right)$"
      ],
      "text/plain": [
       "2*K_x**3*f1*k_10**2*k_20*k_3*s_1*s_2*(f2 - 1)"
      ]
     },
     "metadata": {},
     "output_type": "display_data"
    },
    {
     "data": {
      "text/latex": [
       "$\\displaystyle 2 K_{x}^{3} f_{2} k_{10} k_{20}^{2} k_{3} s_{1} s_{2} \\left(f_{1} - 1\\right)$"
      ],
      "text/plain": [
       "2*K_x**3*f2*k_10*k_20**2*k_3*s_1*s_2*(f1 - 1)"
      ]
     },
     "metadata": {},
     "output_type": "display_data"
    },
    {
     "data": {
      "text/latex": [
       "$\\displaystyle 2 K_{x}^{3} k_{10} k_{20} k_{3} k_{4} s_{1} s_{2} \\left(f_{1} f_{2} - 1\\right)$"
      ],
      "text/plain": [
       "2*K_x**3*k_10*k_20*k_3*k_4*s_1*s_2*(f1*f2 - 1)"
      ]
     },
     "metadata": {},
     "output_type": "display_data"
    },
    {
     "name": "stdout",
     "output_type": "stream",
     "text": [
      "initial terms - final terms (should be 0): 0\n",
      "[0, 1, 2, 3, 4, 5, 6, 7, 8, 9, 10, 11, 12, 13, 14, 15, 16, 17, 18, 19, 20, 21] 22 22\n"
     ]
    }
   ],
   "source": [
    "#i=1, j=2-> negative if f1<0, f2<0??\n",
    "expr=(b1*a2-a1*b2)\n",
    "print_pairs_of_terms(expr)"
   ]
  },
  {
   "cell_type": "code",
   "execution_count": null,
   "id": "27cd1bc8",
   "metadata": {},
   "outputs": [],
   "source": []
  }
 ],
 "metadata": {
  "kernelspec": {
   "display_name": "Python 3 (ipykernel)",
   "language": "python",
   "name": "python3"
  },
  "language_info": {
   "codemirror_mode": {
    "name": "ipython",
    "version": 3
   },
   "file_extension": ".py",
   "mimetype": "text/x-python",
   "name": "python",
   "nbconvert_exporter": "python",
   "pygments_lexer": "ipython3",
   "version": "3.9.13"
  }
 },
 "nbformat": 4,
 "nbformat_minor": 5
}
