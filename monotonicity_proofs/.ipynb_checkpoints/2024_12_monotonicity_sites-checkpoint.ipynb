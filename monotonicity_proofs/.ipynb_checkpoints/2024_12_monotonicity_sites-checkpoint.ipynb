{
 "cells": [
  {
   "cell_type": "code",
   "execution_count": 1,
   "id": "bb3b6d9f",
   "metadata": {},
   "outputs": [],
   "source": [
    "import sympy"
   ]
  },
  {
   "cell_type": "code",
   "execution_count": 13,
   "id": "1bf001e4",
   "metadata": {},
   "outputs": [],
   "source": [
    "k1,k2,k3,k4,n=sympy.symbols(\"k1,k2,k3,k4,n\", positive=True)\n",
    "k1 = sympy.Function(\"k1\", real=True)(n)\n",
    "k2 = sympy.Function(\"k2\", real=True)(n)\n",
    "k3 = sympy.Function(\"k3\", real=True)(n)\n",
    "k4 = sympy.Function(\"k4\", real=True)(n)\n",
    "D=k4*k3+k2*k3+k1*k3+k1*k2\n",
    "m=k3*k1*k2/(D)\n",
    "\n"
   ]
  },
  {
   "cell_type": "code",
   "execution_count": 14,
   "id": "4c15d67a",
   "metadata": {},
   "outputs": [],
   "source": [
    "num,den=sympy.fraction(sympy.together(sympy.expand(sympy.diff(m,n))))"
   ]
  },
  {
   "cell_type": "code",
   "execution_count": 15,
   "id": "27aad772",
   "metadata": {},
   "outputs": [
    {
     "data": {
      "text/latex": [
       "$\\displaystyle \\left(k_{1}{\\left(n \\right)} k_{2}{\\left(n \\right)} + k_{1}{\\left(n \\right)} k_{3}{\\left(n \\right)} + k_{2}{\\left(n \\right)} k_{3}{\\left(n \\right)} + k_{3}{\\left(n \\right)} k_{4}{\\left(n \\right)}\\right) \\left(k_{1}^{2}{\\left(n \\right)} k_{2}^{2}{\\left(n \\right)} + 2 k_{1}^{2}{\\left(n \\right)} k_{2}{\\left(n \\right)} k_{3}{\\left(n \\right)} + k_{1}^{2}{\\left(n \\right)} k_{3}^{2}{\\left(n \\right)} + 2 k_{1}{\\left(n \\right)} k_{2}^{2}{\\left(n \\right)} k_{3}{\\left(n \\right)} + 2 k_{1}{\\left(n \\right)} k_{2}{\\left(n \\right)} k_{3}^{2}{\\left(n \\right)} + 2 k_{1}{\\left(n \\right)} k_{2}{\\left(n \\right)} k_{3}{\\left(n \\right)} k_{4}{\\left(n \\right)} + 2 k_{1}{\\left(n \\right)} k_{3}^{2}{\\left(n \\right)} k_{4}{\\left(n \\right)} + k_{2}^{2}{\\left(n \\right)} k_{3}^{2}{\\left(n \\right)} + 2 k_{2}{\\left(n \\right)} k_{3}^{2}{\\left(n \\right)} k_{4}{\\left(n \\right)} + k_{3}^{2}{\\left(n \\right)} k_{4}^{2}{\\left(n \\right)}\\right)$"
      ],
      "text/plain": [
       "(k1(n)*k2(n) + k1(n)*k3(n) + k2(n)*k3(n) + k3(n)*k4(n))*(k1(n)**2*k2(n)**2 + 2*k1(n)**2*k2(n)*k3(n) + k1(n)**2*k3(n)**2 + 2*k1(n)*k2(n)**2*k3(n) + 2*k1(n)*k2(n)*k3(n)**2 + 2*k1(n)*k2(n)*k3(n)*k4(n) + 2*k1(n)*k3(n)**2*k4(n) + k2(n)**2*k3(n)**2 + 2*k2(n)*k3(n)**2*k4(n) + k3(n)**2*k4(n)**2)"
      ]
     },
     "execution_count": 15,
     "metadata": {},
     "output_type": "execute_result"
    }
   ],
   "source": [
    "den"
   ]
  },
  {
   "cell_type": "code",
   "execution_count": 16,
   "id": "667dd48c",
   "metadata": {},
   "outputs": [
    {
     "data": {
      "text/latex": [
       "$\\displaystyle k_{1}^{3}{\\left(n \\right)} k_{2}^{3}{\\left(n \\right)} \\frac{d}{d n} k_{3}{\\left(n \\right)} + k_{1}^{3}{\\left(n \\right)} k_{2}^{2}{\\left(n \\right)} k_{3}{\\left(n \\right)} \\frac{d}{d n} k_{3}{\\left(n \\right)} + k_{1}^{3}{\\left(n \\right)} k_{2}{\\left(n \\right)} k_{3}^{2}{\\left(n \\right)} \\frac{d}{d n} k_{2}{\\left(n \\right)} + k_{1}^{3}{\\left(n \\right)} k_{3}^{3}{\\left(n \\right)} \\frac{d}{d n} k_{2}{\\left(n \\right)} + k_{1}^{2}{\\left(n \\right)} k_{2}^{3}{\\left(n \\right)} k_{3}{\\left(n \\right)} \\frac{d}{d n} k_{3}{\\left(n \\right)} - k_{1}^{2}{\\left(n \\right)} k_{2}^{2}{\\left(n \\right)} k_{3}^{2}{\\left(n \\right)} \\frac{d}{d n} k_{4}{\\left(n \\right)} + k_{1}^{2}{\\left(n \\right)} k_{2}^{2}{\\left(n \\right)} k_{3}{\\left(n \\right)} k_{4}{\\left(n \\right)} \\frac{d}{d n} k_{3}{\\left(n \\right)} + k_{1}^{2}{\\left(n \\right)} k_{2}{\\left(n \\right)} k_{3}^{3}{\\left(n \\right)} \\frac{d}{d n} k_{2}{\\left(n \\right)} - k_{1}^{2}{\\left(n \\right)} k_{2}{\\left(n \\right)} k_{3}^{3}{\\left(n \\right)} \\frac{d}{d n} k_{4}{\\left(n \\right)} + k_{1}^{2}{\\left(n \\right)} k_{2}{\\left(n \\right)} k_{3}^{2}{\\left(n \\right)} k_{4}{\\left(n \\right)} \\frac{d}{d n} k_{2}{\\left(n \\right)} + 2 k_{1}^{2}{\\left(n \\right)} k_{3}^{3}{\\left(n \\right)} k_{4}{\\left(n \\right)} \\frac{d}{d n} k_{2}{\\left(n \\right)} + k_{1}{\\left(n \\right)} k_{2}^{3}{\\left(n \\right)} k_{3}^{2}{\\left(n \\right)} \\frac{d}{d n} k_{1}{\\left(n \\right)} + k_{1}{\\left(n \\right)} k_{2}^{2}{\\left(n \\right)} k_{3}^{3}{\\left(n \\right)} \\frac{d}{d n} k_{1}{\\left(n \\right)} - k_{1}{\\left(n \\right)} k_{2}^{2}{\\left(n \\right)} k_{3}^{3}{\\left(n \\right)} \\frac{d}{d n} k_{4}{\\left(n \\right)} + k_{1}{\\left(n \\right)} k_{2}^{2}{\\left(n \\right)} k_{3}^{2}{\\left(n \\right)} k_{4}{\\left(n \\right)} \\frac{d}{d n} k_{1}{\\left(n \\right)} + k_{1}{\\left(n \\right)} k_{2}{\\left(n \\right)} k_{3}^{3}{\\left(n \\right)} k_{4}{\\left(n \\right)} \\frac{d}{d n} k_{1}{\\left(n \\right)} + k_{1}{\\left(n \\right)} k_{2}{\\left(n \\right)} k_{3}^{3}{\\left(n \\right)} k_{4}{\\left(n \\right)} \\frac{d}{d n} k_{2}{\\left(n \\right)} - k_{1}{\\left(n \\right)} k_{2}{\\left(n \\right)} k_{3}^{3}{\\left(n \\right)} k_{4}{\\left(n \\right)} \\frac{d}{d n} k_{4}{\\left(n \\right)} + k_{1}{\\left(n \\right)} k_{3}^{3}{\\left(n \\right)} k_{4}^{2}{\\left(n \\right)} \\frac{d}{d n} k_{2}{\\left(n \\right)} + k_{2}^{3}{\\left(n \\right)} k_{3}^{3}{\\left(n \\right)} \\frac{d}{d n} k_{1}{\\left(n \\right)} + 2 k_{2}^{2}{\\left(n \\right)} k_{3}^{3}{\\left(n \\right)} k_{4}{\\left(n \\right)} \\frac{d}{d n} k_{1}{\\left(n \\right)} + k_{2}{\\left(n \\right)} k_{3}^{3}{\\left(n \\right)} k_{4}^{2}{\\left(n \\right)} \\frac{d}{d n} k_{1}{\\left(n \\right)}$"
      ],
      "text/plain": [
       "k1(n)**3*k2(n)**3*Derivative(k3(n), n) + k1(n)**3*k2(n)**2*k3(n)*Derivative(k3(n), n) + k1(n)**3*k2(n)*k3(n)**2*Derivative(k2(n), n) + k1(n)**3*k3(n)**3*Derivative(k2(n), n) + k1(n)**2*k2(n)**3*k3(n)*Derivative(k3(n), n) - k1(n)**2*k2(n)**2*k3(n)**2*Derivative(k4(n), n) + k1(n)**2*k2(n)**2*k3(n)*k4(n)*Derivative(k3(n), n) + k1(n)**2*k2(n)*k3(n)**3*Derivative(k2(n), n) - k1(n)**2*k2(n)*k3(n)**3*Derivative(k4(n), n) + k1(n)**2*k2(n)*k3(n)**2*k4(n)*Derivative(k2(n), n) + 2*k1(n)**2*k3(n)**3*k4(n)*Derivative(k2(n), n) + k1(n)*k2(n)**3*k3(n)**2*Derivative(k1(n), n) + k1(n)*k2(n)**2*k3(n)**3*Derivative(k1(n), n) - k1(n)*k2(n)**2*k3(n)**3*Derivative(k4(n), n) + k1(n)*k2(n)**2*k3(n)**2*k4(n)*Derivative(k1(n), n) + k1(n)*k2(n)*k3(n)**3*k4(n)*Derivative(k1(n), n) + k1(n)*k2(n)*k3(n)**3*k4(n)*Derivative(k2(n), n) - k1(n)*k2(n)*k3(n)**3*k4(n)*Derivative(k4(n), n) + k1(n)*k3(n)**3*k4(n)**2*Derivative(k2(n), n) + k2(n)**3*k3(n)**3*Derivative(k1(n), n) + 2*k2(n)**2*k3(n)**3*k4(n)*Derivative(k1(n), n) + k2(n)*k3(n)**3*k4(n)**2*Derivative(k1(n), n)"
      ]
     },
     "execution_count": 16,
     "metadata": {},
     "output_type": "execute_result"
    }
   ],
   "source": [
    "sympy.expand(num)"
   ]
  },
  {
   "cell_type": "code",
   "execution_count": 17,
   "id": "40f51dad",
   "metadata": {},
   "outputs": [
    {
     "data": {
      "text/latex": [
       "$\\displaystyle \\left(k_{1}^{3}{\\left(n \\right)} k_{2}^{3}{\\left(n \\right)} + k_{1}^{3}{\\left(n \\right)} k_{2}^{2}{\\left(n \\right)} k_{3}{\\left(n \\right)} + k_{1}^{2}{\\left(n \\right)} k_{2}^{3}{\\left(n \\right)} k_{3}{\\left(n \\right)} + k_{1}^{2}{\\left(n \\right)} k_{2}^{2}{\\left(n \\right)} k_{3}{\\left(n \\right)} k_{4}{\\left(n \\right)}\\right) \\frac{d}{d n} k_{3}{\\left(n \\right)} + \\left(- k_{1}^{2}{\\left(n \\right)} k_{2}^{2}{\\left(n \\right)} k_{3}^{2}{\\left(n \\right)} - k_{1}^{2}{\\left(n \\right)} k_{2}{\\left(n \\right)} k_{3}^{3}{\\left(n \\right)} - k_{1}{\\left(n \\right)} k_{2}^{2}{\\left(n \\right)} k_{3}^{3}{\\left(n \\right)} - k_{1}{\\left(n \\right)} k_{2}{\\left(n \\right)} k_{3}^{3}{\\left(n \\right)} k_{4}{\\left(n \\right)}\\right) \\frac{d}{d n} k_{4}{\\left(n \\right)} + \\left(k_{1}{\\left(n \\right)} k_{2}^{3}{\\left(n \\right)} k_{3}^{2}{\\left(n \\right)} + k_{1}{\\left(n \\right)} k_{2}^{2}{\\left(n \\right)} k_{3}^{3}{\\left(n \\right)} + k_{1}{\\left(n \\right)} k_{2}^{2}{\\left(n \\right)} k_{3}^{2}{\\left(n \\right)} k_{4}{\\left(n \\right)} + k_{1}{\\left(n \\right)} k_{2}{\\left(n \\right)} k_{3}^{3}{\\left(n \\right)} k_{4}{\\left(n \\right)} + k_{2}^{3}{\\left(n \\right)} k_{3}^{3}{\\left(n \\right)} + 2 k_{2}^{2}{\\left(n \\right)} k_{3}^{3}{\\left(n \\right)} k_{4}{\\left(n \\right)} + k_{2}{\\left(n \\right)} k_{3}^{3}{\\left(n \\right)} k_{4}^{2}{\\left(n \\right)}\\right) \\frac{d}{d n} k_{1}{\\left(n \\right)} + \\left(k_{1}^{3}{\\left(n \\right)} k_{2}{\\left(n \\right)} k_{3}^{2}{\\left(n \\right)} + k_{1}^{3}{\\left(n \\right)} k_{3}^{3}{\\left(n \\right)} + k_{1}^{2}{\\left(n \\right)} k_{2}{\\left(n \\right)} k_{3}^{3}{\\left(n \\right)} + k_{1}^{2}{\\left(n \\right)} k_{2}{\\left(n \\right)} k_{3}^{2}{\\left(n \\right)} k_{4}{\\left(n \\right)} + 2 k_{1}^{2}{\\left(n \\right)} k_{3}^{3}{\\left(n \\right)} k_{4}{\\left(n \\right)} + k_{1}{\\left(n \\right)} k_{2}{\\left(n \\right)} k_{3}^{3}{\\left(n \\right)} k_{4}{\\left(n \\right)} + k_{1}{\\left(n \\right)} k_{3}^{3}{\\left(n \\right)} k_{4}^{2}{\\left(n \\right)}\\right) \\frac{d}{d n} k_{2}{\\left(n \\right)}$"
      ],
      "text/plain": [
       "(k1(n)**3*k2(n)**3 + k1(n)**3*k2(n)**2*k3(n) + k1(n)**2*k2(n)**3*k3(n) + k1(n)**2*k2(n)**2*k3(n)*k4(n))*Derivative(k3(n), n) + (-k1(n)**2*k2(n)**2*k3(n)**2 - k1(n)**2*k2(n)*k3(n)**3 - k1(n)*k2(n)**2*k3(n)**3 - k1(n)*k2(n)*k3(n)**3*k4(n))*Derivative(k4(n), n) + (k1(n)*k2(n)**3*k3(n)**2 + k1(n)*k2(n)**2*k3(n)**3 + k1(n)*k2(n)**2*k3(n)**2*k4(n) + k1(n)*k2(n)*k3(n)**3*k4(n) + k2(n)**3*k3(n)**3 + 2*k2(n)**2*k3(n)**3*k4(n) + k2(n)*k3(n)**3*k4(n)**2)*Derivative(k1(n), n) + (k1(n)**3*k2(n)*k3(n)**2 + k1(n)**3*k3(n)**3 + k1(n)**2*k2(n)*k3(n)**3 + k1(n)**2*k2(n)*k3(n)**2*k4(n) + 2*k1(n)**2*k3(n)**3*k4(n) + k1(n)*k2(n)*k3(n)**3*k4(n) + k1(n)*k3(n)**3*k4(n)**2)*Derivative(k2(n), n)"
      ]
     },
     "execution_count": 17,
     "metadata": {},
     "output_type": "execute_result"
    }
   ],
   "source": [
    "sympy.collect(sympy.expand(num),[sympy.diff(k1,n),sympy.diff(k2,n),sympy.diff(k3,n),sympy.diff(k4,n)])"
   ]
  },
  {
   "cell_type": "code",
   "execution_count": 59,
   "id": "8eabc74c",
   "metadata": {},
   "outputs": [],
   "source": [
    "K,x=sympy.symbols(\"K,x\",positive=True)\n",
    "n1=K*x/(1+K*x)\n",
    "n2=(2*K*x+2*(K*x)**2)/(1+2*K*x+(K*x)**2)\n",
    "n3=(3*K*x+2*3*(K*x)**2+3*(K*x)**3)/(1+3*K*x+3*(K*x)**2+(K*x)**3)\n",
    "n4=(4*K*x+2*6*(K*x)**2+3*4*(K*x)**3+4*(K*x)**4)/(1+4*K*x+6*(K*x)**2+4*(K*x)**3+(K*x)**4)\n",
    "n5=(5*K*x+2*10*(K*x)**2+3*7*(K*x)**3+5*4*(K*x)**4+5*(K*x)**5)/(1+5*K*x+10*(K*x)**2+7*(K*x)**3+5*(K*x)**4+(K*x)**5)\n",
    "n6="
   ]
  },
  {
   "cell_type": "code",
   "execution_count": 50,
   "id": "b2924fd5",
   "metadata": {},
   "outputs": [
    {
     "data": {
      "text/latex": [
       "$\\displaystyle \\frac{K x}{K x + 1}$"
      ],
      "text/plain": [
       "K*x/(K*x + 1)"
      ]
     },
     "execution_count": 50,
     "metadata": {},
     "output_type": "execute_result"
    }
   ],
   "source": [
    "n1"
   ]
  },
  {
   "cell_type": "code",
   "execution_count": 51,
   "id": "9f9366cf",
   "metadata": {},
   "outputs": [
    {
     "data": {
      "text/latex": [
       "$\\displaystyle \\frac{2 K^{2} x^{2} + 2 K x}{K^{2} x^{2} + 2 K x + 1}$"
      ],
      "text/plain": [
       "(2*K**2*x**2 + 2*K*x)/(K**2*x**2 + 2*K*x + 1)"
      ]
     },
     "execution_count": 51,
     "metadata": {},
     "output_type": "execute_result"
    }
   ],
   "source": [
    "n2"
   ]
  },
  {
   "cell_type": "code",
   "execution_count": 52,
   "id": "9442688a",
   "metadata": {},
   "outputs": [
    {
     "data": {
      "text/latex": [
       "$\\displaystyle \\frac{K x}{K x + 1}$"
      ],
      "text/plain": [
       "K*x/(K*x + 1)"
      ]
     },
     "execution_count": 52,
     "metadata": {},
     "output_type": "execute_result"
    }
   ],
   "source": [
    "sympy.expand(sympy.together(n2-n1)) #clearly greater than 0, so n2>n1"
   ]
  },
  {
   "cell_type": "code",
   "execution_count": 53,
   "id": "2104bccf",
   "metadata": {},
   "outputs": [
    {
     "data": {
      "text/latex": [
       "$\\displaystyle \\frac{3 K^{3} x^{3} + 6 K^{2} x^{2} + 3 K x}{K^{3} x^{3} + 3 K^{2} x^{2} + 3 K x + 1}$"
      ],
      "text/plain": [
       "(3*K**3*x**3 + 6*K**2*x**2 + 3*K*x)/(K**3*x**3 + 3*K**2*x**2 + 3*K*x + 1)"
      ]
     },
     "execution_count": 53,
     "metadata": {},
     "output_type": "execute_result"
    }
   ],
   "source": [
    "n3"
   ]
  },
  {
   "cell_type": "code",
   "execution_count": 54,
   "id": "3d4399a8",
   "metadata": {},
   "outputs": [
    {
     "data": {
      "text/latex": [
       "$\\displaystyle \\frac{K^{5} x^{5}}{K^{5} x^{5} + 5 K^{4} x^{4} + 10 K^{3} x^{3} + 10 K^{2} x^{2} + 5 K x + 1} + \\frac{4 K^{4} x^{4}}{K^{5} x^{5} + 5 K^{4} x^{4} + 10 K^{3} x^{3} + 10 K^{2} x^{2} + 5 K x + 1} + \\frac{6 K^{3} x^{3}}{K^{5} x^{5} + 5 K^{4} x^{4} + 10 K^{3} x^{3} + 10 K^{2} x^{2} + 5 K x + 1} + \\frac{4 K^{2} x^{2}}{K^{5} x^{5} + 5 K^{4} x^{4} + 10 K^{3} x^{3} + 10 K^{2} x^{2} + 5 K x + 1} + \\frac{K x}{K^{5} x^{5} + 5 K^{4} x^{4} + 10 K^{3} x^{3} + 10 K^{2} x^{2} + 5 K x + 1}$"
      ],
      "text/plain": [
       "K**5*x**5/(K**5*x**5 + 5*K**4*x**4 + 10*K**3*x**3 + 10*K**2*x**2 + 5*K*x + 1) + 4*K**4*x**4/(K**5*x**5 + 5*K**4*x**4 + 10*K**3*x**3 + 10*K**2*x**2 + 5*K*x + 1) + 6*K**3*x**3/(K**5*x**5 + 5*K**4*x**4 + 10*K**3*x**3 + 10*K**2*x**2 + 5*K*x + 1) + 4*K**2*x**2/(K**5*x**5 + 5*K**4*x**4 + 10*K**3*x**3 + 10*K**2*x**2 + 5*K*x + 1) + K*x/(K**5*x**5 + 5*K**4*x**4 + 10*K**3*x**3 + 10*K**2*x**2 + 5*K*x + 1)"
      ]
     },
     "execution_count": 54,
     "metadata": {},
     "output_type": "execute_result"
    }
   ],
   "source": [
    "sympy.expand(sympy.together(n3-n2)) #clearly greater than 0, so n3>n2"
   ]
  },
  {
   "cell_type": "code",
   "execution_count": 55,
   "id": "e8147e4e",
   "metadata": {},
   "outputs": [
    {
     "data": {
      "text/latex": [
       "$\\displaystyle \\frac{4 K^{4} x^{4} + 12 K^{3} x^{3} + 12 K^{2} x^{2} + 4 K x}{K^{4} x^{4} + 4 K^{3} x^{3} + 6 K^{2} x^{2} + 4 K x + 1}$"
      ],
      "text/plain": [
       "(4*K**4*x**4 + 12*K**3*x**3 + 12*K**2*x**2 + 4*K*x)/(K**4*x**4 + 4*K**3*x**3 + 6*K**2*x**2 + 4*K*x + 1)"
      ]
     },
     "execution_count": 55,
     "metadata": {},
     "output_type": "execute_result"
    }
   ],
   "source": [
    "n4"
   ]
  },
  {
   "cell_type": "code",
   "execution_count": 56,
   "id": "2ffade9e",
   "metadata": {},
   "outputs": [
    {
     "data": {
      "text/latex": [
       "$\\displaystyle \\frac{K x \\left(- 3 \\left(K^{2} x^{2} + 2 K x + 1\\right) \\left(K^{4} x^{4} + 4 K^{3} x^{3} + 6 K^{2} x^{2} + 4 K x + 1\\right) + 4 \\left(K^{3} x^{3} + 3 K^{2} x^{2} + 3 K x + 1\\right)^{2}\\right)}{\\left(K^{3} x^{3} + 3 K^{2} x^{2} + 3 K x + 1\\right) \\left(K^{4} x^{4} + 4 K^{3} x^{3} + 6 K^{2} x^{2} + 4 K x + 1\\right)}$"
      ],
      "text/plain": [
       "K*x*(-3*(K**2*x**2 + 2*K*x + 1)*(K**4*x**4 + 4*K**3*x**3 + 6*K**2*x**2 + 4*K*x + 1) + 4*(K**3*x**3 + 3*K**2*x**2 + 3*K*x + 1)**2)/((K**3*x**3 + 3*K**2*x**2 + 3*K*x + 1)*(K**4*x**4 + 4*K**3*x**3 + 6*K**2*x**2 + 4*K*x + 1))"
      ]
     },
     "execution_count": 56,
     "metadata": {},
     "output_type": "execute_result"
    }
   ],
   "source": [
    "sympy.together(n4-n3) #since the denominator is positive, we need to look at whether the numerator is also positive"
   ]
  },
  {
   "cell_type": "code",
   "execution_count": 57,
   "id": "37f7fa58",
   "metadata": {},
   "outputs": [
    {
     "data": {
      "text/latex": [
       "$\\displaystyle K x \\left(- 3 \\left(K^{2} x^{2} + 2 K x + 1\\right) \\left(K^{4} x^{4} + 4 K^{3} x^{3} + 6 K^{2} x^{2} + 4 K x + 1\\right) + 4 \\left(K^{3} x^{3} + 3 K^{2} x^{2} + 3 K x + 1\\right)^{2}\\right)$"
      ],
      "text/plain": [
       "K*x*(-3*(K**2*x**2 + 2*K*x + 1)*(K**4*x**4 + 4*K**3*x**3 + 6*K**2*x**2 + 4*K*x + 1) + 4*(K**3*x**3 + 3*K**2*x**2 + 3*K*x + 1)**2)"
      ]
     },
     "execution_count": 57,
     "metadata": {},
     "output_type": "execute_result"
    }
   ],
   "source": [
    "num,den=sympy.fraction(sympy.together(n4-n3))\n",
    "num"
   ]
  },
  {
   "cell_type": "code",
   "execution_count": 58,
   "id": "0854c4ad",
   "metadata": {},
   "outputs": [
    {
     "data": {
      "text/latex": [
       "$\\displaystyle K^{7} x^{7} + 6 K^{6} x^{6} + 15 K^{5} x^{5} + 20 K^{4} x^{4} + 15 K^{3} x^{3} + 6 K^{2} x^{2} + K x$"
      ],
      "text/plain": [
       "K**7*x**7 + 6*K**6*x**6 + 15*K**5*x**5 + 20*K**4*x**4 + 15*K**3*x**3 + 6*K**2*x**2 + K*x"
      ]
     },
     "execution_count": 58,
     "metadata": {},
     "output_type": "execute_result"
    }
   ],
   "source": [
    "sympy.expand(num)"
   ]
  },
  {
   "cell_type": "code",
   "execution_count": 60,
   "id": "ad375e00",
   "metadata": {},
   "outputs": [
    {
     "data": {
      "text/latex": [
       "$\\displaystyle \\frac{5 K^{5} x^{5} + 20 K^{4} x^{4} + 21 K^{3} x^{3} + 20 K^{2} x^{2} + 5 K x}{K^{5} x^{5} + 5 K^{4} x^{4} + 7 K^{3} x^{3} + 10 K^{2} x^{2} + 5 K x + 1}$"
      ],
      "text/plain": [
       "(5*K**5*x**5 + 20*K**4*x**4 + 21*K**3*x**3 + 20*K**2*x**2 + 5*K*x)/(K**5*x**5 + 5*K**4*x**4 + 7*K**3*x**3 + 10*K**2*x**2 + 5*K*x + 1)"
      ]
     },
     "execution_count": 60,
     "metadata": {},
     "output_type": "execute_result"
    }
   ],
   "source": [
    "n5"
   ]
  },
  {
   "cell_type": "code",
   "execution_count": 61,
   "id": "feb99b80",
   "metadata": {},
   "outputs": [
    {
     "data": {
      "text/latex": [
       "$\\displaystyle \\frac{K^{9} x^{9}}{K^{9} x^{9} + 9 K^{8} x^{8} + 33 K^{7} x^{7} + 72 K^{6} x^{6} + 108 K^{5} x^{5} + 114 K^{4} x^{4} + 81 K^{3} x^{3} + 36 K^{2} x^{2} + 9 K x + 1} + \\frac{8 K^{8} x^{8}}{K^{9} x^{9} + 9 K^{8} x^{8} + 33 K^{7} x^{7} + 72 K^{6} x^{6} + 108 K^{5} x^{5} + 114 K^{4} x^{4} + 81 K^{3} x^{3} + 36 K^{2} x^{2} + 9 K x + 1} + \\frac{31 K^{7} x^{7}}{K^{9} x^{9} + 9 K^{8} x^{8} + 33 K^{7} x^{7} + 72 K^{6} x^{6} + 108 K^{5} x^{5} + 114 K^{4} x^{4} + 81 K^{3} x^{3} + 36 K^{2} x^{2} + 9 K x + 1} + \\frac{56 K^{6} x^{6}}{K^{9} x^{9} + 9 K^{8} x^{8} + 33 K^{7} x^{7} + 72 K^{6} x^{6} + 108 K^{5} x^{5} + 114 K^{4} x^{4} + 81 K^{3} x^{3} + 36 K^{2} x^{2} + 9 K x + 1} + \\frac{52 K^{5} x^{5}}{K^{9} x^{9} + 9 K^{8} x^{8} + 33 K^{7} x^{7} + 72 K^{6} x^{6} + 108 K^{5} x^{5} + 114 K^{4} x^{4} + 81 K^{3} x^{3} + 36 K^{2} x^{2} + 9 K x + 1} + \\frac{32 K^{4} x^{4}}{K^{9} x^{9} + 9 K^{8} x^{8} + 33 K^{7} x^{7} + 72 K^{6} x^{6} + 108 K^{5} x^{5} + 114 K^{4} x^{4} + 81 K^{3} x^{3} + 36 K^{2} x^{2} + 9 K x + 1} + \\frac{19 K^{3} x^{3}}{K^{9} x^{9} + 9 K^{8} x^{8} + 33 K^{7} x^{7} + 72 K^{6} x^{6} + 108 K^{5} x^{5} + 114 K^{4} x^{4} + 81 K^{3} x^{3} + 36 K^{2} x^{2} + 9 K x + 1} + \\frac{8 K^{2} x^{2}}{K^{9} x^{9} + 9 K^{8} x^{8} + 33 K^{7} x^{7} + 72 K^{6} x^{6} + 108 K^{5} x^{5} + 114 K^{4} x^{4} + 81 K^{3} x^{3} + 36 K^{2} x^{2} + 9 K x + 1} + \\frac{K x}{K^{9} x^{9} + 9 K^{8} x^{8} + 33 K^{7} x^{7} + 72 K^{6} x^{6} + 108 K^{5} x^{5} + 114 K^{4} x^{4} + 81 K^{3} x^{3} + 36 K^{2} x^{2} + 9 K x + 1}$"
      ],
      "text/plain": [
       "K**9*x**9/(K**9*x**9 + 9*K**8*x**8 + 33*K**7*x**7 + 72*K**6*x**6 + 108*K**5*x**5 + 114*K**4*x**4 + 81*K**3*x**3 + 36*K**2*x**2 + 9*K*x + 1) + 8*K**8*x**8/(K**9*x**9 + 9*K**8*x**8 + 33*K**7*x**7 + 72*K**6*x**6 + 108*K**5*x**5 + 114*K**4*x**4 + 81*K**3*x**3 + 36*K**2*x**2 + 9*K*x + 1) + 31*K**7*x**7/(K**9*x**9 + 9*K**8*x**8 + 33*K**7*x**7 + 72*K**6*x**6 + 108*K**5*x**5 + 114*K**4*x**4 + 81*K**3*x**3 + 36*K**2*x**2 + 9*K*x + 1) + 56*K**6*x**6/(K**9*x**9 + 9*K**8*x**8 + 33*K**7*x**7 + 72*K**6*x**6 + 108*K**5*x**5 + 114*K**4*x**4 + 81*K**3*x**3 + 36*K**2*x**2 + 9*K*x + 1) + 52*K**5*x**5/(K**9*x**9 + 9*K**8*x**8 + 33*K**7*x**7 + 72*K**6*x**6 + 108*K**5*x**5 + 114*K**4*x**4 + 81*K**3*x**3 + 36*K**2*x**2 + 9*K*x + 1) + 32*K**4*x**4/(K**9*x**9 + 9*K**8*x**8 + 33*K**7*x**7 + 72*K**6*x**6 + 108*K**5*x**5 + 114*K**4*x**4 + 81*K**3*x**3 + 36*K**2*x**2 + 9*K*x + 1) + 19*K**3*x**3/(K**9*x**9 + 9*K**8*x**8 + 33*K**7*x**7 + 72*K**6*x**6 + 108*K**5*x**5 + 114*K**4*x**4 + 81*K**3*x**3 + 36*K**2*x**2 + 9*K*x + 1) + 8*K**2*x**2/(K**9*x**9 + 9*K**8*x**8 + 33*K**7*x**7 + 72*K**6*x**6 + 108*K**5*x**5 + 114*K**4*x**4 + 81*K**3*x**3 + 36*K**2*x**2 + 9*K*x + 1) + K*x/(K**9*x**9 + 9*K**8*x**8 + 33*K**7*x**7 + 72*K**6*x**6 + 108*K**5*x**5 + 114*K**4*x**4 + 81*K**3*x**3 + 36*K**2*x**2 + 9*K*x + 1)"
      ]
     },
     "execution_count": 61,
     "metadata": {},
     "output_type": "execute_result"
    }
   ],
   "source": [
    "sympy.expand(sympy.together(n5-n4)) "
   ]
  },
  {
   "cell_type": "code",
   "execution_count": 66,
   "id": "e8d0572f",
   "metadata": {},
   "outputs": [],
   "source": [
    "j,s=sympy.symbols(\"j,s\")"
   ]
  },
  {
   "cell_type": "code",
   "execution_count": 80,
   "id": "5b16ca37",
   "metadata": {},
   "outputs": [],
   "source": [
    "num_s = sympy.Sum(j*sympy.binomial(n,j)*(K*x)**j,(j,1,n))\n",
    "den_s=1+sympy.Sum(sympy.binomial(n,j)*(K*x)**j,(j,1,n))\n",
    "\n",
    "num_splus1 = sympy.Sum(j*sympy.binomial(n+1,j)*(K*x)**j,(j,1,n+1))\n",
    "den_splus1=1+sympy.Sum(sympy.binomial(n+1,j)*(K*x)**j,(j,1,n+1))\n",
    "                "
   ]
  },
  {
   "cell_type": "code",
   "execution_count": 82,
   "id": "0bb3d80c",
   "metadata": {},
   "outputs": [
    {
     "data": {
      "text/latex": [
       "$\\displaystyle \\left(\\sum_{j=1}^{n} K^{j} x^{j} {\\binom{n}{j}}\\right) \\sum_{j=1}^{n + 1} K^{j} j x^{j} {\\binom{n + 1}{j}} - \\left(\\sum_{j=1}^{n + 1} K^{j} x^{j} {\\binom{n + 1}{j}}\\right) \\sum_{j=1}^{n} K^{j} j x^{j} {\\binom{n}{j}} - \\sum_{j=1}^{n} K^{j} j x^{j} {\\binom{n}{j}} + \\sum_{j=1}^{n + 1} K^{j} j x^{j} {\\binom{n + 1}{j}}$"
      ],
      "text/plain": [
       "Sum(K**j*x**j*binomial(n, j), (j, 1, n))*Sum(K**j*j*x**j*binomial(n + 1, j), (j, 1, n + 1)) - Sum(K**j*x**j*binomial(n + 1, j), (j, 1, n + 1))*Sum(K**j*j*x**j*binomial(n, j), (j, 1, n)) - Sum(K**j*j*x**j*binomial(n, j), (j, 1, n)) + Sum(K**j*j*x**j*binomial(n + 1, j), (j, 1, n + 1))"
      ]
     },
     "execution_count": 82,
     "metadata": {},
     "output_type": "execute_result"
    }
   ],
   "source": [
    "sympy.expand(num_splus1*den_s-num_s*den_splus1)"
   ]
  },
  {
   "cell_type": "code",
   "execution_count": 77,
   "id": "dce75e7a",
   "metadata": {},
   "outputs": [
    {
     "data": {
      "text/latex": [
       "$\\displaystyle 1$"
      ],
      "text/plain": [
       "1"
      ]
     },
     "execution_count": 77,
     "metadata": {},
     "output_type": "execute_result"
    }
   ],
   "source": []
  },
  {
   "cell_type": "code",
   "execution_count": null,
   "id": "b9fafb6e",
   "metadata": {},
   "outputs": [],
   "source": []
  }
 ],
 "metadata": {
  "kernelspec": {
   "display_name": "Python 3 (ipykernel)",
   "language": "python",
   "name": "python3"
  },
  "language_info": {
   "codemirror_mode": {
    "name": "ipython",
    "version": 3
   },
   "file_extension": ".py",
   "mimetype": "text/x-python",
   "name": "python",
   "nbconvert_exporter": "python",
   "pygments_lexer": "ipython3",
   "version": "3.10.8"
  }
 },
 "nbformat": 4,
 "nbformat_minor": 5
}
