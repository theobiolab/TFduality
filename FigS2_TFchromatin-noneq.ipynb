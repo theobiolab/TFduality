{
 "cells": [
  {
   "cell_type": "markdown",
   "metadata": {},
   "source": []
  },
  {
   "cell_type": "code",
   "execution_count": 1,
   "metadata": {},
   "outputs": [],
   "source": [
    "import re, sys, os\n",
    "import numpy as np\n",
    "sys.path.append(\"./bin\")\n",
    "import matplotlib.pyplot as plt\n",
    "from functools import partial\n",
    "import pandas as pd\n",
    "from matplotlib import colors\n",
    "import matplotlib\n",
    "import twoconf_x_P_higherac"
   ]
  },
  {
   "cell_type": "code",
   "execution_count": 2,
   "metadata": {},
   "outputs": [],
   "source": [
    "instance=twoconf_x_P_higherac.GRFCalculations_100_100_15()\n",
    "othervars=np.array([0])"
   ]
  },
  {
   "cell_type": "code",
   "execution_count": 3,
   "metadata": {},
   "outputs": [
    {
     "ename": "SyntaxError",
     "evalue": "invalid syntax (<ipython-input-3-758a45f58f1e>, line 19)",
     "output_type": "error",
     "traceback": [
      "\u001b[0;36m  File \u001b[0;32m\"<ipython-input-3-758a45f58f1e>\"\u001b[0;36m, line \u001b[0;32m19\u001b[0m\n\u001b[0;31m    konx*alpha_c/(kbx*alpha)=1. If alpha=1: alpha_c=kbx/konx\u001b[0m\n\u001b[0m                                ^\u001b[0m\n\u001b[0;31mSyntaxError\u001b[0m\u001b[0;31m:\u001b[0m invalid syntax\n"
     ]
    }
   ],
   "source": [
    "#Cycle conditions- do not execute this cell\n",
    "#closed conf\n",
    "ax_0_0*aP_x_0*bx_xP_0*bP_P_0=aP_0_0*ax_P_0*bP_xP_0*bx_x_0\n",
    "#if cooperativity affects unbinding only\n",
    "ax_0_0*aP_0_0*bx_x_0/w1*bP_P_0=aP_0_0*ax_0_0*bP_P_0/w1*bx_x_0\n",
    "\n",
    "\n",
    "#open conf\n",
    "ax_0_1*aP_x_1*bx_xP_1*bP_P_1=aP_0_1*ax_P_1*bP_xP_1*bx_x_1 \n",
    "#if cooperativity affects unbinding only\n",
    "ax_0_1*aP_0_1*bx_x_1/w2*bP_P_1=aP_0_1*ax_0_1*bP_P_1/w2*bx_x_1 \n",
    "\n",
    "\n",
    "#horizontal 1\n",
    "kopen0*ax_0_1*kclosex*bx_x_0=ax_x_0*kopenx*bx_x_1*kclose0\n",
    "#in terms of basal and closed\n",
    "kopen0*konx*ax*alpha_c*kclose0*bx=ax*alpha*kopen0*kbx*bx*kclose0\n",
    "konx*alpha_c=alpha*kbx\n",
    "konx*alpha_c/(kbx*alpha)=1. If alpha=1: alpha_c=kbx/konx\n",
    "    \n",
    "#horizontal 2\n",
    "kopen0*aP_0_1*kcloseP*bP_P_0=aP_P_0*kopenP*bP_P_1*kclose0\n",
    "#in terms of basal and closed\n",
    "kopen0*aP*konP*kclose0*beta*bP=aP*kopen0*beta_o*bP*beta*kclose0\n",
    "konP=beta_o to maintain detailed balance. \n",
    "\n",
    "#horizontal 3\n",
    "alpha*kopen0*aP_x_1*kclosexP*bP_xP_0=aP_x_0*alpha2*kopen0*bP_xP_1*alpha_c*kclose0\n",
    "alpha*aP_x_1*kclosexP*bP_xP_0=aP_x_0*alpha2*bP_xP_1*kclosex\n",
    "\n",
    "#horizontal 4\n",
    "kopen0*beta_o*ax_P_1*kclosexP*bx_xP_0=ax_P_0*alpha2*kopen0*bx_xP_1*kclose0*beta\n",
    "beta_o*ax_P_1*kclosexP*bx_xP_0=ax_P_0*alpha2*bx_xP_1*kclose0*beta\n",
    "\n",
    "\n",
    "#Note that imposing detailed balance on the cycles involves many constraints\n",
    "\n",
    "\n"
   ]
  },
  {
   "cell_type": "code",
   "execution_count": 3,
   "metadata": {},
   "outputs": [],
   "source": [
    "def getparset(pars):\n",
    "    ax_0_0,bx_x_0,aP_0_0,bP_P_0,kopen0,kclose0,alpha,beta,gamma,w,kbx=pars\n",
    "    \n",
    "    ax_P_0=ax_0_0\n",
    "    bx_xP_0=bx_x_0/w\n",
    "    \n",
    "    aP_x_0=aP_0_0\n",
    "    bP_xP_0=bP_P_0/w\n",
    "    \n",
    "    \n",
    "    ax_0_1=ax_0_0 #G on rate is the same in both conformations\n",
    "    bx_x_1=bx_x_0*kbx\n",
    "    aP_0_1=aP_0_0 #P on rate is the same\n",
    "    bP_P_1=bP_P_0*beta #<1 #off-rate changes\n",
    "    \n",
    "    \n",
    "    aP_x_1=aP_0_1\n",
    "    bP_xP_1=bP_P_1/(w*gamma)\n",
    "    \n",
    "    ax_P_1=ax_0_1\n",
    "    bx_xP_1=bx_x_1/(w*gamma)\n",
    "\n",
    "\n",
    "    kopenx=alpha*kopen0 #>1\n",
    "    kclosex=kclose0\n",
    "    kopenP=kopen0\n",
    "    kcloseP=kclose0*beta #<1\n",
    "    kopenxP=kopenx\n",
    "    #deltaG=kcloseG-kclose0\n",
    "    #deltaP=kcloseP-kclose0\n",
    "    kclosexP=kclose0*beta/gamma\n",
    "\n",
    "\n",
    "    parset=[ax_0_0,ax_0_1,bx_x_0,bx_x_1,aP_0_0,aP_0_1,bP_P_0,bP_P_1,aP_x_0,aP_x_1,bP_xP_0,bP_xP_1,ax_P_0,ax_P_1,bx_xP_0,bx_xP_1,kopen0,kclose0,kopenx,kclosex,kopenP,kcloseP,kopenxP,kclosexP]\n",
    "    return parset\n",
    "\n",
    "\n",
    "def plot_parset(pars,qs,title=None,widerange=False,color=\"k\",text=None,figname=None, xrange=None, xticks=None):\n",
    "    if xrange:\n",
    "        xvals=np.logspace(xrange[0],xrange[1],100)\n",
    "    else:\n",
    "        xvals=np.logspace(-1.,1.,200)\n",
    "    \n",
    "    values=np.zeros(len(xvals))\n",
    "    #accessibilities=np.zeros(len(xvals))\n",
    "    xval=0\n",
    "    parset=getparset(pars)\n",
    "    parset=np.concatenate((parset,qs))\n",
    "    print(parset)\n",
    "    instance.fill_num_den(parset,othervars)\n",
    "    expr0=instance.interfaceGRF(xval)\n",
    "    print(\"expr0\", expr0)\n",
    "   \n",
    "\n",
    "    for x_,xval in enumerate(xvals):\n",
    "        expr=instance.interfaceGRF(xval)\n",
    "        \n",
    "        values[x_]=expr/expr0\n",
    "        #accessibilities[x_]=acc/acc0\n",
    "    fig,ax=plt.subplots(1,1,figsize=(1.8,1.35))\n",
    "    ax.plot(xvals,values,color=color,linewidth=2)\n",
    "    ax.set_xscale('log')\n",
    "    ax.set_xlabel(r\"x\",size=14)\n",
    "    ax.set_ylabel('F(x)',size=14)\n",
    "    ax.axhline(y=1,linestyle=\"--\",color=\"gray\")\n",
    "    ax.spines[['right', 'top']].set_visible(False)\n",
    "    if xticks:\n",
    "        ax.set_xticks(xticks)\n",
    "        ax.get_xaxis().set_major_formatter(matplotlib.ticker.ScalarFormatter())\n",
    "\n",
    "\n",
    "    if title is not None:\n",
    "        ax.set_title(title)\n",
    "    if text is not None:\n",
    "        ax.text(0.8,0.8,text,transform=ax.transAxes)\n",
    "    #plt.tight_layout()\n",
    "    if figname is not None:\n",
    "        plt.savefig(figname,bbox_inches=\"tight\")\n",
    "    plt.show()\n",
    "    \n",
    "def plot_parset_bx(pars,qs,xval,title=None,color=\"k\",text=None,figname=None,bTrange=None):\n",
    "    \n",
    "    if bTrange:\n",
    "        bxvals=np.logspace(bTrange[0],bTrange[1],200)\n",
    "    else:\n",
    "        bxvals=np.logspace(-1,1,200)\n",
    "    values=np.zeros(len(bxvals))\n",
    "    \n",
    "    \n",
    "    #acc0=np.sum(Ps[4:])\n",
    "\n",
    "    for x_,bxval in enumerate(bxvals):\n",
    "        pars2=pars.copy()\n",
    "        pars2[1]=bxval\n",
    "        parset=getparset(pars2)\n",
    "        parset=np.concatenate((parset,qs))\n",
    "        instance.fill_num_den(parset,othervars)\n",
    "        expr=instance.interfaceGRF(xval)\n",
    "        expr0=instance.interfaceGRF(0)\n",
    "        values[x_]=expr/expr0\n",
    "    fig,ax=plt.subplots(1,1,figsize=(1.8,1.35))\n",
    "    ax.plot(bxvals,values,color=color,linewidth=2)\n",
    "    ax.set_xscale('log')\n",
    "    ax.set_xlabel(r\"$b_T$\",size=14)\n",
    "    #ax.set_ylabel('fold change ($F(x)$)',size=14)\n",
    "    ax.axhline(y=1,linestyle=\"--\",color=\"gray\")\n",
    "    ax.spines[['right', 'top']].set_visible(False)\n",
    "\n",
    "    if title is not None:\n",
    "        ax.set_title(title)\n",
    "    if text is not None:\n",
    "        ax.text(0.15,0.8,text,transform=ax.transAxes)\n",
    "    #plt.tight_layout()\n",
    "    if figname is not None:\n",
    "        plt.savefig(figname,bbox_inches=\"tight\")\n",
    "    plt.show()"
   ]
  },
  {
   "cell_type": "code",
   "execution_count": 4,
   "metadata": {},
   "outputs": [],
   "source": [
    "figsfolder=\"./figscode\""
   ]
  },
  {
   "cell_type": "code",
   "execution_count": 5,
   "metadata": {},
   "outputs": [],
   "source": [
    "kbx=1 #we consider x doesn't change binding in closed/open\n",
    "ax=0.1\n",
    "bx=1\n",
    "aP_0_0=0.1\n",
    "bP_P_0=100\n",
    "kopen0=0.01\n",
    "kclose0=0.5\n",
    "beta=0.02\n",
    "gamma=1"
   ]
  },
  {
   "cell_type": "code",
   "execution_count": 6,
   "metadata": {},
   "outputs": [
    {
     "name": "stdout",
     "output_type": "stream",
     "text": [
      "[1.e-01 1.e-01 1.e+00 1.e+00 1.e-01 1.e-01 1.e+02 2.e+00 1.e-01 1.e-01\n",
      " 1.e+01 2.e-01 1.e-01 1.e-01 1.e-01 1.e-01 1.e-02 5.e-01 5.e-02 5.e-01\n",
      " 1.e-02 1.e-02 5.e-02 1.e-02 1.e+00 1.e+00 1.e+00 1.e+00]\n",
      "expr0 0.0019569471624266157\n"
     ]
    },
    {
     "data": {
      "image/png": "[encoded data removed]",
      "text/plain": [
       "<Figure size 129.6x97.2 with 1 Axes>"
      ]
     },
     "metadata": {
      "needs_background": "light"
     },
     "output_type": "display_data"
    }
   ],
   "source": [
    "#Activation or repression as a function of alpha and w\n",
    "\n",
    "#Activation\n",
    "alpha=5\n",
    "w=10\n",
    "\n",
    "pars=np.array([ax,bx,aP_0_0,bP_P_0,kopen0,kclose0,alpha,beta,gamma,w,kbx])\n",
    "qs=[1,1,1,1]\n",
    "title=r\"$\\alpha=%2.2f,\\omega=%2.2f$\"%(alpha,w)\n",
    "plot_parset(pars,qs,title=title,figname=os.path.join(figsfolder,\"fig3Bup.pdf\"))\n",
    "#plot_parset(pars,qs,title=title,figname=None)"
   ]
  },
  {
   "cell_type": "code",
   "execution_count": 7,
   "metadata": {},
   "outputs": [
    {
     "name": "stdout",
     "output_type": "stream",
     "text": [
      "[1.e-01 1.e-01 1.e+00 1.e+00 1.e-01 1.e-01 1.e+02 2.e+00 1.e-01 1.e-01\n",
      " 1.e+04 2.e+02 1.e-01 1.e-01 1.e+02 1.e+02 1.e-02 5.e-01 5.e-03 5.e-01\n",
      " 1.e-02 1.e-02 5.e-03 1.e-02 1.e+00 1.e+00 1.e+00 1.e+00]\n",
      "expr0 0.0019569471624266144\n"
     ]
    },
    {
     "data": {
      "image/png": "[encoded data removed]",
      "text/plain": [
       "<Figure size 129.6x97.2 with 1 Axes>"
      ]
     },
     "metadata": {
      "needs_background": "light"
     },
     "output_type": "display_data"
    },
    {
     "name": "stdout",
     "output_type": "stream",
     "text": [
      "[1.e-01 1.e-01 1.e+00 1.e+00 1.e-01 1.e-01 1.e+02 2.e+00 1.e-01 1.e-01\n",
      " 1.e+03 2.e+01 1.e-01 1.e-01 1.e+01 1.e+01 1.e-02 5.e-01 5.e-02 5.e-01\n",
      " 1.e-02 1.e-02 5.e-02 1.e-02 1.e+00 1.e+00 1.e+00 1.e+00]\n",
      "expr0 0.001956947162426616\n"
     ]
    },
    {
     "data": {
      "image/png": "[encoded data removed]",
      "text/plain": [
       "<Figure size 129.6x97.2 with 1 Axes>"
      ]
     },
     "metadata": {
      "needs_background": "light"
     },
     "output_type": "display_data"
    }
   ],
   "source": [
    "#Repression\n",
    "alpha=0.5\n",
    "w=1/100\n",
    "pars=np.array([ax,bx,aP_0_0,bP_P_0,kopen0,kclose0,alpha,beta,gamma,w,kbx])\n",
    "qs=[1,1,1,1]\n",
    "title=r\"$\\alpha=%2.2f,\\omega=%2.2f$\"%(alpha,w)\n",
    "#plot_parset(pars,qs,title=title,figname=os.path.join(figsfolder,\"fig3Bdown.pdf\"))\n",
    "plot_parset(pars,qs,title=title,figname=None)\n",
    "#Nonmonotonic\n",
    "alpha=5\n",
    "w=1/10\n",
    "pars=np.array([ax,bx,aP_0_0,bP_P_0,kopen0,kclose0,alpha,beta,gamma,w,kbx])\n",
    "title=r\"$\\alpha=%2.2f,\\omega=%2.2f$\"%(alpha,w)\n",
    "#plot_parset(pars,qs,title=title)\n",
    "plot_parset(pars,qs,title=title,figname=None)"
   ]
  },
  {
   "cell_type": "code",
   "execution_count": 8,
   "metadata": {},
   "outputs": [],
   "source": [
    "kbx=1 #we consider x doesn't change binding in closed/open\n",
    "ax=0.025\n",
    "bx=1\n",
    "aP_0_0=0.01\n",
    "bP_P_0=100\n",
    "kopen0=0.01\n",
    "kclose0=0.25\n",
    "beta=0.01\n",
    "gamma=1\n",
    "\n",
    "alpha=50\n",
    "w=0.025"
   ]
  },
  {
   "cell_type": "code",
   "execution_count": 9,
   "metadata": {},
   "outputs": [
    {
     "name": "stdout",
     "output_type": "stream",
     "text": [
      "$\\alpha=50.00,\\omega=0.03$\n"
     ]
    },
    {
     "data": {
      "image/png": "[encoded data removed]",
      "text/plain": [
       "<Figure size 288x216 with 2 Axes>"
      ]
     },
     "metadata": {
      "needs_background": "light"
     },
     "output_type": "display_data"
    }
   ],
   "source": [
    "xvals=np.logspace(0,3,200)\n",
    "bxvals=np.logspace(-2,1,200)\n",
    "out=np.zeros((len(bxvals), len(xvals)))\n",
    "qs=[1,1,1,1]\n",
    "for b, bx in enumerate(bxvals):\n",
    "    pars=np.array([ax,bx,aP_0_0,bP_P_0,kopen0,kclose0,alpha,beta,gamma,w,kbx])\n",
    "    \n",
    "    xval=0\n",
    "    parset=getparset(pars)\n",
    "    parset=np.concatenate((parset,qs))\n",
    "    instance.fill_num_den(parset,othervars)\n",
    "    expr0=instance.interfaceGRF(xval)\n",
    "    #acc0=np.sum(Ps[4:])\n",
    "\n",
    "    for x_,xval in enumerate(xvals):\n",
    "        expr=instance.interfaceGRF(xval)\n",
    "        out[b,x_]=expr/expr0\n",
    "        \n",
    "\n",
    "bxlist=[0.05,1,5]\n",
    "xlplot=[np.log10(5),np.log10(125)]\n",
    "bTlplot=[-1,0]\n",
    "xlist=[0.5,2]\n",
    "colors_bx=[\"#3d6020ff\",\"#75b04aff\",\"#3df4b3ff\"][::-1]\n",
    "fig,axplt=plt.subplots(1,1,figsize=(4,3)) \n",
    "#ar=np.ma.masked_array(out,mask=out<1)\n",
    "min_val_rounded=np.round(out.min(),1) #round minimum value to 1 decimal\n",
    "max_val_rounded=np.round(out.max(),0) #round max value to 0 decimals\n",
    "norm=colors.TwoSlopeNorm(vmin=min_val_rounded, vcenter=1., vmax=max_val_rounded)\n",
    "extent=[np.log10(xvals[0]),np.log10(xvals[-1]),np.log10(bxvals[0]),np.log10(bxvals[-1])]\n",
    "im=axplt.imshow(out,origin=\"lower\",norm=norm,cmap=plt.cm.RdBu_r,extent=extent)\n",
    "axplt.contour(out,extent=extent,levels=[1],linestyles=[\"--\"],colors=[\"gray\"])\n",
    "for b_,bx in enumerate(bxlist):\n",
    "#    print(bx)\n",
    "    axplt.plot(xlplot,[np.log10(bx),np.log10(bx)],linestyle=\"-\",color=colors_bx[b_],linewidth=2.)\n",
    "\n",
    "axplt.plot([xlist[0],xlist[0]],bTlplot,linestyle=\"-\",color=\"#484eadff\",linewidth=2.)\n",
    "axplt.plot([xlist[1],xlist[1]], bTlplot,linestyle=\"-\",color=\"#a474e5ff\",linewidth=2.)\n",
    "    #ax.axhline(y=np.log10(bG),)\n",
    "#ax.set_xscale('log')\n",
    "axplt.set_xticks([0,1,2,3])\n",
    "axplt.set_xticklabels([r\"$10^0$\",r\"$10^1$\",r\"$10^2$\",r\"$10^3$\"])\n",
    "axplt.set_yticks([-2,-1,0,1])\n",
    "axplt.set_yticklabels([r\"$10^{-2}$\",r\"$10^{-1}$\",r\"$10^0$\",r\"$10^1$\"])\n",
    "axplt.set_ylabel(\"TF unbinding rate\\n\"+r\"$b_T$\",size=14)\n",
    "axplt.set_xlabel(\"x\"+\"\\nTF concentration\",size=14)\n",
    "title=r\"$\\alpha=%2.2f,\\omega=%2.2f$\"%(alpha,w)\n",
    "print(title)\n",
    "#axplt.set_title(title)\n",
    "below_one=np.linspace(min_val_rounded,1,3)\n",
    "above_one=np.linspace(1,max_val_rounded,3)\n",
    "bounds=np.concatenate((below_one,above_one[1:]))\n",
    "plt.colorbar(im,ax=axplt,ticks=bounds)\n",
    "#ax.axhline(y=1,linestyle=\"--\",color=\"gray\")\n",
    "#if title is not None:\n",
    "#    ax.set_title(title)\n",
    "#plt.savefig(\"cmaptest.pdf\",bbox_inches=\"tight\")\n",
    "plt.tight_layout()\n",
    "plt.savefig(os.path.join(figsfolder,\"fig3C_cmap.svg\"),bbox_inches=\"tight\")\n",
    "plt.show()"
   ]
  },
  {
   "cell_type": "code",
   "execution_count": 10,
   "metadata": {},
   "outputs": [
    {
     "data": {
      "text/plain": [
       "0.0045000000000000005"
      ]
     },
     "execution_count": 10,
     "metadata": {},
     "output_type": "execute_result"
    }
   ],
   "source": [
    "0.27/60"
   ]
  },
  {
   "cell_type": "code",
   "execution_count": 11,
   "metadata": {},
   "outputs": [
    {
     "name": "stdout",
     "output_type": "stream",
     "text": [
      "$b_x=0.05$\n",
      "[2.5e-02 2.5e-02 5.0e-02 5.0e-02 1.0e-02 1.0e-02 1.0e+02 1.0e+00 1.0e-02\n",
      " 1.0e-02 4.0e+03 4.0e+01 2.5e-02 2.5e-02 2.0e+00 2.0e+00 1.0e-02 2.5e-01\n",
      " 5.0e-01 2.5e-01 1.0e-02 2.5e-03 5.0e-01 2.5e-03 1.0e+00 1.0e+00 1.0e+00\n",
      " 1.0e+00]\n",
      "expr0 0.0004805382027871216\n"
     ]
    },
    {
     "data": {
      "image/png": "[encoded data removed]",
      "text/plain": [
       "<Figure size 129.6x97.2 with 1 Axes>"
      ]
     },
     "metadata": {
      "needs_background": "light"
     },
     "output_type": "display_data"
    },
    {
     "name": "stdout",
     "output_type": "stream",
     "text": [
      "$b_x=1.00$\n",
      "[2.5e-02 2.5e-02 1.0e+00 1.0e+00 1.0e-02 1.0e-02 1.0e+02 1.0e+00 1.0e-02\n",
      " 1.0e-02 4.0e+03 4.0e+01 2.5e-02 2.5e-02 4.0e+01 4.0e+01 1.0e-02 2.5e-01\n",
      " 5.0e-01 2.5e-01 1.0e-02 2.5e-03 5.0e-01 2.5e-03 1.0e+00 1.0e+00 1.0e+00\n",
      " 1.0e+00]\n",
      "expr0 0.0004805382027871216\n"
     ]
    },
    {
     "data": {
      "image/png": "[encoded data removed]",
      "text/plain": [
       "<Figure size 129.6x97.2 with 1 Axes>"
      ]
     },
     "metadata": {
      "needs_background": "light"
     },
     "output_type": "display_data"
    },
    {
     "name": "stdout",
     "output_type": "stream",
     "text": [
      "$b_x=5.00$\n",
      "[2.5e-02 2.5e-02 5.0e+00 5.0e+00 1.0e-02 1.0e-02 1.0e+02 1.0e+00 1.0e-02\n",
      " 1.0e-02 4.0e+03 4.0e+01 2.5e-02 2.5e-02 2.0e+02 2.0e+02 1.0e-02 2.5e-01\n",
      " 5.0e-01 2.5e-01 1.0e-02 2.5e-03 5.0e-01 2.5e-03 1.0e+00 1.0e+00 1.0e+00\n",
      " 1.0e+00]\n",
      "expr0 0.0004805382027871215\n"
     ]
    },
    {
     "data": {
      "image/png": "[encoded data removed]",
      "text/plain": [
       "<Figure size 129.6x97.2 with 1 Axes>"
      ]
     },
     "metadata": {
      "needs_background": "light"
     },
     "output_type": "display_data"
    }
   ],
   "source": [
    "text_labels=[\"iii\",\"ii\",\"i\"]\n",
    "for b_,bx in enumerate(bxlist):\n",
    "    pars=np.array([ax,bx,aP_0_0,bP_P_0,kopen0,kclose0,alpha,beta,gamma,w,kbx])\n",
    "    #title=r\"$\\alpha=%2.2f,\\omega=%2.2f,b_x=%2.2f$\"%(alpha,w,bG)\n",
    "    title=r\"$b_x=%2.2f$\"%(bx)\n",
    "    print(title)\n",
    "    plot_parset(pars,qs,title=None,color=colors_bx[b_],text=text_labels[b_],figname=os.path.join(figsfolder,\"fig3C_panel%s.svg\"%text_labels[b_]),xrange=xlplot)\n",
    "    #plot_parset(pars,qs,title=title,color=colors_bx[b_],text=text_labels[b_],figname=None)\n"
   ]
  },
  {
   "cell_type": "code",
   "execution_count": 12,
   "metadata": {},
   "outputs": [
    {
     "name": "stdout",
     "output_type": "stream",
     "text": [
      "$x$=$0.50$\n"
     ]
    },
    {
     "data": {
      "image/png": "[encoded data removed]",
      "text/plain": [
       "<Figure size 129.6x97.2 with 1 Axes>"
      ]
     },
     "metadata": {
      "needs_background": "light"
     },
     "output_type": "display_data"
    },
    {
     "name": "stdout",
     "output_type": "stream",
     "text": [
      "$x$=$2.00$\n"
     ]
    },
    {
     "data": {
      "image/png": "[encoded data removed]",
      "text/plain": [
       "<Figure size 129.6x97.2 with 1 Axes>"
      ]
     },
     "metadata": {
      "needs_background": "light"
     },
     "output_type": "display_data"
    }
   ],
   "source": [
    "#now as a function of bx\n",
    "\n",
    "pars=np.array([ax,bx,aP_0_0,bP_P_0,kopen0,kclose0,alpha,beta,gamma,w,kbx])\n",
    "text_labels=[\"iv\",\"v\"]\n",
    "colors_lines=[\"#484eadff\",\"#a474e5ff\"]\n",
    "for x_,x in enumerate(xlist):\n",
    "    title=r\"$x$=$%2.2f$\"%(x)\n",
    "    print(title)\n",
    "    plot_parset_bx(pars,qs,10**x,title=None,text=text_labels[x_],color=colors_lines[x_],bTrange=bTlplot,figname=os.path.join(figsfolder,\"fig3C_panel%s.svg\"%text_labels[x_]))\n",
    "    #plot_parset_bx(pars,qs,x,title=title,text=text_labels[x_],color=colors_lines[x_],figname=None)\n"
   ]
  },
  {
   "cell_type": "code",
   "execution_count": 65,
   "metadata": {},
   "outputs": [
    {
     "data": {
      "text/plain": [
       "-2.1249387366083"
      ]
     },
     "execution_count": 65,
     "metadata": {},
     "output_type": "execute_result"
    }
   ],
   "source": [
    "np.log10(0.0075)"
   ]
  },
  {
   "cell_type": "code",
   "execution_count": 72,
   "metadata": {},
   "outputs": [
    {
     "data": {
      "image/png": "[encoded data removed]",
      "text/plain": [
       "<Figure size 288x216 with 2 Axes>"
      ]
     },
     "metadata": {
      "needs_background": "light"
     },
     "output_type": "display_data"
    },
    {
     "name": "stdout",
     "output_type": "stream",
     "text": [
      "[2.50000000e-02 2.50000000e-02 7.50000000e-01 7.50000000e-01\n",
      " 1.00000000e-02 1.00000000e-02 1.00000000e+02 1.00000000e+00\n",
      " 1.00000000e-02 1.00000000e-02 4.00000000e+03 4.00000000e+01\n",
      " 2.50000000e-02 2.50000000e-02 3.00000000e+01 3.00000000e+01\n",
      " 1.00000000e-02 5.62341325e+00 5.00000000e-01 5.62341325e+00\n",
      " 1.00000000e-02 5.62341325e-02 5.00000000e-01 5.62341325e-02\n",
      " 1.00000000e+00 1.00000000e+00 1.00000000e+00 1.00000000e+00]\n",
      "expr0 0.00011755989323011293\n"
     ]
    },
    {
     "data": {
      "image/png": "[encoded data removed]",
      "text/plain": [
       "<Figure size 129.6x97.2 with 1 Axes>"
      ]
     },
     "metadata": {
      "needs_background": "light"
     },
     "output_type": "display_data"
    },
    {
     "name": "stdout",
     "output_type": "stream",
     "text": [
      "[2.50000000e-02 2.50000000e-02 7.50000000e-01 7.50000000e-01\n",
      " 1.00000000e-02 1.00000000e-02 1.00000000e+02 1.00000000e+00\n",
      " 1.00000000e-02 1.00000000e-02 4.00000000e+03 4.00000000e+01\n",
      " 2.50000000e-02 2.50000000e-02 3.00000000e+01 3.00000000e+01\n",
      " 1.00000000e-02 7.94328235e-02 5.00000000e-01 7.94328235e-02\n",
      " 1.00000000e-02 7.94328235e-04 5.00000000e-01 7.94328235e-04\n",
      " 1.00000000e+00 1.00000000e+00 1.00000000e+00 1.00000000e+00]\n",
      "expr0 0.0012055210856398663\n"
     ]
    },
    {
     "data": {
      "image/png": "[encoded data removed]",
      "text/plain": [
       "<Figure size 129.6x97.2 with 1 Axes>"
      ]
     },
     "metadata": {
      "needs_background": "light"
     },
     "output_type": "display_data"
    },
    {
     "name": "stdout",
     "output_type": "stream",
     "text": [
      "[2.5e-02 2.5e-02 7.5e-01 7.5e-01 1.0e-02 1.0e-02 1.0e+02 1.0e+00 1.0e-02\n",
      " 1.0e-02 4.0e+03 4.0e+01 2.5e-02 2.5e-02 3.0e+01 3.0e+01 1.0e-02 1.5e-02\n",
      " 5.0e-01 1.5e-02 1.0e-02 1.5e-04 5.0e-01 1.5e-04 1.0e+00 1.0e+00 1.0e+00\n",
      " 1.0e+00]\n",
      "expr0 0.004043583052805609\n"
     ]
    },
    {
     "data": {
      "image/png": "[encoded data removed]",
      "text/plain": [
       "<Figure size 129.6x97.2 with 1 Axes>"
      ]
     },
     "metadata": {
      "needs_background": "light"
     },
     "output_type": "display_data"
    }
   ],
   "source": [
    "#Fig S2C\n",
    "#as a function of kclose\n",
    "bx=0.75 #increasing bx moves the maximum in the middle region towards the right\n",
    "xvals=np.logspace(0,3,100)\n",
    "kclosevals=np.logspace(np.log10(0.01),np.log10(10),100)\n",
    "\n",
    "out=np.zeros((len(kclosevals), len(xvals)))\n",
    "\n",
    "for k, kclose0 in enumerate(kclosevals):\n",
    "    pars=np.array([ax,bx,aP_0_0,bP_P_0,kopen0,kclose0,alpha,beta,gamma,w,kbx])\n",
    "\n",
    "    xval=0\n",
    "    parset=getparset(pars)\n",
    "    parset=np.concatenate((parset,qs))\n",
    "    instance.fill_num_den(parset,othervars)\n",
    "    expr0=instance.interfaceGRF(xval)\n",
    "\n",
    "    for x_,xval in enumerate(xvals):\n",
    "        expr=instance.interfaceGRF(xval)\n",
    "        out[k,x_]=expr/expr0\n",
    "\n",
    "kcloselist=[10**0.75,10**(-1.1),0.015]\n",
    "xlplot=[np.log10(2),np.log10(30)]\n",
    "xticks=[2,40]\n",
    "fig,axplt=plt.subplots(1,1,figsize=(4,3)) \n",
    "#ar=np.ma.masked_array(out,mask=out<1)\n",
    "min_val_rounded=np.round(out.min(),1) #round minimum value to 1 decimal\n",
    "max_val_rounded=np.round(out.max(),0) #round max value to 0 decimals\n",
    "norm=colors.TwoSlopeNorm(vmin=min_val_rounded, vcenter=1., vmax=max_val_rounded)\n",
    "extent=[np.log10(xvals[0]),np.log10(xvals[-1]),np.log10(kclosevals[0]),np.log10(kclosevals[-1])]\n",
    "im=axplt.imshow(out,origin=\"lower\",norm=norm,cmap=plt.cm.RdBu_r,extent=extent)\n",
    "axplt.contour(out,extent=extent,levels=[1],linestyles=[\"--\"],colors=[\"gray\"])\n",
    "colors_kc=[\"red\",\"navy\",\"magenta\"]\n",
    "for k_,kc in enumerate(kcloselist):\n",
    "#    print(kc)\n",
    "    axplt.plot(xlplot,[np.log10(kc),np.log10(kc)],linestyle=\"-\",color=colors_kc[k_])\n",
    "\n",
    "    #ax.axhline(y=np.log10(bG),)\n",
    "#ax.set_xscale('log')\n",
    "axplt.set_ylabel(r\"$k_c$\",size=14)\n",
    "axplt.set_xlabel(r\"$x$\",size=14)\n",
    "axplt.set_title(r\"$\\alpha=%g,\\omega=%g$\"%(alpha,w))\n",
    "axplt.set_xticks([0,1,2,3])\n",
    "axplt.set_xticklabels([r\"$10^0$\",r\"$10^1$\",r\"$10^2$\",r\"$10^3$\"])\n",
    "axplt.set_yticks([-2,-1,0,1])\n",
    "axplt.set_yticklabels([r\"$10^{-2}$\",r\"$10^{-1}$\",r\"$10^0$\",r\"$10^1$\"])\n",
    "below_one=np.linspace(min_val_rounded,1,3)\n",
    "above_one=np.linspace(1,max_val_rounded,3)\n",
    "bounds=np.concatenate((below_one,above_one[1:]))\n",
    "plt.colorbar(im,label=\"Fold change ($F(x)$)\",ax=axplt,ticks=bounds)\n",
    "#ax.axhline(y=1,linestyle=\"--\",color=\"gray\")\n",
    "#if title is not None:\n",
    "#    ax.set_title(title)\n",
    "plt.savefig(os.path.join(figsfolder,\"figS2Acmap.svg\"))\n",
    "plt.tight_layout()\n",
    "plt.show()\n",
    "for k_,k_close_ in enumerate(kcloselist):\n",
    "    pars=np.array([ax,bx,aP_0_0,bP_P_0,kopen0,k_close_,alpha,beta,gamma,w,kbx])\n",
    "    title=r\"$k_c=%2.3f$\"%(k_close_)\n",
    "    plot_parset(pars,qs,title=None,color=colors_kc[k_],figname=os.path.join(figsfolder,\"figS2A_%d.svg\"%k_),xrange=xlplot,xticks=xticks)\n",
    "    #plot_parset(pars,qs,title=title,color=colors_kc[k_],figname=None)"
   ]
  },
  {
   "cell_type": "code",
   "execution_count": null,
   "metadata": {},
   "outputs": [],
   "source": []
  }
 ],
 "metadata": {
  "kernelspec": {
   "display_name": "Python 3 (ipykernel)",
   "language": "python",
   "name": "python3"
  },
  "language_info": {
   "codemirror_mode": {
    "name": "ipython",
    "version": 3
   },
   "file_extension": ".py",
   "mimetype": "text/x-python",
   "name": "python",
   "nbconvert_exporter": "python",
   "pygments_lexer": "ipython3",
   "version": "3.10.8"
  },
  "nbTranslate": {
   "displayLangs": [
    "*"
   ],
   "hotkey": "alt-t",
   "langInMainMenu": true,
   "sourceLang": "en",
   "targetLang": "fr",
   "useGoogleTranslate": true
  },
  "toc": {
   "base_numbering": 1,
   "nav_menu": {},
   "number_sections": true,
   "sideBar": true,
   "skip_h1_title": false,
   "title_cell": "Table of Contents",
   "title_sidebar": "Contents",
   "toc_cell": false,
   "toc_position": {},
   "toc_section_display": true,
   "toc_window_display": false
  }
 },
 "nbformat": 4,
 "nbformat_minor": 4
}
