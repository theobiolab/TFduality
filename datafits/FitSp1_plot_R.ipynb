{
 "cells": [
  {
   "cell_type": "code",
   "execution_count": 1,
   "id": "22f9dc22",
   "metadata": {},
   "outputs": [],
   "source": [
    "library(reshape)\n",
    "library(ggplot2)\n",
    "library(scales)  \n",
    "# Needed for the squish function"
   ]
  },
  {
   "cell_type": "code",
   "execution_count": 2,
   "id": "36153c5f",
   "metadata": {},
   "outputs": [],
   "source": [
    "datamodel<-read.csv(\"./2025_01_fit_Sp1_MPRA_fromSeq.csv\")\n",
    "data<-read.csv(\"./expdata/MPRA/SuppData.csv\")\n",
    "data <- data[, c(\"ID\",\"Number.of.Sp1.binding.sites\", \"Affinity.group\",\"Mean\")]\n",
    "names(data) <- c(\"ID\",\"nrepeats\",\"affinity\",\"datap\")\n",
    "df=merge(data,datamodel,by=c(\"nrepeats\",\"affinity\"))"
   ]
  },
  {
   "cell_type": "code",
   "execution_count": 9,
   "id": "3bac097a",
   "metadata": {},
   "outputs": [
    {
     "name": "stderr",
     "output_type": "stream",
     "text": [
      "`geom_smooth()` using method = 'loess' and formula 'y ~ x'\n",
      "\n",
      "`geom_smooth()` using method = 'loess' and formula 'y ~ x'\n",
      "\n",
      "`geom_smooth()` using method = 'loess' and formula 'y ~ x'\n",
      "\n"
     ]
    },
    {
     "data": {
      "text/html": [
       "<strong>pdf:</strong> 2"
      ],
      "text/latex": [
       "\\textbf{pdf:} 2"
      ],
      "text/markdown": [
       "**pdf:** 2"
      ],
      "text/plain": [
       "pdf \n",
       "  2 "
      ]
     },
     "metadata": {},
     "output_type": "display_data"
    }
   ],
   "source": [
    "#myplot<-ggplot(df, aes(x = nrepeats, y = datap)) + facet_wrap(~as.factor(affinity), nrow=1) + geom_point() + geom_smooth( span=1) \n",
    "#pdf(\"fit.pdf\",width=7,height=2)\n",
    "#Lars uses 1.5 span\n",
    "y_breaks <- seq(-1, 0.7, by = 0.5)  # Adjust spacing as needed\n",
    "\n",
    "# Modify last tick to indicate it includes higher/lower values\n",
    "y_labels <- as.character(y_breaks)\n",
    "y_labels <- c(y_labels, \">=  0.7\")  # Add highest tick\n",
    "y_breaks <- c(y_breaks, 0.7)\n",
    "y_labels[1] <- paste(\"<=\", y_labels[1])  # Modify lowest tick \n",
    "\n",
    "\n",
    "span=1.5\n",
    "options(repr.plot.width=7*1.2, repr.plot.height=2*1.2)\n",
    "pdf(\"fit.pdf\",width=7,height=2)\n",
    "print(ggplot() + geom_smooth(data=df, aes(x = nrepeats, y = datap, linetype=\"data\"), span=span, color=\"black\")) + \n",
    "geom_point(data=df, aes(x = nrepeats, y = datap), size=0.25) + \n",
    "geom_smooth(data=df, aes(x=nrepeats,y=model,linetype=\"model\"), span=span, color=\"black\") +\n",
    "facet_wrap(~as.factor(affinity),nrow=1) + theme_bw() + theme(panel.grid = element_blank()) +\n",
    "scale_y_continuous(limits = c(-1, 0.7), oob = squish, breaks = y_breaks, labels = y_labels) +\n",
    "scale_size_area(max_size = 0.75)+\n",
    "xlab(\"Numer of binding sites\") + ylab(\"Normalised activity\\n (ln(fold change))\") +\n",
    "scale_linetype_manual(name = \"\", values = c(\"data\" = \"solid\", \"model\" = \"twodash\")) \n",
    "dev.off()\n"
   ]
  },
  {
   "cell_type": "code",
   "execution_count": 12,
   "id": "1cd46709",
   "metadata": {},
   "outputs": [
    {
     "name": "stderr",
     "output_type": "stream",
     "text": [
      "`geom_smooth()` using method = 'loess' and formula 'y ~ x'\n",
      "\n",
      "`geom_smooth()` using method = 'loess' and formula 'y ~ x'\n",
      "\n"
     ]
    },
    {
     "data": {
      "text/html": [
       "<strong>pdf:</strong> 2"
      ],
      "text/latex": [
       "\\textbf{pdf:} 2"
      ],
      "text/markdown": [
       "**pdf:** 2"
      ],
      "text/plain": [
       "pdf \n",
       "  2 "
      ]
     },
     "metadata": {},
     "output_type": "display_data"
    }
   ],
   "source": [
    "#myplot<-ggplot(df, aes(x = nrepeats, y = datap)) + facet_wrap(~as.factor(affinity), nrow=1) + geom_point() + geom_smooth( span=1) \n",
    "#pdf(\"fit.pdf\",width=7,height=2)\n",
    "#Lars uses 1.5 span\n",
    "y_breaks <- seq(-1, 0.7, by = 0.5)  # Adjust spacing as needed\n",
    "\n",
    "# Modify last tick to indicate it includes higher/lower values\n",
    "y_labels <- as.character(y_breaks)\n",
    "y_labels <- c(y_labels, \">=  0.7\")  # Add highest tick\n",
    "y_breaks <- c(y_breaks, 0.7)\n",
    "y_labels[1] <- paste(\"<=\", y_labels[1])  # Modify lowest tick \n",
    "\n",
    "\n",
    "span=1.5\n",
    "options(repr.plot.width=7*1.2, repr.plot.height=2*1.2)\n",
    "pdf(\"data.pdf\",width=7,height=2)\n",
    "print(ggplot() + geom_smooth(data=df, aes(x = nrepeats, y = datap, linetype=\"data\"), span=span, color=\"black\")) + \n",
    "geom_point(data=df, aes(x = nrepeats, y = datap), size=0.25) + \n",
    "#geom_smooth(data=df, aes(x=nrepeats,y=model,linetype=\"model\"), span=span, color=\"black\") +\n",
    "facet_wrap(~as.factor(affinity),nrow=1) + theme_bw() + theme(panel.grid = element_blank()) +\n",
    "scale_y_continuous(limits = c(-1, 0.7), oob = squish, breaks = y_breaks, labels = y_labels) +\n",
    "scale_size_area(max_size = 0.75)+\n",
    "xlab(\"Numer of binding sites\") + ylab(\"Normalised activity\\n (ln(fold change))\") +\n",
    "scale_linetype_manual(name = \"\", values = c(\"data\" = \"solid\")) \n",
    "dev.off()\n"
   ]
  },
  {
   "cell_type": "code",
   "execution_count": null,
   "id": "3d2afc07",
   "metadata": {},
   "outputs": [],
   "source": []
  }
 ],
 "metadata": {
  "kernelspec": {
   "display_name": "R",
   "language": "R",
   "name": "ir"
  },
  "language_info": {
   "codemirror_mode": "r",
   "file_extension": ".r",
   "mimetype": "text/x-r-source",
   "name": "R",
   "pygments_lexer": "r",
   "version": "4.0.5"
  }
 },
 "nbformat": 4,
 "nbformat_minor": 5
}
