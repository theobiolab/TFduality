{
 "cells": [
  {
   "cell_type": "code",
   "execution_count": null,
   "id": "31016c36",
   "metadata": {},
   "outputs": [],
   "source": []
  },
  {
   "cell_type": "code",
   "execution_count": 2,
   "id": "acb6c470",
   "metadata": {},
   "outputs": [],
   "source": [
    "import numpy as np\n",
    "import seaborn as sns\n",
    "import matplotlib.pyplot as plt\n",
    "import sys,os, re\n",
    "import pandas as pd\n",
    "from functools import partial\n",
    "import itertools\n",
    "import json, glob\n",
    "from math import comb\n",
    "from scipy.optimize import minimize\n",
    "    \n",
    "repobase=\"/Users/rosamartinezcorral/OneDrive - CRG - Centre de Regulacio Genomica/papers/github_repos/MPRAfitting/\"\n",
    "sys.path.append(os.path.join(repobase,\"bin\"))\n",
    "from functions_fractional_occupancy import fi_1sites, fi_2sites, fi_3sites, fi_4sites, fi_5sites, fi_6sites\n",
    "from biophysmodel_utils import logfoldchange_from_avbinding_ratesdirectly_Hill, get_S_max\n",
    "from utils_fit import run_genetic, get_parsetnames_affinitiesdirect\n",
    "from utils_fit import dataframe_from_bestpars\n",
    "fifunctions={1:fi_1sites, 2:fi_2sites, 3:fi_3sites,4:fi_4sites,5:fi_5sites,6:fi_6sites}"
   ]
  },
  {
   "cell_type": "code",
   "execution_count": 3,
   "id": "9afee615",
   "metadata": {},
   "outputs": [],
   "source": [
    "def plot_best_input_output(best,args_fitnessfunction=None):\n",
    "    #best is the parameter set to be plotted\n",
    "    \n",
    "    ncol=1\n",
    "    error,arv=error_input_output(best,**args_fitnessfunction)\n",
    "    #display(out)\n",
    "    xvals=args_fitnessfunction[\"data\"][:,0]\n",
    "    fig,ax=plt.subplots(1,ncol,figsize=(5,4),sharey=True)\n",
    "    \n",
    "    yvalsoccupancy=arv[:,0]\n",
    "    yvalsGFP=arv[:,1]\n",
    "    ymodelvals=arv[:,2]\n",
    "    ax.scatter(xvals, np.exp(yvalsGFP),c=\"k\")\n",
    "    ax.plot(xvals,np.exp(ymodelvals),color=\"k\")\n",
    "    print(\"ymodelvals\", np.exp(ymodelvals))\n",
    "    ax2=ax.twinx()\n",
    "    ax2.plot(xvals,yvalsoccupancy,marker=\"o\")\n",
    "    ax.set_xlabel(\"ZF\")\n",
    "    ax.set_ylabel(\"fold change GFP\")\n",
    "    ax2.set_ylabel(\"occupancy\")\n",
    "    plt.tight_layout()\n",
    "    plt.show()"
   ]
  },
  {
   "cell_type": "code",
   "execution_count": 4,
   "id": "15fd40ab",
   "metadata": {},
   "outputs": [],
   "source": [
    "def error_input_output(individual,otherpars=[],coop=False,rates_affected=[],logfcfunction=None, evaluate_parset=None,\n",
    "                   data=None,  means=[],\n",
    "                   idx1=0, idx2=0, idx3=0, plot=False,plotparset=False,nrow=1,ncol=1,parsetnames=[],outerror=\"inverse\",individualerror=False,fitonlyKs=False):\n",
    "    #afcat_idxs:list of lists, each list hast the idxs of the rows that correspond to the same affinity\n",
    "    ar=np.asarray(individual)\n",
    "    if fitonlyKs:\n",
    "        global_occupancy_pars=ar\n",
    "        global_occupancy_pars_discard=otherpars[0:idx1] #note that now the TF concentration is for each condition, because conditions correspond to celltypes\n",
    "        globalcyclepars=otherpars[idx1:idx2]\n",
    "        globalTFcyclepars=otherpars[idx2:idx3]\n",
    "    else:\n",
    "        global_occupancy_pars=ar[0:idx1] #note that now the TF concentration is for each condition, because conditions correspond to celltypes\n",
    "        globalcyclepars=ar[idx1:idx2]\n",
    "        globalTFcyclepars=ar[idx2:idx3]\n",
    "    TFcyclepars=globalTFcyclepars\n",
    "    occupancy_pars=global_occupancy_pars\n",
    "    values_data_model=[]\n",
    "    K=np.exp(occupancy_pars[0]) #now only one affinity\n",
    "    for i in range(len(data)):\n",
    "        input_,value=data[i]\n",
    "        Kx=K*input_\n",
    "        fi=Kx/(1+Kx)\n",
    "        output=logfcfunction(globalpars=globalcyclepars,TFpars=TFcyclepars,avbinding=fi,rates_affected=rates_affected)\n",
    "        values_data_model.append([fi,value,output])\n",
    "    arv=np.asarray(values_data_model)\n",
    "    total_error=np.sum(np.abs(np.diff(arv[:,1:],axis=1)))\n",
    "    \n",
    "    return [total_error,arv]\n"
   ]
  },
  {
   "cell_type": "code",
   "execution_count": 5,
   "id": "ee50af88",
   "metadata": {},
   "outputs": [
    {
     "name": "stdout",
     "output_type": "stream",
     "text": [
      "['Kaf1', 'k_1', 'k_m1', 'k_2', 'k_3', 'K_r0', 'n_r0', 'fc_r0', 'K_r1', 'n_r1', 'fc_r1', 'K_r2', 'n_r2', 'fc_r2', 'K_r3', 'n_r3', 'fc_r3'] [1, 5, 17, [17, 18]]\n"
     ]
    }
   ],
   "source": [
    "outfolder=\"2025_01_10_Sp1fitZF\"\n",
    "rates_affected=[0,1,2,3]\n",
    "if not os.path.isdir(outfolder):\n",
    "    os.mkdir(outfolder)\n",
    "# Genetic Algorithm parameters:\n",
    "POPULATION_SIZE = 300 #500\n",
    "MAX_GENERATIONS = 100\n",
    "\n",
    "MUTSIGMA=0.25 #sigma\n",
    "INDPB=0.5\n",
    "\n",
    "P_CROSSOVER = 0.25  # probability for crossover\n",
    "P_MUTATION = 0.5  # probability for mutating an individ\n",
    "ETACXBIN=0.25\n",
    "\n",
    "coop=False\n",
    "\n",
    "\n",
    "parsetnames,idxs=get_parsetnames_affinitiesdirect(naffinities=2,rates_affected=rates_affected,nconditions=1) #using naffinities2 but actually it is only 1. Doing this so I get the right indices and parsetnames\n",
    "parsetnames=parsetnames[:-1] #remove the last one, which is the concentration\n",
    "print(parsetnames,idxs)\n"
   ]
  },
  {
   "cell_type": "code",
   "execution_count": 6,
   "id": "b964c6a3",
   "metadata": {},
   "outputs": [
    {
     "data": {
      "text/plain": [
       "array([[ 1.        ,  0.18142532],\n",
       "       [ 1.32350962,  0.87581243],\n",
       "       [11.07622745,  1.1584727 ],\n",
       "       [14.16303113,  0.65551281]])"
      ]
     },
     "execution_count": 6,
     "metadata": {},
     "output_type": "execute_result"
    }
   ],
   "source": [
    "meanGFP=np.log(np.array([1.198925, 2.400825, 3.185065,1.92613 ]))\n",
    "meanZF=np.array([ 1.,         1.32350962, 11.07622745, 14.16303113])\n",
    "data=np.array([meanZF,meanGFP])\n",
    "data=data.transpose()\n",
    "data"
   ]
  },
  {
   "cell_type": "code",
   "execution_count": 7,
   "id": "42b63ba1",
   "metadata": {},
   "outputs": [
    {
     "data": {
      "text/plain": [
       "0.0"
      ]
     },
     "execution_count": 7,
     "metadata": {},
     "output_type": "execute_result"
    }
   ],
   "source": [
    "np.random.uniform(0,0)"
   ]
  },
  {
   "cell_type": "code",
   "execution_count": 10,
   "id": "a698e88e",
   "metadata": {
    "scrolled": true
   },
   "outputs": [
    {
     "name": "stdout",
     "output_type": "stream",
     "text": [
      "bounds: [[-4, 4], [-5, 5], [-5, 5], [-5, 5], [-5, 5], [-5, 5], [0, 1], [-6, 6], [-5, 5], [0, 1], [-6, 6], [-5, 5], [0, 1], [-6, 6], [-5, 5], [0, 1], [-6, 6]]\n",
      "('Kaf1', [-4, 4])\n",
      "('k_1', [-5, 5])\n",
      "('k_m1', [-5, 5])\n",
      "('k_2', [-5, 5])\n",
      "('k_3', [-5, 5])\n",
      "('K_r0', [-5, 5])\n",
      "('n_r0', [0, 1])\n",
      "('fc_r0', [-6, 6])\n",
      "('K_r1', [-5, 5])\n",
      "('n_r1', [0, 1])\n",
      "('fc_r1', [-6, 6])\n",
      "('K_r2', [-5, 5])\n",
      "('n_r2', [0, 1])\n",
      "('fc_r2', [-6, 6])\n",
      "('K_r3', [-5, 5])\n",
      "('n_r3', [0, 1])\n",
      "('fc_r3', [-6, 6])\n",
      "best\n"
     ]
    },
    {
     "ename": "NameError",
     "evalue": "name 'best' is not defined",
     "output_type": "error",
     "traceback": [
      "\u001b[0;31m---------------------------------------------------------------------------\u001b[0m",
      "\u001b[0;31mNameError\u001b[0m                                 Traceback (most recent call last)",
      "Input \u001b[0;32mIn [10]\u001b[0m, in \u001b[0;36m<cell line: 47>\u001b[0;34m()\u001b[0m\n\u001b[1;32m     45\u001b[0m \u001b[38;5;66;03m#best=run_genetic(**pars_genetic)\u001b[39;00m\n\u001b[1;32m     46\u001b[0m \u001b[38;5;28mprint\u001b[39m(\u001b[38;5;124m\"\u001b[39m\u001b[38;5;124mbest\u001b[39m\u001b[38;5;124m\"\u001b[39m)\n\u001b[0;32m---> 47\u001b[0m \u001b[38;5;28mprint\u001b[39m(\u001b[43mbest\u001b[49m)\n\u001b[1;32m     48\u001b[0m fitness,parset,seed,refined\u001b[38;5;241m=\u001b[39mbest\n\u001b[1;32m     49\u001b[0m best_condition\u001b[38;5;241m=\u001b[39m{\u001b[38;5;124m\"\u001b[39m\u001b[38;5;124mjid\u001b[39m\u001b[38;5;124m\"\u001b[39m:jid,\u001b[38;5;124m\"\u001b[39m\u001b[38;5;124mseed\u001b[39m\u001b[38;5;124m\"\u001b[39m:\u001b[38;5;28mint\u001b[39m(seed),\u001b[38;5;124m\"\u001b[39m\u001b[38;5;124mfitness\u001b[39m\u001b[38;5;124m\"\u001b[39m:fitness,\u001b[38;5;124m\"\u001b[39m\u001b[38;5;124mparset\u001b[39m\u001b[38;5;124m\"\u001b[39m:\u001b[38;5;124m\"\u001b[39m\u001b[38;5;124m,\u001b[39m\u001b[38;5;124m\"\u001b[39m\u001b[38;5;241m.\u001b[39mjoin(\u001b[38;5;28mlist\u001b[39m(\u001b[38;5;28mmap\u001b[39m(\u001b[38;5;28mstr\u001b[39m,parset))),\u001b[38;5;124m\"\u001b[39m\u001b[38;5;124mrefined\u001b[39m\u001b[38;5;124m\"\u001b[39m:refined}\n",
      "\u001b[0;31mNameError\u001b[0m: name 'best' is not defined"
     ]
    }
   ],
   "source": [
    "idx1,idx2,idx3,idxs_conditions=idxs #we will not use idxs_conditions here\n",
    "MINV_7=-10\n",
    "MAXV_7=10\n",
    "MINV_3=-3 #20\n",
    "MAXV_3=2 #0.05\n",
    "jid=1\n",
    "\n",
    "#get bounds\n",
    "bounds=[]\n",
    "for name in parsetnames:\n",
    "    if name.startswith(\"Kaf\"):\n",
    "        bounds.append([-4,4])\n",
    "    elif name.startswith(\"n\"):\n",
    "        bounds.append([0,1])\n",
    "    elif name.startswith(\"fc\"):\n",
    "        bounds.append([-6,6])\n",
    "    else:\n",
    "        bounds.append([-5,5])\n",
    "print(\"bounds:\",bounds)\n",
    "for x in zip(parsetnames,bounds):\n",
    "    print(x)\n",
    "\n",
    "args_fitnessfunction={\"logfcfunction\":logfoldchange_from_avbinding_ratesdirectly_Hill,\n",
    "      \"idx1\":idx1, \"idx2\":idx2, \"idx3\":idx3,\"coop\":coop,\"rates_affected\":rates_affected,\n",
    "      \"data\":data,\n",
    "     \"outerror\":\"inverse\", \"individualerror\":False}\n",
    "error_partial=partial(error_input_output,**args_fitnessfunction)\n",
    "def fitnessfunc(pars):\n",
    "    return error_partial(pars)[0],\n",
    "\n",
    "plotbestpartial=partial(plot_best_input_output,args_fitnessfunction=args_fitnessfunction)\n",
    "\n",
    "pars_genetic={\"POPULATION_SIZE\":POPULATION_SIZE, \"MAX_GENERATIONS\": MAX_GENERATIONS, \n",
    "              \"P_CROSSOVER\": P_CROSSOVER,\"P_MUTATION\": P_MUTATION, \"MUTSIGMA\": MUTSIGMA, \"INDPB\": INDPB,\n",
    "              \"HALL_OF_FAME_SIZE\": 5,\n",
    "             \"fitnessfunc\": fitnessfunc,\n",
    "             \"seeds\":np.arange(100),\n",
    "              \"cxbin\":True,\n",
    "              \"TOURNSIZE\":10,\n",
    "              \"etacxbin\":ETACXBIN,\n",
    "              \"plot_fitness_evo\":True, \n",
    "              \"plotintermediates\":True, \n",
    "              \"plotbest\":False, \"plotbestfunc\":plotbestpartial, \"bounds\":bounds}\n",
    "\n",
    "#best=run_genetic(**pars_genetic)\n",
    "print(\"best\")\n",
    "print(best)\n",
    "fitness,parset,seed,refined=best\n",
    "best_condition={\"jid\":jid,\"seed\":int(seed),\"fitness\":fitness,\"parset\":\",\".join(list(map(str,parset))),\"refined\":refined}\n",
    "with open(\"./%s/best_%d.json\"%(outfolder,jid), \"w\") as outfile: \n",
    "    json.dump(best_condition, outfile)"
   ]
  },
  {
   "cell_type": "code",
   "execution_count": 11,
   "id": "5141ef9b",
   "metadata": {},
   "outputs": [
    {
     "name": "stdout",
     "output_type": "stream",
     "text": [
      "Kaf1 0.02510799300626393\n",
      "k_1 0.018753325357776726\n",
      "k_m1 0.07458500560578807\n",
      "k_2 1.7075518390124278\n",
      "k_3 0.5147966120399581\n",
      "K_r0 0.05462225564910161\n",
      "n_r0 2.718268614482051\n",
      "fc_r0 148.39130381240892\n",
      "K_r1 0.006737948338172179\n",
      "n_r1 2.71828112017846\n",
      "fc_r1 380.89538371469155\n",
      "K_r2 0.1125415516305991\n",
      "n_r2 2.3600837664917704\n",
      "fc_r2 10.85788170290818\n",
      "K_r3 0.09762121198388013\n",
      "n_r3 2.7158427413734443\n",
      "fc_r3 0.0029621366446563667\n",
      "[('Kaf1', -3.684569037073014), ('k_1', -3.976384189876039), ('k_m1', -2.5958157892165215), ('k_2', 0.5350606715992872), ('k_3', -0.6639833844007836), ('K_r0', -2.9073138666618257), ('n_r0', 0.9999951388377124), ('fc_r0', 4.9998527293694135), ('K_r1', -4.99999980126193), ('n_r1', 0.9999997394381002), ('fc_r1', 5.942524753995763), ('K_r2', -2.184432777702233), ('n_r2', 0.8586971126837858), ('fc_r2', 2.384891240499262), ('K_r3', -2.3266604732767044), ('n_r3', 0.9991023072003402), ('fc_r3', -5.821844431635997)]\n",
      "ymodelvals [1.19892499 2.38762758 2.95530254 1.9271689 ]\n"
     ]
    },
    {
     "data": {
      "image/png": "[encoded data removed]",
      "text/plain": [
       "<Figure size 360x288 with 2 Axes>"
      ]
     },
     "metadata": {
      "needs_background": "light"
     },
     "output_type": "display_data"
    }
   ],
   "source": [
    "bestparsetar=np.array([-3.684569037073014,-3.976384189876039,-2.5958157892165215,0.5350606715992872,-0.6639833844007836,-2.9073138666618257,0.9999951388377124,4.9998527293694135,-4.99999980126193,0.9999997394381002,5.942524753995763,-2.184432777702233,0.8586971126837858,2.384891240499262,-2.3266604732767044,0.9991023072003402,-5.821844431635997])\n",
    "for i in range(len(bestparsetar)):\n",
    "    print(parsetnames[i],np.exp(bestparsetar[i]))\n",
    "print(list(zip(parsetnames,bestparsetar)))\n",
    "plot_best_input_output(bestparsetar,args_fitnessfunction)\n"
   ]
  },
  {
   "cell_type": "code",
   "execution_count": 11,
   "id": "49754793",
   "metadata": {},
   "outputs": [
    {
     "data": {
      "text/plain": [
       "7.38905609893065"
      ]
     },
     "execution_count": 11,
     "metadata": {},
     "output_type": "execute_result"
    }
   ],
   "source": [
    "np.exp(1)"
   ]
  },
  {
   "cell_type": "code",
   "execution_count": null,
   "id": "dc16e83a",
   "metadata": {},
   "outputs": [],
   "source": []
  }
 ],
 "metadata": {
  "kernelspec": {
   "display_name": "Python 3 (ipykernel)",
   "language": "python",
   "name": "python3"
  },
  "language_info": {
   "codemirror_mode": {
    "name": "ipython",
    "version": 3
   },
   "file_extension": ".py",
   "mimetype": "text/x-python",
   "name": "python",
   "nbconvert_exporter": "python",
   "pygments_lexer": "ipython3",
   "version": "3.9.13"
  }
 },
 "nbformat": 4,
 "nbformat_minor": 5
}
