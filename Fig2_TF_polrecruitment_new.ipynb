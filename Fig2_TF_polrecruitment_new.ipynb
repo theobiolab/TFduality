{
 "cells": [
  {
   "cell_type": "code",
   "execution_count": 1,
   "id": "1ca9742e",
   "metadata": {},
   "outputs": [
    {
     "data": {
      "text/plain": [
       "0.066"
      ]
     },
     "execution_count": 1,
     "metadata": {},
     "output_type": "execute_result"
    }
   ],
   "source": [
    "0.11*0.6"
   ]
  },
  {
   "cell_type": "code",
   "execution_count": 43,
   "id": "a73a977d",
   "metadata": {},
   "outputs": [],
   "source": [
    "import numpy as np\n",
    "import matplotlib.pyplot as plt\n",
    "import os\n",
    "import matplotlib.colors as colors\n",
    "import matplotlib\n",
    "figsfolder=\"./figscode\""
   ]
  },
  {
   "cell_type": "code",
   "execution_count": 27,
   "id": "6a9ede51",
   "metadata": {},
   "outputs": [],
   "source": [
    "def getPs(pars,x):\n",
    "    Kx,Kp,w=pars\n",
    "    \n",
    "    Z=1+Kx*x+Kp+Kx*Kp*w*x\n",
    "    P1=1/Z\n",
    "    P2=Kx*x/Z\n",
    "    P3=Kp/Z\n",
    "    P4=Kx*x*Kp*w/Z\n",
    "    \n",
    "    return np.array([P1,P2,P3,P4])\n",
    "\n",
    "def plot_parset(pars,qs,title=None,widerange=False,color=\"k\",figname=None,returnonly=False,xticks=None):\n",
    "    q3,q4=qs\n",
    "    if not widerange:\n",
    "        xvals=np.logspace(-1.,1.,200)\n",
    "    else:\n",
    "        xvals=np.logspace(-3,3,1000)\n",
    "    values=np.zeros(len(xvals))\n",
    "    xval=0\n",
    "    Ps=getPs(pars,xval)\n",
    "    expr0=q3*Ps[2]+q4*Ps[3]\n",
    "    \n",
    "\n",
    "    for x_,xval in enumerate(xvals):\n",
    "        \n",
    "        Ps=getPs(pars,xval)\n",
    "        expr=q3*Ps[2]+q4*Ps[3]\n",
    "        values[x_]=expr/expr0\n",
    "    if not returnonly:\n",
    "        fig,ax=plt.subplots(1,1,figsize=(1.5,1))\n",
    "        ax.plot(xvals,values,color=color)\n",
    "        ax.set_xscale('log')\n",
    "        ax.set_xlabel(r\"$x$\",size=14)\n",
    "        ax.set_ylabel('fold change ($F(x)$)',size=12)\n",
    "        ax.axhline(y=1,linestyle=\"--\",color=\"gray\")\n",
    "        if xticks:\n",
    "            ax.set_xticks(xticks)\n",
    "        if title is not None:\n",
    "            ax.set_title(title)\n",
    "        plt.tight_layout()\n",
    "        if figname is not None:\n",
    "            plt.savefig(figname,bbox_inches=\"tight\")\n",
    "        plt.show()\n",
    "    else:\n",
    "        return values\n",
    "        \n",
    "        "
   ]
  },
  {
   "cell_type": "code",
   "execution_count": 55,
   "id": "45ca7ee6",
   "metadata": {},
   "outputs": [
    {
     "name": "stderr",
     "output_type": "stream",
     "text": [
      "/var/folders/5n/cb1vqrr16p397362xt81k93c0000gn/T/ipykernel_4618/2116027758.py:38: UserWarning: Tight layout not applied. The bottom and top margins cannot be made large enough to accommodate all axes decorations.\n",
      "  plt.tight_layout()\n"
     ]
    },
    {
     "data": {
      "image/png": "[encoded data removed]",
      "text/plain": [
       "<Figure size 108x72 with 1 Axes>"
      ]
     },
     "metadata": {
      "needs_background": "light"
     },
     "output_type": "display_data"
    }
   ],
   "source": [
    "w=10\n",
    "Kx=1\n",
    "Kp=0.1\n",
    "pars=[Kx,Kp,w]\n",
    "qs=[1,1]\n",
    "title=r\"$\\omega=%g$\"%(w)\n",
    "plot_parset(pars,qs,title=title,figname=os.path.join(figsfolder,\"Fig1up.pdf\"))"
   ]
  },
  {
   "cell_type": "code",
   "execution_count": 56,
   "id": "57b3e8a3",
   "metadata": {},
   "outputs": [
    {
     "name": "stderr",
     "output_type": "stream",
     "text": [
      "/var/folders/5n/cb1vqrr16p397362xt81k93c0000gn/T/ipykernel_4618/2116027758.py:38: UserWarning: Tight layout not applied. The bottom and top margins cannot be made large enough to accommodate all axes decorations.\n",
      "  plt.tight_layout()\n"
     ]
    },
    {
     "data": {
      "image/png": "[encoded data removed]",
      "text/plain": [
       "<Figure size 108x72 with 1 Axes>"
      ]
     },
     "metadata": {
      "needs_background": "light"
     },
     "output_type": "display_data"
    }
   ],
   "source": [
    "w=0.5\n",
    "pars=[Kx,Kp,w]\n",
    "qs=[1,1]\n",
    "title=r\"$\\omega=%g$\"%(w)\n",
    "plot_parset(pars,qs,title=title,figname=os.path.join(figsfolder,\"Fig1down.pdf\"))"
   ]
  },
  {
   "cell_type": "code",
   "execution_count": 3,
   "id": "432b5b19",
   "metadata": {},
   "outputs": [],
   "source": [
    "def ss(pars,x):\n",
    "    \n",
    "    a_x, b_x, a_p, b_p, a_p2, b_p2, a_xp, b_xp, q3, q4=pars\n",
    "    rho1=b_x*b_p2*a_xp*x+b_x*b_p*b_p2+b_x*b_p*b_xp+b_p*a_p2*b_xp\n",
    "    rho2=a_x*x*b_p*b_xp+a_x*x*b_p*b_p2+a_x*x*b_p2*a_xp*x+a_p*b_p2*a_xp*x\n",
    "    rho3=b_x*a_p*b_p2+b_x*a_p*b_xp+a_p*a_p2*b_xp+a_x*x*a_p2*b_xp\n",
    "    rho4=a_x*x*b_p*a_p2+a_x*x*a_p2*a_xp*x+a_p*a_p2*a_xp*x+b_x*a_p*a_xp*x\n",
    "    Z=rho1+rho2+rho3+rho4\n",
    "    P3=rho3/Z\n",
    "    P4=rho4/Z\n",
    "    return q3*P3+q4*P4\n",
    "    \n"
   ]
  },
  {
   "cell_type": "code",
   "execution_count": 66,
   "id": "0aafb213",
   "metadata": {},
   "outputs": [],
   "source": [
    "def plot_parset_neq(pars,title=None,color=\"k\",text=None,figname=None,xrange=None,xticks=None):\n",
    "    if xrange:\n",
    "        xvals=np.logspace(xrange[0],xrange[1],100)\n",
    "    elif not widerange:\n",
    "        xvals=np.logspace(1,2,200)\n",
    "    else:\n",
    "        xvals=np.logspace(-3,3,1000)\n",
    "    values=np.zeros(len(xvals))\n",
    "    #accessibilities=np.zeros(len(xvals))\n",
    "    xval=0\n",
    "    expr0=ss(pars, xval)\n",
    "    \n",
    "   \n",
    "\n",
    "    for x_,xval in enumerate(xvals):\n",
    "        expr=ss(pars, xval)\n",
    "        \n",
    "        values[x_]=expr/expr0\n",
    "        #accessibilities[x_]=acc/acc0\n",
    "    fig,ax=plt.subplots(1,1,figsize=(1.8,1.35))\n",
    "    ax.plot(xvals,values,color=color,linewidth=2)\n",
    "    ax.set_xscale('log')\n",
    "    if xticks:\n",
    "        print(\"setting xticks\",xticks)\n",
    "        ax.set_xticks(xticks)\n",
    "        ax.get_xaxis().set_major_formatter(matplotlib.ticker.ScalarFormatter())\n",
    "\n",
    "    ax.set_xlabel(r\"$x$\")\n",
    "    ax.set_ylabel('F(x)',size=14)\n",
    "    ax.axhline(y=1,linestyle=\"--\",color=\"gray\")\n",
    "    ax.spines[['right', 'top']].set_visible(False)\n",
    "\n",
    "    if title is not None:\n",
    "        ax.set_title(title)\n",
    "    if text is not None:\n",
    "        ax.text(0.8,0.8,text,transform=ax.transAxes)\n",
    "    #plt.tight_layout()\n",
    "    if figname is not None:\n",
    "        plt.savefig(figname,bbox_inches=\"tight\")\n",
    "    plt.show()\n",
    "    \n",
    "def plot_parset_bx(pars,xval,title=None,color=\"k\",text=None,figname=None,bTrange=None,xticks=None):\n",
    "    if not bTrange:\n",
    "        bxvals=np.logspace(-0.5,1.5,200)\n",
    "    else:\n",
    "        bxvals=np.logspace(bTrange[0],bTrange[1],100)\n",
    "    #print(\"bxvals\", bxvals)\n",
    "    values=np.zeros(len(bxvals))\n",
    "    \n",
    "    \n",
    "    #acc0=np.sum(Ps[4:])\n",
    "\n",
    "    for x_,bxval in enumerate(bxvals):\n",
    "        pars2=np.asarray(pars).copy()\n",
    "        \n",
    "        \n",
    "        pars2[1]=bxval\n",
    "        pars2[7]=bxval\n",
    "        \n",
    "        expr=ss(pars2, xval)\n",
    "        expr0=ss(pars2, 0)\n",
    "        values[x_]=expr/expr0\n",
    "    fig,ax=plt.subplots(1,1,figsize=(1.8,1.35))\n",
    "    ax.plot(bxvals,values,color=color,linewidth=2)\n",
    "    ax.set_xscale('log')\n",
    "    ax.set_xlabel(r\"$b_T$\",size=14)\n",
    "    if xticks:\n",
    "        ax.set_xticks(xticks)\n",
    "        ax.get_xaxis().set_major_formatter(matplotlib.ticker.ScalarFormatter())\n",
    "\n",
    "    #ax.set_ylabel('fold change ($F(x)$)',size=14)\n",
    "    ax.axhline(y=1,linestyle=\"--\",color=\"gray\")\n",
    "    ax.spines[['right', 'top']].set_visible(False)\n",
    "\n",
    "    if title is not None:\n",
    "        ax.set_title(title)\n",
    "    if text is not None:\n",
    "        ax.text(0.15,0.8,text,transform=ax.transAxes)\n",
    "    #plt.tight_layout()\n",
    "    if figname is not None:\n",
    "        plt.savefig(figname,bbox_inches=\"tight\")\n",
    "    plt.show()"
   ]
  },
  {
   "cell_type": "code",
   "execution_count": 67,
   "id": "34e16136",
   "metadata": {},
   "outputs": [
    {
     "data": {
      "text/plain": [
       "0.01"
      ]
     },
     "execution_count": 67,
     "metadata": {},
     "output_type": "execute_result"
    }
   ],
   "source": [
    "0.0005*20"
   ]
  },
  {
   "cell_type": "code",
   "execution_count": 68,
   "id": "fb2c5a75",
   "metadata": {},
   "outputs": [
    {
     "name": "stdout",
     "output_type": "stream",
     "text": [
      "0.1 3.0\n",
      "0.8450980400142568\n",
      "0.0\n",
      "-1.3010299956639813\n"
     ]
    },
    {
     "data": {
      "image/png": "[encoded data removed]",
      "text/plain": [
       "<Figure size 288x216 with 2 Axes>"
      ]
     },
     "metadata": {
      "needs_background": "light"
     },
     "output_type": "display_data"
    },
    {
     "name": "stdout",
     "output_type": "stream",
     "text": [
      "$b_x=0.85$\n",
      "setting xticks [20, 100, 600]\n"
     ]
    },
    {
     "data": {
      "image/png": "[encoded data removed]",
      "text/plain": [
       "<Figure size 129.6x97.2 with 1 Axes>"
      ]
     },
     "metadata": {
      "needs_background": "light"
     },
     "output_type": "display_data"
    },
    {
     "name": "stdout",
     "output_type": "stream",
     "text": [
      "$b_x=0.00$\n",
      "setting xticks [20, 100, 600]\n"
     ]
    },
    {
     "data": {
      "image/png": "[encoded data removed]",
      "text/plain": [
       "<Figure size 129.6x97.2 with 1 Axes>"
      ]
     },
     "metadata": {
      "needs_background": "light"
     },
     "output_type": "display_data"
    },
    {
     "name": "stdout",
     "output_type": "stream",
     "text": [
      "$b_x=-1.30$\n",
      "setting xticks [20, 100, 600]\n"
     ]
    },
    {
     "data": {
      "image/png": "[encoded data removed]",
      "text/plain": [
       "<Figure size 129.6x97.2 with 1 Axes>"
      ]
     },
     "metadata": {
      "needs_background": "light"
     },
     "output_type": "display_data"
    },
    {
     "name": "stdout",
     "output_type": "stream",
     "text": [
      "$x$=$1.00$\n"
     ]
    },
    {
     "data": {
      "image/png": "[encoded data removed]",
      "text/plain": [
       "<Figure size 129.6x97.2 with 1 Axes>"
      ]
     },
     "metadata": {
      "needs_background": "light"
     },
     "output_type": "display_data"
    },
    {
     "name": "stdout",
     "output_type": "stream",
     "text": [
      "$x$=$2.00$\n"
     ]
    },
    {
     "data": {
      "image/png": "[encoded data removed]",
      "text/plain": [
       "<Figure size 129.6x97.2 with 1 Axes>"
      ]
     },
     "metadata": {
      "needs_background": "light"
     },
     "output_type": "display_data"
    },
    {
     "name": "stdout",
     "output_type": "stream",
     "text": [
      "$x$=$2.90$\n"
     ]
    },
    {
     "data": {
      "image/png": "[encoded data removed]",
      "text/plain": [
       "<Figure size 129.6x97.2 with 1 Axes>"
      ]
     },
     "metadata": {
      "needs_background": "light"
     },
     "output_type": "display_data"
    }
   ],
   "source": [
    "#increasing the kinetics of pol binding - unbinding shifts the activation region towards higher unbinding rates\n",
    "#a_x=0.04\n",
    "#a_xp=a_x\n",
    "#a_p=0.0005*200 #onrate x pol concentration. Po\n",
    "#b_p=1\n",
    "#a_p2fc=50 #20\n",
    "#b_p2fc=0.1\n",
    "\n",
    "#a_p2=a_p*a_p2fc\n",
    "#b_p2=b_p*b_p2fc\n",
    "\n",
    "#q3=1\n",
    "#q4=0.025*q3\n",
    "\n",
    "a_x=0.01\n",
    "a_xp=a_x\n",
    "a_p=0.0005*20 #onrate x pol concentration. Po\n",
    "b_p=0.1\n",
    "a_p2fc=10 #20\n",
    "b_p2fc=0.1\n",
    "\n",
    "a_p2=a_p*a_p2fc\n",
    "b_p2=b_p*b_p2fc\n",
    "\n",
    "q3=1\n",
    "q4=0.01*q3\n",
    "\n",
    "\n",
    "\n",
    "xvals=np.logspace(0,3,200)\n",
    "bxvals=np.logspace(-2,1,200) #called bT in the paper\n",
    "out=np.zeros((len(bxvals), len(xvals)))\n",
    "\n",
    "for b, b_x in enumerate(bxvals):\n",
    "    b_xp=b_x\n",
    "    \n",
    "    pars=[a_x, b_x, a_p, b_p, a_p2, b_p2, a_xp, b_xp,q3,q4]\n",
    "    out0=ss(pars, 0)\n",
    "\n",
    "    for x_,xval in enumerate(xvals):\n",
    "        expr=ss(pars,xval)\n",
    "        out[b,x_]=expr/out0\n",
    "        \n",
    "bxlist=[np.log10(7),np.log10(1),np.log10(0.05)] #line at each of these three unbinding rates, as a function of concentration\n",
    "xlist=[1,2,2.9] #line at each of these three concentrations, as a function of unbinding rates\n",
    "xlplot=[np.log10(20),np.log10(600)]\n",
    "xticks_conc=[20,100,600]\n",
    "bTlplot=[-0.5,1.]\n",
    "xticks_bT=[np.round(10**bTlplot[0],1),1,np.round(10**bTlplot[1])]\n",
    "colors_bx=[\"#3d6020ff\",\"#75b04aff\",\"#3df4b3ff\"]\n",
    "fig,axplt=plt.subplots(1,1,figsize=(4,3)) \n",
    "#ar=np.ma.masked_array(out,mask=out<1)\n",
    "min_val_rounded=np.round(out.min(),1) #round minimum value to 1 decimal\n",
    "max_val_rounded=np.round(out.max(),0) #round max value to 0 decimals\n",
    "print(min_val_rounded, max_val_rounded)\n",
    "norm=colors.TwoSlopeNorm(vmin=min_val_rounded, vcenter=1., vmax=max_val_rounded)\n",
    "extent=[np.log10(xvals[0]),np.log10(xvals[-1]),np.log10(bxvals[0]),np.log10(bxvals[-1])]\n",
    "im=axplt.imshow(out,origin=\"lower\",norm=norm,cmap=plt.cm.RdBu_r,extent=extent)\n",
    "axplt.set_xticks([0,1,2,3])\n",
    "axplt.set_xticklabels([r\"$10^0$\",r\"$10^1$\",r\"$10^2$\",r\"$10^3$\"])\n",
    "axplt.set_yticks([-2,-1,0,1])\n",
    "axplt.set_yticklabels([r\"$10^{-2}$\",r\"$10^{-1}$\",r\"$10^0$\",r\"$10^1$\"])\n",
    "axplt.contour(out,extent=extent,levels=[1],linestyles=[\"--\"],colors=[\"gray\"])\n",
    "for b_,bx in enumerate(bxlist):\n",
    "    print(bx)\n",
    "    axplt.plot(xlplot,[bx,bx],linestyle=\"-\",color=colors_bx[b_],linewidth=2.)\n",
    "axplt.plot([xlist[0],xlist[0]],bTlplot,linestyle=\"-\",color=\"#484eadff\",linewidth=2.)\n",
    "axplt.plot([xlist[1],xlist[1]],bTlplot,linestyle=\"-\",color=\"#a474e5ff\",linewidth=2.)\n",
    "axplt.plot([xlist[2],xlist[2]],bTlplot,linestyle=\"-\",color=\"#a464e5ff\",linewidth=2.)\n",
    "    #ax.axhline(y=np.log10(bG),)\n",
    "#ax.set_xscale('log')\n",
    "axplt.set_ylabel(\"TF unbinding rate\\n\"+r\"$b_T$\",size=14)\n",
    "axplt.set_xlabel(r\"$x$\"+\"\\nTF concentration\",size=14)\n",
    "\n",
    "#axplt.set_title(title)\n",
    "below_one=np.linspace(min_val_rounded,1,3)\n",
    "above_one=np.linspace(1,max_val_rounded,3)\n",
    "bounds=np.concatenate((below_one,above_one[1:]))\n",
    "plt.colorbar(im,ax=axplt,ticks=bounds)\n",
    "#ax.axhline(y=1,linestyle=\"--\",color=\"gray\")\n",
    "#if title is not None:\n",
    "#    ax.set_title(title)\n",
    "#plt.savefig(\"cmaptest.pdf\",bbox_inches=\"tight\")\n",
    "plt.tight_layout()\n",
    "plt.savefig(os.path.join(figsfolder,\"Fig1TFwbTx.svg\"),bbox_inches=\"tight\")\n",
    "plt.show()\n",
    "        \n",
    "text_labels=[\"iii\",\"ii\",\"i\"]\n",
    "for b_,bx in enumerate(bxlist):\n",
    "    figname=os.path.join(figsfolder,\"fig1TFw_panel%s.svg\"%text_labels[b_])\n",
    "    \n",
    "    b_x=10**bx\n",
    "    b_xp=b_x\n",
    "    pars=[a_x, b_x, a_p, b_p, a_p2, b_p2, a_xp, b_xp,q3,q4]\n",
    "    \n",
    "    title=r\"$b_x=%2.2f$\"%(bx)\n",
    "    print(title)\n",
    "    plot_parset_neq(pars,title=None,color=colors_bx[b_],text=text_labels[b_],figname=figname,xrange=xlplot,xticks=xticks_conc)\n",
    "    #plot_parset(pars,qs,title=title,color=colors_bx[b_],text=text_labels[b_],figname=None)\n",
    "\n",
    "#now as a function of bx\n",
    "\n",
    "pars=[a_x, b_x, a_p, b_p, a_p2, b_p2, a_xp, b_xp,q3,q4]\n",
    "    \n",
    "text_labels=[\"iv\",\"v\",\"vi\"]\n",
    "colors_lines=[\"#494eadff\",\"#a484e5ff\",\"#a474e5ff\"]\n",
    "for x_,x in enumerate(xlist):\n",
    "    title=r\"$x$=$%2.2f$\"%(x)\n",
    "    figname=os.path.join(figsfolder,\"fig1TFw_panel%s.svg\"%text_labels[x_])\n",
    "    print(title)\n",
    "    plot_parset_bx(pars,10**x,title=None,text=text_labels[x_],color=colors_lines[x_],figname=figname,bTrange=bTlplot,xticks=xticks_bT)\n",
    "    #plot_parset_bx(pars,qs,x,title=title,text=text_labels[x_],color=colors_lines[x_],figname=None)\n"
   ]
  },
  {
   "cell_type": "code",
   "execution_count": 53,
   "id": "10ea5e35",
   "metadata": {},
   "outputs": [
    {
     "data": {
      "text/plain": [
       "[-0.5, 1.0]"
      ]
     },
     "execution_count": 53,
     "metadata": {},
     "output_type": "execute_result"
    }
   ],
   "source": [
    "bTlplot"
   ]
  },
  {
   "cell_type": "code",
   "execution_count": null,
   "id": "16be7a14",
   "metadata": {},
   "outputs": [],
   "source": []
  }
 ],
 "metadata": {
  "kernelspec": {
   "display_name": "Python 3 (ipykernel)",
   "language": "python",
   "name": "python3"
  },
  "language_info": {
   "codemirror_mode": {
    "name": "ipython",
    "version": 3
   },
   "file_extension": ".py",
   "mimetype": "text/x-python",
   "name": "python",
   "nbconvert_exporter": "python",
   "pygments_lexer": "ipython3",
   "version": "3.10.8"
  },
  "nbTranslate": {
   "displayLangs": [
    "*"
   ],
   "hotkey": "alt-t",
   "langInMainMenu": true,
   "sourceLang": "en",
   "targetLang": "fr",
   "useGoogleTranslate": true
  },
  "toc": {
   "base_numbering": 1,
   "nav_menu": {},
   "number_sections": true,
   "sideBar": true,
   "skip_h1_title": false,
   "title_cell": "Table of Contents",
   "title_sidebar": "Contents",
   "toc_cell": false,
   "toc_position": {},
   "toc_section_display": true,
   "toc_window_display": false
  }
 },
 "nbformat": 4,
 "nbformat_minor": 5
}
