{
 "cells": [
  {
   "cell_type": "markdown",
   "metadata": {},
   "source": [
    "This notebook generates the C++ code used to calculate the steady-state response of the TF-chromatin model away from thermodynamic equilibrium (Fig. 2D) using the MTT to calculate the coefficients of the input-output function.\n",
    "\n",
    "It uses code that was used in previous work to calculate GRF sharpness. This is not strictly necessary here, and a much simpler code could be used instead. However that was well tested for accuracy and so this should apply here as well. Also, it is used for determining whether the input-output function is monotonic or not for the calculations in Fig.S3.\n",
    "\n",
    "It uses Eigen (tried with version 3.3.7 or 3.40), boost (tried with version 1.76.0, 1.81.0) and code from the following repositories:\n",
    "\n",
    "writescripts.py file and the files it depends on, in GeneRegulatoryFunctions repository: https://github.com/rosamc/GeneRegulatoryFunctions.git\n",
    "\n",
    "(doublechecked at the end with commit bdc925406b59f266ae0918932403834289183db9)\n",
    "\n",
    "Code to solve polynomials with high accuracy: https://github.com/kmnam/polynomials.git (commit af5a8318a6d637680033858a9b902c6d02eff613)\n",
    "\n",
    "\n"
   ]
  },
  {
   "cell_type": "code",
   "execution_count": 1,
   "metadata": {},
   "outputs": [
    {
     "ename": "ModuleNotFoundError",
     "evalue": "No module named 'writescripts'",
     "output_type": "error",
     "traceback": [
      "\u001b[0;31m---------------------------------------------------------------------------\u001b[0m",
      "\u001b[0;31mModuleNotFoundError\u001b[0m                       Traceback (most recent call last)",
      "Input \u001b[0;32mIn [1]\u001b[0m, in \u001b[0;36m<cell line: 11>\u001b[0;34m()\u001b[0m\n\u001b[1;32m      9\u001b[0m path_to_utilsGRFpy\u001b[38;5;241m=\u001b[39mpath_to_utilsGRF\n\u001b[1;32m     10\u001b[0m sys\u001b[38;5;241m.\u001b[39mpath\u001b[38;5;241m.\u001b[39mappend(path_to_utilsGRFpy)\n\u001b[0;32m---> 11\u001b[0m \u001b[38;5;28;01mimport\u001b[39;00m \u001b[38;5;21;01mwritescripts\u001b[39;00m\n",
      "\u001b[0;31mModuleNotFoundError\u001b[0m: No module named 'writescripts'"
     ]
    }
   ],
   "source": [
    "import numpy as np\n",
    "import sys, os,re\n",
    "\n",
    "path_to_eigen=\"/Users/rosamartinezcorral/Documents/eigen-3.4.0\"\n",
    "path_to_eigen=\"/Users/rosamartinezcorral/Documents/eigenlibrary/eigen-eigen-323c052e1731\"\n",
    "path_to_polynomialsmultipr=\"./repos_commit/polynomials/include/polynomial/\" # using multiprecision types for root finding\n",
    "\n",
    "path_to_utilsGRF=\"./repos_commit/GeneRegulatoryFunctions/utilsGRF/\" #GeneRegulatoryFunctions repo\n",
    "path_to_utilsGRFpy=path_to_utilsGRF\n",
    "sys.path.append(path_to_utilsGRFpy)\n",
    "import writescripts "
   ]
  },
  {
   "cell_type": "code",
   "execution_count": 2,
   "metadata": {},
   "outputs": [
    {
     "name": "stdout",
     "output_type": "stream",
     "text": [
      "Graph edges are:\n",
      "[(1, 'ax_0_0-x', 2), (5, 'ax_0_1-x', 6), (2, 'bx_x_0', 1), (6, 'bx_x_1', 5), (1, 'aP_0_0', 3), (5, 'aP_0_1', 7), (3, 'bP_P_0', 1), (7, 'bP_P_1', 5), (2, 'aP_x_0', 4), (6, 'aP_x_1', 8), (4, 'bP_xP_0', 2), (8, 'bP_xP_1', 6), (3, 'ax_P_0-x', 4), (7, 'ax_P_1-x', 8), (4, 'bx_xP_0', 3), (8, 'bx_xP_1', 7), (1, 'kopen0', 5), (5, 'kclose0', 1), (2, 'kopenx', 6), (6, 'kclosex', 2), (3, 'kopenP', 7), (7, 'kcloseP', 3), (4, 'kopenxP', 8), (8, 'kclosexP', 4)]\n",
      "Parameters are\n",
      "['ax_0_0', 'ax_0_1', 'bx_x_0', 'bx_x_1', 'aP_0_0', 'aP_0_1', 'bP_P_0', 'bP_P_1', 'aP_x_0', 'aP_x_1', 'bP_xP_0', 'bP_xP_1', 'ax_P_0', 'ax_P_1', 'bx_xP_0', 'bx_xP_1', 'kopen0', 'kclose0', 'kopenx', 'kclosex', 'kopenP', 'kcloseP', 'kopenxP', 'kclosexP', 'q3', 'q4', 'q7', 'q8']\n"
     ]
    }
   ],
   "source": [
    "edges0=[(1,'ax_0_0-x',2),(2,'bx_x_0',1),\n",
    "      (1,'aP_0_0',3),(3,'bP_P_0',1),\n",
    "      (2,'aP_x_0',4),(4,'bP_xP_0',2),\n",
    "      (3,'ax_P_0-x',4),(4,'bx_xP_0',3),\n",
    "      ]\n",
    "edges1=[(1,'kopen0',5),(5,'kclose0',1),\n",
    "       (2,'kopenx',6),(6,'kclosex',2),\n",
    "       (3,'kopenP',7),(7,'kcloseP',3),\n",
    "       (4,'kopenxP',8),(8,'kclosexP',4)]\n",
    "alledges=[]\n",
    "n=4\n",
    "conf=re.compile(r\"_0(-)|_0$\")\n",
    "for edge in edges0:\n",
    "    alledges.append(edge)\n",
    "    n0,lab,n1=edge\n",
    "    n0=n0+n\n",
    "    n1=n1+n\n",
    "    lab=conf.sub(r'_1\\1',lab)\n",
    "    alledges.append((n0,lab,n1))\n",
    "alledges.extend(edges1)\n",
    "print(\"Graph edges are:\")\n",
    "print(alledges)\n",
    "MTTfolder=path_to_utilsGRFpy\n",
    "basename='graph'\n",
    "\n",
    "parlist=[x[1] for x in alledges]\n",
    "for pnum,par in enumerate(parlist):\n",
    "    if '-x' in par:\n",
    "        parlist[pnum]=parlist[pnum].replace('-x','')\n",
    "parlist.extend([\"q3\",\"q4\",\"q7\",\"q8\"])\n",
    "print(\"Parameters are\")\n",
    "print(parlist)"
   ]
  },
  {
   "cell_type": "code",
   "execution_count": 3,
   "metadata": {},
   "outputs": [
    {
     "name": "stdout",
     "output_type": "stream",
     "text": [
      "removing  ./repos_commit/GeneRegulatoryFunctions/utilsGRF/graph-parsed.txt\n",
      "removing  ./repos_commit/GeneRegulatoryFunctions/utilsGRF/graph-6.txt\n",
      "removing  ./repos_commit/GeneRegulatoryFunctions/utilsGRF/graph-7.txt\n",
      "removing  ./repos_commit/GeneRegulatoryFunctions/utilsGRF/graph-5.txt\n",
      "removing  ./repos_commit/GeneRegulatoryFunctions/utilsGRF/graph-4.txt\n",
      "removing  ./repos_commit/GeneRegulatoryFunctions/utilsGRF/graph-1.txt\n",
      "removing  ./repos_commit/GeneRegulatoryFunctions/utilsGRF/graph-3.txt\n",
      "removing  ./repos_commit/GeneRegulatoryFunctions/utilsGRF/graph-2.txt\n",
      "removing  ./repos_commit/GeneRegulatoryFunctions/utilsGRF/graph-8.txt\n",
      "removing  ./repos_commit/GeneRegulatoryFunctions/utilsGRF/graph.txt\n",
      "executing MTT\n",
      "0\n"
     ]
    }
   ],
   "source": [
    "obj=writescripts.PrepareFilesNoneq(edgelist=alledges,varGRF='x',concvars=['x'],parlist=parlist,MTTfolder=MTTfolder,graphbasename=basename)\n",
    "obj.write_execute_parse()\n",
    "\n",
    "obj.simpify_rhos()"
   ]
  },
  {
   "cell_type": "code",
   "execution_count": 4,
   "metadata": {},
   "outputs": [
    {
     "name": "stdout",
     "output_type": "stream",
     "text": [
      "0\n",
      "1\n"
     ]
    }
   ],
   "source": [
    "num=\"q3*(rho3)+q4*(rho4)+q7*(rho7)+q8*(rho8)\"\n",
    "den=\"1*(rho1+rho2+rho3+rho4+rho5+rho6+rho7+rho8)\"\n",
    "\n",
    "obj.parse_GRF(num,den)"
   ]
  },
  {
   "cell_type": "code",
   "execution_count": 3,
   "metadata": {},
   "outputs": [],
   "source": [
    "fname='./bin/twoconf_x_P_higherac_3.cpp'\n",
    "funcname='GRF_xP'\n",
    "#obj.write_pybind_interface(fname=fname, funcname=funcname)\n"
   ]
  },
  {
   "cell_type": "markdown",
   "metadata": {},
   "source": [
    "Then open the .cpp file and manually edit it so that the type of the parameters in GRF_xP_x and rhos_GRF_xP_x is fixed to long double (instead of T). Using high precision types is not feasible due to memory issues when running the code. "
   ]
  },
  {
   "cell_type": "code",
   "execution_count": 4,
   "metadata": {},
   "outputs": [
    {
     "name": "stdout",
     "output_type": "stream",
     "text": [
      "./bin/twoconf_x_P_higherac_3\n",
      "clang: \u001b[0;1;31merror: \u001b[0m\u001b[1mno such file or directory: './bin/twoconf_x_P_higherac_3.cpp'\u001b[0m\n"
     ]
    }
   ],
   "source": [
    "#fname=\"./bin/twoconf_x_P_higherac.cpp\" #note that here the python parameters are treated as long double types, and then everything else is done with whatever T precision. Otherwise for some cases it produces segmentation fault.\n",
    "file=fname\n",
    "#objectnamemac=fname.replace(\".cpp\",\"\")\n",
    "objectnamemac=fname.replace(\".cpp\",\"\")\n",
    "print(objectnamemac)\n",
    "\n",
    "compilestringmac=\"c++ -O2 -DNDEBUG -Wall -shared -std=c++11  -fPIC -undefined dynamic_lookup -I  %s -I %s -lmpfr -lmpc -I %s  `python3 -m pybind11 --includes` %s -o %s`python3-config --extension-suffix`\"%(path_to_eigen, path_to_polynomialsmultipr,path_to_utilsGRF,file,objectnamemac)\n",
    "#compilestringmac=\"c++ -O2 -DNDEBUG -Wall -shared -std=c++11  -fPIC -undefined dynamic_lookup -I %s -I %s -I /opt/homebrew/include -I /Users/rosamartinezcorral/Documents/eigen-3.4.0 -L /opt/homebrew/lib -lmpfr -lmpc `python3 -m pybind11 --includes` %s -o %s`python3-config --extension-suffix`\"%(path_to_polynomialsmultipr,path_to_utilsGRF,file,objectnamemac)\n",
    "\n",
    "\n",
    "!$compilestringmac"
   ]
  },
  {
   "cell_type": "code",
   "execution_count": null,
   "metadata": {},
   "outputs": [],
   "source": []
  }
 ],
 "metadata": {
  "kernelspec": {
   "display_name": "Python 3 (ipykernel)",
   "language": "python",
   "name": "python3"
  },
  "language_info": {
   "codemirror_mode": {
    "name": "ipython",
    "version": 3
   },
   "file_extension": ".py",
   "mimetype": "text/x-python",
   "name": "python",
   "nbconvert_exporter": "python",
   "pygments_lexer": "ipython3",
   "version": "3.10.8"
  },
  "nbTranslate": {
   "displayLangs": [
    "*"
   ],
   "hotkey": "alt-t",
   "langInMainMenu": true,
   "sourceLang": "en",
   "targetLang": "fr",
   "useGoogleTranslate": true
  },
  "toc": {
   "base_numbering": 1,
   "nav_menu": {},
   "number_sections": true,
   "sideBar": true,
   "skip_h1_title": false,
   "title_cell": "Table of Contents",
   "title_sidebar": "Contents",
   "toc_cell": false,
   "toc_position": {},
   "toc_section_display": true,
   "toc_window_display": false
  }
 },
 "nbformat": 4,
 "nbformat_minor": 2
}
