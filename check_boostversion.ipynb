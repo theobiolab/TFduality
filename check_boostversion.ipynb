{
 "cells": [
  {
   "cell_type": "code",
   "execution_count": 1,
   "id": "08fab9b0",
   "metadata": {},
   "outputs": [],
   "source": [
    "import sys, os,re\n"
   ]
  },
  {
   "cell_type": "code",
   "execution_count": 3,
   "id": "25b60d16",
   "metadata": {},
   "outputs": [
    {
     "name": "stdout",
     "output_type": "stream",
     "text": [
      "c++ -O2 -DNDEBUG -Wall -shared -std=c++11  -fPIC -undefined dynamic_lookup -I /opt/homebrew/include -L /opt/homebrew/lib -lmpfr -lmpc `python3 -m pybind11 --includes` ./bin/tocheck_boostversion.cpp -o ./bin/tocheck_boostversion`python3-config --extension-suffix`\n"
     ]
    }
   ],
   "source": [
    "#Code to print which boost version it is using\n",
    "\n",
    "fname='./bin/tocheck_boostversion.cpp'\n",
    "\n",
    "file=fname\n",
    "\n",
    "\n",
    "\n",
    "objectnamemac=file.replace('.cpp','')\n",
    "\n",
    "#compilestringmac=\"c++ -O2 -DNDEBUG -Wall -shared -std=c++11  -fPIC -undefined dynamic_lookup -I  %s -I %s -lmpfr -lmpc -I %s  `python3 -m pybind11 --includes` %s -o %s`python3-config --extension-suffix`\"%(path_to_eigen, path_to_polynomials,path_to_utilsGRF,file,objectnamemac)\n",
    "compilestringmac=\"c++ -O2 -DNDEBUG -Wall -shared -std=c++11  -fPIC -undefined dynamic_lookup -I /opt/homebrew/include -L /opt/homebrew/lib -lmpfr -lmpc `python3 -m pybind11 --includes` %s -o %s`python3-config --extension-suffix`\"%(file,objectnamemac)\n",
    "\n",
    "compilestring=compilestringmac\n",
    "print(compilestring)\n",
    "\n",
    "! $compilestring"
   ]
  },
  {
   "cell_type": "code",
   "execution_count": 4,
   "id": "80ba2612",
   "metadata": {},
   "outputs": [],
   "source": [
    "sys.path.append(\"./bin\")\n",
    "import tocheck_boostversion"
   ]
  },
  {
   "cell_type": "code",
   "execution_count": 5,
   "id": "71988fbe",
   "metadata": {},
   "outputs": [
    {
     "name": "stdout",
     "output_type": "stream",
     "text": [
      "Using Boost 1.81.0\n"
     ]
    }
   ],
   "source": [
    "tocheck_boostversion.print_boost_version()  #output is printed in terminal-->Using Boost 1.76.0 or Using Boost 1.81.0 (depending on computer)"
   ]
  },
  {
   "cell_type": "code",
   "execution_count": null,
   "id": "df9bb97e",
   "metadata": {},
   "outputs": [],
   "source": []
  }
 ],
 "metadata": {
  "kernelspec": {
   "display_name": "Python 3 (ipykernel)",
   "language": "python",
   "name": "python3"
  },
  "language_info": {
   "codemirror_mode": {
    "name": "ipython",
    "version": 3
   },
   "file_extension": ".py",
   "mimetype": "text/x-python",
   "name": "python",
   "nbconvert_exporter": "python",
   "pygments_lexer": "ipython3",
   "version": "3.10.8"
  },
  "nbTranslate": {
   "displayLangs": [
    "*"
   ],
   "hotkey": "alt-t",
   "langInMainMenu": true,
   "sourceLang": "en",
   "targetLang": "fr",
   "useGoogleTranslate": true
  },
  "toc": {
   "base_numbering": 1,
   "nav_menu": {},
   "number_sections": true,
   "sideBar": true,
   "skip_h1_title": false,
   "title_cell": "Table of Contents",
   "title_sidebar": "Contents",
   "toc_cell": false,
   "toc_position": {},
   "toc_section_display": true,
   "toc_window_display": false
  }
 },
 "nbformat": 4,
 "nbformat_minor": 5
}
